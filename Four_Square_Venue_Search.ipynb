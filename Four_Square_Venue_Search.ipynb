{
 "cells": [
  {
   "cell_type": "markdown",
   "id": "1270d8a0-d499-4454-b1a0-8fdf6d4f798c",
   "metadata": {},
   "source": [
    "Following useful websites:\n",
    "\n",
    "[Latitude&LongitudeFinder](https://www.latlong.net/)\n",
    "\n",
    "[Foursquare Explore API](https://developer.foursquare.com/docs/api-reference/venues/explore/)\n",
    "\n",
    "[Foursquare Search Venue API](https://developer.foursquare.com/docs/api-reference/venues/search/)\n",
    "\n",
    "Basic Thinking: \n",
    "\n",
    "Use Explore API to search a grid of London Lat and Longitudes, using the initially returned data on number of results in area to then use the offset attribute of the API to try and scrape all venues at that lat and longitude. \n",
    "\n",
    "Note need to set limit to 50 to get max returned venues and note can't get more than 50 but offset attribute shifts through results to get the 50 next results i.e. you set offset from 0 to 50 and you'll have gotten 100 total results from 2 calls. By tweaking radius and lat / longitude granularity and looking at the 'total results returned' data from the json returned, we should hopefully be able to get all the venues.   \n",
    "\n",
    "Also need to check the resulting venues actually are an event space e.g. spot check results are useful. \n",
    "\n",
    "Afterwards for Public space - may be useful to cross check the venues found with rich data from other API calls e.g. Venue Details API, and finding venues with little data i.e. new venues would be the prioritised candidates.  \n",
    "\n",
    "Step 1 - Make script to pull out results from return into a nice table, and note the useful info for prioritisation i.e. 'verified' as well as customers there and stuff. \n",
    "\n",
    "Step 2 - create plan for grid search of london and 2 calls (offset = 0 and offset = 50) and varying radius and granularity based on number of results returned. Be careful to estimate total calls because limited to 950 a day (half that if you do 2 calls due to offset) unless you verify in which case we can make many more calls. "
   ]
  },
  {
   "cell_type": "code",
   "execution_count": null,
   "id": "2e8691c2-9263-42d1-a9e8-1270114fc55c",
   "metadata": {},
   "outputs": [],
   "source": [
    "import json\n",
    "import requests\n",
    "from IPython.display import JSON"
   ]
  },
  {
   "cell_type": "code",
   "execution_count": null,
   "id": "aa2e4b55-8410-4f9b-88a1-614647e61b80",
   "metadata": {},
   "outputs": [],
   "source": [
    "url = 'https://api.foursquare.com/v2/venues/search'\n",
    "\n",
    "params = dict(\n",
    "client_id = 'AAXRKU2CAOL43SHYGZJGEHKOSW0ACUNX2PD3JLB22U0WFFNA',\n",
    "client_secret = 'FHVL3UYDBWRNVHVQ11FOR0Z4LFWSDIRL1HW3OCZNERUEAG1F',\n",
    "v = '20180323',\n",
    "near = 'London, UK',\n",
    "category = '4bf58dd8d48988d171941735',\n",
    "#ll = '40.7243,-74.0018',\n",
    "#query = 'coffee',\n",
    "limit = 50\n",
    ")\n",
    "resp = requests.get(url=url, params=params)\n",
    "data = json.loads(resp.text)"
   ]
  },
  {
   "cell_type": "code",
   "execution_count": null,
   "id": "733153de-e61e-43a0-9880-fb35e06bdcb6",
   "metadata": {},
   "outputs": [],
   "source": [
    "JSON(data)"
   ]
  },
  {
   "cell_type": "code",
   "execution_count": null,
   "id": "f5d28f34-f9fc-4397-ad7c-5424799969b1",
   "metadata": {},
   "outputs": [],
   "source": [
    "url = 'https://api.foursquare.com/v2/venues/explore'\n",
    "\n",
    "params = dict(\n",
    "client_id = 'AAXRKU2CAOL43SHYGZJGEHKOSW0ACUNX2PD3JLB22U0WFFNA',\n",
    "client_secret = 'FHVL3UYDBWRNVHVQ11FOR0Z4LFWSDIRL1HW3OCZNERUEAG1F',\n",
    "v = '20180323',\n",
    "#near = 'London, UK',\n",
    "category = '4bf58dd8d48988d171941735',\n",
    "ll = '51.502380,-0.071414',\n",
    "offset = 1,\n",
    "sortByDistance = 1,\n",
    "radius = 8000,\n",
    "#query = 'coffee',\n",
    "limit = 50\n",
    ")\n",
    "resp = requests.get(url=url, params=params)\n",
    "data_explore = json.loads(resp.text)\n",
    "JSON(data_explore)"
   ]
  },
  {
   "cell_type": "code",
   "execution_count": null,
   "id": "3bc8430f-7c32-44c6-8596-2ed7c138d97f",
   "metadata": {},
   "outputs": [],
   "source": [
    "200 * 2 *100"
   ]
  },
  {
   "cell_type": "code",
   "execution_count": null,
   "id": "773c6280-6c5f-4a6a-b17a-22decabcf087",
   "metadata": {},
   "outputs": [],
   "source": []
  },
  {
   "cell_type": "code",
   "execution_count": 1,
   "id": "80123929-0108-42b9-ada0-1dc75641a21d",
   "metadata": {},
   "outputs": [],
   "source": [
    "import json\n",
    "import ast\n",
    "import random\n",
    "import requests\n",
    "from IPython.display import JSON\n",
    "from ratelimiter import RateLimiter\n",
    "from statistics import median, mean\n",
    "import plotly.express as px\n",
    "from geopy import distance\n",
    "from scipy.optimize import newton\n",
    "import numpy as np\n",
    "import pandas as pd\n",
    "import time\n",
    "from joblib import Parallel, delayed\n",
    "from json.decoder import JSONDecodeError"
   ]
  },
  {
   "cell_type": "markdown",
   "id": "17007012-ff26-428a-8ef7-5eb8f498508c",
   "metadata": {},
   "source": [
    "### Key Variables\n",
    "\n",
    "- **key** is the foursquare api key credential\n",
    "- **url** is main foursquare 'places' api url to perform a venue search. \n",
    "- **minimum and maximum latitude and longitudes** define a square projection on the earth's surface that defines the search area. "
   ]
  },
  {
   "cell_type": "code",
   "execution_count": 2,
   "id": "5f6f9a1e-57b4-4f62-a330-5c99ebccc9e5",
   "metadata": {},
   "outputs": [],
   "source": [
    "key = 'fsq3MYXlFApTX2z3Q5dOBckbXHSnG9a7pbwgZkIP8vz4YNw='\n",
    "url = \"https://api.foursquare.com/v3/places/search\"\n",
    "headers = {\n",
    "        \"Accept\": \"application/json\",\n",
    "        \"Authorization\": key\n",
    "    }\n",
    "\n",
    "min_lat = 51.438499 \n",
    "max_lat = 51.546890\n",
    "min_long = -0.240612\n",
    "max_long = 0.026043"
   ]
  },
  {
   "cell_type": "code",
   "execution_count": 25,
   "id": "08f065c7-cd29-4f62-add6-03a7583a8774",
   "metadata": {},
   "outputs": [],
   "source": [
    "@RateLimiter(max_calls=49, period=1)\n",
    "def api_call(long_lat, radius, key):\n",
    "    \"\"\"Perform a foursquare places api search and return results.  \n",
    "    \n",
    "    The places api search requires a location (latitude and longitude) \n",
    "    and radius to determine the search area. We also use  2 category \n",
    "    codes for indoor and outdoor event spaces, resticting our \n",
    "    results to showing only venues with event spaces. \n",
    "    \n",
    "    Note that the function use the @Ratelimiter decorator to restrict the \n",
    "    calling of this function to 49 calls per second to comply with the \n",
    "    foursquare api rate limits.  \n",
    "    \n",
    "    Returns - response from foursquare api (top 50 event spaces closest \n",
    "    to the latitude / longitude values provided that offer an event space)\"\"\"\n",
    "    \n",
    "    # Defines paramaters to add to the main 'places' api url\n",
    "    params = dict(ll = long_lat,\n",
    "                  radius = radius, \n",
    "                  #categories='11131,11039',\n",
    "                  categories='10039,10040,10041,10045,10049,11039,13003',\n",
    "                  sort='DISTANCE',\n",
    "                  limit='50'\n",
    "                 )\n",
    "    # defines headers to include in the 'places' api search\n",
    "    headers = {\n",
    "        \"Accept\": \"application/json\",\n",
    "        \"Authorization\": key\n",
    "    }\n",
    "\n",
    "    return requests.request(\"GET\", url, headers=headers, params=params)"
   ]
  },
  {
   "cell_type": "code",
   "execution_count": 11,
   "id": "02aab9bf-d0af-4d69-a68b-6994b5c285fa",
   "metadata": {},
   "outputs": [
    {
     "name": "stdout",
     "output_type": "stream",
     "text": [
      "CPU times: user 38.5 ms, sys: 8.99 ms, total: 47.5 ms\n",
      "Wall time: 774 ms\n"
     ]
    }
   ],
   "source": [
    "%%time\n",
    "response = api_call('51.513882,-0.119478', '1000', key)\n",
    "results = json.loads(response.text)\n",
    "JSON(results)"
   ]
  },
  {
   "cell_type": "code",
   "execution_count": null,
   "id": "a2d1ddd0-a5f0-4c0d-82c8-b8b24012d02f",
   "metadata": {},
   "outputs": [],
   "source": [
    "response = api_call('51.51199919197119,-0.05217038902188603', '3000', key)\n",
    "results = json.loads(response.text)\n",
    "JSON(results)"
   ]
  },
  {
   "cell_type": "code",
   "execution_count": null,
   "id": "82ad9238-ea93-4b72-8230-a8667025caad",
   "metadata": {},
   "outputs": [],
   "source": [
    "pagination = response.headers['Link']\n",
    "next_results_url = pagination[pagination.find('<') + 1\n",
    "                                          :pagination.find('>')]\n",
    "response = requests.get(next_results_url, headers = headers)\n",
    "results = json.loads(response.text)\n",
    "JSON(results)"
   ]
  },
  {
   "cell_type": "code",
   "execution_count": null,
   "id": "8607b2d1-ef5c-4274-bbc0-2cf5b4676139",
   "metadata": {},
   "outputs": [],
   "source": [
    "distance.distance((51.40003900142309, -0.07528424263000488),(51.51199919197119,-0.05217038902188603)).m"
   ]
  },
  {
   "cell_type": "code",
   "execution_count": null,
   "id": "91ff6d2a-6c21-4cb2-b2a6-96c85788052f",
   "metadata": {},
   "outputs": [],
   "source": [
    "#num_results = len(results['results'])"
   ]
  },
  {
   "cell_type": "markdown",
   "id": "cdde7e5a-4350-4526-afcc-1cec6395bd87",
   "metadata": {},
   "source": [
    "options for radius calculation: use last radius, use moving average radius, "
   ]
  },
  {
   "cell_type": "code",
   "execution_count": null,
   "id": "7ed0ec2d-6521-4de6-99d6-74a630baf1c3",
   "metadata": {},
   "outputs": [],
   "source": [
    "def find_radius(long_lat, search_radius, key):\n",
    "    num_api_calls = 0\n",
    "    radius_found = True\n",
    "    while(radius_found):\n",
    "        response = api_call(long_lat, search_radius, key)\n",
    "        num_api_calls += 1\n",
    "        results = json.loads(response.text)\n",
    "        num_results = len(results['results'])\n",
    "        \n",
    "        if num_results == 50:\n",
    "            radius = results['results'][-1]['distance']\n",
    "            radius_found = False\n",
    "        else:\n",
    "            search_radius = search_radius * 2\n",
    "        \n",
    "    return int(radius), num_api_calls"
   ]
  },
  {
   "cell_type": "code",
   "execution_count": null,
   "id": "1f10c5d9-fc3e-494f-a8ac-34d4589aa9a3",
   "metadata": {},
   "outputs": [],
   "source": [
    "total_requests = 127\n",
    "cost_per_request = 0.5\n",
    "total_price_in_dollars = total_requests * cost_per_request / 100\n",
    "print(f\"Total price for {total_requests} requests is ${total_price_in_dollars}\")"
   ]
  },
  {
   "cell_type": "code",
   "execution_count": null,
   "id": "02f92f28-03e7-4f41-b468-935b80e80ec2",
   "metadata": {},
   "outputs": [],
   "source": [
    "trials = 1000\n",
    "radii = []\n",
    "total_api_calls = 0\n",
    "\n",
    "for trial in range(trials):\n",
    "    search_radius = 10000\n",
    "    latitude = random.uniform(min_lat, max_lat)\n",
    "    longitude = random.uniform(min_long, max_long)\n",
    "    \n",
    "    lat_long = str(latitude) + ',' + str(longitude)\n",
    "    radius, num_api_calls = find_radius(lat_long, search_radius, key)\n",
    "    radii.append(radius)\n",
    "    total_api_calls += num_api_calls\n",
    "\n",
    "max_radius = max(radii)\n",
    "min_radius = min(radii)\n",
    "\n",
    "print(f\"Max radius = {max_radius}\")\n",
    "print(f\"Min radius = {min_radius}\")\n",
    "print(f\"Total API calls = {total_api_calls}\")"
   ]
  },
  {
   "cell_type": "code",
   "execution_count": null,
   "id": "a2ba55cd-fc4d-489c-a254-efd17c6defa9",
   "metadata": {},
   "outputs": [],
   "source": [
    "total_api_calls"
   ]
  },
  {
   "cell_type": "code",
   "execution_count": null,
   "id": "d31eb770-f5a0-4b90-9521-5e65b7a875c8",
   "metadata": {},
   "outputs": [],
   "source": [
    "min(radii)"
   ]
  },
  {
   "cell_type": "code",
   "execution_count": null,
   "id": "5c1dac44-e063-47d2-be53-440dcab95118",
   "metadata": {},
   "outputs": [],
   "source": [
    "fig = px.histogram(radii)\n",
    "fig.show()"
   ]
  },
  {
   "cell_type": "code",
   "execution_count": null,
   "id": "954c046d-a872-4d05-bff6-72e6f37872e1",
   "metadata": {},
   "outputs": [],
   "source": [
    "\n",
    "long_lat1 = (max_lat, min_long)\n",
    "long_lat2 = (max_lat, max_long)\n",
    "distance1 = distance.distance(long_lat1, long_lat2).km * 1000"
   ]
  },
  {
   "cell_type": "code",
   "execution_count": null,
   "id": "e3b49eeb-36d4-4f12-995e-7a1a5ef8075e",
   "metadata": {},
   "outputs": [],
   "source": [
    "long_lat1 = (min_lat, min_long)\n",
    "long_lat2 = (max_lat, min_long)\n",
    "distance2 = distance.distance(long_lat1, long_lat2).km * 1000"
   ]
  },
  {
   "cell_type": "code",
   "execution_count": null,
   "id": "47df115d-f459-4e8a-b0df-b75954a94a09",
   "metadata": {},
   "outputs": [],
   "source": [
    "distance2"
   ]
  },
  {
   "cell_type": "code",
   "execution_count": null,
   "id": "9e7cfc0d-5b06-4869-9fac-4cc8cf628760",
   "metadata": {},
   "outputs": [],
   "source": [
    "total_area = distance1 * distance2"
   ]
  },
  {
   "cell_type": "code",
   "execution_count": null,
   "id": "9768715e-5160-453a-b6d1-1b150407edd6",
   "metadata": {},
   "outputs": [],
   "source": [
    "search_area = 3.14 * 3271 * 3271"
   ]
  },
  {
   "cell_type": "code",
   "execution_count": null,
   "id": "86b24f54-8b8b-4ad2-8a12-f421614b3f14",
   "metadata": {},
   "outputs": [],
   "source": [
    "approx_searches = total_area / search_area"
   ]
  },
  {
   "cell_type": "code",
   "execution_count": null,
   "id": "91c2a9f2-4813-4326-b309-320620990e42",
   "metadata": {},
   "outputs": [],
   "source": [
    "print(f\"total area = {total_area}\")\n",
    "print(f\"search area = {search_area}\")\n",
    "print(f\"searches_required = {approx_searches}\")"
   ]
  },
  {
   "cell_type": "code",
   "execution_count": null,
   "id": "ee558491-5624-4872-9d6d-3f637515a78d",
   "metadata": {},
   "outputs": [],
   "source": []
  },
  {
   "cell_type": "code",
   "execution_count": null,
   "id": "1dee0edf-b0e6-4364-9396-f7ea6e03b0b9",
   "metadata": {},
   "outputs": [],
   "source": [
    "51.505177-51.535"
   ]
  },
  {
   "cell_type": "code",
   "execution_count": null,
   "id": "30cb6252-557c-4773-a1e5-458a48c6413a",
   "metadata": {},
   "outputs": [],
   "source": [
    "distance.distance((51.505177,-0.092172), (51.505177,-0.1402)).m"
   ]
  },
  {
   "cell_type": "code",
   "execution_count": null,
   "id": "dbac56a7-8a56-4d34-933a-b34571df8513",
   "metadata": {},
   "outputs": [],
   "source": [
    "-0.092172--0.1402"
   ]
  },
  {
   "cell_type": "code",
   "execution_count": null,
   "id": "31e548dd-bd14-4701-8b7a-e3adfab071ee",
   "metadata": {},
   "outputs": [],
   "source": [
    "pagination = response.headers['Link']"
   ]
  },
  {
   "cell_type": "code",
   "execution_count": null,
   "id": "e4c48b9a-061e-4940-886c-f60cb2b58c32",
   "metadata": {},
   "outputs": [],
   "source": [
    "next_results_url = pagination[pagination.find('<') + 1:pagination.find('>')]"
   ]
  },
  {
   "cell_type": "code",
   "execution_count": null,
   "id": "6d2c93c2-2a54-41b5-b69e-a925aa1c100f",
   "metadata": {},
   "outputs": [],
   "source": [
    "response2 = requests.get(next_results_url, headers = headers)"
   ]
  },
  {
   "cell_type": "code",
   "execution_count": null,
   "id": "76191ea2-ff14-48c6-b72b-6a482471681d",
   "metadata": {},
   "outputs": [],
   "source": [
    "response2.headers"
   ]
  },
  {
   "cell_type": "code",
   "execution_count": null,
   "id": "9ab2e672-152b-4e8c-b778-40188a60968d",
   "metadata": {},
   "outputs": [],
   "source": [
    "data_explore2 = json.loads(response2.text)\n",
    "JSON(data_explore2)"
   ]
  },
  {
   "cell_type": "code",
   "execution_count": null,
   "id": "4ae03edd-25a0-4bcb-9041-b72a030630ce",
   "metadata": {},
   "outputs": [],
   "source": [
    "def xsq(x):\n",
    "    return x - 2"
   ]
  },
  {
   "cell_type": "code",
   "execution_count": null,
   "id": "f51b236e-b01f-4883-9e79-06c65dda33d1",
   "metadata": {},
   "outputs": [],
   "source": [
    "def objective_function(x):\n",
    "    return 3 * x ** 4 - 2 * x + 1"
   ]
  },
  {
   "cell_type": "code",
   "execution_count": null,
   "id": "d094ca17-3554-4966-94a2-81fd2c95d821",
   "metadata": {},
   "outputs": [],
   "source": [
    "\n",
    "\n"
   ]
  },
  {
   "cell_type": "code",
   "execution_count": null,
   "id": "9ee149f4-d411-433c-9169-7d2287195658",
   "metadata": {},
   "outputs": [],
   "source": []
  },
  {
   "cell_type": "markdown",
   "id": "79978808-709e-4963-8496-25d182ed9ee3",
   "metadata": {},
   "source": [
    "### Calculate Latitude Longitude Grid Tick Sizes"
   ]
  },
  {
   "cell_type": "code",
   "execution_count": 21,
   "id": "73e989a8-0a49-47ce-851c-de278a9bb5e7",
   "metadata": {},
   "outputs": [],
   "source": [
    "def lat_min_tick_size(lat_increment, radius):\n",
    "    return distance.distance((test_lat, test_long), (lat_increment, test_long)).m - radius\n",
    "\n",
    "def long_min_tick_size(long_increment, radius):\n",
    "    return distance.distance((test_lat, test_long), (test_lat, long_increment)).m - radius\n",
    "\n",
    "test_lat = 51.505177\n",
    "test_long = -0.092172\n",
    "\n",
    "def find_tick_sizes(radius):\n",
    "    \n",
    "\n",
    "    lat_increment = newton(lat_min_tick_size, test_lat, args = (radius,))\n",
    "    long_increment = newton(long_min_tick_size, test_long, args = (radius,))\n",
    "    \n",
    "    # divide by 3 to get smaller resolution, least likely to miss venues \n",
    "    lat_tick_size = abs(test_lat - lat_increment) / 2\n",
    "    long_tick_size = abs(test_long - long_increment) / 2\n",
    "\n",
    "    return lat_tick_size, long_tick_size"
   ]
  },
  {
   "cell_type": "markdown",
   "id": "cd48ae57-f37d-431f-906e-b8d3792c2f33",
   "metadata": {},
   "source": [
    "### Create Latitude Longitude Grid\n",
    "\n",
    "Probably need to formalise the tick size thing based on the typical radius search area...if I change categories for example.."
   ]
  },
  {
   "cell_type": "code",
   "execution_count": 7,
   "id": "970b8684-f928-4d25-a5dd-b8f4dfa261fd",
   "metadata": {},
   "outputs": [],
   "source": [
    "def create_lat_long_grid(lat_tick_size, long_tick_size):\n",
    "\n",
    "    lat_ticks = (max_lat - min_lat) / lat_tick_size\n",
    "    long_ticks = (max_long - min_long) / long_tick_size\n",
    "    \n",
    "    lat_range = np.arange(min_lat, max_lat + lat_tick_size, lat_tick_size)\n",
    "    long_range = np.arange(min_long, max_long + long_tick_size, long_tick_size)\n",
    "    return [str(lat) + ',' + str(long) for long in long_range for lat in lat_range]"
   ]
  },
  {
   "cell_type": "markdown",
   "id": "0867ad51-2e0d-40a6-b366-e6669995455e",
   "metadata": {},
   "source": [
    "### Venue Search"
   ]
  },
  {
   "cell_type": "code",
   "execution_count": 8,
   "id": "16205d00-c87e-4f04-ad27-2e4c58294169",
   "metadata": {},
   "outputs": [],
   "source": [
    "def extract_venues(venue_list):\n",
    "    venues = []\n",
    "    for venue in venues_list:\n",
    "        fsq_id = venue['fsq_id']\n",
    "        latitude = venue['geocodes']['main']['latitude']\n",
    "        longitude = venue['geocodes']['main']['longitude']\n",
    "        venue_name = venue['name']\n",
    "        try: \n",
    "            venue_address = venue['location']['address']\n",
    "        except KeyError:\n",
    "            venue_address = ''\n",
    "        try:\n",
    "            venue_postcode = venue['location']['postcode']\n",
    "        except KeyError:\n",
    "            venue_postcode = ''\n",
    "            \n",
    "        venues.append([fsq_id, venue_name, latitude, longitude, \n",
    "                       venue_address, venue_postcode])\n",
    "    return venues"
   ]
  },
  {
   "cell_type": "code",
   "execution_count": null,
   "id": "c22ce3b0-6207-49e5-bab1-b67359064fc5",
   "metadata": {},
   "outputs": [],
   "source": [
    "#\n",
    "#data = Parallel(n_jobs=-1, verbose = 0)(delayed(my_function)(x, y) for x, y in zip(list_x, list_y))\n"
   ]
  },
  {
   "cell_type": "code",
   "execution_count": 9,
   "id": "59095d85-288b-4c04-b4a2-c8411414e1b3",
   "metadata": {},
   "outputs": [],
   "source": [
    "#radius = 400\n",
    "#lat_tick_size, long_tick_size = find_tick_sizes(radius)\n",
    "#lat_long_grid = create_lat_long_grid(lat_tick_size, long_tick_size)\n",
    "#print(f\"lat_long_grid size = {len(lat_long_grid)}\")"
   ]
  },
  {
   "cell_type": "code",
   "execution_count": 11,
   "id": "fa8679e4-5bfa-47b6-9d70-8bd3d29dfc19",
   "metadata": {},
   "outputs": [],
   "source": [
    "#lat_long_searched = '51.505177,-0.092172'#"
   ]
  },
  {
   "cell_type": "code",
   "execution_count": 15,
   "id": "0771c838-ac78-4e60-984b-9a400f757e8d",
   "metadata": {},
   "outputs": [
    {
     "data": {
      "text/plain": [
       "12880"
      ]
     },
     "execution_count": 15,
     "metadata": {},
     "output_type": "execute_result"
    }
   ],
   "source": [
    "#len(lat_long_grid)"
   ]
  },
  {
   "cell_type": "code",
   "execution_count": 25,
   "id": "a98c84c5-6d55-4cee-b0ec-5668c5aa2394",
   "metadata": {},
   "outputs": [
    {
     "name": "stdout",
     "output_type": "stream",
     "text": [
      "361 ms ± 3.8 ms per loop (mean ± std. dev. of 7 runs, 1 loop each)\n"
     ]
    }
   ],
   "source": [
    "#%%timeit\n",
    "#bools = Parallel(n_jobs=-1, verbose = 0)(delayed(check_in_radius)(radius, lat_long_searched, lat_long) for lat_long in lat_long_grid)\n",
    "#[lat_long for lat_long, T_F in zip(lat_long_grid, bools) if T_F]"
   ]
  },
  {
   "cell_type": "code",
   "execution_count": null,
   "id": "2c14e5ec-f624-4652-ab1a-d3d44e570bdd",
   "metadata": {},
   "outputs": [],
   "source": [
    "#%%timeit\n",
    "#[lat_long for lat_long in lat_long_grid if check_in_radius(radius, lat_long_searched, lat_long)]"
   ]
  },
  {
   "cell_type": "code",
   "execution_count": 9,
   "id": "a40bd353-906b-4834-8287-3cba4b4ae28b",
   "metadata": {},
   "outputs": [],
   "source": [
    "def update_grid(lat_long_searched, radius, lat_long_grid):\n",
    "    # Using multi-processing to speed up the removal of lat_long points\n",
    "    #from grid, is equivalent of following list comprehension: \n",
    "    # [lat_long for lat_long in lat_long_grid \n",
    "    # if check_in_radius(radius, lat_long_searched, lat_long)]\n",
    "    # Below we get a boolean list of True / False if lat_long is within search radius \n",
    "    bools = Parallel(n_jobs=-1, verbose = 0)(delayed(check_in_radius)(radius, lat_long_searched, lat_long) for lat_long in lat_long_grid)\n",
    "    # Filter out the lat_longs which were within the radius i.e. value = False in bools\n",
    "    return [lat_long for lat_long, T_F in zip(lat_long_grid, bools) if T_F]\n",
    "\n",
    "def check_in_radius(radius, lat_long_searched, lat_long):\n",
    "    return distance.distance(ast.literal_eval(lat_long_searched), ast.literal_eval(lat_long)).m >= radius "
   ]
  },
  {
   "cell_type": "code",
   "execution_count": null,
   "id": "9e635949-1702-41ae-ba40-4fb26888746b",
   "metadata": {},
   "outputs": [],
   "source": []
  },
  {
   "cell_type": "code",
   "execution_count": null,
   "id": "a5a28f17-ead1-46cc-8927-18b25265e5ed",
   "metadata": {},
   "outputs": [],
   "source": [
    "#len(lat_long_grid)\n",
    "#new_grid = update_grid(lat_long_grid[50], radius, lat_long_grid)"
   ]
  },
  {
   "cell_type": "code",
   "execution_count": null,
   "id": "a1341fba-a28f-412e-945f-98967191c0da",
   "metadata": {},
   "outputs": [],
   "source": [
    "#distance.distance(lat_long_grid[5], (51.51199919197119,-0.21705679862773575)).m"
   ]
  },
  {
   "cell_type": "markdown",
   "id": "a4dd87a2-fd15-4f3f-aff9-e5a8cca98849",
   "metadata": {},
   "source": [
    "### To Do\n",
    "\n",
    "- API call / Json create slow? \n",
    "- Grid update speed up? \n",
    "- smarter grid update code? \n",
    "- bigger radius code? e.g. large radius here, then try smaller if needed...genius!\n",
    "- review error handling - does it make sense? "
   ]
  },
  {
   "cell_type": "code",
   "execution_count": 34,
   "id": "584ba7e6-e612-44fa-afa7-412418714555",
   "metadata": {},
   "outputs": [
    {
     "name": "stdout",
     "output_type": "stream",
     "text": [
      "lat_long_grid size = 55963\n",
      "API Error code 400, sleeping 5 seconds\n",
      "API Error code 400, sleeping 5 seconds\n"
     ]
    },
    {
     "ename": "KeyboardInterrupt",
     "evalue": "",
     "output_type": "error",
     "traceback": [
      "\u001b[0;31m---------------------------------------------------------------------------\u001b[0m",
      "\u001b[0;31mKeyboardInterrupt\u001b[0m                         Traceback (most recent call last)",
      "\u001b[0;32m/var/folders/54/vflgkhrd7l9d53hm444nhsp40000gn/T/ipykernel_10561/3136781679.py\u001b[0m in \u001b[0;36m<module>\u001b[0;34m\u001b[0m\n\u001b[1;32m     23\u001b[0m         \u001b[0mprint\u001b[0m\u001b[0;34m(\u001b[0m\u001b[0;34mf\"API Error code {response.status_code}, sleeping 5 seconds\"\u001b[0m\u001b[0;34m)\u001b[0m\u001b[0;34m\u001b[0m\u001b[0;34m\u001b[0m\u001b[0m\n\u001b[1;32m     24\u001b[0m         \u001b[0mtime\u001b[0m\u001b[0;34m.\u001b[0m\u001b[0msleep\u001b[0m\u001b[0;34m(\u001b[0m\u001b[0;36m5\u001b[0m\u001b[0;34m)\u001b[0m\u001b[0;34m\u001b[0m\u001b[0;34m\u001b[0m\u001b[0m\n\u001b[0;32m---> 25\u001b[0;31m         \u001b[0mresponse\u001b[0m \u001b[0;34m=\u001b[0m \u001b[0mapi_call\u001b[0m\u001b[0;34m(\u001b[0m\u001b[0mlat_long\u001b[0m\u001b[0;34m,\u001b[0m \u001b[0mradius\u001b[0m\u001b[0;34m,\u001b[0m \u001b[0mkey\u001b[0m\u001b[0;34m)\u001b[0m\u001b[0;34m\u001b[0m\u001b[0;34m\u001b[0m\u001b[0m\n\u001b[0m\u001b[1;32m     26\u001b[0m \u001b[0;34m\u001b[0m\u001b[0m\n\u001b[1;32m     27\u001b[0m     \u001b[0mdata\u001b[0m\u001b[0;34m.\u001b[0m\u001b[0mextend\u001b[0m\u001b[0;34m(\u001b[0m\u001b[0mextract_venues\u001b[0m\u001b[0;34m(\u001b[0m\u001b[0mvenues_list\u001b[0m\u001b[0;34m)\u001b[0m\u001b[0;34m)\u001b[0m\u001b[0;34m\u001b[0m\u001b[0;34m\u001b[0m\u001b[0m\n",
      "\u001b[0;32m/opt/homebrew/Caskroom/miniforge/base/envs/venue-scrape/lib/python3.9/site-packages/ratelimiter.py\u001b[0m in \u001b[0;36mwrapped\u001b[0;34m(*args, **kwargs)\u001b[0m\n\u001b[1;32m     73\u001b[0m         \u001b[0;32mdef\u001b[0m \u001b[0mwrapped\u001b[0m\u001b[0;34m(\u001b[0m\u001b[0;34m*\u001b[0m\u001b[0margs\u001b[0m\u001b[0;34m,\u001b[0m \u001b[0;34m**\u001b[0m\u001b[0mkwargs\u001b[0m\u001b[0;34m)\u001b[0m\u001b[0;34m:\u001b[0m\u001b[0;34m\u001b[0m\u001b[0;34m\u001b[0m\u001b[0m\n\u001b[1;32m     74\u001b[0m             \u001b[0;32mwith\u001b[0m \u001b[0mself\u001b[0m\u001b[0;34m:\u001b[0m\u001b[0;34m\u001b[0m\u001b[0;34m\u001b[0m\u001b[0m\n\u001b[0;32m---> 75\u001b[0;31m                 \u001b[0;32mreturn\u001b[0m \u001b[0mf\u001b[0m\u001b[0;34m(\u001b[0m\u001b[0;34m*\u001b[0m\u001b[0margs\u001b[0m\u001b[0;34m,\u001b[0m \u001b[0;34m**\u001b[0m\u001b[0mkwargs\u001b[0m\u001b[0;34m)\u001b[0m\u001b[0;34m\u001b[0m\u001b[0;34m\u001b[0m\u001b[0m\n\u001b[0m\u001b[1;32m     76\u001b[0m         \u001b[0;32mreturn\u001b[0m \u001b[0mwrapped\u001b[0m\u001b[0;34m\u001b[0m\u001b[0;34m\u001b[0m\u001b[0m\n\u001b[1;32m     77\u001b[0m \u001b[0;34m\u001b[0m\u001b[0m\n",
      "\u001b[0;32m/var/folders/54/vflgkhrd7l9d53hm444nhsp40000gn/T/ipykernel_10561/1393427107.py\u001b[0m in \u001b[0;36mapi_call\u001b[0;34m(long_lat, radius, key)\u001b[0m\n\u001b[1;32m     29\u001b[0m     }\n\u001b[1;32m     30\u001b[0m \u001b[0;34m\u001b[0m\u001b[0m\n\u001b[0;32m---> 31\u001b[0;31m     \u001b[0;32mreturn\u001b[0m \u001b[0mrequests\u001b[0m\u001b[0;34m.\u001b[0m\u001b[0mrequest\u001b[0m\u001b[0;34m(\u001b[0m\u001b[0;34m\"GET\"\u001b[0m\u001b[0;34m,\u001b[0m \u001b[0murl\u001b[0m\u001b[0;34m,\u001b[0m \u001b[0mheaders\u001b[0m\u001b[0;34m=\u001b[0m\u001b[0mheaders\u001b[0m\u001b[0;34m,\u001b[0m \u001b[0mparams\u001b[0m\u001b[0;34m=\u001b[0m\u001b[0mparams\u001b[0m\u001b[0;34m)\u001b[0m\u001b[0;34m\u001b[0m\u001b[0;34m\u001b[0m\u001b[0m\n\u001b[0m",
      "\u001b[0;32m/opt/homebrew/Caskroom/miniforge/base/envs/venue-scrape/lib/python3.9/site-packages/requests/api.py\u001b[0m in \u001b[0;36mrequest\u001b[0;34m(method, url, **kwargs)\u001b[0m\n\u001b[1;32m     59\u001b[0m     \u001b[0;31m# cases, and look like a memory leak in others.\u001b[0m\u001b[0;34m\u001b[0m\u001b[0;34m\u001b[0m\u001b[0m\n\u001b[1;32m     60\u001b[0m     \u001b[0;32mwith\u001b[0m \u001b[0msessions\u001b[0m\u001b[0;34m.\u001b[0m\u001b[0mSession\u001b[0m\u001b[0;34m(\u001b[0m\u001b[0;34m)\u001b[0m \u001b[0;32mas\u001b[0m \u001b[0msession\u001b[0m\u001b[0;34m:\u001b[0m\u001b[0;34m\u001b[0m\u001b[0;34m\u001b[0m\u001b[0m\n\u001b[0;32m---> 61\u001b[0;31m         \u001b[0;32mreturn\u001b[0m \u001b[0msession\u001b[0m\u001b[0;34m.\u001b[0m\u001b[0mrequest\u001b[0m\u001b[0;34m(\u001b[0m\u001b[0mmethod\u001b[0m\u001b[0;34m=\u001b[0m\u001b[0mmethod\u001b[0m\u001b[0;34m,\u001b[0m \u001b[0murl\u001b[0m\u001b[0;34m=\u001b[0m\u001b[0murl\u001b[0m\u001b[0;34m,\u001b[0m \u001b[0;34m**\u001b[0m\u001b[0mkwargs\u001b[0m\u001b[0;34m)\u001b[0m\u001b[0;34m\u001b[0m\u001b[0;34m\u001b[0m\u001b[0m\n\u001b[0m\u001b[1;32m     62\u001b[0m \u001b[0;34m\u001b[0m\u001b[0m\n\u001b[1;32m     63\u001b[0m \u001b[0;34m\u001b[0m\u001b[0m\n",
      "\u001b[0;32m/opt/homebrew/Caskroom/miniforge/base/envs/venue-scrape/lib/python3.9/site-packages/requests/sessions.py\u001b[0m in \u001b[0;36mrequest\u001b[0;34m(self, method, url, params, data, headers, cookies, files, auth, timeout, allow_redirects, proxies, hooks, stream, verify, cert, json)\u001b[0m\n\u001b[1;32m    540\u001b[0m         }\n\u001b[1;32m    541\u001b[0m         \u001b[0msend_kwargs\u001b[0m\u001b[0;34m.\u001b[0m\u001b[0mupdate\u001b[0m\u001b[0;34m(\u001b[0m\u001b[0msettings\u001b[0m\u001b[0;34m)\u001b[0m\u001b[0;34m\u001b[0m\u001b[0;34m\u001b[0m\u001b[0m\n\u001b[0;32m--> 542\u001b[0;31m         \u001b[0mresp\u001b[0m \u001b[0;34m=\u001b[0m \u001b[0mself\u001b[0m\u001b[0;34m.\u001b[0m\u001b[0msend\u001b[0m\u001b[0;34m(\u001b[0m\u001b[0mprep\u001b[0m\u001b[0;34m,\u001b[0m \u001b[0;34m**\u001b[0m\u001b[0msend_kwargs\u001b[0m\u001b[0;34m)\u001b[0m\u001b[0;34m\u001b[0m\u001b[0;34m\u001b[0m\u001b[0m\n\u001b[0m\u001b[1;32m    543\u001b[0m \u001b[0;34m\u001b[0m\u001b[0m\n\u001b[1;32m    544\u001b[0m         \u001b[0;32mreturn\u001b[0m \u001b[0mresp\u001b[0m\u001b[0;34m\u001b[0m\u001b[0;34m\u001b[0m\u001b[0m\n",
      "\u001b[0;32m/opt/homebrew/Caskroom/miniforge/base/envs/venue-scrape/lib/python3.9/site-packages/requests/sessions.py\u001b[0m in \u001b[0;36msend\u001b[0;34m(self, request, **kwargs)\u001b[0m\n\u001b[1;32m    653\u001b[0m \u001b[0;34m\u001b[0m\u001b[0m\n\u001b[1;32m    654\u001b[0m         \u001b[0;31m# Send the request\u001b[0m\u001b[0;34m\u001b[0m\u001b[0;34m\u001b[0m\u001b[0m\n\u001b[0;32m--> 655\u001b[0;31m         \u001b[0mr\u001b[0m \u001b[0;34m=\u001b[0m \u001b[0madapter\u001b[0m\u001b[0;34m.\u001b[0m\u001b[0msend\u001b[0m\u001b[0;34m(\u001b[0m\u001b[0mrequest\u001b[0m\u001b[0;34m,\u001b[0m \u001b[0;34m**\u001b[0m\u001b[0mkwargs\u001b[0m\u001b[0;34m)\u001b[0m\u001b[0;34m\u001b[0m\u001b[0;34m\u001b[0m\u001b[0m\n\u001b[0m\u001b[1;32m    656\u001b[0m \u001b[0;34m\u001b[0m\u001b[0m\n\u001b[1;32m    657\u001b[0m         \u001b[0;31m# Total elapsed time of the request (approximately)\u001b[0m\u001b[0;34m\u001b[0m\u001b[0;34m\u001b[0m\u001b[0m\n",
      "\u001b[0;32m/opt/homebrew/Caskroom/miniforge/base/envs/venue-scrape/lib/python3.9/site-packages/requests/adapters.py\u001b[0m in \u001b[0;36msend\u001b[0;34m(self, request, stream, timeout, verify, cert, proxies)\u001b[0m\n\u001b[1;32m    437\u001b[0m         \u001b[0;32mtry\u001b[0m\u001b[0;34m:\u001b[0m\u001b[0;34m\u001b[0m\u001b[0;34m\u001b[0m\u001b[0m\n\u001b[1;32m    438\u001b[0m             \u001b[0;32mif\u001b[0m \u001b[0;32mnot\u001b[0m \u001b[0mchunked\u001b[0m\u001b[0;34m:\u001b[0m\u001b[0;34m\u001b[0m\u001b[0;34m\u001b[0m\u001b[0m\n\u001b[0;32m--> 439\u001b[0;31m                 resp = conn.urlopen(\n\u001b[0m\u001b[1;32m    440\u001b[0m                     \u001b[0mmethod\u001b[0m\u001b[0;34m=\u001b[0m\u001b[0mrequest\u001b[0m\u001b[0;34m.\u001b[0m\u001b[0mmethod\u001b[0m\u001b[0;34m,\u001b[0m\u001b[0;34m\u001b[0m\u001b[0;34m\u001b[0m\u001b[0m\n\u001b[1;32m    441\u001b[0m                     \u001b[0murl\u001b[0m\u001b[0;34m=\u001b[0m\u001b[0murl\u001b[0m\u001b[0;34m,\u001b[0m\u001b[0;34m\u001b[0m\u001b[0;34m\u001b[0m\u001b[0m\n",
      "\u001b[0;32m/opt/homebrew/Caskroom/miniforge/base/envs/venue-scrape/lib/python3.9/site-packages/urllib3/connectionpool.py\u001b[0m in \u001b[0;36murlopen\u001b[0;34m(self, method, url, body, headers, retries, redirect, assert_same_host, timeout, pool_timeout, release_conn, chunked, body_pos, **response_kw)\u001b[0m\n\u001b[1;32m    697\u001b[0m \u001b[0;34m\u001b[0m\u001b[0m\n\u001b[1;32m    698\u001b[0m             \u001b[0;31m# Make the request on the httplib connection object.\u001b[0m\u001b[0;34m\u001b[0m\u001b[0;34m\u001b[0m\u001b[0m\n\u001b[0;32m--> 699\u001b[0;31m             httplib_response = self._make_request(\n\u001b[0m\u001b[1;32m    700\u001b[0m                 \u001b[0mconn\u001b[0m\u001b[0;34m,\u001b[0m\u001b[0;34m\u001b[0m\u001b[0;34m\u001b[0m\u001b[0m\n\u001b[1;32m    701\u001b[0m                 \u001b[0mmethod\u001b[0m\u001b[0;34m,\u001b[0m\u001b[0;34m\u001b[0m\u001b[0;34m\u001b[0m\u001b[0m\n",
      "\u001b[0;32m/opt/homebrew/Caskroom/miniforge/base/envs/venue-scrape/lib/python3.9/site-packages/urllib3/connectionpool.py\u001b[0m in \u001b[0;36m_make_request\u001b[0;34m(self, conn, method, url, timeout, chunked, **httplib_request_kw)\u001b[0m\n\u001b[1;32m    380\u001b[0m         \u001b[0;31m# Trigger any extra validation we need to do.\u001b[0m\u001b[0;34m\u001b[0m\u001b[0;34m\u001b[0m\u001b[0m\n\u001b[1;32m    381\u001b[0m         \u001b[0;32mtry\u001b[0m\u001b[0;34m:\u001b[0m\u001b[0;34m\u001b[0m\u001b[0;34m\u001b[0m\u001b[0m\n\u001b[0;32m--> 382\u001b[0;31m             \u001b[0mself\u001b[0m\u001b[0;34m.\u001b[0m\u001b[0m_validate_conn\u001b[0m\u001b[0;34m(\u001b[0m\u001b[0mconn\u001b[0m\u001b[0;34m)\u001b[0m\u001b[0;34m\u001b[0m\u001b[0;34m\u001b[0m\u001b[0m\n\u001b[0m\u001b[1;32m    383\u001b[0m         \u001b[0;32mexcept\u001b[0m \u001b[0;34m(\u001b[0m\u001b[0mSocketTimeout\u001b[0m\u001b[0;34m,\u001b[0m \u001b[0mBaseSSLError\u001b[0m\u001b[0;34m)\u001b[0m \u001b[0;32mas\u001b[0m \u001b[0me\u001b[0m\u001b[0;34m:\u001b[0m\u001b[0;34m\u001b[0m\u001b[0;34m\u001b[0m\u001b[0m\n\u001b[1;32m    384\u001b[0m             \u001b[0;31m# Py2 raises this as a BaseSSLError, Py3 raises it as socket timeout.\u001b[0m\u001b[0;34m\u001b[0m\u001b[0;34m\u001b[0m\u001b[0m\n",
      "\u001b[0;32m/opt/homebrew/Caskroom/miniforge/base/envs/venue-scrape/lib/python3.9/site-packages/urllib3/connectionpool.py\u001b[0m in \u001b[0;36m_validate_conn\u001b[0;34m(self, conn)\u001b[0m\n\u001b[1;32m   1008\u001b[0m         \u001b[0;31m# Force connect early to allow us to validate the connection.\u001b[0m\u001b[0;34m\u001b[0m\u001b[0;34m\u001b[0m\u001b[0m\n\u001b[1;32m   1009\u001b[0m         \u001b[0;32mif\u001b[0m \u001b[0;32mnot\u001b[0m \u001b[0mgetattr\u001b[0m\u001b[0;34m(\u001b[0m\u001b[0mconn\u001b[0m\u001b[0;34m,\u001b[0m \u001b[0;34m\"sock\"\u001b[0m\u001b[0;34m,\u001b[0m \u001b[0;32mNone\u001b[0m\u001b[0;34m)\u001b[0m\u001b[0;34m:\u001b[0m  \u001b[0;31m# AppEngine might not have  `.sock`\u001b[0m\u001b[0;34m\u001b[0m\u001b[0;34m\u001b[0m\u001b[0m\n\u001b[0;32m-> 1010\u001b[0;31m             \u001b[0mconn\u001b[0m\u001b[0;34m.\u001b[0m\u001b[0mconnect\u001b[0m\u001b[0;34m(\u001b[0m\u001b[0;34m)\u001b[0m\u001b[0;34m\u001b[0m\u001b[0;34m\u001b[0m\u001b[0m\n\u001b[0m\u001b[1;32m   1011\u001b[0m \u001b[0;34m\u001b[0m\u001b[0m\n\u001b[1;32m   1012\u001b[0m         \u001b[0;32mif\u001b[0m \u001b[0;32mnot\u001b[0m \u001b[0mconn\u001b[0m\u001b[0;34m.\u001b[0m\u001b[0mis_verified\u001b[0m\u001b[0;34m:\u001b[0m\u001b[0;34m\u001b[0m\u001b[0;34m\u001b[0m\u001b[0m\n",
      "\u001b[0;32m/opt/homebrew/Caskroom/miniforge/base/envs/venue-scrape/lib/python3.9/site-packages/urllib3/connection.py\u001b[0m in \u001b[0;36mconnect\u001b[0;34m(self)\u001b[0m\n\u001b[1;32m    409\u001b[0m             \u001b[0mcontext\u001b[0m\u001b[0;34m.\u001b[0m\u001b[0mload_default_certs\u001b[0m\u001b[0;34m(\u001b[0m\u001b[0;34m)\u001b[0m\u001b[0;34m\u001b[0m\u001b[0;34m\u001b[0m\u001b[0m\n\u001b[1;32m    410\u001b[0m \u001b[0;34m\u001b[0m\u001b[0m\n\u001b[0;32m--> 411\u001b[0;31m         self.sock = ssl_wrap_socket(\n\u001b[0m\u001b[1;32m    412\u001b[0m             \u001b[0msock\u001b[0m\u001b[0;34m=\u001b[0m\u001b[0mconn\u001b[0m\u001b[0;34m,\u001b[0m\u001b[0;34m\u001b[0m\u001b[0;34m\u001b[0m\u001b[0m\n\u001b[1;32m    413\u001b[0m             \u001b[0mkeyfile\u001b[0m\u001b[0;34m=\u001b[0m\u001b[0mself\u001b[0m\u001b[0;34m.\u001b[0m\u001b[0mkey_file\u001b[0m\u001b[0;34m,\u001b[0m\u001b[0;34m\u001b[0m\u001b[0;34m\u001b[0m\u001b[0m\n",
      "\u001b[0;32m/opt/homebrew/Caskroom/miniforge/base/envs/venue-scrape/lib/python3.9/site-packages/urllib3/util/ssl_.py\u001b[0m in \u001b[0;36mssl_wrap_socket\u001b[0;34m(sock, keyfile, certfile, cert_reqs, ca_certs, server_hostname, ssl_version, ciphers, ssl_context, ca_cert_dir, key_password, ca_cert_data, tls_in_tls)\u001b[0m\n\u001b[1;32m    447\u001b[0m \u001b[0;34m\u001b[0m\u001b[0m\n\u001b[1;32m    448\u001b[0m     \u001b[0;32mif\u001b[0m \u001b[0msend_sni\u001b[0m\u001b[0;34m:\u001b[0m\u001b[0;34m\u001b[0m\u001b[0;34m\u001b[0m\u001b[0m\n\u001b[0;32m--> 449\u001b[0;31m         ssl_sock = _ssl_wrap_socket_impl(\n\u001b[0m\u001b[1;32m    450\u001b[0m             \u001b[0msock\u001b[0m\u001b[0;34m,\u001b[0m \u001b[0mcontext\u001b[0m\u001b[0;34m,\u001b[0m \u001b[0mtls_in_tls\u001b[0m\u001b[0;34m,\u001b[0m \u001b[0mserver_hostname\u001b[0m\u001b[0;34m=\u001b[0m\u001b[0mserver_hostname\u001b[0m\u001b[0;34m\u001b[0m\u001b[0;34m\u001b[0m\u001b[0m\n\u001b[1;32m    451\u001b[0m         )\n",
      "\u001b[0;32m/opt/homebrew/Caskroom/miniforge/base/envs/venue-scrape/lib/python3.9/site-packages/urllib3/util/ssl_.py\u001b[0m in \u001b[0;36m_ssl_wrap_socket_impl\u001b[0;34m(sock, ssl_context, tls_in_tls, server_hostname)\u001b[0m\n\u001b[1;32m    491\u001b[0m \u001b[0;34m\u001b[0m\u001b[0m\n\u001b[1;32m    492\u001b[0m     \u001b[0;32mif\u001b[0m \u001b[0mserver_hostname\u001b[0m\u001b[0;34m:\u001b[0m\u001b[0;34m\u001b[0m\u001b[0;34m\u001b[0m\u001b[0m\n\u001b[0;32m--> 493\u001b[0;31m         \u001b[0;32mreturn\u001b[0m \u001b[0mssl_context\u001b[0m\u001b[0;34m.\u001b[0m\u001b[0mwrap_socket\u001b[0m\u001b[0;34m(\u001b[0m\u001b[0msock\u001b[0m\u001b[0;34m,\u001b[0m \u001b[0mserver_hostname\u001b[0m\u001b[0;34m=\u001b[0m\u001b[0mserver_hostname\u001b[0m\u001b[0;34m)\u001b[0m\u001b[0;34m\u001b[0m\u001b[0;34m\u001b[0m\u001b[0m\n\u001b[0m\u001b[1;32m    494\u001b[0m     \u001b[0;32melse\u001b[0m\u001b[0;34m:\u001b[0m\u001b[0;34m\u001b[0m\u001b[0;34m\u001b[0m\u001b[0m\n\u001b[1;32m    495\u001b[0m         \u001b[0;32mreturn\u001b[0m \u001b[0mssl_context\u001b[0m\u001b[0;34m.\u001b[0m\u001b[0mwrap_socket\u001b[0m\u001b[0;34m(\u001b[0m\u001b[0msock\u001b[0m\u001b[0;34m)\u001b[0m\u001b[0;34m\u001b[0m\u001b[0;34m\u001b[0m\u001b[0m\n",
      "\u001b[0;32m/opt/homebrew/Caskroom/miniforge/base/envs/venue-scrape/lib/python3.9/ssl.py\u001b[0m in \u001b[0;36mwrap_socket\u001b[0;34m(self, sock, server_side, do_handshake_on_connect, suppress_ragged_eofs, server_hostname, session)\u001b[0m\n\u001b[1;32m    498\u001b[0m         \u001b[0;31m# SSLSocket class handles server_hostname encoding before it calls\u001b[0m\u001b[0;34m\u001b[0m\u001b[0;34m\u001b[0m\u001b[0m\n\u001b[1;32m    499\u001b[0m         \u001b[0;31m# ctx._wrap_socket()\u001b[0m\u001b[0;34m\u001b[0m\u001b[0;34m\u001b[0m\u001b[0m\n\u001b[0;32m--> 500\u001b[0;31m         return self.sslsocket_class._create(\n\u001b[0m\u001b[1;32m    501\u001b[0m             \u001b[0msock\u001b[0m\u001b[0;34m=\u001b[0m\u001b[0msock\u001b[0m\u001b[0;34m,\u001b[0m\u001b[0;34m\u001b[0m\u001b[0;34m\u001b[0m\u001b[0m\n\u001b[1;32m    502\u001b[0m             \u001b[0mserver_side\u001b[0m\u001b[0;34m=\u001b[0m\u001b[0mserver_side\u001b[0m\u001b[0;34m,\u001b[0m\u001b[0;34m\u001b[0m\u001b[0;34m\u001b[0m\u001b[0m\n",
      "\u001b[0;32m/opt/homebrew/Caskroom/miniforge/base/envs/venue-scrape/lib/python3.9/ssl.py\u001b[0m in \u001b[0;36m_create\u001b[0;34m(cls, sock, server_side, do_handshake_on_connect, suppress_ragged_eofs, server_hostname, context, session)\u001b[0m\n\u001b[1;32m   1038\u001b[0m                         \u001b[0;31m# non-blocking\u001b[0m\u001b[0;34m\u001b[0m\u001b[0;34m\u001b[0m\u001b[0m\n\u001b[1;32m   1039\u001b[0m                         \u001b[0;32mraise\u001b[0m \u001b[0mValueError\u001b[0m\u001b[0;34m(\u001b[0m\u001b[0;34m\"do_handshake_on_connect should not be specified for non-blocking sockets\"\u001b[0m\u001b[0;34m)\u001b[0m\u001b[0;34m\u001b[0m\u001b[0;34m\u001b[0m\u001b[0m\n\u001b[0;32m-> 1040\u001b[0;31m                     \u001b[0mself\u001b[0m\u001b[0;34m.\u001b[0m\u001b[0mdo_handshake\u001b[0m\u001b[0;34m(\u001b[0m\u001b[0;34m)\u001b[0m\u001b[0;34m\u001b[0m\u001b[0;34m\u001b[0m\u001b[0m\n\u001b[0m\u001b[1;32m   1041\u001b[0m             \u001b[0;32mexcept\u001b[0m \u001b[0;34m(\u001b[0m\u001b[0mOSError\u001b[0m\u001b[0;34m,\u001b[0m \u001b[0mValueError\u001b[0m\u001b[0;34m)\u001b[0m\u001b[0;34m:\u001b[0m\u001b[0;34m\u001b[0m\u001b[0;34m\u001b[0m\u001b[0m\n\u001b[1;32m   1042\u001b[0m                 \u001b[0mself\u001b[0m\u001b[0;34m.\u001b[0m\u001b[0mclose\u001b[0m\u001b[0;34m(\u001b[0m\u001b[0;34m)\u001b[0m\u001b[0;34m\u001b[0m\u001b[0;34m\u001b[0m\u001b[0m\n",
      "\u001b[0;32m/opt/homebrew/Caskroom/miniforge/base/envs/venue-scrape/lib/python3.9/ssl.py\u001b[0m in \u001b[0;36mdo_handshake\u001b[0;34m(self, block)\u001b[0m\n\u001b[1;32m   1307\u001b[0m             \u001b[0;32mif\u001b[0m \u001b[0mtimeout\u001b[0m \u001b[0;34m==\u001b[0m \u001b[0;36m0.0\u001b[0m \u001b[0;32mand\u001b[0m \u001b[0mblock\u001b[0m\u001b[0;34m:\u001b[0m\u001b[0;34m\u001b[0m\u001b[0;34m\u001b[0m\u001b[0m\n\u001b[1;32m   1308\u001b[0m                 \u001b[0mself\u001b[0m\u001b[0;34m.\u001b[0m\u001b[0msettimeout\u001b[0m\u001b[0;34m(\u001b[0m\u001b[0;32mNone\u001b[0m\u001b[0;34m)\u001b[0m\u001b[0;34m\u001b[0m\u001b[0;34m\u001b[0m\u001b[0m\n\u001b[0;32m-> 1309\u001b[0;31m             \u001b[0mself\u001b[0m\u001b[0;34m.\u001b[0m\u001b[0m_sslobj\u001b[0m\u001b[0;34m.\u001b[0m\u001b[0mdo_handshake\u001b[0m\u001b[0;34m(\u001b[0m\u001b[0;34m)\u001b[0m\u001b[0;34m\u001b[0m\u001b[0;34m\u001b[0m\u001b[0m\n\u001b[0m\u001b[1;32m   1310\u001b[0m         \u001b[0;32mfinally\u001b[0m\u001b[0;34m:\u001b[0m\u001b[0;34m\u001b[0m\u001b[0;34m\u001b[0m\u001b[0m\n\u001b[1;32m   1311\u001b[0m             \u001b[0mself\u001b[0m\u001b[0;34m.\u001b[0m\u001b[0msettimeout\u001b[0m\u001b[0;34m(\u001b[0m\u001b[0mtimeout\u001b[0m\u001b[0;34m)\u001b[0m\u001b[0;34m\u001b[0m\u001b[0;34m\u001b[0m\u001b[0m\n",
      "\u001b[0;31mKeyboardInterrupt\u001b[0m: "
     ]
    }
   ],
   "source": [
    "radius = 127\n",
    "lat_tick_size, long_tick_size = find_tick_sizes(radius)\n",
    "lat_long_grid = create_lat_long_grid(lat_tick_size, long_tick_size)\n",
    "print(f\"lat_long_grid size = {len(lat_long_grid)}\")\n",
    "\n",
    "time_last_update = time.time()\n",
    "data = []\n",
    "total_calls = 0\n",
    "while len(lat_long_grid) > 0:\n",
    "    #print('restarted')\n",
    "    # maximum index available in lat_long_grid\n",
    "    max_index = len(lat_long_grid) - 1\n",
    "    # Pick random index for lat_long_grid\n",
    "    random_index = random.randint(0, max_index)\n",
    "    # Pick lat and long values from random position in lat_long_grid\n",
    "    lat_long = lat_long_grid[random_index]\n",
    "    total_calls += 1\n",
    "    response = api_call(lat_long, radius, key)\n",
    "    # If response status code isnt 200, there was an API error. Print \n",
    "    # the API error, wait 5 seconds and try API call again. Loop until \n",
    "    # status 200 code returned by API. \n",
    "    while response.status_code != 200:\n",
    "        print(f\"API Error code {response.status_code}, sleeping 5 seconds\")\n",
    "        time.sleep(5)\n",
    "        response = api_call(lat_long, radius, key)\n",
    "    \n",
    "    data.extend(extract_venues(venues_list))\n",
    "    # if 50 results then check second page of results\n",
    "    if len(venues_list) > 0:\n",
    "        max_distance = venues_list[-1]['distance']\n",
    "    if len(venues_list) == 50 and max_distance <= radius:        \n",
    "        print(f\"50 results and max_distance returned smaller than radius:\\nlat_long = {lat_long}\\nradius = {radius}\\nmax distance = {max_distance}\")\n",
    "        print(f\"\\nUpdating Radius to {max_distance} and resetting grid...\\n\")\n",
    "        # update radius to max_distance minus 1 (ensures radius will now be smaller than max distance next time)\n",
    "        radius = max_distance - 1\n",
    "        lat_tick_size, long_tick_size = find_tick_sizes(radius)          \n",
    "        lat_long_grid = create_lat_long_grid(lat_tick_size, long_tick_size)\n",
    "        print(f\"lat_long_grid size = {len(lat_long_grid)}\")\n",
    "        # reset data gathering\n",
    "        data = []\n",
    "        continue\n",
    "    #print('pre-grid update')        \n",
    "    lat_long_grid = update_grid(lat_long, radius, lat_long_grid)\n",
    "    #print('done one')\n",
    "    if time.time() - time_last_update > 20:\n",
    "        print(f\"lat_long_grid points remaining -> {len(lat_long_grid)}\")\n",
    "        time_last_update = time.time()\n",
    "    \n",
    "print(f\"\\nTotal Calls -> {total_calls}\")"
   ]
  },
  {
   "cell_type": "markdown",
   "id": "cdc430dd-cf6a-43b3-b1b9-0ebb440ce00e",
   "metadata": {},
   "source": [
    "### To Do latest: \n",
    "\n",
    "- api error handling fixes - use response.status_code and maybe some of those things on that website, add to cheatsheet anyway \n",
    "- Add new variable radius model - min radius for gridsize and separate general radius and specific radius per search! - check if probelms with data using large surface area i.e. nonsense results shown? "
   ]
  },
  {
   "cell_type": "code",
   "execution_count": 30,
   "id": "136167e5-3890-4be0-ae61-35ce88fe0774",
   "metadata": {},
   "outputs": [
    {
     "data": {
      "text/plain": [
       "500"
      ]
     },
     "execution_count": 30,
     "metadata": {},
     "output_type": "execute_result"
    }
   ],
   "source": [
    "min size = 127"
   ]
  },
  {
   "cell_type": "markdown",
   "id": "a3a5c4a2-2f63-445b-be3a-05ac72774526",
   "metadata": {},
   "source": [
    "Error - 100 or more venues in search, cannot extract all venues in search area.\n",
    "lat_long = 51.49814499999999,-0.16857000000000005\n",
    "radius = 3271\n",
    "Error - 100 or more venues in search, cannot extract all venues in search area.\n",
    "lat_long = 51.48323349999999,-0.1205420000000001\n",
    "radius = 3271\n",
    "Error - 100 or more venues in search, cannot extract all venues in search area.\n",
    "lat_long = 51.51305649999998,-0.048500000000000154\n",
    "radius = 3271\n",
    "Error - 100 or more venues in search, cannot extract all venues in search area.\n",
    "lat_long = 51.52796799999998,-0.048500000000000154\n",
    "radius = 3271"
   ]
  },
  {
   "cell_type": "code",
   "execution_count": 23,
   "id": "340dc80f-4f48-49cd-880d-9a6aa1c66676",
   "metadata": {},
   "outputs": [
    {
     "data": {
      "text/plain": [
       "356"
      ]
     },
     "execution_count": 23,
     "metadata": {},
     "output_type": "execute_result"
    }
   ],
   "source": [
    "df = pd.DataFrame(data, columns = ['fsq_id', 'venue_name', 'latitude', 'longitude', \n",
    "                       'address', 'postcode'])\n",
    "#df.head()\n",
    "df = df.drop_duplicates(subset=['fsq_id'])\n",
    "df.shape[0]"
   ]
  },
  {
   "cell_type": "code",
   "execution_count": 24,
   "id": "94070f2d-6155-49a1-821f-a05f5400d7b9",
   "metadata": {},
   "outputs": [
    {
     "data": {
      "text/plain": [
       "333"
      ]
     },
     "execution_count": 24,
     "metadata": {},
     "output_type": "execute_result"
    }
   ],
   "source": [
    "df[(min_lat <= df.latitude) & (df.latitude <= max_lat) \n",
    "   & (df.longitude > min_long) & (df.longitude < max_long)].shape[0]"
   ]
  },
  {
   "cell_type": "code",
   "execution_count": null,
   "id": "6fdb6f93-197d-4325-920a-67446955e7de",
   "metadata": {},
   "outputs": [],
   "source": [
    "df2 = pd.read_csv('foursquare_event_spaces.csv')\n",
    "df2.head()"
   ]
  },
  {
   "cell_type": "code",
   "execution_count": null,
   "id": "9a8918a9-55af-42f5-b51f-fd14861aa88b",
   "metadata": {},
   "outputs": [],
   "source": [
    "df2[(min_lat <= df2.latitude) & (df2.latitude <= max_lat) \n",
    "   & (df2.longitude > min_long) & (df2.longitude < max_long)].shape[0]"
   ]
  },
  {
   "cell_type": "code",
   "execution_count": null,
   "id": "8b50c2b6-3352-446c-8b6e-77e955f6f3ef",
   "metadata": {},
   "outputs": [],
   "source": [
    "df.to_csv('foursquare_bars.csv', index = False)"
   ]
  },
  {
   "cell_type": "code",
   "execution_count": null,
   "id": "9c564582-d646-4823-8b6d-e8b7aca1403f",
   "metadata": {},
   "outputs": [],
   "source": [
    "print(f\"Error - 100 or more venues in search, cannot\"\n",
    "                     + f\"blurg\")"
   ]
  },
  {
   "cell_type": "code",
   "execution_count": null,
   "id": "dd7933cd-1823-4d50-bd17-e298f6bfa817",
   "metadata": {},
   "outputs": [],
   "source": [
    "response"
   ]
  },
  {
   "cell_type": "code",
   "execution_count": null,
   "id": "2fcb902f-753c-465c-86ed-cae65b0a70fe",
   "metadata": {},
   "outputs": [],
   "source": [
    "response.headers['Link']"
   ]
  },
  {
   "cell_type": "code",
   "execution_count": null,
   "id": "f9f6f1a4-c6d8-4446-ab13-c45fc74d52ab",
   "metadata": {},
   "outputs": [],
   "source": [
    "lat_long_grid[0:2]"
   ]
  },
  {
   "cell_type": "code",
   "execution_count": null,
   "id": "f84d7e62-e617-476d-954f-fe95c1677869",
   "metadata": {},
   "outputs": [],
   "source": [
    "lat_long = lat_long_grid[1]\n",
    "response = api_call(lat_long, 3271, key)\n"
   ]
  },
  {
   "cell_type": "code",
   "execution_count": null,
   "id": "e1d9d54e-1778-4bf6-a58a-81b1ef040933",
   "metadata": {},
   "outputs": [],
   "source": [
    "results = json.loads(response.text)\n",
    "venues_list = results['results']\n",
    "extract_venues(venues_list)"
   ]
  },
  {
   "cell_type": "code",
   "execution_count": null,
   "id": "1bfcd070-43d6-4c3a-ac81-16f8eb7f0c29",
   "metadata": {},
   "outputs": [],
   "source": [
    "JSON(venues_list)"
   ]
  },
  {
   "cell_type": "code",
   "execution_count": null,
   "id": "68ab819d-2369-42cf-8d3a-9a0ced55f847",
   "metadata": {},
   "outputs": [],
   "source": [
    "JSON(venues_list)"
   ]
  },
  {
   "cell_type": "code",
   "execution_count": null,
   "id": "8c72a96f-3478-42ea-9dd3-08172453a2e6",
   "metadata": {},
   "outputs": [],
   "source": [
    "venues_list[0]['location']['address']"
   ]
  },
  {
   "cell_type": "code",
   "execution_count": null,
   "id": "10d2287f-f62d-4c42-b785-4c607c75199e",
   "metadata": {},
   "outputs": [],
   "source": [
    "data = []\n",
    "while len(lat_long_grid) > 0:\n",
    "    \n",
    "    response = api_call(lat_long, radius, key)\n",
    "    results = json.loads(response.text)\n",
    "    venues_list = results['results']\n",
    "    data.extend(extract_venues(venues_list))\n",
    "    # if 50 results then check second page of results\n",
    "    if len(venues_list) == 50:\n",
    "        try:\n",
    "            pagination = response.headers['Link']\n",
    "            next_results_url = pagination[pagination.find('<') + 1\n",
    "                                          :pagination.find('>')]\n",
    "            response = requests.get(next_results_url, headers = headers)\n",
    "            results = json.loads(response.text)\n",
    "            venues_list = results['results']\n",
    "            data.extend(extract_venues(venues_list))\n",
    "            if len(venues_list) == 50:\n",
    "                max_distance = venues_list[-1]['distance']\n",
    "                print(f\"More than 100 results:/nlat_long = {lat_long}\\nradius = {radius}\\nmax distance = {max_distance}\")\n",
    "                if max_distance < radius:\n",
    "                    \n",
    "                print(f\"Error - 100 or more venues in search, cannot \"\n",
    "                     + f\"extract all venues in search area.\\n\"\n",
    "                     + f\"lat_long = {lat_long}\\nradius = {radius}\")\n",
    "            \n",
    "        # if key error, there is no second page link i.e. exactly 50 results\n",
    "        except KeyError:\n",
    "            pass"
   ]
  },
  {
   "cell_type": "code",
   "execution_count": null,
   "id": "521f2273-5328-467e-bb79-21fdeb2f921f",
   "metadata": {},
   "outputs": [],
   "source": [
    "pagination = response.headers['Link']\n",
    "next_results_url = pagination[pagination.find('<') + 1\n",
    "                                          :pagination.find('>')]\n",
    "response = requests.get(next_results_url, headers = headers)\n",
    "results = json.loads(response.text)\n",
    "JSON(results)"
   ]
  },
  {
   "cell_type": "code",
   "execution_count": 26,
   "id": "7f08b48e-e006-476c-a100-033f85235019",
   "metadata": {},
   "outputs": [
    {
     "name": "stdout",
     "output_type": "stream",
     "text": [
      "lat_long_grid size = 55963\n",
      "lat_long_grid points remaining -> 55853\n",
      "lat_long_grid points remaining -> 55732\n",
      "lat_long_grid points remaining -> 55600\n",
      "lat_long_grid points remaining -> 55480\n"
     ]
    },
    {
     "ename": "JSONDecodeError",
     "evalue": "Expecting value: line 1 column 1 (char 0)",
     "output_type": "error",
     "traceback": [
      "\u001b[0;31m---------------------------------------------------------------------------\u001b[0m",
      "\u001b[0;31mJSONDecodeError\u001b[0m                           Traceback (most recent call last)",
      "\u001b[0;32m/var/folders/54/vflgkhrd7l9d53hm444nhsp40000gn/T/ipykernel_10561/1773304040.py\u001b[0m in \u001b[0;36m<module>\u001b[0;34m\u001b[0m\n\u001b[1;32m     28\u001b[0m         \u001b[0mtime\u001b[0m\u001b[0;34m.\u001b[0m\u001b[0msleep\u001b[0m\u001b[0;34m(\u001b[0m\u001b[0;36m1\u001b[0m\u001b[0;34m)\u001b[0m\u001b[0;34m\u001b[0m\u001b[0;34m\u001b[0m\u001b[0m\n\u001b[1;32m     29\u001b[0m         \u001b[0mresponse\u001b[0m \u001b[0;34m=\u001b[0m \u001b[0mapi_call\u001b[0m\u001b[0;34m(\u001b[0m\u001b[0mlat_long\u001b[0m\u001b[0;34m,\u001b[0m \u001b[0mradius\u001b[0m\u001b[0;34m,\u001b[0m \u001b[0mkey\u001b[0m\u001b[0;34m)\u001b[0m\u001b[0;34m\u001b[0m\u001b[0;34m\u001b[0m\u001b[0m\n\u001b[0;32m---> 30\u001b[0;31m         \u001b[0mresults\u001b[0m \u001b[0;34m=\u001b[0m \u001b[0mjson\u001b[0m\u001b[0;34m.\u001b[0m\u001b[0mloads\u001b[0m\u001b[0;34m(\u001b[0m\u001b[0mresponse\u001b[0m\u001b[0;34m.\u001b[0m\u001b[0mtext\u001b[0m\u001b[0;34m)\u001b[0m\u001b[0;34m\u001b[0m\u001b[0;34m\u001b[0m\u001b[0m\n\u001b[0m\u001b[1;32m     31\u001b[0m         \u001b[0;32mtry\u001b[0m\u001b[0;34m:\u001b[0m\u001b[0;34m\u001b[0m\u001b[0;34m\u001b[0m\u001b[0m\n\u001b[1;32m     32\u001b[0m             \u001b[0mvenues_list\u001b[0m \u001b[0;34m=\u001b[0m \u001b[0mresults\u001b[0m\u001b[0;34m[\u001b[0m\u001b[0;34m'results'\u001b[0m\u001b[0;34m]\u001b[0m\u001b[0;34m\u001b[0m\u001b[0;34m\u001b[0m\u001b[0m\n",
      "\u001b[0;32m/opt/homebrew/Caskroom/miniforge/base/envs/venue-scrape/lib/python3.9/json/__init__.py\u001b[0m in \u001b[0;36mloads\u001b[0;34m(s, cls, object_hook, parse_float, parse_int, parse_constant, object_pairs_hook, **kw)\u001b[0m\n\u001b[1;32m    344\u001b[0m             \u001b[0mparse_int\u001b[0m \u001b[0;32mis\u001b[0m \u001b[0;32mNone\u001b[0m \u001b[0;32mand\u001b[0m \u001b[0mparse_float\u001b[0m \u001b[0;32mis\u001b[0m \u001b[0;32mNone\u001b[0m \u001b[0;32mand\u001b[0m\u001b[0;34m\u001b[0m\u001b[0;34m\u001b[0m\u001b[0m\n\u001b[1;32m    345\u001b[0m             parse_constant is None and object_pairs_hook is None and not kw):\n\u001b[0;32m--> 346\u001b[0;31m         \u001b[0;32mreturn\u001b[0m \u001b[0m_default_decoder\u001b[0m\u001b[0;34m.\u001b[0m\u001b[0mdecode\u001b[0m\u001b[0;34m(\u001b[0m\u001b[0ms\u001b[0m\u001b[0;34m)\u001b[0m\u001b[0;34m\u001b[0m\u001b[0;34m\u001b[0m\u001b[0m\n\u001b[0m\u001b[1;32m    347\u001b[0m     \u001b[0;32mif\u001b[0m \u001b[0mcls\u001b[0m \u001b[0;32mis\u001b[0m \u001b[0;32mNone\u001b[0m\u001b[0;34m:\u001b[0m\u001b[0;34m\u001b[0m\u001b[0;34m\u001b[0m\u001b[0m\n\u001b[1;32m    348\u001b[0m         \u001b[0mcls\u001b[0m \u001b[0;34m=\u001b[0m \u001b[0mJSONDecoder\u001b[0m\u001b[0;34m\u001b[0m\u001b[0;34m\u001b[0m\u001b[0m\n",
      "\u001b[0;32m/opt/homebrew/Caskroom/miniforge/base/envs/venue-scrape/lib/python3.9/json/decoder.py\u001b[0m in \u001b[0;36mdecode\u001b[0;34m(self, s, _w)\u001b[0m\n\u001b[1;32m    335\u001b[0m \u001b[0;34m\u001b[0m\u001b[0m\n\u001b[1;32m    336\u001b[0m         \"\"\"\n\u001b[0;32m--> 337\u001b[0;31m         \u001b[0mobj\u001b[0m\u001b[0;34m,\u001b[0m \u001b[0mend\u001b[0m \u001b[0;34m=\u001b[0m \u001b[0mself\u001b[0m\u001b[0;34m.\u001b[0m\u001b[0mraw_decode\u001b[0m\u001b[0;34m(\u001b[0m\u001b[0ms\u001b[0m\u001b[0;34m,\u001b[0m \u001b[0midx\u001b[0m\u001b[0;34m=\u001b[0m\u001b[0m_w\u001b[0m\u001b[0;34m(\u001b[0m\u001b[0ms\u001b[0m\u001b[0;34m,\u001b[0m \u001b[0;36m0\u001b[0m\u001b[0;34m)\u001b[0m\u001b[0;34m.\u001b[0m\u001b[0mend\u001b[0m\u001b[0;34m(\u001b[0m\u001b[0;34m)\u001b[0m\u001b[0;34m)\u001b[0m\u001b[0;34m\u001b[0m\u001b[0;34m\u001b[0m\u001b[0m\n\u001b[0m\u001b[1;32m    338\u001b[0m         \u001b[0mend\u001b[0m \u001b[0;34m=\u001b[0m \u001b[0m_w\u001b[0m\u001b[0;34m(\u001b[0m\u001b[0ms\u001b[0m\u001b[0;34m,\u001b[0m \u001b[0mend\u001b[0m\u001b[0;34m)\u001b[0m\u001b[0;34m.\u001b[0m\u001b[0mend\u001b[0m\u001b[0;34m(\u001b[0m\u001b[0;34m)\u001b[0m\u001b[0;34m\u001b[0m\u001b[0;34m\u001b[0m\u001b[0m\n\u001b[1;32m    339\u001b[0m         \u001b[0;32mif\u001b[0m \u001b[0mend\u001b[0m \u001b[0;34m!=\u001b[0m \u001b[0mlen\u001b[0m\u001b[0;34m(\u001b[0m\u001b[0ms\u001b[0m\u001b[0;34m)\u001b[0m\u001b[0;34m:\u001b[0m\u001b[0;34m\u001b[0m\u001b[0;34m\u001b[0m\u001b[0m\n",
      "\u001b[0;32m/opt/homebrew/Caskroom/miniforge/base/envs/venue-scrape/lib/python3.9/json/decoder.py\u001b[0m in \u001b[0;36mraw_decode\u001b[0;34m(self, s, idx)\u001b[0m\n\u001b[1;32m    353\u001b[0m             \u001b[0mobj\u001b[0m\u001b[0;34m,\u001b[0m \u001b[0mend\u001b[0m \u001b[0;34m=\u001b[0m \u001b[0mself\u001b[0m\u001b[0;34m.\u001b[0m\u001b[0mscan_once\u001b[0m\u001b[0;34m(\u001b[0m\u001b[0ms\u001b[0m\u001b[0;34m,\u001b[0m \u001b[0midx\u001b[0m\u001b[0;34m)\u001b[0m\u001b[0;34m\u001b[0m\u001b[0;34m\u001b[0m\u001b[0m\n\u001b[1;32m    354\u001b[0m         \u001b[0;32mexcept\u001b[0m \u001b[0mStopIteration\u001b[0m \u001b[0;32mas\u001b[0m \u001b[0merr\u001b[0m\u001b[0;34m:\u001b[0m\u001b[0;34m\u001b[0m\u001b[0;34m\u001b[0m\u001b[0m\n\u001b[0;32m--> 355\u001b[0;31m             \u001b[0;32mraise\u001b[0m \u001b[0mJSONDecodeError\u001b[0m\u001b[0;34m(\u001b[0m\u001b[0;34m\"Expecting value\"\u001b[0m\u001b[0;34m,\u001b[0m \u001b[0ms\u001b[0m\u001b[0;34m,\u001b[0m \u001b[0merr\u001b[0m\u001b[0;34m.\u001b[0m\u001b[0mvalue\u001b[0m\u001b[0;34m)\u001b[0m \u001b[0;32mfrom\u001b[0m \u001b[0;32mNone\u001b[0m\u001b[0;34m\u001b[0m\u001b[0;34m\u001b[0m\u001b[0m\n\u001b[0m\u001b[1;32m    356\u001b[0m         \u001b[0;32mreturn\u001b[0m \u001b[0mobj\u001b[0m\u001b[0;34m,\u001b[0m \u001b[0mend\u001b[0m\u001b[0;34m\u001b[0m\u001b[0;34m\u001b[0m\u001b[0m\n",
      "\u001b[0;31mJSONDecodeError\u001b[0m: Expecting value: line 1 column 1 (char 0)"
     ]
    }
   ],
   "source": [
    "radius = 127\n",
    "lat_tick_size, long_tick_size = find_tick_sizes(radius)\n",
    "lat_long_grid = create_lat_long_grid(lat_tick_size, long_tick_size)\n",
    "print(f\"lat_long_grid size = {len(lat_long_grid)}\")\n",
    "\n",
    "time_last_update = time.time()\n",
    "data = []\n",
    "total_calls = 0\n",
    "while len(lat_long_grid) > 0:\n",
    "    #print('restarted')\n",
    "    # maximum index available in lat_long_grid\n",
    "    max_index = len(lat_long_grid) - 1\n",
    "    # Pick random index for lat_long_grid\n",
    "    random_index = random.randint(0, max_index)\n",
    "    # Pick lat and long values from random position in lat_long_grid\n",
    "    lat_long = lat_long_grid[random_index]\n",
    "    total_calls += 1\n",
    "    response = api_call(lat_long, radius, key)\n",
    "    try: \n",
    "        results = json.loads(response.text)\n",
    "    except JSONDecodeError:\n",
    "        time.sleep(1)\n",
    "        response = api_call(lat_long, radius, key)\n",
    "        results = json.loads(response.text)\n",
    "    try: \n",
    "        venues_list = results['results']\n",
    "    except KeyError:\n",
    "        time.sleep(1)\n",
    "        response = api_call(lat_long, radius, key)\n",
    "        results = json.loads(response.text)\n",
    "        try:\n",
    "            venues_list = results['results']\n",
    "        except KeyError:\n",
    "            time.sleep(1)\n",
    "            continue\n",
    "    \n",
    "    data.extend(extract_venues(venues_list))\n",
    "    # if 50 results then check second page of results\n",
    "    if len(venues_list) > 0:\n",
    "        max_distance = venues_list[-1]['distance']\n",
    "    if len(venues_list) == 50 and max_distance <= radius:        \n",
    "        print(f\"50 results and max_distance returned smaller than radius:\\nlat_long = {lat_long}\\nradius = {radius}\\nmax distance = {max_distance}\")\n",
    "        print(f\"\\nUpdating Radius to {max_distance} and resetting grid...\\n\")\n",
    "        # update radius to max_distance minus 1 (ensures radius will now be smaller than max distance next time)\n",
    "        radius = max_distance - 1\n",
    "        lat_tick_size, long_tick_size = find_tick_sizes(radius)          \n",
    "        lat_long_grid = create_lat_long_grid(lat_tick_size, long_tick_size)\n",
    "        print(f\"lat_long_grid size = {len(lat_long_grid)}\")\n",
    "        # reset data gathering\n",
    "        data = []\n",
    "        continue\n",
    "    #print('pre-grid update')        \n",
    "    lat_long_grid = update_grid(lat_long, radius, lat_long_grid)\n",
    "    #print('done one')\n",
    "    if time.time() - time_last_update > 20:\n",
    "        print(f\"lat_long_grid points remaining -> {len(lat_long_grid)}\")\n",
    "        time_last_update = time.time()\n",
    "    \n",
    "print(f\"\\nTotal Calls -> {total_calls}\")"
   ]
  }
 ],
 "metadata": {
  "kernelspec": {
   "display_name": "venue-scrape",
   "language": "python",
   "name": "venue-scrape"
  },
  "language_info": {
   "codemirror_mode": {
    "name": "ipython",
    "version": 3
   },
   "file_extension": ".py",
   "mimetype": "text/x-python",
   "name": "python",
   "nbconvert_exporter": "python",
   "pygments_lexer": "ipython3",
   "version": "3.9.7"
  }
 },
 "nbformat": 4,
 "nbformat_minor": 5
}
