{
 "cells": [
  {
   "cell_type": "code",
   "execution_count": 1,
   "id": "80123929-0108-42b9-ada0-1dc75641a21d",
   "metadata": {
    "tags": []
   },
   "outputs": [],
   "source": [
    "import json\n",
    "import ast\n",
    "import random\n",
    "import requests\n",
    "from IPython.display import JSON\n",
    "from ratelimiter import RateLimiter\n",
    "from statistics import median, mean\n",
    "from math import sin, cos, asin, sqrt, degrees, radians\n",
    "import plotly.express as px\n",
    "from geopy import distance\n",
    "from scipy.optimize import newton\n",
    "import numpy as np\n",
    "import pandas as pd\n",
    "import time\n",
    "from datetime import datetime\n",
    "\n",
    "import geopandas as gpd\n",
    "from shapely.geometry import Polygon\n",
    "\n",
    "import matplotlib.pyplot as plt\n",
    "import contextily as cx\n",
    "import time\n",
    "from IPython.display import clear_output"
   ]
  },
  {
   "cell_type": "markdown",
   "id": "1270d8a0-d499-4454-b1a0-8fdf6d4f798c",
   "metadata": {
    "tags": []
   },
   "source": [
    "# Foursquare Venue Scrape\n",
    "## Objective\n",
    "This notebook will use the **Foursquare API** to find all venues in a geographic area and gather extended information (popularity, type, contact details, location etc.) for each venue:\n",
    "- The Geographic area will be square shaped and defined using latitude and longitude coordinates. \n",
    "- The **Place Search** Foursquare API will be used to find the venues. \n",
    "- You can define the type of venue you want to find e.g. you could look for only bars and restaurants. \n",
    "- The **Get Place Details** Foursquare API will be used to get extended data on each the venue. \n",
    "\n",
    "The end result will be a csv file containing all venues found and their associated Foursquare data. The total cost of the API calls for a big city is ~\\\\$80 and thus the free tier Sandbox membership (\\\\$200 of free API calls per month) comfortably covers the costs.  "
   ]
  },
  {
   "cell_type": "markdown",
   "id": "c396cf30-6bf6-493a-9ec2-873620d03668",
   "metadata": {},
   "source": [
    "## Approach\n",
    "Our code has 2 main sections detailed below: \n",
    "- **Venue Search** - Exhaustively search geographic area for venues. \n",
    "- **Get Venue Details** - Get extended venue information on each venue we found. \n",
    "\n",
    "In this section we provide a high level overview of how the **venue search** works. \n",
    "### Define Search Area\n",
    "We define the search area using maximum and minimum latitude and longitude values. The intersection of these lines of latitude and longitude define a square area. Example latitude and longitude boundaries for London are shown below: \n",
    "- **minimum latitude** = 51.438499 \n",
    "- **maximum latitude** = 51.546890\n",
    "- **minimum longitude** = -0.240612\n",
    "- **maximum longitude** = 0.026043\n",
    "\n",
    "Below we visualise the geographic area defined by these coordinates: \n",
    "![alt text](images/area.png)"
   ]
  },
  {
   "cell_type": "markdown",
   "id": "7ea2edb8-d320-4377-ac5c-22f98d9c704f",
   "metadata": {},
   "source": [
    "### Find Venues Within Search Area\n",
    "We will use the Foursquare [Place Search](https://developer.foursquare.com/reference/place-search) API to extract all venues from the search area. The Place Search API can take a location (defined as a latitude and longitude coordinate) and a radius and will return up to 50 venues found within that radius. \n",
    "\n",
    "Since it only returns 50 results, we will have to keep searching different locations until the whole search area has been covered. The search does not return the closest 50 results to the location. It returns a range of venues from across the whole search radius. As such, to be sure we have found every single venue within a location, we must reduce the search radius until less than 50 results are shown. At this point, the API will only return the venues closest to the search location and we can be sure nothing is missing.\n",
    "\n",
    "To perform the exhaustive search of the area, we first split the area into a grid of latitude / longitude points as shown below: \n",
    "\n",
    "![alt text](images/grid.png)\n",
    "\n",
    "We will then randomly choose a point on the grid and perform an API search using an initial search radius. This search will cover a number of points in the grid depending on the size of the radius. An example search area is shown in red below: \n",
    "\n",
    "![alt text](images/initial_search.png)\n",
    "\n",
    "We then check whether the search returned less than 50 results. If it didn't, we halve the search radius and search again, as shown below: \n",
    "\n",
    "![alt text](images/second_search.png)\n",
    "\n",
    "We repeat this until the search returns less than 50 results. We then store the details of the venues from the search results and **remove** all points on the grid that were covered by the search i.e. within the final radius. This is shown below: \n",
    "\n",
    "![alt text](images/removed.png)\n",
    "\n",
    "We are now ready to choose another location on the grid randomly and perform the search again. We do this until all points have been removed from the grid. At this point, the whole search area has been searched and we should have found all venues within the area. \n",
    "\n",
    "### Initial Search Radius\n",
    "The reason we start off with a large search radius and keep reducing it, is that the density of venues varies significantly in different regions of the search area. There are large areas with few venues and small areas with many venues. Thus, the search is fastest if we can remove large areas of points on the grid where there is a low density of venues in a single search. As a result, we will quickly remove a large number of low density points from the grid. This means the points remaining in the grid are more likely to be high density points requiring a small search radius. This in turn means that as the venue search progresses, the initial search radius will become more and more likely to be too large and thus be a wasted API call. \n",
    "\n",
    "To optimise the process, we count the fraction of searches every 20 seconds that required a smaller radius than the initial search radius we are using. When this value goes over 60% (i.e. 60% of points need a smaller radius), we reduce the initial search radius used by 20%. This ensures we always have relatively large areas being removed in a single search and are not performing lots of small radius API calls. \n",
    "\n",
    "### Grid Separation\n",
    "How small do we need to make the grid separations i.e. the horizontal and vertical distance between neighboring points in the grid? \n",
    "\n",
    "The grid separations need to be at least as small as the smallest search radius required. Otherwise we could end up with venues between 2 points on the grid that are not covered by the search radius from either point, and thus we wouldn't capture them in our search. The smallest search radius is not a constant value, it will vary for different searches i.e. searching different geographic areas or for different types of venues would change the minimum search radius. As such, we cannot calculate a static grid separation. \n",
    "\n",
    "Instead, we guess a minimum search radius and then define our grid separation by this guess (grid separation is half the minimum search radius). We then begin searching the area for venues. This continues until an API call requires a smaller radius than our guessed smallest search radius. At this point, the whole venue search is restarted, the grid is recreated using the new smallest search required. This repeats until a smaller search radius is not found, and therefore the venue search manages to search the whole area successfully."
   ]
  },
  {
   "cell_type": "markdown",
   "id": "de1606a6-3f1b-4e1d-a7f4-325da00bca18",
   "metadata": {},
   "source": [
    "## Venue Search Functions\n",
    "In this section, we will build the functions required to perform the venue search. \n",
    "### Load API Key\n",
    "To use the Foursquare API you need a developer account and an API key that links to the account. We store this key as a plain text file called **key.txt**. It must be stored in the same directory as this notebook. Below we load the key from key.txt into our environment.   "
   ]
  },
  {
   "cell_type": "code",
   "execution_count": 2,
   "id": "cd5754b4-d56d-4021-b68f-ba75b79ccbab",
   "metadata": {},
   "outputs": [],
   "source": [
    "# Import the foursquare key from text file (to keep key hidden on github)\n",
    "with open('key.txt') as f:\n",
    "    key = f.read()"
   ]
  },
  {
   "cell_type": "markdown",
   "id": "69710c67-4683-432c-a20a-eed971c9c5bd",
   "metadata": {},
   "source": [
    "### Define Place Search API Call\n",
    "We will find venues using the [Place Search](https://developer.foursquare.com/reference/place-search) API. Below we define a function that takes a latitude and longitude coordinate and a search radius and then makes a [Place Search](https://developer.foursquare.com/reference/place-search) API call using them. The response will contain up to 50 venues found within the radius.  \n",
    "\n",
    "The foursquare API has a rate limit of 50 calls per second. We used the **ratelimiter** package to apply this rate limit to the function. \n",
    "\n",
    "The following API Paramaters were used to define the API call: \n",
    "- **ll** - comma seperated latitude and longitude value e.g. '5123,0.0324'\n",
    "- **radius** - the radius (in meters) around the latitude / longitude value that will be included in the search.\n",
    "- **categories** - commas separated list of category codes. The search will only return businesses within those categories. The categories can be found [here](https://developer.foursquare.com/docs/categories). We primarily searched for bars alongside some other categories. You can leave this blank to return all businesses within the search area. \n",
    "- **sort** - defines how to sort results. We sorted by distance i.e. closest to the latitude / longitude value first. \n",
    "- **limit** - maximum number of results returned. 50 is the max number Foursquare allows. "
   ]
  },
  {
   "cell_type": "code",
   "execution_count": 3,
   "id": "08f065c7-cd29-4f62-add6-03a7583a8774",
   "metadata": {},
   "outputs": [],
   "source": [
    "# Base url string of the Place Search API call\n",
    "search_url = \"https://api.foursquare.com/v3/places/search\"\n",
    "\n",
    "# RateLimiter decorator, ensures the api_call function is called less \n",
    "# than 50 times per second, the Foursquare rate limit\n",
    "@RateLimiter(max_calls=49, period=1)\n",
    "def api_call(long_lat, radius, cats, key):\n",
    "    \"\"\"Perform a foursquare places api search and return response.\n",
    "    \n",
    "    Args:\n",
    "        long_lat (string): The latitude and longitude coordinate of \n",
    "            the search in comma separated format e.g. '51.513882,-0.119478'. \n",
    "            The API will find venues within a radius of this point.   \n",
    "        radius (string): The search radius (in meters) for the venue \n",
    "            search e.g. '800'. \n",
    "        cats (string): A comma separated list of Foursquare Category Codes\n",
    "            e.g. '11131,11039'. The search will only return venues in these \n",
    "            categories. Leave as empty list e.g. '' if you want all categories \n",
    "            included in search. \n",
    "        key (string): Foursquare API key. \n",
    "\n",
    "    Returns:\n",
    "        api response: Response from foursquare places api call. The call was\n",
    "            defined by the latitude and longitude, radius and categories supplied\n",
    "            to the function. A maximum of 50 venues will be contained in the response.\n",
    "    \"\"\"\n",
    "    \n",
    "    # Defines paramaters to add to the search_url. These define the Search.  \n",
    "    params = dict(ll = long_lat,\n",
    "                  radius = radius, \n",
    "                  categories = cats,\n",
    "                  sort = 'DISTANCE',\n",
    "                  limit = '50'\n",
    "                 )\n",
    "    # Defines headers required in Place Search API call\n",
    "    headers = {\n",
    "        \"Accept\": \"application/json\",\n",
    "        \"Authorization\": key\n",
    "    }\n",
    "\n",
    "    return requests.request(\"GET\", search_url, headers = headers, params = params)"
   ]
  },
  {
   "cell_type": "markdown",
   "id": "819dcf80-8759-496b-858f-798d7d783008",
   "metadata": {},
   "source": [
    "Below we perform a test Place Search API call to check it works as expected. It should return a JSON file containing a list of results. "
   ]
  },
  {
   "cell_type": "code",
   "execution_count": 4,
   "id": "02aab9bf-d0af-4d69-a68b-6994b5c285fa",
   "metadata": {},
   "outputs": [
    {
     "data": {
      "application/json": {
       "context": {
        "geo_bounds": {
         "circle": {
          "center": {
           "latitude": 51.513882,
           "longitude": -0.119478
          },
          "radius": 1000
         }
        }
       },
       "results": [
        {
         "categories": [
          {
           "icon": {
            "prefix": "https://ss3.4sqi.net/img/categories_v2/building/eventspace_",
            "suffix": ".png"
           },
           "id": 11039,
           "name": "Event Space"
          }
         ],
         "chains": [],
         "distance": 243,
         "fsq_id": "aa11bf7d9cbf42b370aa1f0a",
         "geocodes": {
          "main": {
           "latitude": 51.514853,
           "longitude": -0.122637
          },
          "roof": {
           "latitude": 51.514853,
           "longitude": -0.122637
          }
         },
         "link": "/v3/places/aa11bf7d9cbf42b370aa1f0a",
         "location": {
          "admin_region": "England",
          "country": "GB",
          "formatted_address": "",
          "post_town": "London"
         },
         "name": "Wallacespace Covent Garden",
         "related_places": {}
        },
        {
         "categories": [
          {
           "icon": {
            "prefix": "https://ss3.4sqi.net/img/categories_v2/building/eventspace_",
            "suffix": ".png"
           },
           "id": 11039,
           "name": "Event Space"
          }
         ],
         "chains": [],
         "distance": 248,
         "fsq_id": "4c3d685b0928b713d02195ef",
         "geocodes": {
          "main": {
           "latitude": 51.51484,
           "longitude": -0.12292
          },
          "roof": {
           "latitude": 51.51484,
           "longitude": -0.12292
          }
         },
         "link": "/v3/places/4c3d685b0928b713d02195ef",
         "location": {
          "address": "2 Dryden St",
          "admin_region": "England",
          "country": "GB",
          "cross_street": "",
          "formatted_address": "2 Dryden St, London, Greater London, WC2E 9NA",
          "locality": "London",
          "post_town": "London",
          "postcode": "WC2E 9NA",
          "region": "Greater London"
         },
         "name": "Wallspace",
         "related_places": {},
         "timezone": "Europe/London"
        },
        {
         "categories": [
          {
           "icon": {
            "prefix": "https://ss3.4sqi.net/img/categories_v2/building/eventspace_",
            "suffix": ".png"
           },
           "id": 11039,
           "name": "Event Space"
          }
         ],
         "chains": [],
         "distance": 314,
         "fsq_id": "4fb1fa05e4b059b0d46b6858",
         "geocodes": {
          "main": {
           "latitude": 51.5155,
           "longitude": -0.11565
          },
          "roof": {
           "latitude": 51.5155,
           "longitude": -0.11565
          }
         },
         "link": "/v3/places/4fb1fa05e4b059b0d46b6858",
         "location": {
          "country": "GB",
          "cross_street": "",
          "formatted_address": ""
         },
         "name": "OPS London",
         "related_places": {},
         "timezone": "Europe/London"
        },
        {
         "categories": [
          {
           "icon": {
            "prefix": "https://ss3.4sqi.net/img/categories_v2/building/eventspace_",
            "suffix": ".png"
           },
           "id": 11039,
           "name": "Event Space"
          }
         ],
         "chains": [],
         "distance": 367,
         "fsq_id": "4b1fe97df964a520ad2a24e3",
         "geocodes": {
          "main": {
           "latitude": 51.516604,
           "longitude": -0.122214
          },
          "roof": {
           "latitude": 51.516604,
           "longitude": -0.122214
          }
         },
         "link": "/v3/places/4b1fe97df964a520ad2a24e3",
         "location": {
          "address": "17 Stukeley St",
          "admin_region": "England",
          "country": "GB",
          "cross_street": "",
          "formatted_address": "17 Stukeley St, London, Greater London, WC2B 5LT",
          "locality": "London",
          "neighborhood": [
           "Strand"
          ],
          "post_town": "London",
          "postcode": "WC2B 5LT",
          "region": "Greater London"
         },
         "name": "Covent Garden Dragon Hall Trust",
         "related_places": {},
         "timezone": "Europe/London"
        },
        {
         "categories": [
          {
           "icon": {
            "prefix": "https://ss3.4sqi.net/img/categories_v2/building/eventspace_",
            "suffix": ".png"
           },
           "id": 11039,
           "name": "Event Space"
          }
         ],
         "chains": [],
         "distance": 380,
         "fsq_id": "4b83ac4bf964a520750c31e3",
         "geocodes": {
          "main": {
           "latitude": 51.517121,
           "longitude": -0.116862
          },
          "roof": {
           "latitude": 51.517121,
           "longitude": -0.116862
          }
         },
         "link": "/v3/places/4b83ac4bf964a520750c31e3",
         "location": {
          "address": "18 Lincoln's Inn Fields",
          "admin_region": "England",
          "country": "GB",
          "cross_street": "",
          "formatted_address": "18 Lincoln's Inn Fields, Camden Town, Greater London, WC2A 3ED",
          "locality": "Camden Town",
          "neighborhood": [
           "Strand"
          ],
          "post_town": "London",
          "postcode": "WC2A 3ED",
          "region": "Greater London"
         },
         "name": "The Lincoln Centre",
         "related_places": {},
         "timezone": "Europe/London"
        },
        {
         "categories": [
          {
           "icon": {
            "prefix": "https://ss3.4sqi.net/img/categories_v2/building/eventspace_",
            "suffix": ".png"
           },
           "id": 11039,
           "name": "Event Space"
          }
         ],
         "chains": [],
         "distance": 390,
         "fsq_id": "52caa94b498e2304e6b3d4d4",
         "geocodes": {
          "main": {
           "latitude": 51.514638,
           "longitude": -0.124966
          },
          "roof": {
           "latitude": 51.514638,
           "longitude": -0.124966
          }
         },
         "link": "/v3/places/52caa94b498e2304e6b3d4d4",
         "location": {
          "country": "GB",
          "cross_street": "",
          "formatted_address": ""
         },
         "name": "Men",
         "related_places": {},
         "timezone": "Europe/London"
        },
        {
         "categories": [
          {
           "icon": {
            "prefix": "https://ss3.4sqi.net/img/categories_v2/building/eventspace_",
            "suffix": ".png"
           },
           "id": 11131,
           "name": "Outdoor Event Space"
          }
         ],
         "chains": [],
         "distance": 411,
         "fsq_id": "59adbaab26659b3259c9c74e",
         "geocodes": {
          "main": {
           "latitude": 51.517347,
           "longitude": -0.117824
          },
          "roof": {
           "latitude": 51.517347,
           "longitude": -0.117824
          }
         },
         "link": "/v3/places/59adbaab26659b3259c9c74e",
         "location": {
          "address": "252 High Holborn",
          "admin_region": "England",
          "country": "GB",
          "cross_street": "",
          "formatted_address": "252 High Holborn, London, Greater London, WC1V 7EN",
          "locality": "London",
          "post_town": "London",
          "postcode": "WC1V 7EN",
          "region": "Greater London"
         },
         "name": "The Macallan Manor House",
         "related_places": {
          "parent": {
           "fsq_id": "52628efb11d2aab0a9e71f3f",
           "name": "Rosewood London"
          }
         },
         "timezone": "Europe/London"
        },
        {
         "categories": [
          {
           "icon": {
            "prefix": "https://ss3.4sqi.net/img/categories_v2/building/eventspace_",
            "suffix": ".png"
           },
           "id": 11039,
           "name": "Event Space"
          }
         ],
         "chains": [],
         "distance": 500,
         "fsq_id": "4bd08d3f046076b093327071",
         "geocodes": {
          "main": {
           "latitude": 51.517039,
           "longitude": -0.124514
          },
          "roof": {
           "latitude": 51.517039,
           "longitude": -0.124514
          }
         },
         "link": "/v3/places/4bd08d3f046076b093327071",
         "location": {
          "address": "21-30 New Oxford St",
          "admin_region": "England",
          "country": "GB",
          "cross_street": "",
          "formatted_address": "21-30 New Oxford St, London, Greater London, WC1A 1AP",
          "locality": "London",
          "post_town": "London",
          "postcode": "WC1A 1AP",
          "region": "Greater London"
         },
         "name": "The Old Sorting Office",
         "related_places": {},
         "timezone": "Europe/London"
        },
        {
         "categories": [
          {
           "icon": {
            "prefix": "https://ss3.4sqi.net/img/categories_v2/building/eventspace_",
            "suffix": ".png"
           },
           "id": 11039,
           "name": "Event Space"
          }
         ],
         "chains": [],
         "distance": 521,
         "fsq_id": "5006fab2e4b0ecb4545cf35c",
         "geocodes": {
          "main": {
           "latitude": 51.516486,
           "longitude": -0.125949
          },
          "roof": {
           "latitude": 51.516486,
           "longitude": -0.125949
          }
         },
         "link": "/v3/places/5006fab2e4b0ecb4545cf35c",
         "location": {
          "address": "5-7 Grape St",
          "admin_region": "England",
          "country": "GB",
          "cross_street": "",
          "formatted_address": "5-7 Grape St, London, Greater London, WC2H 8DW",
          "locality": "London",
          "neighborhood": [
           "St. Giles's"
          ],
          "post_town": "London",
          "postcode": "WC2H 8DW",
          "region": "Greater London"
         },
         "name": "Icetank Studios",
         "related_places": {},
         "timezone": "Europe/London"
        },
        {
         "categories": [
          {
           "icon": {
            "prefix": "https://ss3.4sqi.net/img/categories_v2/building/eventspace_",
            "suffix": ".png"
           },
           "id": 11039,
           "name": "Event Space"
          }
         ],
         "chains": [],
         "distance": 523,
         "fsq_id": "571f8bc8498eb818e2a781a9",
         "geocodes": {
          "main": {
           "latitude": 51.518217,
           "longitude": -0.122424
          },
          "roof": {
           "latitude": 51.518217,
           "longitude": -0.122424
          }
         },
         "link": "/v3/places/571f8bc8498eb818e2a781a9",
         "location": {
          "address": "2-3 Bloomsbury Square",
          "admin_region": "England",
          "country": "GB",
          "cross_street": "",
          "formatted_address": "2-3 Bloomsbury Square, London, WC1A 2RL",
          "locality": "London",
          "neighborhood": [
           "Holborn"
          ],
          "post_town": "London",
          "postcode": "WC1A 2RL"
         },
         "name": "Bloomsbury House",
         "related_places": {},
         "timezone": "Europe/London"
        },
        {
         "categories": [
          {
           "icon": {
            "prefix": "https://ss3.4sqi.net/img/categories_v2/building/eventspace_",
            "suffix": ".png"
           },
           "id": 11039,
           "name": "Event Space"
          }
         ],
         "chains": [],
         "distance": 534,
         "fsq_id": "516c43e9e4b08edf17150279",
         "geocodes": {
          "main": {
           "latitude": 51.51643,
           "longitude": -0.125983
          },
          "roof": {
           "latitude": 51.51643,
           "longitude": -0.125983
          }
         },
         "link": "/v3/places/516c43e9e4b08edf17150279",
         "location": {
          "admin_region": "England",
          "country": "GB",
          "cross_street": "",
          "formatted_address": "",
          "post_town": "London"
         },
         "name": "The Ice Tank",
         "related_places": {},
         "timezone": "Europe/London"
        },
        {
         "categories": [
          {
           "icon": {
            "prefix": "https://ss3.4sqi.net/img/categories_v2/building/eventspace_",
            "suffix": ".png"
           },
           "id": 11039,
           "name": "Event Space"
          }
         ],
         "chains": [],
         "distance": 581,
         "fsq_id": "576a57b5cd10c04613e08990",
         "geocodes": {
          "main": {
           "latitude": 51.515988,
           "longitude": -0.127351
          },
          "roof": {
           "latitude": 51.515988,
           "longitude": -0.127351
          }
         },
         "link": "/v3/places/576a57b5cd10c04613e08990",
         "location": {
          "address": "1 St Giles High St",
          "admin_region": "England",
          "country": "GB",
          "cross_street": "",
          "formatted_address": "1 St Giles High St, London, Greater London, WC2H 8AG",
          "locality": "London",
          "post_town": "London",
          "postcode": "WC2H 8AG",
          "region": "Greater London"
         },
         "name": "Google Town Hall",
         "related_places": {},
         "timezone": "Europe/London"
        },
        {
         "categories": [
          {
           "icon": {
            "prefix": "https://ss3.4sqi.net/img/categories_v2/building/eventspace_",
            "suffix": ".png"
           },
           "id": 11039,
           "name": "Event Space"
          }
         ],
         "chains": [],
         "distance": 581,
         "fsq_id": "4bec48f975b2c9b6fe44438d",
         "geocodes": {
          "main": {
           "latitude": 51.519018,
           "longitude": -0.121479
          },
          "roof": {
           "latitude": 51.519018,
           "longitude": -0.121479
          }
         },
         "link": "/v3/places/4bec48f975b2c9b6fe44438d",
         "location": {
          "address": "37 – 63 Southampton Row",
          "admin_region": "England",
          "country": "GB",
          "cross_street": "",
          "formatted_address": "37 – 63 Southampton Row, Camden Town, Greater London, WC1B 4DA",
          "locality": "Camden Town",
          "post_town": "London",
          "postcode": "WC1B 4DA",
          "region": "Greater London"
         },
         "name": "Show Studios",
         "related_places": {},
         "timezone": "Europe/London"
        },
        {
         "categories": [
          {
           "icon": {
            "prefix": "https://ss3.4sqi.net/img/categories_v2/building/eventspace_",
            "suffix": ".png"
           },
           "id": 11039,
           "name": "Event Space"
          }
         ],
         "chains": [],
         "distance": 598,
         "fsq_id": "634710fafd189018daa6d3ba",
         "geocodes": {
          "main": {
           "latitude": 51.516998,
           "longitude": -0.112412
          }
         },
         "link": "/v3/places/634710fafd189018daa6d3ba",
         "location": {
          "address": "50-52 Chancery Lane",
          "admin_region": "England",
          "country": "GB",
          "cross_street": "",
          "formatted_address": "50-52 Chancery Lane, London, Greater London, WC2A 1HL",
          "locality": "London",
          "post_town": "London",
          "postcode": "WC2A 1HL",
          "region": "Greater London"
         },
         "name": "Etc.Venues",
         "related_places": {},
         "timezone": "Europe/London"
        },
        {
         "categories": [
          {
           "icon": {
            "prefix": "https://ss3.4sqi.net/img/categories_v2/building/eventspace_",
            "suffix": ".png"
           },
           "id": 11039,
           "name": "Event Space"
          }
         ],
         "chains": [],
         "distance": 604,
         "fsq_id": "4e07800418a8382643b4dada",
         "geocodes": {
          "main": {
           "latitude": 51.519069,
           "longitude": -0.121539
          },
          "roof": {
           "latitude": 51.519069,
           "longitude": -0.121539
          }
         },
         "link": "/v3/places/4e07800418a8382643b4dada",
         "location": {
          "address": "Bloomsbury Square",
          "admin_region": "England",
          "country": "GB",
          "cross_street": "",
          "formatted_address": "Bloomsbury Square, Holborn, Greater London, WC1B 4DA",
          "locality": "Holborn",
          "post_town": "London",
          "postcode": "WC1B 4DA",
          "region": "Greater London"
         },
         "name": "Victoria House Basement",
         "related_places": {},
         "timezone": "Europe/London"
        },
        {
         "categories": [
          {
           "icon": {
            "prefix": "https://ss3.4sqi.net/img/categories_v2/building/eventspace_",
            "suffix": ".png"
           },
           "id": 11039,
           "name": "Event Space"
          }
         ],
         "chains": [],
         "distance": 626,
         "fsq_id": "5adc7ab8fee1407759c523e6",
         "geocodes": {
          "main": {
           "latitude": 51.513017,
           "longitude": -0.128424
          },
          "roof": {
           "latitude": 51.513017,
           "longitude": -0.128424
          }
         },
         "link": "/v3/places/5adc7ab8fee1407759c523e6",
         "location": {
          "address": "1-5 West St",
          "admin_region": "England",
          "country": "GB",
          "formatted_address": "1-5 West St, London, WC2H 9NQ",
          "locality": "London",
          "neighborhood": [
           "St. Giles's"
          ],
          "post_town": "London",
          "postcode": "WC2H 9NQ"
         },
         "name": "The Private Room",
         "related_places": {}
        },
        {
         "categories": [
          {
           "icon": {
            "prefix": "https://ss3.4sqi.net/img/categories_v2/building/eventspace_",
            "suffix": ".png"
           },
           "id": 11039,
           "name": "Event Space"
          }
         ],
         "chains": [],
         "distance": 656,
         "fsq_id": "507ab869e4b047ff2c7b00d4",
         "geocodes": {
          "main": {
           "latitude": 51.519587,
           "longitude": -0.122049
          },
          "roof": {
           "latitude": 51.519587,
           "longitude": -0.122049
          }
         },
         "link": "/v3/places/507ab869e4b047ff2c7b00d4",
         "location": {
          "address": "37 Southampton Row",
          "admin_region": "England",
          "country": "GB",
          "cross_street": "Russell Square",
          "formatted_address": "37 Southampton Row (Russell Square), London, Greater London",
          "locality": "London",
          "post_town": "London",
          "region": "Greater London"
         },
         "name": "Amway Experience Centre",
         "related_places": {},
         "timezone": "Europe/London"
        },
        {
         "categories": [
          {
           "icon": {
            "prefix": "https://ss3.4sqi.net/img/categories_v2/building/eventspace_",
            "suffix": ".png"
           },
           "id": 11039,
           "name": "Event Space"
          }
         ],
         "chains": [],
         "distance": 682,
         "fsq_id": "5285ec40498e75075d26bdc5",
         "geocodes": {
          "main": {
           "latitude": 51.507309,
           "longitude": -0.123195
          },
          "roof": {
           "latitude": 51.507309,
           "longitude": -0.123195
          }
         },
         "link": "/v3/places/5285ec40498e75075d26bdc5",
         "location": {
          "admin_region": "England",
          "country": "GB",
          "cross_street": "",
          "formatted_address": "",
          "post_town": "London"
         },
         "name": "Supernova",
         "related_places": {},
         "timezone": "Europe/London"
        },
        {
         "categories": [
          {
           "icon": {
            "prefix": "https://ss3.4sqi.net/img/categories_v2/building/eventspace_",
            "suffix": ".png"
           },
           "id": 11039,
           "name": "Event Space"
          }
         ],
         "chains": [],
         "distance": 730,
         "fsq_id": "5e08e3f6b0b31e0007aae507",
         "geocodes": {
          "main": {
           "latitude": 51.509762,
           "longitude": -0.127473
          },
          "roof": {
           "latitude": 51.509762,
           "longitude": -0.127473
          }
         },
         "link": "/v3/places/5e08e3f6b0b31e0007aae507",
         "location": {
          "address": "2A Charing Cross Rd",
          "admin_region": "England",
          "country": "GB",
          "cross_street": "",
          "formatted_address": "2A Charing Cross Rd, London, Greater London, WC2H 0HF",
          "locality": "London",
          "post_town": "London",
          "postcode": "WC2H 0HF",
          "region": "Greater London"
         },
         "name": "Pennine Place",
         "related_places": {},
         "timezone": "Europe/London"
        },
        {
         "categories": [
          {
           "icon": {
            "prefix": "https://ss3.4sqi.net/img/categories_v2/building/eventspace_",
            "suffix": ".png"
           },
           "id": 11039,
           "name": "Event Space"
          }
         ],
         "chains": [],
         "distance": 734,
         "fsq_id": "4fbcb03ce4b0c3466b8005c3",
         "geocodes": {
          "main": {
           "latitude": 51.518774,
           "longitude": -0.126756
          },
          "roof": {
           "latitude": 51.518774,
           "longitude": -0.126756
          }
         },
         "link": "/v3/places/4fbcb03ce4b0c3466b8005c3",
         "location": {
          "address": "The British Museum, Great Russell St",
          "admin_region": "England",
          "country": "GB",
          "cross_street": "",
          "formatted_address": "The British Museum, Great Russell St, London, Greater London",
          "locality": "London",
          "post_town": "London",
          "region": "Greater London"
         },
         "name": "The Clore Centre",
         "related_places": {},
         "timezone": "Europe/London"
        },
        {
         "categories": [
          {
           "icon": {
            "prefix": "https://ss3.4sqi.net/img/categories_v2/building/eventspace_",
            "suffix": ".png"
           },
           "id": 11039,
           "name": "Event Space"
          }
         ],
         "chains": [],
         "distance": 739,
         "fsq_id": "4df86d61483bc58a6109bb73",
         "geocodes": {
          "main": {
           "latitude": 51.517108,
           "longitude": -0.128868
          },
          "roof": {
           "latitude": 51.517108,
           "longitude": -0.128868
          }
         },
         "link": "/v3/places/4df86d61483bc58a6109bb73",
         "location": {
          "admin_region": "England",
          "country": "GB",
          "cross_street": "",
          "formatted_address": "Camden Town, Greater London",
          "locality": "Camden Town",
          "region": "Greater London"
         },
         "name": "Fodm",
         "related_places": {},
         "timezone": "Europe/London"
        },
        {
         "categories": [
          {
           "icon": {
            "prefix": "https://ss3.4sqi.net/img/categories_v2/building/eventspace_",
            "suffix": ".png"
           },
           "id": 11039,
           "name": "Event Space"
          }
         ],
         "chains": [],
         "distance": 795,
         "fsq_id": "4f6243cfe4b073ddcad529c3",
         "geocodes": {
          "main": {
           "latitude": 51.507268,
           "longitude": -0.114704
          },
          "roof": {
           "latitude": 51.507268,
           "longitude": -0.114704
          }
         },
         "link": "/v3/places/4f6243cfe4b073ddcad529c3",
         "location": {
          "address": "Upper Ground",
          "admin_region": "England",
          "country": "GB",
          "cross_street": "",
          "formatted_address": "Upper Ground, London, Greater London, SE1 9PX",
          "locality": "London",
          "post_town": "London",
          "postcode": "SE1 9PX",
          "region": "Greater London"
         },
         "name": "National Theatre Foyer Concert Pitch",
         "related_places": {
          "parent": {
           "fsq_id": "4ac7a2caf964a520adb820e3",
           "name": "National Theatre"
          }
         },
         "timezone": "Europe/London"
        },
        {
         "categories": [
          {
           "icon": {
            "prefix": "https://ss3.4sqi.net/img/categories_v2/event/default_",
            "suffix": ".png"
           },
           "id": 11038,
           "name": "Event Service"
          },
          {
           "icon": {
            "prefix": "https://ss3.4sqi.net/img/categories_v2/building/eventspace_",
            "suffix": ".png"
           },
           "id": 11039,
           "name": "Event Space"
          }
         ],
         "chains": [],
         "distance": 802,
         "fsq_id": "5af9c0fd492814003994bf19",
         "geocodes": {
          "main": {
           "latitude": 51.506765,
           "longitude": -0.11739
          },
          "roof": {
           "latitude": 51.506765,
           "longitude": -0.11739
          }
         },
         "link": "/v3/places/5af9c0fd492814003994bf19",
         "location": {
          "address": "Festival Pier, Belvedere Rd",
          "admin_region": "England",
          "country": "GB",
          "cross_street": "",
          "formatted_address": "Festival Pier, Belvedere Rd, London, Greater London, SE1 8XZ",
          "locality": "London",
          "neighborhood": [
           "Waterloo"
          ],
          "post_town": "London",
          "postcode": "SE1 8XZ",
          "region": "Greater London"
         },
         "name": "London Party Boats",
         "related_places": {},
         "timezone": "Europe/London"
        },
        {
         "categories": [
          {
           "icon": {
            "prefix": "https://ss3.4sqi.net/img/categories_v2/event/default_",
            "suffix": ".png"
           },
           "id": 11038,
           "name": "Event Service"
          },
          {
           "icon": {
            "prefix": "https://ss3.4sqi.net/img/categories_v2/building/eventspace_",
            "suffix": ".png"
           },
           "id": 11039,
           "name": "Event Space"
          }
         ],
         "chains": [],
         "distance": 808,
         "fsq_id": "4c2b84a057a9c9b6de08f667",
         "geocodes": {
          "main": {
           "latitude": 51.507423,
           "longitude": -0.113694
          },
          "roof": {
           "latitude": 51.507423,
           "longitude": -0.113694
          }
         },
         "link": "/v3/places/4c2b84a057a9c9b6de08f667",
         "location": {
          "address": "National Theatre",
          "admin_region": "England",
          "country": "GB",
          "cross_street": "",
          "formatted_address": "National Theatre, South Bank, Greater London, SE1 9PX",
          "locality": "South Bank",
          "neighborhood": [
           "Waterloo"
          ],
          "post_town": "London",
          "postcode": "SE1 9PX",
          "region": "Greater London"
         },
         "name": "The Deck",
         "related_places": {
          "parent": {
           "fsq_id": "4ac7a2caf964a520adb820e3",
           "name": "National Theatre"
          }
         },
         "timezone": "Europe/London"
        },
        {
         "categories": [
          {
           "icon": {
            "prefix": "https://ss3.4sqi.net/img/categories_v2/building/eventspace_",
            "suffix": ".png"
           },
           "id": 11039,
           "name": "Event Space"
          }
         ],
         "chains": [],
         "distance": 815,
         "fsq_id": "4bc980f4cc8cd13af8c0bbcf",
         "geocodes": {
          "main": {
           "latitude": 51.521058,
           "longitude": -0.117124
          },
          "roof": {
           "latitude": 51.521058,
           "longitude": -0.117124
          }
         },
         "link": "/v3/places/4bc980f4cc8cd13af8c0bbcf",
         "location": {
          "address": "23-29 Emerald St",
          "admin_region": "England",
          "country": "GB",
          "formatted_address": "23-29 Emerald St, Camden Town, Greater London",
          "locality": "Camden Town",
          "region": "Greater London"
         },
         "name": "Crisis Camp London",
         "related_places": {},
         "timezone": "Europe/London"
        },
        {
         "categories": [
          {
           "icon": {
            "prefix": "https://ss3.4sqi.net/img/categories_v2/event/default_",
            "suffix": ".png"
           },
           "id": 11038,
           "name": "Event Service"
          },
          {
           "icon": {
            "prefix": "https://ss3.4sqi.net/img/categories_v2/building/eventspace_",
            "suffix": ".png"
           },
           "id": 11039,
           "name": "Event Space"
          }
         ],
         "chains": [],
         "distance": 845,
         "fsq_id": "5e589535ba714125da516554",
         "geocodes": {
          "main": {
           "latitude": 51.514872,
           "longitude": -0.131601
          },
          "roof": {
           "latitude": 51.514872,
           "longitude": -0.131601
          }
         },
         "link": "/v3/places/5e589535ba714125da516554",
         "location": {
          "address": "27 Soho Square, Soho",
          "address_extended": "1st Floor",
          "admin_region": "England",
          "country": "GB",
          "formatted_address": "27 Soho Square, Soho, London, W1D 3QR",
          "locality": "London",
          "post_town": "London",
          "postcode": "W1D 3QR"
         },
         "name": "Meet in Place Soho London",
         "related_places": {}
        },
        {
         "categories": [
          {
           "icon": {
            "prefix": "https://ss3.4sqi.net/img/categories_v2/building/eventspace_",
            "suffix": ".png"
           },
           "id": 11039,
           "name": "Event Space"
          }
         ],
         "chains": [],
         "distance": 851,
         "fsq_id": "4f3813d800398129cba67006",
         "geocodes": {
          "main": {
           "latitude": 51.513729,
           "longitude": -0.131746
          },
          "roof": {
           "latitude": 51.513729,
           "longitude": -0.131746
          }
         },
         "link": "/v3/places/4f3813d800398129cba67006",
         "location": {
          "address": "53 Frith St",
          "admin_region": "England",
          "country": "GB",
          "formatted_address": "53 Frith St, London, Greater London, W1D 4SN",
          "locality": "London",
          "post_town": "London",
          "postcode": "W1D 4SN",
          "region": "Greater London"
         },
         "name": "Media Science",
         "related_places": {},
         "timezone": "Europe/London"
        },
        {
         "categories": [
          {
           "icon": {
            "prefix": "https://ss3.4sqi.net/img/categories_v2/building/eventspace_",
            "suffix": ".png"
           },
           "id": 11039,
           "name": "Event Space"
          }
         ],
         "chains": [],
         "distance": 877,
         "fsq_id": "4e709d2cd22d2dfc31b91230",
         "geocodes": {
          "main": {
           "latitude": 51.506433,
           "longitude": -0.115211
          },
          "roof": {
           "latitude": 51.506433,
           "longitude": -0.115211
          }
         },
         "link": "/v3/places/4e709d2cd22d2dfc31b91230",
         "location": {
          "address": "Belvedere Rd",
          "admin_region": "England",
          "country": "GB",
          "cross_street": "",
          "formatted_address": "Belvedere Rd, London, Greater London, SE1 8XT",
          "locality": "London",
          "post_town": "London",
          "postcode": "SE1 8XT",
          "region": "Greater London"
         },
         "name": "BFI Mezzanine Gallery",
         "related_places": {
          "parent": {
           "fsq_id": "4ac518e7f964a52067ab20e3",
           "name": "BFI Southbank"
          }
         },
         "timezone": "Europe/London"
        },
        {
         "categories": [
          {
           "icon": {
            "prefix": "https://ss3.4sqi.net/img/categories_v2/building/eventspace_",
            "suffix": ".png"
           },
           "id": 11039,
           "name": "Event Space"
          }
         ],
         "chains": [],
         "distance": 903,
         "fsq_id": "4cd6ce63fb595481fbfae550",
         "geocodes": {
          "main": {
           "latitude": 51.505931,
           "longitude": -0.116707
          },
          "roof": {
           "latitude": 51.505931,
           "longitude": -0.116707
          }
         },
         "link": "/v3/places/4cd6ce63fb595481fbfae550",
         "location": {
          "address": "Belvedere Rd",
          "admin_region": "England",
          "country": "GB",
          "cross_street": "",
          "formatted_address": "Belvedere Rd, London, Greater London, SE1 8XX",
          "locality": "London",
          "post_town": "London",
          "postcode": "SE1 8XX",
          "region": "Greater London"
         },
         "name": "St Paul's and Weston Roof Pavilions",
         "related_places": {
          "parent": {
           "fsq_id": "4b0bf426f964a5200e3523e3",
           "name": "Royal Festival Hall"
          }
         },
         "timezone": "Europe/London"
        },
        {
         "categories": [
          {
           "icon": {
            "prefix": "https://ss3.4sqi.net/img/categories_v2/building/eventspace_",
            "suffix": ".png"
           },
           "id": 11039,
           "name": "Event Space"
          }
         ],
         "chains": [],
         "distance": 916,
         "fsq_id": "50c5ebe2e4b04a2d9e87a68b",
         "geocodes": {
          "main": {
           "latitude": 51.506328,
           "longitude": -0.124524
          },
          "roof": {
           "latitude": 51.506328,
           "longitude": -0.124524
          }
         },
         "link": "/v3/places/50c5ebe2e4b04a2d9e87a68b",
         "location": {
          "address": "10 Whitehall Pl",
          "admin_region": "England",
          "country": "GB",
          "cross_street": "",
          "formatted_address": "10 Whitehall Pl, London, Greater London, SW1A 2BD",
          "locality": "London",
          "post_town": "London",
          "postcode": "SW1A 2BD",
          "region": "Greater London"
         },
         "name": "Court Room, Corinthia Hotel",
         "related_places": {
          "parent": {
           "fsq_id": "4d274945d86aa09024d41dc0",
           "name": "The Corinthia Hotel"
          }
         },
         "timezone": "Europe/London"
        },
        {
         "categories": [
          {
           "icon": {
            "prefix": "https://ss3.4sqi.net/img/categories_v2/building/eventspace_",
            "suffix": ".png"
           },
           "id": 11039,
           "name": "Event Space"
          }
         ],
         "chains": [],
         "distance": 946,
         "fsq_id": "4ece48af775bbb5f306f8dcc",
         "geocodes": {
          "main": {
           "latitude": 51.50724,
           "longitude": -0.128181
          },
          "roof": {
           "latitude": 51.50724,
           "longitude": -0.128181
          }
         },
         "link": "/v3/places/4ece48af775bbb5f306f8dcc",
         "location": {
          "country": "GB",
          "cross_street": "",
          "formatted_address": ""
         },
         "name": "Old Burberry Building",
         "related_places": {},
         "timezone": "Europe/London"
        },
        {
         "categories": [
          {
           "icon": {
            "prefix": "https://ss3.4sqi.net/img/categories_v2/building/eventspace_",
            "suffix": ".png"
           },
           "id": 11039,
           "name": "Event Space"
          }
         ],
         "chains": [],
         "distance": 956,
         "fsq_id": "54822320498ecdf0db74705a",
         "geocodes": {
          "main": {
           "latitude": 51.506461,
           "longitude": -0.112265
          }
         },
         "link": "/v3/places/54822320498ecdf0db74705a",
         "location": {
          "address": "Upper Ground",
          "admin_region": "England",
          "country": "GB",
          "cross_street": "",
          "formatted_address": "Upper Ground, London, Greater London, SE1 9PU",
          "locality": "London",
          "post_town": "London",
          "postcode": "SE1 9PU",
          "region": "Greater London"
         },
         "name": "Ballroom South Bank",
         "related_places": {
          "parent": {
           "fsq_id": "4d2351912eb1f04d5c3e07c2",
           "name": "King's College London - Waterloo Campus"
          }
         },
         "timezone": "Europe/London"
        },
        {
         "categories": [
          {
           "icon": {
            "prefix": "https://ss3.4sqi.net/img/categories_v2/event/default_",
            "suffix": ".png"
           },
           "id": 11038,
           "name": "Event Service"
          },
          {
           "icon": {
            "prefix": "https://ss3.4sqi.net/img/categories_v2/building/eventspace_",
            "suffix": ".png"
           },
           "id": 11039,
           "name": "Event Space"
          }
         ],
         "chains": [],
         "distance": 974,
         "fsq_id": "4ce5e6a65dbf496580849308",
         "geocodes": {
          "main": {
           "latitude": 51.51241,
           "longitude": -0.133372
          },
          "roof": {
           "latitude": 51.51241,
           "longitude": -0.133372
          }
         },
         "link": "/v3/places/4ce5e6a65dbf496580849308",
         "location": {
          "address": "79 Wardour St",
          "admin_region": "England",
          "country": "GB",
          "formatted_address": "79 Wardour St, London, W1D 6QB",
          "locality": "London",
          "neighborhood": [
           "Fitzrovia"
          ],
          "post_town": "London",
          "postcode": "W1D 6QB"
         },
         "name": "Pure Consulting",
         "related_places": {}
        },
        {
         "categories": [
          {
           "icon": {
            "prefix": "https://ss3.4sqi.net/img/categories_v2/building/eventspace_",
            "suffix": ".png"
           },
           "id": 11039,
           "name": "Event Space"
          }
         ],
         "chains": [],
         "distance": 982,
         "fsq_id": "075ae6a41d7646a5c71805e9",
         "geocodes": {
          "main": {
           "latitude": 51.516095,
           "longitude": -0.133239
          },
          "roof": {
           "latitude": 51.516095,
           "longitude": -0.133239
          }
         },
         "link": "/v3/places/075ae6a41d7646a5c71805e9",
         "location": {
          "address": "Premier Ho, 77 Oxford St",
          "admin_region": "England",
          "country": "GB",
          "formatted_address": "Premier Ho, 77 Oxford St, London, W1D 2ES",
          "locality": "London",
          "post_town": "London",
          "postcode": "W1D 2ES"
         },
         "name": "Erotica",
         "related_places": {}
        },
        {
         "categories": [
          {
           "icon": {
            "prefix": "https://ss3.4sqi.net/img/categories_v2/building/eventspace_",
            "suffix": ".png"
           },
           "id": 11039,
           "name": "Event Space"
          }
         ],
         "chains": [],
         "distance": 987,
         "fsq_id": "5da86d0f9bb3a60008cb590a",
         "geocodes": {
          "main": {
           "latitude": 51.514096,
           "longitude": -0.133754
          }
         },
         "link": "/v3/places/5da86d0f9bb3a60008cb590a",
         "location": {
          "admin_region": "England",
          "country": "GB",
          "cross_street": "",
          "formatted_address": "London, Greater London, W1D 3DH",
          "locality": "London",
          "post_town": "London",
          "postcode": "W1D 3DH",
          "region": "Greater London"
         },
         "name": "The Crimson",
         "related_places": {
          "parent": {
           "fsq_id": "4ac518b8f964a5206ba120e3",
           "name": "Soho Hotel"
          }
         },
         "timezone": "Europe/London"
        },
        {
         "categories": [
          {
           "icon": {
            "prefix": "https://ss3.4sqi.net/img/categories_v2/building/eventspace_",
            "suffix": ".png"
           },
           "id": 11039,
           "name": "Event Space"
          }
         ],
         "chains": [],
         "distance": 1083,
         "fsq_id": "4be572c12457a5939e74ab15",
         "geocodes": {
          "main": {
           "latitude": 51.506195,
           "longitude": -0.123871
          },
          "roof": {
           "latitude": 51.506195,
           "longitude": -0.123871
          }
         },
         "link": "/v3/places/4be572c12457a5939e74ab15",
         "location": {
          "address": "1 Whitehall Pl",
          "admin_region": "England",
          "country": "GB",
          "cross_street": "",
          "formatted_address": "1 Whitehall Pl, London, Greater London, SW1A 2HD",
          "locality": "London",
          "neighborhood": [
           "Whitehall"
          ],
          "post_town": "London",
          "postcode": "SW1A 2HD",
          "region": "Greater London"
         },
         "name": "One Whitehall Place",
         "related_places": {
          "children": []
         },
         "timezone": "Europe/London"
        }
       ]
      },
      "text/plain": [
       "<IPython.core.display.JSON object>"
      ]
     },
     "execution_count": 4,
     "metadata": {
      "application/json": {
       "expanded": false,
       "root": "root"
      }
     },
     "output_type": "execute_result"
    }
   ],
   "source": [
    "# Perform Place Search API call\n",
    "response = api_call('51.513882,-0.119478', '1000', '11131,11039', key)\n",
    "# extract results from response as json file\n",
    "results = json.loads(response.text)\n",
    "# Visualise results\n",
    "JSON(results)"
   ]
  },
  {
   "cell_type": "markdown",
   "id": "79978808-709e-4963-8496-25d182ed9ee3",
   "metadata": {},
   "source": [
    "## Create Latitude Longitude Grid\n",
    "### Calculate Latitude Longitude Grid Tick Size\n",
    "\n",
    "We will create a grid of latitude and longitude points which spans the geographic area being searched. Each point on the grid will be separated from its nearest (adjacent) neighbours horizontally by a longitude increment (for neighbours to the East or West of the point) or vertically by a latitude increment (for neighbours North or South of the point). \n",
    "\n",
    "We want the distance between adjacent points on the grid (the minimum grid separation) to be half of the minimum search radius that we define. Thus, we want to find the latitude and longitude increments that correspond to this distance. We can then use these latitude and longitude increments to create our grid.\n",
    "\n",
    "![alt text](images/Grid_Sep.png)\n",
    "\n",
    "The below functions take a minimum search radius and return the latitude and longitude tick sizes (increments). These tick sizes are the latitude and longitude increments required to create a grid with a minimum separation equal to half the minimum search radius.\n",
    "\n",
    "Converting latitude and longitude increments into distance is a bit tricky. Our solution was to use the Newton Optimiser from Scipy. This optimiser finds the zero point of a function. We then created a function that calculates the distance between 2 points with the same longitude but different latitudes. The function then subtracts this distance from a provided radius and returns this value. The Newton optimiser will then vary the latitude differences between the points until the distance between the points equals the radius, at this point the function returns zero. This latitude difference then gives us our latitude tick size. We created a similar function that varies the longitude instead to find the longitude tick size.\n",
    "\n",
    "We calculate the latitude and longitude tick sizes at the center of the geographic area we are searching i.e. at the latitude and longitude point in the middle of the area. The functions below refer to this point as *centre_lat* and *centre_lon*. We will define an example geographic area and calculate this mid point explicitly below so that the meaning of centre_lat and centre_lon is clear."
   ]
  },
  {
   "cell_type": "code",
   "execution_count": 24,
   "id": "73e989a8-0a49-47ce-851c-de278a9bb5e7",
   "metadata": {},
   "outputs": [],
   "source": [
    "# Define example search area via min and max latitude and longitude\n",
    "min_lat = 51.438499 \n",
    "max_lat = 51.546890\n",
    "min_long = -0.240612\n",
    "max_long = 0.026043\n",
    "\n",
    "# Calculate central lat long position of the geographic area. \n",
    "centre_lat = (max_lat + min_lat) / 2\n",
    "centre_long = (max_long + min_long) / 2\n",
    "\n",
    "def find_tick_sizes(radius):\n",
    "    \"\"\"returns latitude and longitude tick size for given radius.\n",
    "    \n",
    "    Args:\n",
    "        radius (int): Minimum search radius in meters. \n",
    "        \n",
    "    Returns: \n",
    "        tuple: Latitude and longitude tick sizes. These tick \n",
    "            sizes will result in a distance of 1/2 the radius. \n",
    "    \"\"\"\n",
    "    # Applies Newton optimiser on lat_min_tick_size function - varies\n",
    "    # first argument of function to make the function 0. It is varying\n",
    "    # the latitude of the central lat long point and finding what new \n",
    "    # latitude would result in a distance equal to the provided radius \n",
    "    # between the central lat long point and this new point. \n",
    "    lat_new = newton(lat_min_tick_size, centre_lat, args = (radius,))\n",
    "    # Applies Newton optimiser on long_min_tick_size function - same as \n",
    "    # above but this time the longitude is varied. \n",
    "    long_new = newton(long_min_tick_size, centre_long, args = (radius,))\n",
    "    \n",
    "    # divide by 2 to get smaller resolution grid separation\n",
    "    lat_tick_size = abs(centre_lat - lat_new) / 2\n",
    "    long_tick_size = abs(centre_long - long_new) / 2\n",
    "\n",
    "    return lat_tick_size, long_tick_size\n",
    "\n",
    "def lat_min_tick_size(lat_new, radius):\n",
    "    \"\"\"Calculate distance between central point and the central point \n",
    "    with a shifted latitude, then subtract radius from this.\"\"\"\n",
    "    return distance.distance((centre_lat, centre_long), \n",
    "                             (lat_new, centre_long)).m - radius\n",
    "\n",
    "def long_min_tick_size(long_new, radius):\n",
    "    \"\"\"Calculate distance between central point and the central point \n",
    "    with a shifted longitude, then subtract radius from this.\"\"\"\n",
    "    return distance.distance((centre_lat, centre_long), \n",
    "                             (centre_lat, long_new)).m - radius"
   ]
  },
  {
   "cell_type": "markdown",
   "id": "cd48ae57-f37d-431f-906e-b8d3792c2f33",
   "metadata": {},
   "source": [
    "### Create Latitude Longitude Grid\n",
    "\n",
    "The below function takes the latitude and longitude tick sizes and creates a latitude longitude grid spanning the geographic area (defined by max_lat, min_lat, max_long, min_long). The points on the grid will be separated vertically by the latitude tick size and horizontally by the longitude tick size.\n",
    "\n",
    "The grid is stored as a one dimensional list and each latitude longitude coordinate is saved as a string e.g. '56.01,0.0034'. A single list was chosen to keep things simple and so that any point on the grid can be randomly selected by generating a random integer that corresponds to a list index."
   ]
  },
  {
   "cell_type": "code",
   "execution_count": 25,
   "id": "970b8684-f928-4d25-a5dd-b8f4dfa261fd",
   "metadata": {},
   "outputs": [],
   "source": [
    "def create_lat_long_grid(lat_tick_size, long_tick_size):\n",
    "    \"\"\"Create latitude longitude grid. \n",
    "    \n",
    "    Args: \n",
    "        lat_tick_size (float): The vertical difference in latitude \n",
    "            between adjacent points in grid. \n",
    "        long_tick_size (float): The horizontal difference in longitude\n",
    "            between adjacent points in grid.\n",
    "    \n",
    "    Returns:\n",
    "        list: list of latitude longitude points in string format \n",
    "            e.g. '56.01,0.0034'. This list defines a grid that spans \n",
    "            the geographic area (defined by max_lat, min_lat, \n",
    "            max_long, min_long) where adjacent points on the grid are \n",
    "            separated horizontally by long_tick_size and vertically \n",
    "            by lat_tick_size. \n",
    "    \n",
    "    \"\"\"\n",
    "    \n",
    "    # Calculate the full range of latitudes within the grid (every latitude \n",
    "    # from min_lat to max_lat, incremented by lat_tick_size)\n",
    "    lat_range = np.arange(min_lat, max_lat + lat_tick_size, lat_tick_size)\n",
    "    # Calculate the full range of longitudes within the grid (every longitude\n",
    "    # from min_long to max_long, incremented by long_tick_size)\n",
    "    long_range = np.arange(min_long, max_long + long_tick_size, long_tick_size)\n",
    "    \n",
    "    # Return full grid. This effectively starts with the minimum longitude and \n",
    "    # loops through all the latitudes and stores the combination of minimum \n",
    "    # longitude and latitude as points in the list. It then increments the \n",
    "    # longitude and loops through the latitudes again. This repeats until \n",
    "    # all combinations of latitude and longitude are stored in the list.  \n",
    "    return [str(lat) + ',' + str(long) for long in long_range for lat in lat_range]"
   ]
  },
  {
   "cell_type": "markdown",
   "id": "90d091c7-186a-4e99-a151-15eb7445db6f",
   "metadata": {},
   "source": [
    "## Extract Data And Update Grid\n",
    "We search the geographic area by randomly selecting a point on the latitude longitude grid and then repeatedly call the Place Search API with a decreasing radius until the search returns less than 50 venues. A this point, we extract the venues returned from the API response. Then we update the latitude longitude grid by removing the points on the grid that are within the search radius. This overall process is repeated until no points remain on the grid. \n",
    "\n",
    "Below, we define the functions used in this process. "
   ]
  },
  {
   "cell_type": "markdown",
   "id": "0867ad51-2e0d-40a6-b366-e6669995455e",
   "metadata": {
    "tags": []
   },
   "source": [
    "### Extract Venues From Foursquare Response\n",
    "The Place Search API returns a response that contains a list of up to 50 venues. We want to extract the venue data (name, location etc.) of each venue. To do this we do the following:\n",
    "- Extract text from API response and convert to JSON file \n",
    "- Filter the JSON on 'results' - this gives us a list of the up to 50 venues, where each element in the list is a dictionary containing the data for one venue. \n",
    "- Pass the list of venue data to the *extract_venues* function, this extracts the data from each element of the list and returns the data as a list of lists. "
   ]
  },
  {
   "cell_type": "code",
   "execution_count": 5,
   "id": "16205d00-c87e-4f04-ad27-2e4c58294169",
   "metadata": {},
   "outputs": [],
   "source": [
    "def extract_venues(venue_list):\n",
    "    \"\"\"Extracts desired data from venue_list and returns as list of lists\n",
    "    \n",
    "    Args:\n",
    "        venue_list (list): List of dictionaries, each dictionary contains the data\n",
    "        of a venue. \n",
    "    \n",
    "    Returns: \n",
    "        list: List of lists containing the desired venue data for all venues. \n",
    "    \"\"\"\n",
    "    venues = []\n",
    "    # Loop through venue_list, each element is a nested dictionary containing \n",
    "    # data for a venue\n",
    "    for venue in venues_list:\n",
    "        # Foursquare ID, unique reference for the venue\n",
    "        fsq_id = venue['fsq_id']\n",
    "        latitude = venue['geocodes']['main']['latitude']\n",
    "        longitude = venue['geocodes']['main']['longitude']\n",
    "        venue_name = venue['name']\n",
    "        # address and postcode data not always present, so use error handling\n",
    "        try: \n",
    "            venue_address = venue['location']['address']\n",
    "        except KeyError:\n",
    "            venue_address = ''\n",
    "        try:\n",
    "            venue_postcode = venue['location']['postcode']\n",
    "        except KeyError:\n",
    "            venue_postcode = ''\n",
    "            \n",
    "        venues.append([fsq_id, venue_name, latitude, longitude, \n",
    "                       venue_address, venue_postcode])\n",
    "    return venues"
   ]
  },
  {
   "cell_type": "markdown",
   "id": "a1c120ed-c672-42f6-9239-93ae2d963908",
   "metadata": {},
   "source": [
    "### Identifying Points within Radius\n",
    "Our grid typically becomes very large. For our geographic area with a minimum search radius of ~30m we get a grid with ~1,000,000 points on it. We need to identify all points on the grid within a certain radius from a search point so that we can remove them. The brute force way to identify them is to loop through the entire grid and calculate the distance between every point and our search point. This is a very slow process and can increase the overall search time by several hours. \n",
    "\n",
    "To speed this up, we borrowed code from [this](https://stackoverflow.com/questions/3182260/python-geocode-filtering-by-distance) stack overflow post (shown below). The *bounding_box* function takes a latitude and longitude coordinate and a radius and returns values **dlat** and **dlong**. These values define a smaller subset of the entire grid that includes all coordinates with latitude within +- dlat of the latitude provided to *bounding_box* **and** longitude within +- dlong of the longitude provided to *bounding_box*. Only values within this subset can possibly be within the radius from the provided latitude and longitude point. We then calculate the distance between every point in the small subset and the provided latitude and longitude to identify which points are within the radius. \n",
    "\n",
    "We use this method to quickly identify which points on the grid are within a radius of the search point. This massively sped up the total search time to ~15 minutes rather than hours. "
   ]
  },
  {
   "cell_type": "code",
   "execution_count": 27,
   "id": "951ba00a-26f8-477d-b81b-7388bc6411c8",
   "metadata": {},
   "outputs": [],
   "source": [
    "Earth_radius_km = 6371.0\n",
    "RADIUS = Earth_radius_km\n",
    "\n",
    "def haversine(angle_radians):\n",
    "    return sin(angle_radians / 2.0) ** 2\n",
    "\n",
    "def inverse_haversine(h):\n",
    "    return 2 * asin(sqrt(h)) # radians\n",
    "\n",
    "def distance_between_points(lat1, lon1, lat2, lon2):\n",
    "    # all args are in degrees\n",
    "    # WARNING: loss of absolute precision when points are near-antipodal\n",
    "    lat1 = radians(lat1)\n",
    "    lat2 = radians(lat2)\n",
    "    dlat = lat2 - lat1\n",
    "    dlon = radians(lon2 - lon1)\n",
    "    h = haversine(dlat) + cos(lat1) * cos(lat2) * haversine(dlon)\n",
    "    return RADIUS * inverse_haversine(h)\n",
    "\n",
    "def bounding_box(lat, lon, distance):\n",
    "    # Input and output lats/longs are in degrees.\n",
    "    # Distance arg must be in same units as RADIUS.\n",
    "    # Returns (dlat, dlon) such that\n",
    "    # no points outside lat +/- dlat or outside lon +/- dlon\n",
    "    # are <= \"distance\" from the (lat, lon) point.\n",
    "    # Derived from: http://janmatuschek.de/LatitudeLongitudeBoundingCoordinates\n",
    "    # WARNING: problems if North/South Pole is in circle of interest\n",
    "    # WARNING: problems if longitude meridian +/-180 degrees intersects circle of interest\n",
    "    # See quoted article for how to detect and overcome the above problems.\n",
    "    # Note: the result is independent of the longitude of the central point, so the\n",
    "    # \"lon\" arg is not used.\n",
    "    dlat = distance / RADIUS\n",
    "    dlon = asin(sin(dlat) / cos(radians(lat)))\n",
    "    return degrees(dlat), degrees(dlon)"
   ]
  },
  {
   "cell_type": "markdown",
   "id": "06981bd2-6cd6-4885-a6b5-5f1e3d5b4116",
   "metadata": {},
   "source": [
    "### Updating Grid\n",
    "The below functions use the *bounding_box* function detailed above to take a search coordinate and radius and to remove all points on the grid within that radius of the search coordinate. "
   ]
  },
  {
   "cell_type": "code",
   "execution_count": 28,
   "id": "c67369d6-f02c-4fea-88ef-e96d447a7729",
   "metadata": {},
   "outputs": [],
   "source": [
    "def update_grid(lat_long_searched, radius, lat_long_grid):\n",
    "    \"\"\"Remove coords in lat_long_grid within radius from lat_long_searched coord\"\"\"\n",
    "    \n",
    "    # Split lat_long_searched into separate latitutde and longitude value\n",
    "    lat_searched, long_searched = split_lat_long(lat_long_searched)\n",
    "    # Extract bounding box dlat and dlong values that define minumum \n",
    "    # set of latitude and longitude values that can be within radius\n",
    "    dlat, dlong = bounding_box(lat_searched, long_searched, radius/1000)\n",
    "    # Loop through latitude longitude grid and keep point if \n",
    "    # check_in_radius returns True\n",
    "    return [lat_long for lat_long in lat_long_grid \n",
    "            if check_in_radius(radius, lat_long_searched, lat_long, \n",
    "                               lat_searched, long_searched, dlat, dlong)]\n",
    "\n",
    "def split_lat_long(lat_long):\n",
    "    \"\"\"Split comma seperate latitude and longitude into seperate latitude \n",
    "    and longitude values and return as floats.\n",
    "    \n",
    "    e.g. from '51.23,0.034' to 51.23, 0.0034\"\"\"\n",
    "    # Split lat_long into list using separator ',' \n",
    "    lat_long_split = lat_long.split(',')\n",
    "    return float(lat_long_split[0]), float(lat_long_split[1])\n",
    "\n",
    "def check_in_radius(radius, lat_long_searched, lat_long, \n",
    "                    lat_searched, long_searched, dlat, dlong):\n",
    "    \"\"\"Check whether lat_long provided is within radius of lat_long_searched\n",
    "    \n",
    "    Returns - True if lat_long NOT within radius, returns False if lat_long\n",
    "    within radius \"\"\"\n",
    "    \n",
    "    lat, long = split_lat_long(lat_long)\n",
    "    \n",
    "    # Checks if lat and long are within the region lat_searched +- dlat \n",
    "    # AND long_searched within +- dlong. Only coordinates within this \n",
    "    # region can be within radius of lat_long_searched\n",
    "    if (lat_searched - dlat < lat < lat_searched + dlat \n",
    "        and long_searched - dlong < long < long_searched + dlong):\n",
    "        # Calculate distance in m between lat_long_searched and lat_long. \n",
    "        # Uses ast.literal_eval to convert the text format latitude and \n",
    "        # longitude values to comma separated integers as required by \n",
    "        # the distance.distance function.    \n",
    "        distance_from_search = distance.distance(\n",
    "            ast.literal_eval(lat_long_searched), \n",
    "            ast.literal_eval(lat_long)\n",
    "        ).m\n",
    "        # if distance is larger than radius, returns True, otherwise \n",
    "        # returns false if distance less than radius i.e. point is within \n",
    "        # radius of lat_long_searched. \n",
    "        return distance_from_search > radius - 10\n",
    "    return True"
   ]
  },
  {
   "cell_type": "markdown",
   "id": "9d507087-820f-4ad6-87cf-2f3e9ef74e72",
   "metadata": {},
   "source": [
    "# Functions"
   ]
  },
  {
   "cell_type": "code",
   "execution_count": 52,
   "id": "7fa60870-8aef-4fe0-ae96-57d477386497",
   "metadata": {},
   "outputs": [],
   "source": [
    "def plot_search_area(min_lat, max_lat, min_long, max_long):\n",
    "    \"\"\"Plot search area (in geographic coordinates)\n",
    "    \n",
    "    Args: \n",
    "        max_lat (float): maximum latitude of search area. \n",
    "        min_lat(float): minimum latitude of search area. \n",
    "        max_long (float): maximum longitude of search area. \n",
    "        min_long (float): minimum longitude of search area.\n",
    "    \n",
    "    Returns:\n",
    "        (NA): Does not return anything. Creates and displays search\n",
    "            area using Plotly. \n",
    "    \"\"\"\n",
    "    # Trace out search area perimeter, starting and ending on top left \n",
    "    # corner (max lat and min long)\n",
    "    search_boundaries = [[max_lat, min_long],[max_lat, max_long], \n",
    "                         [min_lat, max_long], [min_lat,min_long], \n",
    "                         [max_lat, min_long]]\n",
    "    # Convert to Dataframe\n",
    "    df_boundaries = pd.DataFrame(search_boundaries, \n",
    "                                 columns = ['latitude', 'longitude'])\n",
    "\n",
    "    # Plot as square area on a map\n",
    "    fig = px.line_mapbox(df_boundaries, lat=\"latitude\", lon=\"longitude\", zoom = 9)\n",
    "    fig.update_layout(mapbox_style=\"open-street-map\", mapbox_zoom = 9, \n",
    "                      margin = {\"r\":0,\"t\":0,\"l\":0,\"b\":0})\n",
    "    fig.update_layout(autosize = False, width = 800, height = 300,)\n",
    "    fig.show()"
   ]
  },
  {
   "cell_type": "code",
   "execution_count": 23,
   "id": "fba6d908-940e-4673-89f1-38d986ed6f7f",
   "metadata": {},
   "outputs": [],
   "source": [
    "def project_search_area(max_lat, min_lat, max_long, min_long, projection):\n",
    "    \"\"\"Create search area and project to flat coordinate system. \n",
    "    \n",
    "    Args: \n",
    "        max_lat (float): maximum latitude of search area. \n",
    "        min_lat(float): minimum latitude of search area. \n",
    "        max_long (float): maximum longitude of search area. \n",
    "        min_long (float): minimum longitude of search area. \n",
    "        projection (string): Name of coordinate reference system the search \n",
    "            area will be projected to e.g. 'ESRI:102013'. Will accept anything \n",
    "            that would be accepted by the geopandas .to_crs() function.\n",
    "    \n",
    "    Returns: \n",
    "        (Geopandas DataFrame): A dataframe with a single row that defines the \n",
    "            search area in projected coordinates. \n",
    "    \"\"\"\n",
    "    lats_of_search_area = [max_lat, max_lat, min_lat, min_lat, max_lat]\n",
    "    longs_of_search_area = [min_long, max_long, max_long,min_long, min_long]\n",
    "    # Convert max and min lat and long values to a polygon\n",
    "    search_area_polygon = Polygon(zip(longs_of_search_area, \n",
    "                                      lats_of_search_area))\n",
    "    search_area_gdf = gpd.GeoDataFrame(index=[0], crs='epsg:4326',\n",
    "                                       geometry=[search_area_polygon])  \n",
    "    # project to flat coordinate system and return\n",
    "    return search_area_gdf.to_crs(projection)"
   ]
  },
  {
   "cell_type": "code",
   "execution_count": 36,
   "id": "19625996-78b0-49e8-800c-f551b9489844",
   "metadata": {},
   "outputs": [],
   "source": [
    "def get_search_location(search_area):\n",
    "    \"\"\"Return search location and its latitude longitude coordinate.\n",
    "    \n",
    "    Args: \n",
    "        search_area (Geopandas DataFrame): A single row dataframe showing the \n",
    "        remaining search area. \n",
    "    Returns: \n",
    "        (tuple): The next search location, defined in projected coordinates as\n",
    "            a Geopandas Series, and its Comma separated latitude longitude \n",
    "            coordinate i.e. (search_location, lat_long). \n",
    "    \"\"\"\n",
    "    # Get next search location using representative_point() function (finds \n",
    "    # single point within the search area). \n",
    "    search_location = search_area.representative_point()\n",
    "    # Convert location to lat long coordinate system\n",
    "    search_location_lat_long = search_location.to_crs('epsg:4326')\n",
    "    # Extract latitude and longitude\n",
    "    latitude = search_location_lat_long.y.values[0]\n",
    "    longitude = search_location_lat_long.x.values[0]\n",
    "    lat_long = f\"{latitude},{longitude}\"\n",
    "    \n",
    "    return (search_location, lat_long)"
   ]
  },
  {
   "cell_type": "code",
   "execution_count": 47,
   "id": "b96cadfa-7a72-4538-855d-5ca9adfcbf85",
   "metadata": {},
   "outputs": [],
   "source": [
    "def update_search_area(search_area, area_just_searched):\n",
    "    \"\"\"Remove the area_just_searched from search_area\"\"\"\n",
    "    return search_area.overlay(area_just_searched, how=\"difference\")"
   ]
  },
  {
   "cell_type": "code",
   "execution_count": 59,
   "id": "39153234-c7b9-48e6-82ec-8417f3c133dc",
   "metadata": {},
   "outputs": [],
   "source": [
    "def perform_venue_search(search_area_coords, initial_search_radius, \n",
    "                         cats, time_between_updates):\n",
    "    \"\"\"\n",
    "    \n",
    "    \"\"\"\n",
    "    # Print search parameters\n",
    "    print(f\"{initial_search_radius = }\")\n",
    "    print(f\"{cats = }\")\n",
    "    print(f\"{time_between_updates = }\\n\")\n",
    "\n",
    "    # Create projected search area from max min lat longitude coords\n",
    "    search_area = project_search_area(max_lat, min_lat, \n",
    "                               max_long, min_long, 'ESRI:102013')\n",
    "\n",
    "    data = []\n",
    "    # Initialise counters, flags and timer\n",
    "    time_last_update = time.time()\n",
    "    total_calls = 0\n",
    "    number_needed_retries = 0\n",
    "    locations_searched_in_last_update = 0\n",
    "    radius_too_big = False \n",
    "\n",
    "    while(len(search_area)>0):\n",
    "        # Replace current cell output with next new output. \n",
    "        # Allows the search area map to keep being updated without \n",
    "        # keeping old maps visible.  \n",
    "        clear_output(wait=True)\n",
    "        # Get next search location and its latitude and longitude\n",
    "        search_location, lat_long = get_search_location(search_area)\n",
    "\n",
    "        # Set search_radius_not_found flag.  \n",
    "        search_radius_not_found = True\n",
    "        search_radius = initial_search_radius\n",
    "\n",
    "        # Loop until a search radius is found that returns less than 50 results.\n",
    "        while search_radius_not_found:\n",
    "            # Count each time API called\n",
    "            total_calls += 1\n",
    "            # Make API call to search for venues from search location\n",
    "            response = api_call(lat_long, search_radius, cats, key)\n",
    "            # If response status code isnt 200, there was an API error. Print \n",
    "            # the API error, wait 5 seconds and try API call again. Loop until \n",
    "            # status 200 code returned by API. \n",
    "            while response.status_code != 200:\n",
    "                print(f\"API Error code {response.status_code}, sleeping 5 seconds\")\n",
    "                print(f\"API Call Parameters: {lat_long = }, {search_radius = }\")\n",
    "                time.sleep(5)\n",
    "                response = api_call(lat_long, search_radius, cats, key)\n",
    "\n",
    "            results = json.loads(response.text)\n",
    "            # Extract list of dictionaries defining search results\n",
    "            venues_list = results['results']\n",
    "            # If 50 venues found, reduce search radius then start while loop again\n",
    "            if len(venues_list) > 49:\n",
    "                search_radius = int(search_radius / 2)\n",
    "                radius_too_big = True \n",
    "            else: \n",
    "                # End while loop\n",
    "                search_radius_not_found = False\n",
    "\n",
    "        # iterate number of locations searched\n",
    "        locations_searched_in_last_update += 1\n",
    "        # iterate IF the search radius has been reduced\n",
    "        number_needed_retries += radius_too_big\n",
    "        # reset flag\n",
    "        radius_too_big = False\n",
    "        # Extract venue data from venue_list\n",
    "        data.extend(extract_venues(venues_list))\n",
    "\n",
    "        \n",
    "        # Define adjusted_radius as search_radius - 20. We will use this\n",
    "        # radius to define the area we searched. \n",
    "        \n",
    "        # Create area just searched - a circle with radius = search_radius - 20. \n",
    "        area_just_searched = gpd.GeoDataFrame(\n",
    "            search_location.buffer(search_radius - 20)\n",
    "        )\n",
    "        # Sets the buffer polygon above explicitely as the geometry\n",
    "        area_just_searched = area_just_searched.set_geometry(0)\n",
    "        # Update search area by removing the area_just_searched from it\n",
    "        search_area = update_search_area(search_area, area_just_searched)\n",
    "\n",
    "        if time.time() - time_last_update > time_between_updates:\n",
    "            ax = search_area.plot(alpha=0.5, color = 'red')\n",
    "            cx.add_basemap(ax, crs=search_area.crs)\n",
    "            plt.show()\n",
    "            print(f\"Number of locations searched in last {time_between_updates} seconds --> {locations_searched_in_last_update}\")\n",
    "            fraction_of_retries = number_needed_retries / locations_searched_in_last_update\n",
    "            if fraction_of_retries > 0.6 and locations_searched_in_last_update > 6:\n",
    "                print(f\"{number_needed_retries} out of {locations_searched_in_last_update} \" \n",
    "                      + f\"searches had too large radius --> {fraction_of_retries:.1%}\")\n",
    "                initial_search_radius = int(initial_search_radius * 0.8)\n",
    "                print(f\"Reducing Initial Search Radius to {initial_search_radius}\")\n",
    "\n",
    "            time_last_update = time.time()\n",
    "            locations_searched_in_last_update = 0 \n",
    "            number_needed_retries = 0 \n",
    "\n",
    "    # Print search parameters\n",
    "    print(f\"\\n{initial_search_radius = }\")\n",
    "    print(f\"{cats = }\")\n",
    "    print(f\"{time_between_updates = }\\n\")        \n",
    "    print(f\"\\nTotal Calls -> {total_calls}\")\n",
    "    return data"
   ]
  },
  {
   "cell_type": "markdown",
   "id": "6254de3f-b169-485d-bf2d-c8fb57a2db14",
   "metadata": {},
   "source": [
    "## Venue Search\n",
    "In this section, we will define and perform the venue search. \n",
    "### Define Geographic Area\n",
    "Define the geographic area you want to search below: "
   ]
  },
  {
   "cell_type": "code",
   "execution_count": 53,
   "id": "726a0a7a-622e-422e-8e26-58ffb2fc6a88",
   "metadata": {},
   "outputs": [
    {
     "data": {
      "application/vnd.plotly.v1+json": {
       "config": {
        "plotlyServerURL": "https://plot.ly"
       },
       "data": [
        {
         "hovertemplate": "latitude=%{lat}<br>longitude=%{lon}<extra></extra>",
         "lat": [
          51.54689,
          51.54689,
          51.438499,
          51.438499,
          51.54689
         ],
         "legendgroup": "",
         "line": {
          "color": "#636efa"
         },
         "lon": [
          -0.240612,
          0.026043,
          0.026043,
          -0.240612,
          -0.240612
         ],
         "mode": "lines",
         "name": "",
         "showlegend": false,
         "subplot": "mapbox",
         "type": "scattermapbox"
        }
       ],
       "layout": {
        "autosize": false,
        "height": 300,
        "legend": {
         "tracegroupgap": 0
        },
        "mapbox": {
         "bearing": 0,
         "center": {
          "lat": 51.503533600000004,
          "lon": -0.13394999999999999
         },
         "domain": {
          "x": [
           0,
           1
          ],
          "y": [
           0,
           1
          ]
         },
         "pitch": 0,
         "style": "open-street-map",
         "zoom": 9
        },
        "margin": {
         "b": 0,
         "l": 0,
         "r": 0,
         "t": 0
        },
        "template": {
         "data": {
          "bar": [
           {
            "error_x": {
             "color": "#2a3f5f"
            },
            "error_y": {
             "color": "#2a3f5f"
            },
            "marker": {
             "line": {
              "color": "#E5ECF6",
              "width": 0.5
             },
             "pattern": {
              "fillmode": "overlay",
              "size": 10,
              "solidity": 0.2
             }
            },
            "type": "bar"
           }
          ],
          "barpolar": [
           {
            "marker": {
             "line": {
              "color": "#E5ECF6",
              "width": 0.5
             },
             "pattern": {
              "fillmode": "overlay",
              "size": 10,
              "solidity": 0.2
             }
            },
            "type": "barpolar"
           }
          ],
          "carpet": [
           {
            "aaxis": {
             "endlinecolor": "#2a3f5f",
             "gridcolor": "white",
             "linecolor": "white",
             "minorgridcolor": "white",
             "startlinecolor": "#2a3f5f"
            },
            "baxis": {
             "endlinecolor": "#2a3f5f",
             "gridcolor": "white",
             "linecolor": "white",
             "minorgridcolor": "white",
             "startlinecolor": "#2a3f5f"
            },
            "type": "carpet"
           }
          ],
          "choropleth": [
           {
            "colorbar": {
             "outlinewidth": 0,
             "ticks": ""
            },
            "type": "choropleth"
           }
          ],
          "contour": [
           {
            "colorbar": {
             "outlinewidth": 0,
             "ticks": ""
            },
            "colorscale": [
             [
              0,
              "#0d0887"
             ],
             [
              0.1111111111111111,
              "#46039f"
             ],
             [
              0.2222222222222222,
              "#7201a8"
             ],
             [
              0.3333333333333333,
              "#9c179e"
             ],
             [
              0.4444444444444444,
              "#bd3786"
             ],
             [
              0.5555555555555556,
              "#d8576b"
             ],
             [
              0.6666666666666666,
              "#ed7953"
             ],
             [
              0.7777777777777778,
              "#fb9f3a"
             ],
             [
              0.8888888888888888,
              "#fdca26"
             ],
             [
              1,
              "#f0f921"
             ]
            ],
            "type": "contour"
           }
          ],
          "contourcarpet": [
           {
            "colorbar": {
             "outlinewidth": 0,
             "ticks": ""
            },
            "type": "contourcarpet"
           }
          ],
          "heatmap": [
           {
            "colorbar": {
             "outlinewidth": 0,
             "ticks": ""
            },
            "colorscale": [
             [
              0,
              "#0d0887"
             ],
             [
              0.1111111111111111,
              "#46039f"
             ],
             [
              0.2222222222222222,
              "#7201a8"
             ],
             [
              0.3333333333333333,
              "#9c179e"
             ],
             [
              0.4444444444444444,
              "#bd3786"
             ],
             [
              0.5555555555555556,
              "#d8576b"
             ],
             [
              0.6666666666666666,
              "#ed7953"
             ],
             [
              0.7777777777777778,
              "#fb9f3a"
             ],
             [
              0.8888888888888888,
              "#fdca26"
             ],
             [
              1,
              "#f0f921"
             ]
            ],
            "type": "heatmap"
           }
          ],
          "heatmapgl": [
           {
            "colorbar": {
             "outlinewidth": 0,
             "ticks": ""
            },
            "colorscale": [
             [
              0,
              "#0d0887"
             ],
             [
              0.1111111111111111,
              "#46039f"
             ],
             [
              0.2222222222222222,
              "#7201a8"
             ],
             [
              0.3333333333333333,
              "#9c179e"
             ],
             [
              0.4444444444444444,
              "#bd3786"
             ],
             [
              0.5555555555555556,
              "#d8576b"
             ],
             [
              0.6666666666666666,
              "#ed7953"
             ],
             [
              0.7777777777777778,
              "#fb9f3a"
             ],
             [
              0.8888888888888888,
              "#fdca26"
             ],
             [
              1,
              "#f0f921"
             ]
            ],
            "type": "heatmapgl"
           }
          ],
          "histogram": [
           {
            "marker": {
             "pattern": {
              "fillmode": "overlay",
              "size": 10,
              "solidity": 0.2
             }
            },
            "type": "histogram"
           }
          ],
          "histogram2d": [
           {
            "colorbar": {
             "outlinewidth": 0,
             "ticks": ""
            },
            "colorscale": [
             [
              0,
              "#0d0887"
             ],
             [
              0.1111111111111111,
              "#46039f"
             ],
             [
              0.2222222222222222,
              "#7201a8"
             ],
             [
              0.3333333333333333,
              "#9c179e"
             ],
             [
              0.4444444444444444,
              "#bd3786"
             ],
             [
              0.5555555555555556,
              "#d8576b"
             ],
             [
              0.6666666666666666,
              "#ed7953"
             ],
             [
              0.7777777777777778,
              "#fb9f3a"
             ],
             [
              0.8888888888888888,
              "#fdca26"
             ],
             [
              1,
              "#f0f921"
             ]
            ],
            "type": "histogram2d"
           }
          ],
          "histogram2dcontour": [
           {
            "colorbar": {
             "outlinewidth": 0,
             "ticks": ""
            },
            "colorscale": [
             [
              0,
              "#0d0887"
             ],
             [
              0.1111111111111111,
              "#46039f"
             ],
             [
              0.2222222222222222,
              "#7201a8"
             ],
             [
              0.3333333333333333,
              "#9c179e"
             ],
             [
              0.4444444444444444,
              "#bd3786"
             ],
             [
              0.5555555555555556,
              "#d8576b"
             ],
             [
              0.6666666666666666,
              "#ed7953"
             ],
             [
              0.7777777777777778,
              "#fb9f3a"
             ],
             [
              0.8888888888888888,
              "#fdca26"
             ],
             [
              1,
              "#f0f921"
             ]
            ],
            "type": "histogram2dcontour"
           }
          ],
          "mesh3d": [
           {
            "colorbar": {
             "outlinewidth": 0,
             "ticks": ""
            },
            "type": "mesh3d"
           }
          ],
          "parcoords": [
           {
            "line": {
             "colorbar": {
              "outlinewidth": 0,
              "ticks": ""
             }
            },
            "type": "parcoords"
           }
          ],
          "pie": [
           {
            "automargin": true,
            "type": "pie"
           }
          ],
          "scatter": [
           {
            "fillpattern": {
             "fillmode": "overlay",
             "size": 10,
             "solidity": 0.2
            },
            "type": "scatter"
           }
          ],
          "scatter3d": [
           {
            "line": {
             "colorbar": {
              "outlinewidth": 0,
              "ticks": ""
             }
            },
            "marker": {
             "colorbar": {
              "outlinewidth": 0,
              "ticks": ""
             }
            },
            "type": "scatter3d"
           }
          ],
          "scattercarpet": [
           {
            "marker": {
             "colorbar": {
              "outlinewidth": 0,
              "ticks": ""
             }
            },
            "type": "scattercarpet"
           }
          ],
          "scattergeo": [
           {
            "marker": {
             "colorbar": {
              "outlinewidth": 0,
              "ticks": ""
             }
            },
            "type": "scattergeo"
           }
          ],
          "scattergl": [
           {
            "marker": {
             "colorbar": {
              "outlinewidth": 0,
              "ticks": ""
             }
            },
            "type": "scattergl"
           }
          ],
          "scattermapbox": [
           {
            "marker": {
             "colorbar": {
              "outlinewidth": 0,
              "ticks": ""
             }
            },
            "type": "scattermapbox"
           }
          ],
          "scatterpolar": [
           {
            "marker": {
             "colorbar": {
              "outlinewidth": 0,
              "ticks": ""
             }
            },
            "type": "scatterpolar"
           }
          ],
          "scatterpolargl": [
           {
            "marker": {
             "colorbar": {
              "outlinewidth": 0,
              "ticks": ""
             }
            },
            "type": "scatterpolargl"
           }
          ],
          "scatterternary": [
           {
            "marker": {
             "colorbar": {
              "outlinewidth": 0,
              "ticks": ""
             }
            },
            "type": "scatterternary"
           }
          ],
          "surface": [
           {
            "colorbar": {
             "outlinewidth": 0,
             "ticks": ""
            },
            "colorscale": [
             [
              0,
              "#0d0887"
             ],
             [
              0.1111111111111111,
              "#46039f"
             ],
             [
              0.2222222222222222,
              "#7201a8"
             ],
             [
              0.3333333333333333,
              "#9c179e"
             ],
             [
              0.4444444444444444,
              "#bd3786"
             ],
             [
              0.5555555555555556,
              "#d8576b"
             ],
             [
              0.6666666666666666,
              "#ed7953"
             ],
             [
              0.7777777777777778,
              "#fb9f3a"
             ],
             [
              0.8888888888888888,
              "#fdca26"
             ],
             [
              1,
              "#f0f921"
             ]
            ],
            "type": "surface"
           }
          ],
          "table": [
           {
            "cells": {
             "fill": {
              "color": "#EBF0F8"
             },
             "line": {
              "color": "white"
             }
            },
            "header": {
             "fill": {
              "color": "#C8D4E3"
             },
             "line": {
              "color": "white"
             }
            },
            "type": "table"
           }
          ]
         },
         "layout": {
          "annotationdefaults": {
           "arrowcolor": "#2a3f5f",
           "arrowhead": 0,
           "arrowwidth": 1
          },
          "autotypenumbers": "strict",
          "coloraxis": {
           "colorbar": {
            "outlinewidth": 0,
            "ticks": ""
           }
          },
          "colorscale": {
           "diverging": [
            [
             0,
             "#8e0152"
            ],
            [
             0.1,
             "#c51b7d"
            ],
            [
             0.2,
             "#de77ae"
            ],
            [
             0.3,
             "#f1b6da"
            ],
            [
             0.4,
             "#fde0ef"
            ],
            [
             0.5,
             "#f7f7f7"
            ],
            [
             0.6,
             "#e6f5d0"
            ],
            [
             0.7,
             "#b8e186"
            ],
            [
             0.8,
             "#7fbc41"
            ],
            [
             0.9,
             "#4d9221"
            ],
            [
             1,
             "#276419"
            ]
           ],
           "sequential": [
            [
             0,
             "#0d0887"
            ],
            [
             0.1111111111111111,
             "#46039f"
            ],
            [
             0.2222222222222222,
             "#7201a8"
            ],
            [
             0.3333333333333333,
             "#9c179e"
            ],
            [
             0.4444444444444444,
             "#bd3786"
            ],
            [
             0.5555555555555556,
             "#d8576b"
            ],
            [
             0.6666666666666666,
             "#ed7953"
            ],
            [
             0.7777777777777778,
             "#fb9f3a"
            ],
            [
             0.8888888888888888,
             "#fdca26"
            ],
            [
             1,
             "#f0f921"
            ]
           ],
           "sequentialminus": [
            [
             0,
             "#0d0887"
            ],
            [
             0.1111111111111111,
             "#46039f"
            ],
            [
             0.2222222222222222,
             "#7201a8"
            ],
            [
             0.3333333333333333,
             "#9c179e"
            ],
            [
             0.4444444444444444,
             "#bd3786"
            ],
            [
             0.5555555555555556,
             "#d8576b"
            ],
            [
             0.6666666666666666,
             "#ed7953"
            ],
            [
             0.7777777777777778,
             "#fb9f3a"
            ],
            [
             0.8888888888888888,
             "#fdca26"
            ],
            [
             1,
             "#f0f921"
            ]
           ]
          },
          "colorway": [
           "#636efa",
           "#EF553B",
           "#00cc96",
           "#ab63fa",
           "#FFA15A",
           "#19d3f3",
           "#FF6692",
           "#B6E880",
           "#FF97FF",
           "#FECB52"
          ],
          "font": {
           "color": "#2a3f5f"
          },
          "geo": {
           "bgcolor": "white",
           "lakecolor": "white",
           "landcolor": "#E5ECF6",
           "showlakes": true,
           "showland": true,
           "subunitcolor": "white"
          },
          "hoverlabel": {
           "align": "left"
          },
          "hovermode": "closest",
          "mapbox": {
           "style": "light"
          },
          "paper_bgcolor": "white",
          "plot_bgcolor": "#E5ECF6",
          "polar": {
           "angularaxis": {
            "gridcolor": "white",
            "linecolor": "white",
            "ticks": ""
           },
           "bgcolor": "#E5ECF6",
           "radialaxis": {
            "gridcolor": "white",
            "linecolor": "white",
            "ticks": ""
           }
          },
          "scene": {
           "xaxis": {
            "backgroundcolor": "#E5ECF6",
            "gridcolor": "white",
            "gridwidth": 2,
            "linecolor": "white",
            "showbackground": true,
            "ticks": "",
            "zerolinecolor": "white"
           },
           "yaxis": {
            "backgroundcolor": "#E5ECF6",
            "gridcolor": "white",
            "gridwidth": 2,
            "linecolor": "white",
            "showbackground": true,
            "ticks": "",
            "zerolinecolor": "white"
           },
           "zaxis": {
            "backgroundcolor": "#E5ECF6",
            "gridcolor": "white",
            "gridwidth": 2,
            "linecolor": "white",
            "showbackground": true,
            "ticks": "",
            "zerolinecolor": "white"
           }
          },
          "shapedefaults": {
           "line": {
            "color": "#2a3f5f"
           }
          },
          "ternary": {
           "aaxis": {
            "gridcolor": "white",
            "linecolor": "white",
            "ticks": ""
           },
           "baxis": {
            "gridcolor": "white",
            "linecolor": "white",
            "ticks": ""
           },
           "bgcolor": "#E5ECF6",
           "caxis": {
            "gridcolor": "white",
            "linecolor": "white",
            "ticks": ""
           }
          },
          "title": {
           "x": 0.05
          },
          "xaxis": {
           "automargin": true,
           "gridcolor": "white",
           "linecolor": "white",
           "ticks": "",
           "title": {
            "standoff": 15
           },
           "zerolinecolor": "white",
           "zerolinewidth": 2
          },
          "yaxis": {
           "automargin": true,
           "gridcolor": "white",
           "linecolor": "white",
           "ticks": "",
           "title": {
            "standoff": 15
           },
           "zerolinecolor": "white",
           "zerolinewidth": 2
          }
         }
        },
        "width": 800
       }
      },
      "image/png": "[encoded data removed]",
      "text/html": [
       "<div>                            <div id=\"5ac812cc-d38a-4c6c-921f-d3046fd67b94\" class=\"plotly-graph-div\" style=\"height:300px; width:800px;\"></div>            <script type=\"text/javascript\">                require([\"plotly\"], function(Plotly) {                    window.PLOTLYENV=window.PLOTLYENV || {};                                    if (document.getElementById(\"5ac812cc-d38a-4c6c-921f-d3046fd67b94\")) {                    Plotly.newPlot(                        \"5ac812cc-d38a-4c6c-921f-d3046fd67b94\",                        [{\"hovertemplate\":\"latitude=%{lat}<br>longitude=%{lon}<extra></extra>\",\"lat\":[51.54689,51.54689,51.438499,51.438499,51.54689],\"legendgroup\":\"\",\"line\":{\"color\":\"#636efa\"},\"lon\":[-0.240612,0.026043,0.026043,-0.240612,-0.240612],\"mode\":\"lines\",\"name\":\"\",\"showlegend\":false,\"subplot\":\"mapbox\",\"type\":\"scattermapbox\"}],                        {\"template\":{\"data\":{\"histogram2dcontour\":[{\"type\":\"histogram2dcontour\",\"colorbar\":{\"outlinewidth\":0,\"ticks\":\"\"},\"colorscale\":[[0.0,\"#0d0887\"],[0.1111111111111111,\"#46039f\"],[0.2222222222222222,\"#7201a8\"],[0.3333333333333333,\"#9c179e\"],[0.4444444444444444,\"#bd3786\"],[0.5555555555555556,\"#d8576b\"],[0.6666666666666666,\"#ed7953\"],[0.7777777777777778,\"#fb9f3a\"],[0.8888888888888888,\"#fdca26\"],[1.0,\"#f0f921\"]]}],\"choropleth\":[{\"type\":\"choropleth\",\"colorbar\":{\"outlinewidth\":0,\"ticks\":\"\"}}],\"histogram2d\":[{\"type\":\"histogram2d\",\"colorbar\":{\"outlinewidth\":0,\"ticks\":\"\"},\"colorscale\":[[0.0,\"#0d0887\"],[0.1111111111111111,\"#46039f\"],[0.2222222222222222,\"#7201a8\"],[0.3333333333333333,\"#9c179e\"],[0.4444444444444444,\"#bd3786\"],[0.5555555555555556,\"#d8576b\"],[0.6666666666666666,\"#ed7953\"],[0.7777777777777778,\"#fb9f3a\"],[0.8888888888888888,\"#fdca26\"],[1.0,\"#f0f921\"]]}],\"heatmap\":[{\"type\":\"heatmap\",\"colorbar\":{\"outlinewidth\":0,\"ticks\":\"\"},\"colorscale\":[[0.0,\"#0d0887\"],[0.1111111111111111,\"#46039f\"],[0.2222222222222222,\"#7201a8\"],[0.3333333333333333,\"#9c179e\"],[0.4444444444444444,\"#bd3786\"],[0.5555555555555556,\"#d8576b\"],[0.6666666666666666,\"#ed7953\"],[0.7777777777777778,\"#fb9f3a\"],[0.8888888888888888,\"#fdca26\"],[1.0,\"#f0f921\"]]}],\"heatmapgl\":[{\"type\":\"heatmapgl\",\"colorbar\":{\"outlinewidth\":0,\"ticks\":\"\"},\"colorscale\":[[0.0,\"#0d0887\"],[0.1111111111111111,\"#46039f\"],[0.2222222222222222,\"#7201a8\"],[0.3333333333333333,\"#9c179e\"],[0.4444444444444444,\"#bd3786\"],[0.5555555555555556,\"#d8576b\"],[0.6666666666666666,\"#ed7953\"],[0.7777777777777778,\"#fb9f3a\"],[0.8888888888888888,\"#fdca26\"],[1.0,\"#f0f921\"]]}],\"contourcarpet\":[{\"type\":\"contourcarpet\",\"colorbar\":{\"outlinewidth\":0,\"ticks\":\"\"}}],\"contour\":[{\"type\":\"contour\",\"colorbar\":{\"outlinewidth\":0,\"ticks\":\"\"},\"colorscale\":[[0.0,\"#0d0887\"],[0.1111111111111111,\"#46039f\"],[0.2222222222222222,\"#7201a8\"],[0.3333333333333333,\"#9c179e\"],[0.4444444444444444,\"#bd3786\"],[0.5555555555555556,\"#d8576b\"],[0.6666666666666666,\"#ed7953\"],[0.7777777777777778,\"#fb9f3a\"],[0.8888888888888888,\"#fdca26\"],[1.0,\"#f0f921\"]]}],\"surface\":[{\"type\":\"surface\",\"colorbar\":{\"outlinewidth\":0,\"ticks\":\"\"},\"colorscale\":[[0.0,\"#0d0887\"],[0.1111111111111111,\"#46039f\"],[0.2222222222222222,\"#7201a8\"],[0.3333333333333333,\"#9c179e\"],[0.4444444444444444,\"#bd3786\"],[0.5555555555555556,\"#d8576b\"],[0.6666666666666666,\"#ed7953\"],[0.7777777777777778,\"#fb9f3a\"],[0.8888888888888888,\"#fdca26\"],[1.0,\"#f0f921\"]]}],\"mesh3d\":[{\"type\":\"mesh3d\",\"colorbar\":{\"outlinewidth\":0,\"ticks\":\"\"}}],\"scatter\":[{\"fillpattern\":{\"fillmode\":\"overlay\",\"size\":10,\"solidity\":0.2},\"type\":\"scatter\"}],\"parcoords\":[{\"type\":\"parcoords\",\"line\":{\"colorbar\":{\"outlinewidth\":0,\"ticks\":\"\"}}}],\"scatterpolargl\":[{\"type\":\"scatterpolargl\",\"marker\":{\"colorbar\":{\"outlinewidth\":0,\"ticks\":\"\"}}}],\"bar\":[{\"error_x\":{\"color\":\"#2a3f5f\"},\"error_y\":{\"color\":\"#2a3f5f\"},\"marker\":{\"line\":{\"color\":\"#E5ECF6\",\"width\":0.5},\"pattern\":{\"fillmode\":\"overlay\",\"size\":10,\"solidity\":0.2}},\"type\":\"bar\"}],\"scattergeo\":[{\"type\":\"scattergeo\",\"marker\":{\"colorbar\":{\"outlinewidth\":0,\"ticks\":\"\"}}}],\"scatterpolar\":[{\"type\":\"scatterpolar\",\"marker\":{\"colorbar\":{\"outlinewidth\":0,\"ticks\":\"\"}}}],\"histogram\":[{\"marker\":{\"pattern\":{\"fillmode\":\"overlay\",\"size\":10,\"solidity\":0.2}},\"type\":\"histogram\"}],\"scattergl\":[{\"type\":\"scattergl\",\"marker\":{\"colorbar\":{\"outlinewidth\":0,\"ticks\":\"\"}}}],\"scatter3d\":[{\"type\":\"scatter3d\",\"line\":{\"colorbar\":{\"outlinewidth\":0,\"ticks\":\"\"}},\"marker\":{\"colorbar\":{\"outlinewidth\":0,\"ticks\":\"\"}}}],\"scattermapbox\":[{\"type\":\"scattermapbox\",\"marker\":{\"colorbar\":{\"outlinewidth\":0,\"ticks\":\"\"}}}],\"scatterternary\":[{\"type\":\"scatterternary\",\"marker\":{\"colorbar\":{\"outlinewidth\":0,\"ticks\":\"\"}}}],\"scattercarpet\":[{\"type\":\"scattercarpet\",\"marker\":{\"colorbar\":{\"outlinewidth\":0,\"ticks\":\"\"}}}],\"carpet\":[{\"aaxis\":{\"endlinecolor\":\"#2a3f5f\",\"gridcolor\":\"white\",\"linecolor\":\"white\",\"minorgridcolor\":\"white\",\"startlinecolor\":\"#2a3f5f\"},\"baxis\":{\"endlinecolor\":\"#2a3f5f\",\"gridcolor\":\"white\",\"linecolor\":\"white\",\"minorgridcolor\":\"white\",\"startlinecolor\":\"#2a3f5f\"},\"type\":\"carpet\"}],\"table\":[{\"cells\":{\"fill\":{\"color\":\"#EBF0F8\"},\"line\":{\"color\":\"white\"}},\"header\":{\"fill\":{\"color\":\"#C8D4E3\"},\"line\":{\"color\":\"white\"}},\"type\":\"table\"}],\"barpolar\":[{\"marker\":{\"line\":{\"color\":\"#E5ECF6\",\"width\":0.5},\"pattern\":{\"fillmode\":\"overlay\",\"size\":10,\"solidity\":0.2}},\"type\":\"barpolar\"}],\"pie\":[{\"automargin\":true,\"type\":\"pie\"}]},\"layout\":{\"autotypenumbers\":\"strict\",\"colorway\":[\"#636efa\",\"#EF553B\",\"#00cc96\",\"#ab63fa\",\"#FFA15A\",\"#19d3f3\",\"#FF6692\",\"#B6E880\",\"#FF97FF\",\"#FECB52\"],\"font\":{\"color\":\"#2a3f5f\"},\"hovermode\":\"closest\",\"hoverlabel\":{\"align\":\"left\"},\"paper_bgcolor\":\"white\",\"plot_bgcolor\":\"#E5ECF6\",\"polar\":{\"bgcolor\":\"#E5ECF6\",\"angularaxis\":{\"gridcolor\":\"white\",\"linecolor\":\"white\",\"ticks\":\"\"},\"radialaxis\":{\"gridcolor\":\"white\",\"linecolor\":\"white\",\"ticks\":\"\"}},\"ternary\":{\"bgcolor\":\"#E5ECF6\",\"aaxis\":{\"gridcolor\":\"white\",\"linecolor\":\"white\",\"ticks\":\"\"},\"baxis\":{\"gridcolor\":\"white\",\"linecolor\":\"white\",\"ticks\":\"\"},\"caxis\":{\"gridcolor\":\"white\",\"linecolor\":\"white\",\"ticks\":\"\"}},\"coloraxis\":{\"colorbar\":{\"outlinewidth\":0,\"ticks\":\"\"}},\"colorscale\":{\"sequential\":[[0.0,\"#0d0887\"],[0.1111111111111111,\"#46039f\"],[0.2222222222222222,\"#7201a8\"],[0.3333333333333333,\"#9c179e\"],[0.4444444444444444,\"#bd3786\"],[0.5555555555555556,\"#d8576b\"],[0.6666666666666666,\"#ed7953\"],[0.7777777777777778,\"#fb9f3a\"],[0.8888888888888888,\"#fdca26\"],[1.0,\"#f0f921\"]],\"sequentialminus\":[[0.0,\"#0d0887\"],[0.1111111111111111,\"#46039f\"],[0.2222222222222222,\"#7201a8\"],[0.3333333333333333,\"#9c179e\"],[0.4444444444444444,\"#bd3786\"],[0.5555555555555556,\"#d8576b\"],[0.6666666666666666,\"#ed7953\"],[0.7777777777777778,\"#fb9f3a\"],[0.8888888888888888,\"#fdca26\"],[1.0,\"#f0f921\"]],\"diverging\":[[0,\"#8e0152\"],[0.1,\"#c51b7d\"],[0.2,\"#de77ae\"],[0.3,\"#f1b6da\"],[0.4,\"#fde0ef\"],[0.5,\"#f7f7f7\"],[0.6,\"#e6f5d0\"],[0.7,\"#b8e186\"],[0.8,\"#7fbc41\"],[0.9,\"#4d9221\"],[1,\"#276419\"]]},\"xaxis\":{\"gridcolor\":\"white\",\"linecolor\":\"white\",\"ticks\":\"\",\"title\":{\"standoff\":15},\"zerolinecolor\":\"white\",\"automargin\":true,\"zerolinewidth\":2},\"yaxis\":{\"gridcolor\":\"white\",\"linecolor\":\"white\",\"ticks\":\"\",\"title\":{\"standoff\":15},\"zerolinecolor\":\"white\",\"automargin\":true,\"zerolinewidth\":2},\"scene\":{\"xaxis\":{\"backgroundcolor\":\"#E5ECF6\",\"gridcolor\":\"white\",\"linecolor\":\"white\",\"showbackground\":true,\"ticks\":\"\",\"zerolinecolor\":\"white\",\"gridwidth\":2},\"yaxis\":{\"backgroundcolor\":\"#E5ECF6\",\"gridcolor\":\"white\",\"linecolor\":\"white\",\"showbackground\":true,\"ticks\":\"\",\"zerolinecolor\":\"white\",\"gridwidth\":2},\"zaxis\":{\"backgroundcolor\":\"#E5ECF6\",\"gridcolor\":\"white\",\"linecolor\":\"white\",\"showbackground\":true,\"ticks\":\"\",\"zerolinecolor\":\"white\",\"gridwidth\":2}},\"shapedefaults\":{\"line\":{\"color\":\"#2a3f5f\"}},\"annotationdefaults\":{\"arrowcolor\":\"#2a3f5f\",\"arrowhead\":0,\"arrowwidth\":1},\"geo\":{\"bgcolor\":\"white\",\"landcolor\":\"#E5ECF6\",\"subunitcolor\":\"white\",\"showland\":true,\"showlakes\":true,\"lakecolor\":\"white\"},\"title\":{\"x\":0.05},\"mapbox\":{\"style\":\"light\"}}},\"mapbox\":{\"domain\":{\"x\":[0.0,1.0],\"y\":[0.0,1.0]},\"center\":{\"lat\":51.503533600000004,\"lon\":-0.13394999999999999},\"zoom\":9,\"style\":\"open-street-map\"},\"legend\":{\"tracegroupgap\":0},\"margin\":{\"t\":0,\"r\":0,\"l\":0,\"b\":0},\"autosize\":false,\"width\":800,\"height\":300},                        {\"responsive\": true}                    ).then(function(){\n",
       "                            \n",
       "var gd = document.getElementById('5ac812cc-d38a-4c6c-921f-d3046fd67b94');\n",
       "var x = new MutationObserver(function (mutations, observer) {{\n",
       "        var display = window.getComputedStyle(gd).display;\n",
       "        if (!display || display === 'none') {{\n",
       "            console.log([gd, 'removed!']);\n",
       "            Plotly.purge(gd);\n",
       "            observer.disconnect();\n",
       "        }}\n",
       "}});\n",
       "\n",
       "// Listen for the removal of the full notebook cells\n",
       "var notebookContainer = gd.closest('#notebook-container');\n",
       "if (notebookContainer) {{\n",
       "    x.observe(notebookContainer, {childList: true});\n",
       "}}\n",
       "\n",
       "// Listen for the clearing of the current output cell\n",
       "var outputEl = gd.closest('.output');\n",
       "if (outputEl) {{\n",
       "    x.observe(outputEl, {childList: true});\n",
       "}}\n",
       "\n",
       "                        })                };                });            </script>        </div>"
      ]
     },
     "metadata": {},
     "output_type": "display_data"
    }
   ],
   "source": [
    "# Define search area via min and max latitude and longitude\n",
    "min_lat = 51.438499 \n",
    "max_lat = 51.546890\n",
    "min_long = -0.240612\n",
    "max_long = 0.026043\n",
    "\n",
    "search_area_coords = [min_lat, max_lat, min_long, max_long]\n",
    "\n",
    "plot_search_area(min_lat, max_lat, min_long, max_long)"
   ]
  },
  {
   "cell_type": "markdown",
   "id": "0173ac9f-7a18-428a-93fe-0c6a18c5df6f",
   "metadata": {},
   "source": [
    "Below we will re-calculate the center latitude longitude coordinate of the geographic area. We also provide a visualisation of the area you have defined. "
   ]
  },
  {
   "cell_type": "markdown",
   "id": "d2815b19-5a73-44b1-be10-8a4714406cfc",
   "metadata": {},
   "source": [
    "### Define Search Parameters\n",
    "#### Recap Venue Search Process\n",
    "We will briefly recap the venue search process to provide context necessary for setting the search parameters: \n",
    "\n",
    "- A square geographic area was defined, this is the area that will be searched for venues.\n",
    "- The Places Search API returns up to 50 venues found within a radius from a latitude longitude point. If an API call returns 50 results, there may be more venues within the search area than the API has returned to us. Therefore, we must repeat the API call with a reduced search radius. We will repeat this until less than 50 results are returned. \n",
    "- We guess the minimum search radius required to ensure we get fewer than 49 results in all our API calls across the geographic area.\n",
    "- A grid of latitude and longitude points is created that spans the geographic area. The distance between adjacent points on the grid is half of the minimum search radius we guessed above.\n",
    "- We also define an initial search radius. When a latitude longitude point is chosen to be searched from, we will use this initial search radius in the API call (and reduce the radius and repeat the API call if 50 venues are returned).  \n",
    "- The search proceeds as follows: \n",
    "  1. A random point in the grid is selected. \n",
    "  2. An API call is made using the latitude longitude coordinate of the selected point. The initial search radius is used as the search radius in the API call. \n",
    "  3. If the API call returns 50 results, the search radius is reduced and the API call is made again. \n",
    "  4. Once fewer than 50 results are returned, the venues found are stored. \n",
    "  5. All points on the grid that are within the search radius of the latitude longitude point are removed from the grid. \n",
    "  6. Repeat from 1. until no points remain in the grid. \n",
    "  \n",
    "If, at any time, the search radius required is smaller than the guessed minimum search radius, then:\n",
    " - The minimum search radius is updated to this search radius.\n",
    " - The latitude longitude grid is recreated using the smaller minimum search radius.\n",
    " - The whole venue search is started again.\n",
    "\n",
    "If more than 60% of latitude longitude points (within a set time period e.g. within last 20 seconds) require a smaller search radius than the Initial Search Radius, then the Initial Search Radius is reduced by 20%.  \n",
    "\n",
    "#### Understanding Updates\n",
    "The venue search periodically outputs an update to screen. This information is important to understand the progress of the search and for optimising the parameters used in the search. \n",
    "\n",
    "The updates are explained below: \n",
    "\n",
    "**Grid Size** - *Shown at beginning of run and when the grid is recreated.* \n",
    "\n",
    "![alt text](images/size.png)\n",
    "\n",
    "**Standard Update** - *Shown periodically e.g. every 20 seconds.*\n",
    "![alt text](images/standard.png)\n",
    "\n",
    "**Initial Search Radius Reduced** - *Shown when more than 60% of latitude longitude points used in the API (since the last update) required a search radius smaller than the Initial Search Radius.* \n",
    "![alt text](images/radius.png)\n",
    "\n",
    "**Search Radius Smaller than Minimum Search Radius** - *Shown when the Search Radius is smaller than the Minimum Search Radius.*\n",
    "![alt text](images/restart.png)\n",
    "\n",
    "\n",
    "#### Choosing and Tuning Parameters\n",
    "The cell below contains the 4 search parameters that need to be set. A certain amount of 'tuning' is required to optimise some of these values. Tuning generally reduces the number of API calls required to complete the search. Note that if you change the Geographic area or some of the tuning parameters (e.g. add new categories of venue to the search) then you will probably have to re-tune some of the other parameters. \n",
    "\n",
    "The table below defines these 4 variables and provides advice on setting / tuning them: \n",
    "\n",
    "|Variable Name|Description|Tuning Advice|\n",
    "|:---:|---|---|\n",
    "|initial_search_radius|When a latitude longitude point is first selected, the Initial Search Radius is the search radius used in the API call.|You want this to be as large as possible without immediately triggering the code to reduce the Initial Search Radius. Around 2000 is a good starting point.|\n",
    "|min_search_radius|The assumed minimum search radius required by any API call when searching the whole geographic area. This defines the separation between points in the grid.|You want to let the code figure out this value. Start with a large value, perhaps 1000. The code will automatically restart the search and reduce this value as required until its able to complete the whole venue search. To avoid the restarts when you next run, you should update this value with the value the code ends with. <br><br>If your venue search ends up requiring a very small grid radius (less than 10m) then consider breaking up the search into multiple separate venue searches, either by splitting up your geographic area or by splitting up your categories filter.|\n",
    "|time_between_updates|Time period (in seconds) between printing updates to screen. This value is also the time period used to determine if the Initial Search Radius needs to be reduced.|You want fairly frequent updates so that the Initial Search Radius can be reduced optimally. We suggest you start with 20 seconds. Make sure you have at least 8 different latitude longitude points being used in the API per update, otherwise you'll be deciding whether to reduce the Initial Search Radius on a small sample.|\n",
    "|cats|Category filter - defines what category of venue you want the API to return e.g. bars only. Must be a comma separated string e.g. '11131,11039'. If you do not want to filter venues by category, set as blank string ''|Find a list of category codes [here](https://location.foursquare.com/places/docs/categories).|\n",
    "\n",
    "#### Example Tuned Searches\n",
    "Below we provide 2 examples of search parameters we tuned for our computer. Both examples use the geographic area defined in the above cell (London). We changed the categories being searched for, and this in turn significantly changed the optimal Initial Search Radius and minimum search radius: \n",
    "\n",
    "**Event Spaces In London** - *returns ~ 300 results, very fast to run*\n",
    "- initial_search_radius = 1500\n",
    "- min_search_radius = 750\n",
    "- cats = '11131,11039'\n",
    "- time_between_updates = 20\n",
    "\n",
    "**Bars and Restaurants in London** - *returns ~ 6000 results, 15 minutes to run*\n",
    "- initial_search_radius = 1000\n",
    "- min_search_radius = 30\n",
    "- cats = '10039,10040,10041,10045,10049,11039,13003'\n",
    "- time_between_updates = 20"
   ]
  },
  {
   "cell_type": "code",
   "execution_count": 30,
   "id": "ddb27dab-91cb-47f8-815e-455207bf1006",
   "metadata": {},
   "outputs": [],
   "source": [
    "initial_search_radius = 1000\n",
    "\n",
    "# The below commented out categories were used in testing. \n",
    "# They return event spaces only, and there are only around \n",
    "# 330 of them in the geographic area, so it makes a useful\n",
    "# fast test search\n",
    "#cats = '11131,11039'\n",
    "cats = '10039,10040,10041,10045,10049,11039,13003'\n",
    "time_between_updates = 5"
   ]
  },
  {
   "cell_type": "markdown",
   "id": "dedab263-f6f7-45b9-b87f-6661ae817cb6",
   "metadata": {},
   "source": [
    "### Perform Venue Search\n",
    "The below code runs the Venue Search using the search parameters set above: "
   ]
  },
  {
   "cell_type": "code",
   "execution_count": 60,
   "id": "482aa4dd-3bff-4bae-935d-290fbc518f2e",
   "metadata": {},
   "outputs": [
    {
     "ename": "KeyboardInterrupt",
     "evalue": "",
     "output_type": "error",
     "traceback": [
      "\u001b[0;31m---------------------------------------------------------------------------\u001b[0m",
      "\u001b[0;31mKeyboardInterrupt\u001b[0m                         Traceback (most recent call last)",
      "Input \u001b[0;32mIn [60]\u001b[0m, in \u001b[0;36m<cell line: 1>\u001b[0;34m()\u001b[0m\n\u001b[0;32m----> 1\u001b[0m data \u001b[38;5;241m=\u001b[39m \u001b[43mperform_venue_search\u001b[49m\u001b[43m(\u001b[49m\u001b[43msearch_area_coords\u001b[49m\u001b[43m,\u001b[49m\u001b[43m \u001b[49m\u001b[43minitial_search_radius\u001b[49m\u001b[43m,\u001b[49m\u001b[43m \u001b[49m\n\u001b[1;32m      2\u001b[0m \u001b[43m                            \u001b[49m\u001b[43mcats\u001b[49m\u001b[43m,\u001b[49m\u001b[43m \u001b[49m\u001b[43mtime_between_updates\u001b[49m\u001b[43m)\u001b[49m\n",
      "Input \u001b[0;32mIn [59]\u001b[0m, in \u001b[0;36mperform_venue_search\u001b[0;34m(search_area_coords, initial_search_radius, cats, time_between_updates)\u001b[0m\n\u001b[1;32m     38\u001b[0m total_calls \u001b[38;5;241m+\u001b[39m\u001b[38;5;241m=\u001b[39m \u001b[38;5;241m1\u001b[39m\n\u001b[1;32m     39\u001b[0m \u001b[38;5;66;03m# Make API call to search for venues from search location\u001b[39;00m\n\u001b[0;32m---> 40\u001b[0m response \u001b[38;5;241m=\u001b[39m \u001b[43mapi_call\u001b[49m\u001b[43m(\u001b[49m\u001b[43mlat_long\u001b[49m\u001b[43m,\u001b[49m\u001b[43m \u001b[49m\u001b[43msearch_radius\u001b[49m\u001b[43m,\u001b[49m\u001b[43m \u001b[49m\u001b[43mcats\u001b[49m\u001b[43m,\u001b[49m\u001b[43m \u001b[49m\u001b[43mkey\u001b[49m\u001b[43m)\u001b[49m\n\u001b[1;32m     41\u001b[0m \u001b[38;5;66;03m# If response status code isnt 200, there was an API error. Print \u001b[39;00m\n\u001b[1;32m     42\u001b[0m \u001b[38;5;66;03m# the API error, wait 5 seconds and try API call again. Loop until \u001b[39;00m\n\u001b[1;32m     43\u001b[0m \u001b[38;5;66;03m# status 200 code returned by API. \u001b[39;00m\n\u001b[1;32m     44\u001b[0m \u001b[38;5;28;01mwhile\u001b[39;00m response\u001b[38;5;241m.\u001b[39mstatus_code \u001b[38;5;241m!=\u001b[39m \u001b[38;5;241m200\u001b[39m:\n",
      "File \u001b[0;32m/opt/homebrew/Caskroom/miniforge/base/envs/geo/lib/python3.10/site-packages/ratelimiter.py:75\u001b[0m, in \u001b[0;36mRateLimiter.__call__.<locals>.wrapped\u001b[0;34m(*args, **kwargs)\u001b[0m\n\u001b[1;32m     72\u001b[0m \u001b[38;5;129m@functools\u001b[39m\u001b[38;5;241m.\u001b[39mwraps(f)\n\u001b[1;32m     73\u001b[0m \u001b[38;5;28;01mdef\u001b[39;00m \u001b[38;5;21mwrapped\u001b[39m(\u001b[38;5;241m*\u001b[39margs, \u001b[38;5;241m*\u001b[39m\u001b[38;5;241m*\u001b[39mkwargs):\n\u001b[1;32m     74\u001b[0m     \u001b[38;5;28;01mwith\u001b[39;00m \u001b[38;5;28mself\u001b[39m:\n\u001b[0;32m---> 75\u001b[0m         \u001b[38;5;28;01mreturn\u001b[39;00m \u001b[43mf\u001b[49m\u001b[43m(\u001b[49m\u001b[38;5;241;43m*\u001b[39;49m\u001b[43margs\u001b[49m\u001b[43m,\u001b[49m\u001b[43m \u001b[49m\u001b[38;5;241;43m*\u001b[39;49m\u001b[38;5;241;43m*\u001b[39;49m\u001b[43mkwargs\u001b[49m\u001b[43m)\u001b[49m\n",
      "Input \u001b[0;32mIn [3]\u001b[0m, in \u001b[0;36mapi_call\u001b[0;34m(long_lat, radius, cats, key)\u001b[0m\n\u001b[1;32m     35\u001b[0m \u001b[38;5;66;03m# Defines headers required in Place Search API call\u001b[39;00m\n\u001b[1;32m     36\u001b[0m headers \u001b[38;5;241m=\u001b[39m {\n\u001b[1;32m     37\u001b[0m     \u001b[38;5;124m\"\u001b[39m\u001b[38;5;124mAccept\u001b[39m\u001b[38;5;124m\"\u001b[39m: \u001b[38;5;124m\"\u001b[39m\u001b[38;5;124mapplication/json\u001b[39m\u001b[38;5;124m\"\u001b[39m,\n\u001b[1;32m     38\u001b[0m     \u001b[38;5;124m\"\u001b[39m\u001b[38;5;124mAuthorization\u001b[39m\u001b[38;5;124m\"\u001b[39m: key\n\u001b[1;32m     39\u001b[0m }\n\u001b[0;32m---> 41\u001b[0m \u001b[38;5;28;01mreturn\u001b[39;00m \u001b[43mrequests\u001b[49m\u001b[38;5;241;43m.\u001b[39;49m\u001b[43mrequest\u001b[49m\u001b[43m(\u001b[49m\u001b[38;5;124;43m\"\u001b[39;49m\u001b[38;5;124;43mGET\u001b[39;49m\u001b[38;5;124;43m\"\u001b[39;49m\u001b[43m,\u001b[49m\u001b[43m \u001b[49m\u001b[43msearch_url\u001b[49m\u001b[43m,\u001b[49m\u001b[43m \u001b[49m\u001b[43mheaders\u001b[49m\u001b[43m \u001b[49m\u001b[38;5;241;43m=\u001b[39;49m\u001b[43m \u001b[49m\u001b[43mheaders\u001b[49m\u001b[43m,\u001b[49m\u001b[43m \u001b[49m\u001b[43mparams\u001b[49m\u001b[43m \u001b[49m\u001b[38;5;241;43m=\u001b[39;49m\u001b[43m \u001b[49m\u001b[43mparams\u001b[49m\u001b[43m)\u001b[49m\n",
      "File \u001b[0;32m/opt/homebrew/Caskroom/miniforge/base/envs/geo/lib/python3.10/site-packages/requests/api.py:59\u001b[0m, in \u001b[0;36mrequest\u001b[0;34m(method, url, **kwargs)\u001b[0m\n\u001b[1;32m     55\u001b[0m \u001b[38;5;66;03m# By using the 'with' statement we are sure the session is closed, thus we\u001b[39;00m\n\u001b[1;32m     56\u001b[0m \u001b[38;5;66;03m# avoid leaving sockets open which can trigger a ResourceWarning in some\u001b[39;00m\n\u001b[1;32m     57\u001b[0m \u001b[38;5;66;03m# cases, and look like a memory leak in others.\u001b[39;00m\n\u001b[1;32m     58\u001b[0m \u001b[38;5;28;01mwith\u001b[39;00m sessions\u001b[38;5;241m.\u001b[39mSession() \u001b[38;5;28;01mas\u001b[39;00m session:\n\u001b[0;32m---> 59\u001b[0m     \u001b[38;5;28;01mreturn\u001b[39;00m \u001b[43msession\u001b[49m\u001b[38;5;241;43m.\u001b[39;49m\u001b[43mrequest\u001b[49m\u001b[43m(\u001b[49m\u001b[43mmethod\u001b[49m\u001b[38;5;241;43m=\u001b[39;49m\u001b[43mmethod\u001b[49m\u001b[43m,\u001b[49m\u001b[43m \u001b[49m\u001b[43murl\u001b[49m\u001b[38;5;241;43m=\u001b[39;49m\u001b[43murl\u001b[49m\u001b[43m,\u001b[49m\u001b[43m \u001b[49m\u001b[38;5;241;43m*\u001b[39;49m\u001b[38;5;241;43m*\u001b[39;49m\u001b[43mkwargs\u001b[49m\u001b[43m)\u001b[49m\n",
      "File \u001b[0;32m/opt/homebrew/Caskroom/miniforge/base/envs/geo/lib/python3.10/site-packages/requests/sessions.py:587\u001b[0m, in \u001b[0;36mSession.request\u001b[0;34m(self, method, url, params, data, headers, cookies, files, auth, timeout, allow_redirects, proxies, hooks, stream, verify, cert, json)\u001b[0m\n\u001b[1;32m    582\u001b[0m send_kwargs \u001b[38;5;241m=\u001b[39m {\n\u001b[1;32m    583\u001b[0m     \u001b[38;5;124m\"\u001b[39m\u001b[38;5;124mtimeout\u001b[39m\u001b[38;5;124m\"\u001b[39m: timeout,\n\u001b[1;32m    584\u001b[0m     \u001b[38;5;124m\"\u001b[39m\u001b[38;5;124mallow_redirects\u001b[39m\u001b[38;5;124m\"\u001b[39m: allow_redirects,\n\u001b[1;32m    585\u001b[0m }\n\u001b[1;32m    586\u001b[0m send_kwargs\u001b[38;5;241m.\u001b[39mupdate(settings)\n\u001b[0;32m--> 587\u001b[0m resp \u001b[38;5;241m=\u001b[39m \u001b[38;5;28;43mself\u001b[39;49m\u001b[38;5;241;43m.\u001b[39;49m\u001b[43msend\u001b[49m\u001b[43m(\u001b[49m\u001b[43mprep\u001b[49m\u001b[43m,\u001b[49m\u001b[43m \u001b[49m\u001b[38;5;241;43m*\u001b[39;49m\u001b[38;5;241;43m*\u001b[39;49m\u001b[43msend_kwargs\u001b[49m\u001b[43m)\u001b[49m\n\u001b[1;32m    589\u001b[0m \u001b[38;5;28;01mreturn\u001b[39;00m resp\n",
      "File \u001b[0;32m/opt/homebrew/Caskroom/miniforge/base/envs/geo/lib/python3.10/site-packages/requests/sessions.py:701\u001b[0m, in \u001b[0;36mSession.send\u001b[0;34m(self, request, **kwargs)\u001b[0m\n\u001b[1;32m    698\u001b[0m start \u001b[38;5;241m=\u001b[39m preferred_clock()\n\u001b[1;32m    700\u001b[0m \u001b[38;5;66;03m# Send the request\u001b[39;00m\n\u001b[0;32m--> 701\u001b[0m r \u001b[38;5;241m=\u001b[39m \u001b[43madapter\u001b[49m\u001b[38;5;241;43m.\u001b[39;49m\u001b[43msend\u001b[49m\u001b[43m(\u001b[49m\u001b[43mrequest\u001b[49m\u001b[43m,\u001b[49m\u001b[43m \u001b[49m\u001b[38;5;241;43m*\u001b[39;49m\u001b[38;5;241;43m*\u001b[39;49m\u001b[43mkwargs\u001b[49m\u001b[43m)\u001b[49m\n\u001b[1;32m    703\u001b[0m \u001b[38;5;66;03m# Total elapsed time of the request (approximately)\u001b[39;00m\n\u001b[1;32m    704\u001b[0m elapsed \u001b[38;5;241m=\u001b[39m preferred_clock() \u001b[38;5;241m-\u001b[39m start\n",
      "File \u001b[0;32m/opt/homebrew/Caskroom/miniforge/base/envs/geo/lib/python3.10/site-packages/requests/adapters.py:489\u001b[0m, in \u001b[0;36mHTTPAdapter.send\u001b[0;34m(self, request, stream, timeout, verify, cert, proxies)\u001b[0m\n\u001b[1;32m    487\u001b[0m \u001b[38;5;28;01mtry\u001b[39;00m:\n\u001b[1;32m    488\u001b[0m     \u001b[38;5;28;01mif\u001b[39;00m \u001b[38;5;129;01mnot\u001b[39;00m chunked:\n\u001b[0;32m--> 489\u001b[0m         resp \u001b[38;5;241m=\u001b[39m \u001b[43mconn\u001b[49m\u001b[38;5;241;43m.\u001b[39;49m\u001b[43murlopen\u001b[49m\u001b[43m(\u001b[49m\n\u001b[1;32m    490\u001b[0m \u001b[43m            \u001b[49m\u001b[43mmethod\u001b[49m\u001b[38;5;241;43m=\u001b[39;49m\u001b[43mrequest\u001b[49m\u001b[38;5;241;43m.\u001b[39;49m\u001b[43mmethod\u001b[49m\u001b[43m,\u001b[49m\n\u001b[1;32m    491\u001b[0m \u001b[43m            \u001b[49m\u001b[43murl\u001b[49m\u001b[38;5;241;43m=\u001b[39;49m\u001b[43murl\u001b[49m\u001b[43m,\u001b[49m\n\u001b[1;32m    492\u001b[0m \u001b[43m            \u001b[49m\u001b[43mbody\u001b[49m\u001b[38;5;241;43m=\u001b[39;49m\u001b[43mrequest\u001b[49m\u001b[38;5;241;43m.\u001b[39;49m\u001b[43mbody\u001b[49m\u001b[43m,\u001b[49m\n\u001b[1;32m    493\u001b[0m \u001b[43m            \u001b[49m\u001b[43mheaders\u001b[49m\u001b[38;5;241;43m=\u001b[39;49m\u001b[43mrequest\u001b[49m\u001b[38;5;241;43m.\u001b[39;49m\u001b[43mheaders\u001b[49m\u001b[43m,\u001b[49m\n\u001b[1;32m    494\u001b[0m \u001b[43m            \u001b[49m\u001b[43mredirect\u001b[49m\u001b[38;5;241;43m=\u001b[39;49m\u001b[38;5;28;43;01mFalse\u001b[39;49;00m\u001b[43m,\u001b[49m\n\u001b[1;32m    495\u001b[0m \u001b[43m            \u001b[49m\u001b[43massert_same_host\u001b[49m\u001b[38;5;241;43m=\u001b[39;49m\u001b[38;5;28;43;01mFalse\u001b[39;49;00m\u001b[43m,\u001b[49m\n\u001b[1;32m    496\u001b[0m \u001b[43m            \u001b[49m\u001b[43mpreload_content\u001b[49m\u001b[38;5;241;43m=\u001b[39;49m\u001b[38;5;28;43;01mFalse\u001b[39;49;00m\u001b[43m,\u001b[49m\n\u001b[1;32m    497\u001b[0m \u001b[43m            \u001b[49m\u001b[43mdecode_content\u001b[49m\u001b[38;5;241;43m=\u001b[39;49m\u001b[38;5;28;43;01mFalse\u001b[39;49;00m\u001b[43m,\u001b[49m\n\u001b[1;32m    498\u001b[0m \u001b[43m            \u001b[49m\u001b[43mretries\u001b[49m\u001b[38;5;241;43m=\u001b[39;49m\u001b[38;5;28;43mself\u001b[39;49m\u001b[38;5;241;43m.\u001b[39;49m\u001b[43mmax_retries\u001b[49m\u001b[43m,\u001b[49m\n\u001b[1;32m    499\u001b[0m \u001b[43m            \u001b[49m\u001b[43mtimeout\u001b[49m\u001b[38;5;241;43m=\u001b[39;49m\u001b[43mtimeout\u001b[49m\u001b[43m,\u001b[49m\n\u001b[1;32m    500\u001b[0m \u001b[43m        \u001b[49m\u001b[43m)\u001b[49m\n\u001b[1;32m    502\u001b[0m     \u001b[38;5;66;03m# Send the request.\u001b[39;00m\n\u001b[1;32m    503\u001b[0m     \u001b[38;5;28;01melse\u001b[39;00m:\n\u001b[1;32m    504\u001b[0m         \u001b[38;5;28;01mif\u001b[39;00m \u001b[38;5;28mhasattr\u001b[39m(conn, \u001b[38;5;124m\"\u001b[39m\u001b[38;5;124mproxy_pool\u001b[39m\u001b[38;5;124m\"\u001b[39m):\n",
      "File \u001b[0;32m/opt/homebrew/Caskroom/miniforge/base/envs/geo/lib/python3.10/site-packages/urllib3/connectionpool.py:703\u001b[0m, in \u001b[0;36mHTTPConnectionPool.urlopen\u001b[0;34m(self, method, url, body, headers, retries, redirect, assert_same_host, timeout, pool_timeout, release_conn, chunked, body_pos, **response_kw)\u001b[0m\n\u001b[1;32m    700\u001b[0m     \u001b[38;5;28mself\u001b[39m\u001b[38;5;241m.\u001b[39m_prepare_proxy(conn)\n\u001b[1;32m    702\u001b[0m \u001b[38;5;66;03m# Make the request on the httplib connection object.\u001b[39;00m\n\u001b[0;32m--> 703\u001b[0m httplib_response \u001b[38;5;241m=\u001b[39m \u001b[38;5;28;43mself\u001b[39;49m\u001b[38;5;241;43m.\u001b[39;49m\u001b[43m_make_request\u001b[49m\u001b[43m(\u001b[49m\n\u001b[1;32m    704\u001b[0m \u001b[43m    \u001b[49m\u001b[43mconn\u001b[49m\u001b[43m,\u001b[49m\n\u001b[1;32m    705\u001b[0m \u001b[43m    \u001b[49m\u001b[43mmethod\u001b[49m\u001b[43m,\u001b[49m\n\u001b[1;32m    706\u001b[0m \u001b[43m    \u001b[49m\u001b[43murl\u001b[49m\u001b[43m,\u001b[49m\n\u001b[1;32m    707\u001b[0m \u001b[43m    \u001b[49m\u001b[43mtimeout\u001b[49m\u001b[38;5;241;43m=\u001b[39;49m\u001b[43mtimeout_obj\u001b[49m\u001b[43m,\u001b[49m\n\u001b[1;32m    708\u001b[0m \u001b[43m    \u001b[49m\u001b[43mbody\u001b[49m\u001b[38;5;241;43m=\u001b[39;49m\u001b[43mbody\u001b[49m\u001b[43m,\u001b[49m\n\u001b[1;32m    709\u001b[0m \u001b[43m    \u001b[49m\u001b[43mheaders\u001b[49m\u001b[38;5;241;43m=\u001b[39;49m\u001b[43mheaders\u001b[49m\u001b[43m,\u001b[49m\n\u001b[1;32m    710\u001b[0m \u001b[43m    \u001b[49m\u001b[43mchunked\u001b[49m\u001b[38;5;241;43m=\u001b[39;49m\u001b[43mchunked\u001b[49m\u001b[43m,\u001b[49m\n\u001b[1;32m    711\u001b[0m \u001b[43m\u001b[49m\u001b[43m)\u001b[49m\n\u001b[1;32m    713\u001b[0m \u001b[38;5;66;03m# If we're going to release the connection in ``finally:``, then\u001b[39;00m\n\u001b[1;32m    714\u001b[0m \u001b[38;5;66;03m# the response doesn't need to know about the connection. Otherwise\u001b[39;00m\n\u001b[1;32m    715\u001b[0m \u001b[38;5;66;03m# it will also try to release it and we'll have a double-release\u001b[39;00m\n\u001b[1;32m    716\u001b[0m \u001b[38;5;66;03m# mess.\u001b[39;00m\n\u001b[1;32m    717\u001b[0m response_conn \u001b[38;5;241m=\u001b[39m conn \u001b[38;5;28;01mif\u001b[39;00m \u001b[38;5;129;01mnot\u001b[39;00m release_conn \u001b[38;5;28;01melse\u001b[39;00m \u001b[38;5;28;01mNone\u001b[39;00m\n",
      "File \u001b[0;32m/opt/homebrew/Caskroom/miniforge/base/envs/geo/lib/python3.10/site-packages/urllib3/connectionpool.py:449\u001b[0m, in \u001b[0;36mHTTPConnectionPool._make_request\u001b[0;34m(self, conn, method, url, timeout, chunked, **httplib_request_kw)\u001b[0m\n\u001b[1;32m    444\u001b[0m             httplib_response \u001b[38;5;241m=\u001b[39m conn\u001b[38;5;241m.\u001b[39mgetresponse()\n\u001b[1;32m    445\u001b[0m         \u001b[38;5;28;01mexcept\u001b[39;00m \u001b[38;5;167;01mBaseException\u001b[39;00m \u001b[38;5;28;01mas\u001b[39;00m e:\n\u001b[1;32m    446\u001b[0m             \u001b[38;5;66;03m# Remove the TypeError from the exception chain in\u001b[39;00m\n\u001b[1;32m    447\u001b[0m             \u001b[38;5;66;03m# Python 3 (including for exceptions like SystemExit).\u001b[39;00m\n\u001b[1;32m    448\u001b[0m             \u001b[38;5;66;03m# Otherwise it looks like a bug in the code.\u001b[39;00m\n\u001b[0;32m--> 449\u001b[0m             \u001b[43msix\u001b[49m\u001b[38;5;241;43m.\u001b[39;49m\u001b[43mraise_from\u001b[49m\u001b[43m(\u001b[49m\u001b[43me\u001b[49m\u001b[43m,\u001b[49m\u001b[43m \u001b[49m\u001b[38;5;28;43;01mNone\u001b[39;49;00m\u001b[43m)\u001b[49m\n\u001b[1;32m    450\u001b[0m \u001b[38;5;28;01mexcept\u001b[39;00m (SocketTimeout, BaseSSLError, SocketError) \u001b[38;5;28;01mas\u001b[39;00m e:\n\u001b[1;32m    451\u001b[0m     \u001b[38;5;28mself\u001b[39m\u001b[38;5;241m.\u001b[39m_raise_timeout(err\u001b[38;5;241m=\u001b[39me, url\u001b[38;5;241m=\u001b[39murl, timeout_value\u001b[38;5;241m=\u001b[39mread_timeout)\n",
      "File \u001b[0;32m<string>:3\u001b[0m, in \u001b[0;36mraise_from\u001b[0;34m(value, from_value)\u001b[0m\n",
      "File \u001b[0;32m/opt/homebrew/Caskroom/miniforge/base/envs/geo/lib/python3.10/site-packages/urllib3/connectionpool.py:444\u001b[0m, in \u001b[0;36mHTTPConnectionPool._make_request\u001b[0;34m(self, conn, method, url, timeout, chunked, **httplib_request_kw)\u001b[0m\n\u001b[1;32m    441\u001b[0m \u001b[38;5;28;01mexcept\u001b[39;00m \u001b[38;5;167;01mTypeError\u001b[39;00m:\n\u001b[1;32m    442\u001b[0m     \u001b[38;5;66;03m# Python 3\u001b[39;00m\n\u001b[1;32m    443\u001b[0m     \u001b[38;5;28;01mtry\u001b[39;00m:\n\u001b[0;32m--> 444\u001b[0m         httplib_response \u001b[38;5;241m=\u001b[39m \u001b[43mconn\u001b[49m\u001b[38;5;241;43m.\u001b[39;49m\u001b[43mgetresponse\u001b[49m\u001b[43m(\u001b[49m\u001b[43m)\u001b[49m\n\u001b[1;32m    445\u001b[0m     \u001b[38;5;28;01mexcept\u001b[39;00m \u001b[38;5;167;01mBaseException\u001b[39;00m \u001b[38;5;28;01mas\u001b[39;00m e:\n\u001b[1;32m    446\u001b[0m         \u001b[38;5;66;03m# Remove the TypeError from the exception chain in\u001b[39;00m\n\u001b[1;32m    447\u001b[0m         \u001b[38;5;66;03m# Python 3 (including for exceptions like SystemExit).\u001b[39;00m\n\u001b[1;32m    448\u001b[0m         \u001b[38;5;66;03m# Otherwise it looks like a bug in the code.\u001b[39;00m\n\u001b[1;32m    449\u001b[0m         six\u001b[38;5;241m.\u001b[39mraise_from(e, \u001b[38;5;28;01mNone\u001b[39;00m)\n",
      "File \u001b[0;32m/opt/homebrew/Caskroom/miniforge/base/envs/geo/lib/python3.10/http/client.py:1374\u001b[0m, in \u001b[0;36mHTTPConnection.getresponse\u001b[0;34m(self)\u001b[0m\n\u001b[1;32m   1372\u001b[0m \u001b[38;5;28;01mtry\u001b[39;00m:\n\u001b[1;32m   1373\u001b[0m     \u001b[38;5;28;01mtry\u001b[39;00m:\n\u001b[0;32m-> 1374\u001b[0m         \u001b[43mresponse\u001b[49m\u001b[38;5;241;43m.\u001b[39;49m\u001b[43mbegin\u001b[49m\u001b[43m(\u001b[49m\u001b[43m)\u001b[49m\n\u001b[1;32m   1375\u001b[0m     \u001b[38;5;28;01mexcept\u001b[39;00m \u001b[38;5;167;01mConnectionError\u001b[39;00m:\n\u001b[1;32m   1376\u001b[0m         \u001b[38;5;28mself\u001b[39m\u001b[38;5;241m.\u001b[39mclose()\n",
      "File \u001b[0;32m/opt/homebrew/Caskroom/miniforge/base/envs/geo/lib/python3.10/http/client.py:318\u001b[0m, in \u001b[0;36mHTTPResponse.begin\u001b[0;34m(self)\u001b[0m\n\u001b[1;32m    316\u001b[0m \u001b[38;5;66;03m# read until we get a non-100 response\u001b[39;00m\n\u001b[1;32m    317\u001b[0m \u001b[38;5;28;01mwhile\u001b[39;00m \u001b[38;5;28;01mTrue\u001b[39;00m:\n\u001b[0;32m--> 318\u001b[0m     version, status, reason \u001b[38;5;241m=\u001b[39m \u001b[38;5;28;43mself\u001b[39;49m\u001b[38;5;241;43m.\u001b[39;49m\u001b[43m_read_status\u001b[49m\u001b[43m(\u001b[49m\u001b[43m)\u001b[49m\n\u001b[1;32m    319\u001b[0m     \u001b[38;5;28;01mif\u001b[39;00m status \u001b[38;5;241m!=\u001b[39m CONTINUE:\n\u001b[1;32m    320\u001b[0m         \u001b[38;5;28;01mbreak\u001b[39;00m\n",
      "File \u001b[0;32m/opt/homebrew/Caskroom/miniforge/base/envs/geo/lib/python3.10/http/client.py:279\u001b[0m, in \u001b[0;36mHTTPResponse._read_status\u001b[0;34m(self)\u001b[0m\n\u001b[1;32m    278\u001b[0m \u001b[38;5;28;01mdef\u001b[39;00m \u001b[38;5;21m_read_status\u001b[39m(\u001b[38;5;28mself\u001b[39m):\n\u001b[0;32m--> 279\u001b[0m     line \u001b[38;5;241m=\u001b[39m \u001b[38;5;28mstr\u001b[39m(\u001b[38;5;28;43mself\u001b[39;49m\u001b[38;5;241;43m.\u001b[39;49m\u001b[43mfp\u001b[49m\u001b[38;5;241;43m.\u001b[39;49m\u001b[43mreadline\u001b[49m\u001b[43m(\u001b[49m\u001b[43m_MAXLINE\u001b[49m\u001b[43m \u001b[49m\u001b[38;5;241;43m+\u001b[39;49m\u001b[43m \u001b[49m\u001b[38;5;241;43m1\u001b[39;49m\u001b[43m)\u001b[49m, \u001b[38;5;124m\"\u001b[39m\u001b[38;5;124miso-8859-1\u001b[39m\u001b[38;5;124m\"\u001b[39m)\n\u001b[1;32m    280\u001b[0m     \u001b[38;5;28;01mif\u001b[39;00m \u001b[38;5;28mlen\u001b[39m(line) \u001b[38;5;241m>\u001b[39m _MAXLINE:\n\u001b[1;32m    281\u001b[0m         \u001b[38;5;28;01mraise\u001b[39;00m LineTooLong(\u001b[38;5;124m\"\u001b[39m\u001b[38;5;124mstatus line\u001b[39m\u001b[38;5;124m\"\u001b[39m)\n",
      "File \u001b[0;32m/opt/homebrew/Caskroom/miniforge/base/envs/geo/lib/python3.10/socket.py:705\u001b[0m, in \u001b[0;36mSocketIO.readinto\u001b[0;34m(self, b)\u001b[0m\n\u001b[1;32m    703\u001b[0m \u001b[38;5;28;01mwhile\u001b[39;00m \u001b[38;5;28;01mTrue\u001b[39;00m:\n\u001b[1;32m    704\u001b[0m     \u001b[38;5;28;01mtry\u001b[39;00m:\n\u001b[0;32m--> 705\u001b[0m         \u001b[38;5;28;01mreturn\u001b[39;00m \u001b[38;5;28;43mself\u001b[39;49m\u001b[38;5;241;43m.\u001b[39;49m\u001b[43m_sock\u001b[49m\u001b[38;5;241;43m.\u001b[39;49m\u001b[43mrecv_into\u001b[49m\u001b[43m(\u001b[49m\u001b[43mb\u001b[49m\u001b[43m)\u001b[49m\n\u001b[1;32m    706\u001b[0m     \u001b[38;5;28;01mexcept\u001b[39;00m timeout:\n\u001b[1;32m    707\u001b[0m         \u001b[38;5;28mself\u001b[39m\u001b[38;5;241m.\u001b[39m_timeout_occurred \u001b[38;5;241m=\u001b[39m \u001b[38;5;28;01mTrue\u001b[39;00m\n",
      "File \u001b[0;32m/opt/homebrew/Caskroom/miniforge/base/envs/geo/lib/python3.10/ssl.py:1274\u001b[0m, in \u001b[0;36mSSLSocket.recv_into\u001b[0;34m(self, buffer, nbytes, flags)\u001b[0m\n\u001b[1;32m   1270\u001b[0m     \u001b[38;5;28;01mif\u001b[39;00m flags \u001b[38;5;241m!=\u001b[39m \u001b[38;5;241m0\u001b[39m:\n\u001b[1;32m   1271\u001b[0m         \u001b[38;5;28;01mraise\u001b[39;00m \u001b[38;5;167;01mValueError\u001b[39;00m(\n\u001b[1;32m   1272\u001b[0m           \u001b[38;5;124m\"\u001b[39m\u001b[38;5;124mnon-zero flags not allowed in calls to recv_into() on \u001b[39m\u001b[38;5;132;01m%s\u001b[39;00m\u001b[38;5;124m\"\u001b[39m \u001b[38;5;241m%\u001b[39m\n\u001b[1;32m   1273\u001b[0m           \u001b[38;5;28mself\u001b[39m\u001b[38;5;241m.\u001b[39m\u001b[38;5;18m__class__\u001b[39m)\n\u001b[0;32m-> 1274\u001b[0m     \u001b[38;5;28;01mreturn\u001b[39;00m \u001b[38;5;28;43mself\u001b[39;49m\u001b[38;5;241;43m.\u001b[39;49m\u001b[43mread\u001b[49m\u001b[43m(\u001b[49m\u001b[43mnbytes\u001b[49m\u001b[43m,\u001b[49m\u001b[43m \u001b[49m\u001b[43mbuffer\u001b[49m\u001b[43m)\u001b[49m\n\u001b[1;32m   1275\u001b[0m \u001b[38;5;28;01melse\u001b[39;00m:\n\u001b[1;32m   1276\u001b[0m     \u001b[38;5;28;01mreturn\u001b[39;00m \u001b[38;5;28msuper\u001b[39m()\u001b[38;5;241m.\u001b[39mrecv_into(buffer, nbytes, flags)\n",
      "File \u001b[0;32m/opt/homebrew/Caskroom/miniforge/base/envs/geo/lib/python3.10/ssl.py:1130\u001b[0m, in \u001b[0;36mSSLSocket.read\u001b[0;34m(self, len, buffer)\u001b[0m\n\u001b[1;32m   1128\u001b[0m \u001b[38;5;28;01mtry\u001b[39;00m:\n\u001b[1;32m   1129\u001b[0m     \u001b[38;5;28;01mif\u001b[39;00m buffer \u001b[38;5;129;01mis\u001b[39;00m \u001b[38;5;129;01mnot\u001b[39;00m \u001b[38;5;28;01mNone\u001b[39;00m:\n\u001b[0;32m-> 1130\u001b[0m         \u001b[38;5;28;01mreturn\u001b[39;00m \u001b[38;5;28;43mself\u001b[39;49m\u001b[38;5;241;43m.\u001b[39;49m\u001b[43m_sslobj\u001b[49m\u001b[38;5;241;43m.\u001b[39;49m\u001b[43mread\u001b[49m\u001b[43m(\u001b[49m\u001b[38;5;28;43mlen\u001b[39;49m\u001b[43m,\u001b[49m\u001b[43m \u001b[49m\u001b[43mbuffer\u001b[49m\u001b[43m)\u001b[49m\n\u001b[1;32m   1131\u001b[0m     \u001b[38;5;28;01melse\u001b[39;00m:\n\u001b[1;32m   1132\u001b[0m         \u001b[38;5;28;01mreturn\u001b[39;00m \u001b[38;5;28mself\u001b[39m\u001b[38;5;241m.\u001b[39m_sslobj\u001b[38;5;241m.\u001b[39mread(\u001b[38;5;28mlen\u001b[39m)\n",
      "\u001b[0;31mKeyboardInterrupt\u001b[0m: "
     ]
    }
   ],
   "source": [
    "data = perform_venue_search(search_area_coords, initial_search_radius, \n",
    "                            cats, time_between_updates)"
   ]
  },
  {
   "cell_type": "code",
   "execution_count": 48,
   "id": "be5d4202-17a7-4d22-879e-7230c803179e",
   "metadata": {},
   "outputs": [
    {
     "ename": "KeyboardInterrupt",
     "evalue": "",
     "output_type": "error",
     "traceback": [
      "\u001b[0;31m---------------------------------------------------------------------------\u001b[0m",
      "\u001b[0;31mKeyboardInterrupt\u001b[0m                         Traceback (most recent call last)",
      "Input \u001b[0;32mIn [48]\u001b[0m, in \u001b[0;36m<cell line: 24>\u001b[0;34m()\u001b[0m\n\u001b[1;32m     39\u001b[0m total_calls \u001b[38;5;241m+\u001b[39m\u001b[38;5;241m=\u001b[39m \u001b[38;5;241m1\u001b[39m\n\u001b[1;32m     40\u001b[0m \u001b[38;5;66;03m# Make API call to search for venues from search location\u001b[39;00m\n\u001b[0;32m---> 41\u001b[0m response \u001b[38;5;241m=\u001b[39m \u001b[43mapi_call\u001b[49m\u001b[43m(\u001b[49m\u001b[43mlat_long\u001b[49m\u001b[43m,\u001b[49m\u001b[43m \u001b[49m\u001b[43msearch_radius\u001b[49m\u001b[43m,\u001b[49m\u001b[43m \u001b[49m\u001b[43mcats\u001b[49m\u001b[43m,\u001b[49m\u001b[43m \u001b[49m\u001b[43mkey\u001b[49m\u001b[43m)\u001b[49m\n\u001b[1;32m     42\u001b[0m \u001b[38;5;66;03m# If response status code isnt 200, there was an API error. Print \u001b[39;00m\n\u001b[1;32m     43\u001b[0m \u001b[38;5;66;03m# the API error, wait 5 seconds and try API call again. Loop until \u001b[39;00m\n\u001b[1;32m     44\u001b[0m \u001b[38;5;66;03m# status 200 code returned by API. \u001b[39;00m\n\u001b[1;32m     45\u001b[0m \u001b[38;5;28;01mwhile\u001b[39;00m response\u001b[38;5;241m.\u001b[39mstatus_code \u001b[38;5;241m!=\u001b[39m \u001b[38;5;241m200\u001b[39m:\n",
      "File \u001b[0;32m/opt/homebrew/Caskroom/miniforge/base/envs/geo/lib/python3.10/site-packages/ratelimiter.py:75\u001b[0m, in \u001b[0;36mRateLimiter.__call__.<locals>.wrapped\u001b[0;34m(*args, **kwargs)\u001b[0m\n\u001b[1;32m     72\u001b[0m \u001b[38;5;129m@functools\u001b[39m\u001b[38;5;241m.\u001b[39mwraps(f)\n\u001b[1;32m     73\u001b[0m \u001b[38;5;28;01mdef\u001b[39;00m \u001b[38;5;21mwrapped\u001b[39m(\u001b[38;5;241m*\u001b[39margs, \u001b[38;5;241m*\u001b[39m\u001b[38;5;241m*\u001b[39mkwargs):\n\u001b[1;32m     74\u001b[0m     \u001b[38;5;28;01mwith\u001b[39;00m \u001b[38;5;28mself\u001b[39m:\n\u001b[0;32m---> 75\u001b[0m         \u001b[38;5;28;01mreturn\u001b[39;00m \u001b[43mf\u001b[49m\u001b[43m(\u001b[49m\u001b[38;5;241;43m*\u001b[39;49m\u001b[43margs\u001b[49m\u001b[43m,\u001b[49m\u001b[43m \u001b[49m\u001b[38;5;241;43m*\u001b[39;49m\u001b[38;5;241;43m*\u001b[39;49m\u001b[43mkwargs\u001b[49m\u001b[43m)\u001b[49m\n",
      "Input \u001b[0;32mIn [3]\u001b[0m, in \u001b[0;36mapi_call\u001b[0;34m(long_lat, radius, cats, key)\u001b[0m\n\u001b[1;32m     35\u001b[0m \u001b[38;5;66;03m# Defines headers required in Place Search API call\u001b[39;00m\n\u001b[1;32m     36\u001b[0m headers \u001b[38;5;241m=\u001b[39m {\n\u001b[1;32m     37\u001b[0m     \u001b[38;5;124m\"\u001b[39m\u001b[38;5;124mAccept\u001b[39m\u001b[38;5;124m\"\u001b[39m: \u001b[38;5;124m\"\u001b[39m\u001b[38;5;124mapplication/json\u001b[39m\u001b[38;5;124m\"\u001b[39m,\n\u001b[1;32m     38\u001b[0m     \u001b[38;5;124m\"\u001b[39m\u001b[38;5;124mAuthorization\u001b[39m\u001b[38;5;124m\"\u001b[39m: key\n\u001b[1;32m     39\u001b[0m }\n\u001b[0;32m---> 41\u001b[0m \u001b[38;5;28;01mreturn\u001b[39;00m \u001b[43mrequests\u001b[49m\u001b[38;5;241;43m.\u001b[39;49m\u001b[43mrequest\u001b[49m\u001b[43m(\u001b[49m\u001b[38;5;124;43m\"\u001b[39;49m\u001b[38;5;124;43mGET\u001b[39;49m\u001b[38;5;124;43m\"\u001b[39;49m\u001b[43m,\u001b[49m\u001b[43m \u001b[49m\u001b[43msearch_url\u001b[49m\u001b[43m,\u001b[49m\u001b[43m \u001b[49m\u001b[43mheaders\u001b[49m\u001b[43m \u001b[49m\u001b[38;5;241;43m=\u001b[39;49m\u001b[43m \u001b[49m\u001b[43mheaders\u001b[49m\u001b[43m,\u001b[49m\u001b[43m \u001b[49m\u001b[43mparams\u001b[49m\u001b[43m \u001b[49m\u001b[38;5;241;43m=\u001b[39;49m\u001b[43m \u001b[49m\u001b[43mparams\u001b[49m\u001b[43m)\u001b[49m\n",
      "File \u001b[0;32m/opt/homebrew/Caskroom/miniforge/base/envs/geo/lib/python3.10/site-packages/requests/api.py:59\u001b[0m, in \u001b[0;36mrequest\u001b[0;34m(method, url, **kwargs)\u001b[0m\n\u001b[1;32m     55\u001b[0m \u001b[38;5;66;03m# By using the 'with' statement we are sure the session is closed, thus we\u001b[39;00m\n\u001b[1;32m     56\u001b[0m \u001b[38;5;66;03m# avoid leaving sockets open which can trigger a ResourceWarning in some\u001b[39;00m\n\u001b[1;32m     57\u001b[0m \u001b[38;5;66;03m# cases, and look like a memory leak in others.\u001b[39;00m\n\u001b[1;32m     58\u001b[0m \u001b[38;5;28;01mwith\u001b[39;00m sessions\u001b[38;5;241m.\u001b[39mSession() \u001b[38;5;28;01mas\u001b[39;00m session:\n\u001b[0;32m---> 59\u001b[0m     \u001b[38;5;28;01mreturn\u001b[39;00m \u001b[43msession\u001b[49m\u001b[38;5;241;43m.\u001b[39;49m\u001b[43mrequest\u001b[49m\u001b[43m(\u001b[49m\u001b[43mmethod\u001b[49m\u001b[38;5;241;43m=\u001b[39;49m\u001b[43mmethod\u001b[49m\u001b[43m,\u001b[49m\u001b[43m \u001b[49m\u001b[43murl\u001b[49m\u001b[38;5;241;43m=\u001b[39;49m\u001b[43murl\u001b[49m\u001b[43m,\u001b[49m\u001b[43m \u001b[49m\u001b[38;5;241;43m*\u001b[39;49m\u001b[38;5;241;43m*\u001b[39;49m\u001b[43mkwargs\u001b[49m\u001b[43m)\u001b[49m\n",
      "File \u001b[0;32m/opt/homebrew/Caskroom/miniforge/base/envs/geo/lib/python3.10/site-packages/requests/sessions.py:587\u001b[0m, in \u001b[0;36mSession.request\u001b[0;34m(self, method, url, params, data, headers, cookies, files, auth, timeout, allow_redirects, proxies, hooks, stream, verify, cert, json)\u001b[0m\n\u001b[1;32m    582\u001b[0m send_kwargs \u001b[38;5;241m=\u001b[39m {\n\u001b[1;32m    583\u001b[0m     \u001b[38;5;124m\"\u001b[39m\u001b[38;5;124mtimeout\u001b[39m\u001b[38;5;124m\"\u001b[39m: timeout,\n\u001b[1;32m    584\u001b[0m     \u001b[38;5;124m\"\u001b[39m\u001b[38;5;124mallow_redirects\u001b[39m\u001b[38;5;124m\"\u001b[39m: allow_redirects,\n\u001b[1;32m    585\u001b[0m }\n\u001b[1;32m    586\u001b[0m send_kwargs\u001b[38;5;241m.\u001b[39mupdate(settings)\n\u001b[0;32m--> 587\u001b[0m resp \u001b[38;5;241m=\u001b[39m \u001b[38;5;28;43mself\u001b[39;49m\u001b[38;5;241;43m.\u001b[39;49m\u001b[43msend\u001b[49m\u001b[43m(\u001b[49m\u001b[43mprep\u001b[49m\u001b[43m,\u001b[49m\u001b[43m \u001b[49m\u001b[38;5;241;43m*\u001b[39;49m\u001b[38;5;241;43m*\u001b[39;49m\u001b[43msend_kwargs\u001b[49m\u001b[43m)\u001b[49m\n\u001b[1;32m    589\u001b[0m \u001b[38;5;28;01mreturn\u001b[39;00m resp\n",
      "File \u001b[0;32m/opt/homebrew/Caskroom/miniforge/base/envs/geo/lib/python3.10/site-packages/requests/sessions.py:701\u001b[0m, in \u001b[0;36mSession.send\u001b[0;34m(self, request, **kwargs)\u001b[0m\n\u001b[1;32m    698\u001b[0m start \u001b[38;5;241m=\u001b[39m preferred_clock()\n\u001b[1;32m    700\u001b[0m \u001b[38;5;66;03m# Send the request\u001b[39;00m\n\u001b[0;32m--> 701\u001b[0m r \u001b[38;5;241m=\u001b[39m \u001b[43madapter\u001b[49m\u001b[38;5;241;43m.\u001b[39;49m\u001b[43msend\u001b[49m\u001b[43m(\u001b[49m\u001b[43mrequest\u001b[49m\u001b[43m,\u001b[49m\u001b[43m \u001b[49m\u001b[38;5;241;43m*\u001b[39;49m\u001b[38;5;241;43m*\u001b[39;49m\u001b[43mkwargs\u001b[49m\u001b[43m)\u001b[49m\n\u001b[1;32m    703\u001b[0m \u001b[38;5;66;03m# Total elapsed time of the request (approximately)\u001b[39;00m\n\u001b[1;32m    704\u001b[0m elapsed \u001b[38;5;241m=\u001b[39m preferred_clock() \u001b[38;5;241m-\u001b[39m start\n",
      "File \u001b[0;32m/opt/homebrew/Caskroom/miniforge/base/envs/geo/lib/python3.10/site-packages/requests/adapters.py:489\u001b[0m, in \u001b[0;36mHTTPAdapter.send\u001b[0;34m(self, request, stream, timeout, verify, cert, proxies)\u001b[0m\n\u001b[1;32m    487\u001b[0m \u001b[38;5;28;01mtry\u001b[39;00m:\n\u001b[1;32m    488\u001b[0m     \u001b[38;5;28;01mif\u001b[39;00m \u001b[38;5;129;01mnot\u001b[39;00m chunked:\n\u001b[0;32m--> 489\u001b[0m         resp \u001b[38;5;241m=\u001b[39m \u001b[43mconn\u001b[49m\u001b[38;5;241;43m.\u001b[39;49m\u001b[43murlopen\u001b[49m\u001b[43m(\u001b[49m\n\u001b[1;32m    490\u001b[0m \u001b[43m            \u001b[49m\u001b[43mmethod\u001b[49m\u001b[38;5;241;43m=\u001b[39;49m\u001b[43mrequest\u001b[49m\u001b[38;5;241;43m.\u001b[39;49m\u001b[43mmethod\u001b[49m\u001b[43m,\u001b[49m\n\u001b[1;32m    491\u001b[0m \u001b[43m            \u001b[49m\u001b[43murl\u001b[49m\u001b[38;5;241;43m=\u001b[39;49m\u001b[43murl\u001b[49m\u001b[43m,\u001b[49m\n\u001b[1;32m    492\u001b[0m \u001b[43m            \u001b[49m\u001b[43mbody\u001b[49m\u001b[38;5;241;43m=\u001b[39;49m\u001b[43mrequest\u001b[49m\u001b[38;5;241;43m.\u001b[39;49m\u001b[43mbody\u001b[49m\u001b[43m,\u001b[49m\n\u001b[1;32m    493\u001b[0m \u001b[43m            \u001b[49m\u001b[43mheaders\u001b[49m\u001b[38;5;241;43m=\u001b[39;49m\u001b[43mrequest\u001b[49m\u001b[38;5;241;43m.\u001b[39;49m\u001b[43mheaders\u001b[49m\u001b[43m,\u001b[49m\n\u001b[1;32m    494\u001b[0m \u001b[43m            \u001b[49m\u001b[43mredirect\u001b[49m\u001b[38;5;241;43m=\u001b[39;49m\u001b[38;5;28;43;01mFalse\u001b[39;49;00m\u001b[43m,\u001b[49m\n\u001b[1;32m    495\u001b[0m \u001b[43m            \u001b[49m\u001b[43massert_same_host\u001b[49m\u001b[38;5;241;43m=\u001b[39;49m\u001b[38;5;28;43;01mFalse\u001b[39;49;00m\u001b[43m,\u001b[49m\n\u001b[1;32m    496\u001b[0m \u001b[43m            \u001b[49m\u001b[43mpreload_content\u001b[49m\u001b[38;5;241;43m=\u001b[39;49m\u001b[38;5;28;43;01mFalse\u001b[39;49;00m\u001b[43m,\u001b[49m\n\u001b[1;32m    497\u001b[0m \u001b[43m            \u001b[49m\u001b[43mdecode_content\u001b[49m\u001b[38;5;241;43m=\u001b[39;49m\u001b[38;5;28;43;01mFalse\u001b[39;49;00m\u001b[43m,\u001b[49m\n\u001b[1;32m    498\u001b[0m \u001b[43m            \u001b[49m\u001b[43mretries\u001b[49m\u001b[38;5;241;43m=\u001b[39;49m\u001b[38;5;28;43mself\u001b[39;49m\u001b[38;5;241;43m.\u001b[39;49m\u001b[43mmax_retries\u001b[49m\u001b[43m,\u001b[49m\n\u001b[1;32m    499\u001b[0m \u001b[43m            \u001b[49m\u001b[43mtimeout\u001b[49m\u001b[38;5;241;43m=\u001b[39;49m\u001b[43mtimeout\u001b[49m\u001b[43m,\u001b[49m\n\u001b[1;32m    500\u001b[0m \u001b[43m        \u001b[49m\u001b[43m)\u001b[49m\n\u001b[1;32m    502\u001b[0m     \u001b[38;5;66;03m# Send the request.\u001b[39;00m\n\u001b[1;32m    503\u001b[0m     \u001b[38;5;28;01melse\u001b[39;00m:\n\u001b[1;32m    504\u001b[0m         \u001b[38;5;28;01mif\u001b[39;00m \u001b[38;5;28mhasattr\u001b[39m(conn, \u001b[38;5;124m\"\u001b[39m\u001b[38;5;124mproxy_pool\u001b[39m\u001b[38;5;124m\"\u001b[39m):\n",
      "File \u001b[0;32m/opt/homebrew/Caskroom/miniforge/base/envs/geo/lib/python3.10/site-packages/urllib3/connectionpool.py:703\u001b[0m, in \u001b[0;36mHTTPConnectionPool.urlopen\u001b[0;34m(self, method, url, body, headers, retries, redirect, assert_same_host, timeout, pool_timeout, release_conn, chunked, body_pos, **response_kw)\u001b[0m\n\u001b[1;32m    700\u001b[0m     \u001b[38;5;28mself\u001b[39m\u001b[38;5;241m.\u001b[39m_prepare_proxy(conn)\n\u001b[1;32m    702\u001b[0m \u001b[38;5;66;03m# Make the request on the httplib connection object.\u001b[39;00m\n\u001b[0;32m--> 703\u001b[0m httplib_response \u001b[38;5;241m=\u001b[39m \u001b[38;5;28;43mself\u001b[39;49m\u001b[38;5;241;43m.\u001b[39;49m\u001b[43m_make_request\u001b[49m\u001b[43m(\u001b[49m\n\u001b[1;32m    704\u001b[0m \u001b[43m    \u001b[49m\u001b[43mconn\u001b[49m\u001b[43m,\u001b[49m\n\u001b[1;32m    705\u001b[0m \u001b[43m    \u001b[49m\u001b[43mmethod\u001b[49m\u001b[43m,\u001b[49m\n\u001b[1;32m    706\u001b[0m \u001b[43m    \u001b[49m\u001b[43murl\u001b[49m\u001b[43m,\u001b[49m\n\u001b[1;32m    707\u001b[0m \u001b[43m    \u001b[49m\u001b[43mtimeout\u001b[49m\u001b[38;5;241;43m=\u001b[39;49m\u001b[43mtimeout_obj\u001b[49m\u001b[43m,\u001b[49m\n\u001b[1;32m    708\u001b[0m \u001b[43m    \u001b[49m\u001b[43mbody\u001b[49m\u001b[38;5;241;43m=\u001b[39;49m\u001b[43mbody\u001b[49m\u001b[43m,\u001b[49m\n\u001b[1;32m    709\u001b[0m \u001b[43m    \u001b[49m\u001b[43mheaders\u001b[49m\u001b[38;5;241;43m=\u001b[39;49m\u001b[43mheaders\u001b[49m\u001b[43m,\u001b[49m\n\u001b[1;32m    710\u001b[0m \u001b[43m    \u001b[49m\u001b[43mchunked\u001b[49m\u001b[38;5;241;43m=\u001b[39;49m\u001b[43mchunked\u001b[49m\u001b[43m,\u001b[49m\n\u001b[1;32m    711\u001b[0m \u001b[43m\u001b[49m\u001b[43m)\u001b[49m\n\u001b[1;32m    713\u001b[0m \u001b[38;5;66;03m# If we're going to release the connection in ``finally:``, then\u001b[39;00m\n\u001b[1;32m    714\u001b[0m \u001b[38;5;66;03m# the response doesn't need to know about the connection. Otherwise\u001b[39;00m\n\u001b[1;32m    715\u001b[0m \u001b[38;5;66;03m# it will also try to release it and we'll have a double-release\u001b[39;00m\n\u001b[1;32m    716\u001b[0m \u001b[38;5;66;03m# mess.\u001b[39;00m\n\u001b[1;32m    717\u001b[0m response_conn \u001b[38;5;241m=\u001b[39m conn \u001b[38;5;28;01mif\u001b[39;00m \u001b[38;5;129;01mnot\u001b[39;00m release_conn \u001b[38;5;28;01melse\u001b[39;00m \u001b[38;5;28;01mNone\u001b[39;00m\n",
      "File \u001b[0;32m/opt/homebrew/Caskroom/miniforge/base/envs/geo/lib/python3.10/site-packages/urllib3/connectionpool.py:449\u001b[0m, in \u001b[0;36mHTTPConnectionPool._make_request\u001b[0;34m(self, conn, method, url, timeout, chunked, **httplib_request_kw)\u001b[0m\n\u001b[1;32m    444\u001b[0m             httplib_response \u001b[38;5;241m=\u001b[39m conn\u001b[38;5;241m.\u001b[39mgetresponse()\n\u001b[1;32m    445\u001b[0m         \u001b[38;5;28;01mexcept\u001b[39;00m \u001b[38;5;167;01mBaseException\u001b[39;00m \u001b[38;5;28;01mas\u001b[39;00m e:\n\u001b[1;32m    446\u001b[0m             \u001b[38;5;66;03m# Remove the TypeError from the exception chain in\u001b[39;00m\n\u001b[1;32m    447\u001b[0m             \u001b[38;5;66;03m# Python 3 (including for exceptions like SystemExit).\u001b[39;00m\n\u001b[1;32m    448\u001b[0m             \u001b[38;5;66;03m# Otherwise it looks like a bug in the code.\u001b[39;00m\n\u001b[0;32m--> 449\u001b[0m             \u001b[43msix\u001b[49m\u001b[38;5;241;43m.\u001b[39;49m\u001b[43mraise_from\u001b[49m\u001b[43m(\u001b[49m\u001b[43me\u001b[49m\u001b[43m,\u001b[49m\u001b[43m \u001b[49m\u001b[38;5;28;43;01mNone\u001b[39;49;00m\u001b[43m)\u001b[49m\n\u001b[1;32m    450\u001b[0m \u001b[38;5;28;01mexcept\u001b[39;00m (SocketTimeout, BaseSSLError, SocketError) \u001b[38;5;28;01mas\u001b[39;00m e:\n\u001b[1;32m    451\u001b[0m     \u001b[38;5;28mself\u001b[39m\u001b[38;5;241m.\u001b[39m_raise_timeout(err\u001b[38;5;241m=\u001b[39me, url\u001b[38;5;241m=\u001b[39murl, timeout_value\u001b[38;5;241m=\u001b[39mread_timeout)\n",
      "File \u001b[0;32m<string>:3\u001b[0m, in \u001b[0;36mraise_from\u001b[0;34m(value, from_value)\u001b[0m\n",
      "File \u001b[0;32m/opt/homebrew/Caskroom/miniforge/base/envs/geo/lib/python3.10/site-packages/urllib3/connectionpool.py:444\u001b[0m, in \u001b[0;36mHTTPConnectionPool._make_request\u001b[0;34m(self, conn, method, url, timeout, chunked, **httplib_request_kw)\u001b[0m\n\u001b[1;32m    441\u001b[0m \u001b[38;5;28;01mexcept\u001b[39;00m \u001b[38;5;167;01mTypeError\u001b[39;00m:\n\u001b[1;32m    442\u001b[0m     \u001b[38;5;66;03m# Python 3\u001b[39;00m\n\u001b[1;32m    443\u001b[0m     \u001b[38;5;28;01mtry\u001b[39;00m:\n\u001b[0;32m--> 444\u001b[0m         httplib_response \u001b[38;5;241m=\u001b[39m \u001b[43mconn\u001b[49m\u001b[38;5;241;43m.\u001b[39;49m\u001b[43mgetresponse\u001b[49m\u001b[43m(\u001b[49m\u001b[43m)\u001b[49m\n\u001b[1;32m    445\u001b[0m     \u001b[38;5;28;01mexcept\u001b[39;00m \u001b[38;5;167;01mBaseException\u001b[39;00m \u001b[38;5;28;01mas\u001b[39;00m e:\n\u001b[1;32m    446\u001b[0m         \u001b[38;5;66;03m# Remove the TypeError from the exception chain in\u001b[39;00m\n\u001b[1;32m    447\u001b[0m         \u001b[38;5;66;03m# Python 3 (including for exceptions like SystemExit).\u001b[39;00m\n\u001b[1;32m    448\u001b[0m         \u001b[38;5;66;03m# Otherwise it looks like a bug in the code.\u001b[39;00m\n\u001b[1;32m    449\u001b[0m         six\u001b[38;5;241m.\u001b[39mraise_from(e, \u001b[38;5;28;01mNone\u001b[39;00m)\n",
      "File \u001b[0;32m/opt/homebrew/Caskroom/miniforge/base/envs/geo/lib/python3.10/http/client.py:1374\u001b[0m, in \u001b[0;36mHTTPConnection.getresponse\u001b[0;34m(self)\u001b[0m\n\u001b[1;32m   1372\u001b[0m \u001b[38;5;28;01mtry\u001b[39;00m:\n\u001b[1;32m   1373\u001b[0m     \u001b[38;5;28;01mtry\u001b[39;00m:\n\u001b[0;32m-> 1374\u001b[0m         \u001b[43mresponse\u001b[49m\u001b[38;5;241;43m.\u001b[39;49m\u001b[43mbegin\u001b[49m\u001b[43m(\u001b[49m\u001b[43m)\u001b[49m\n\u001b[1;32m   1375\u001b[0m     \u001b[38;5;28;01mexcept\u001b[39;00m \u001b[38;5;167;01mConnectionError\u001b[39;00m:\n\u001b[1;32m   1376\u001b[0m         \u001b[38;5;28mself\u001b[39m\u001b[38;5;241m.\u001b[39mclose()\n",
      "File \u001b[0;32m/opt/homebrew/Caskroom/miniforge/base/envs/geo/lib/python3.10/http/client.py:318\u001b[0m, in \u001b[0;36mHTTPResponse.begin\u001b[0;34m(self)\u001b[0m\n\u001b[1;32m    316\u001b[0m \u001b[38;5;66;03m# read until we get a non-100 response\u001b[39;00m\n\u001b[1;32m    317\u001b[0m \u001b[38;5;28;01mwhile\u001b[39;00m \u001b[38;5;28;01mTrue\u001b[39;00m:\n\u001b[0;32m--> 318\u001b[0m     version, status, reason \u001b[38;5;241m=\u001b[39m \u001b[38;5;28;43mself\u001b[39;49m\u001b[38;5;241;43m.\u001b[39;49m\u001b[43m_read_status\u001b[49m\u001b[43m(\u001b[49m\u001b[43m)\u001b[49m\n\u001b[1;32m    319\u001b[0m     \u001b[38;5;28;01mif\u001b[39;00m status \u001b[38;5;241m!=\u001b[39m CONTINUE:\n\u001b[1;32m    320\u001b[0m         \u001b[38;5;28;01mbreak\u001b[39;00m\n",
      "File \u001b[0;32m/opt/homebrew/Caskroom/miniforge/base/envs/geo/lib/python3.10/http/client.py:279\u001b[0m, in \u001b[0;36mHTTPResponse._read_status\u001b[0;34m(self)\u001b[0m\n\u001b[1;32m    278\u001b[0m \u001b[38;5;28;01mdef\u001b[39;00m \u001b[38;5;21m_read_status\u001b[39m(\u001b[38;5;28mself\u001b[39m):\n\u001b[0;32m--> 279\u001b[0m     line \u001b[38;5;241m=\u001b[39m \u001b[38;5;28mstr\u001b[39m(\u001b[38;5;28;43mself\u001b[39;49m\u001b[38;5;241;43m.\u001b[39;49m\u001b[43mfp\u001b[49m\u001b[38;5;241;43m.\u001b[39;49m\u001b[43mreadline\u001b[49m\u001b[43m(\u001b[49m\u001b[43m_MAXLINE\u001b[49m\u001b[43m \u001b[49m\u001b[38;5;241;43m+\u001b[39;49m\u001b[43m \u001b[49m\u001b[38;5;241;43m1\u001b[39;49m\u001b[43m)\u001b[49m, \u001b[38;5;124m\"\u001b[39m\u001b[38;5;124miso-8859-1\u001b[39m\u001b[38;5;124m\"\u001b[39m)\n\u001b[1;32m    280\u001b[0m     \u001b[38;5;28;01mif\u001b[39;00m \u001b[38;5;28mlen\u001b[39m(line) \u001b[38;5;241m>\u001b[39m _MAXLINE:\n\u001b[1;32m    281\u001b[0m         \u001b[38;5;28;01mraise\u001b[39;00m LineTooLong(\u001b[38;5;124m\"\u001b[39m\u001b[38;5;124mstatus line\u001b[39m\u001b[38;5;124m\"\u001b[39m)\n",
      "File \u001b[0;32m/opt/homebrew/Caskroom/miniforge/base/envs/geo/lib/python3.10/socket.py:705\u001b[0m, in \u001b[0;36mSocketIO.readinto\u001b[0;34m(self, b)\u001b[0m\n\u001b[1;32m    703\u001b[0m \u001b[38;5;28;01mwhile\u001b[39;00m \u001b[38;5;28;01mTrue\u001b[39;00m:\n\u001b[1;32m    704\u001b[0m     \u001b[38;5;28;01mtry\u001b[39;00m:\n\u001b[0;32m--> 705\u001b[0m         \u001b[38;5;28;01mreturn\u001b[39;00m \u001b[38;5;28;43mself\u001b[39;49m\u001b[38;5;241;43m.\u001b[39;49m\u001b[43m_sock\u001b[49m\u001b[38;5;241;43m.\u001b[39;49m\u001b[43mrecv_into\u001b[49m\u001b[43m(\u001b[49m\u001b[43mb\u001b[49m\u001b[43m)\u001b[49m\n\u001b[1;32m    706\u001b[0m     \u001b[38;5;28;01mexcept\u001b[39;00m timeout:\n\u001b[1;32m    707\u001b[0m         \u001b[38;5;28mself\u001b[39m\u001b[38;5;241m.\u001b[39m_timeout_occurred \u001b[38;5;241m=\u001b[39m \u001b[38;5;28;01mTrue\u001b[39;00m\n",
      "File \u001b[0;32m/opt/homebrew/Caskroom/miniforge/base/envs/geo/lib/python3.10/ssl.py:1274\u001b[0m, in \u001b[0;36mSSLSocket.recv_into\u001b[0;34m(self, buffer, nbytes, flags)\u001b[0m\n\u001b[1;32m   1270\u001b[0m     \u001b[38;5;28;01mif\u001b[39;00m flags \u001b[38;5;241m!=\u001b[39m \u001b[38;5;241m0\u001b[39m:\n\u001b[1;32m   1271\u001b[0m         \u001b[38;5;28;01mraise\u001b[39;00m \u001b[38;5;167;01mValueError\u001b[39;00m(\n\u001b[1;32m   1272\u001b[0m           \u001b[38;5;124m\"\u001b[39m\u001b[38;5;124mnon-zero flags not allowed in calls to recv_into() on \u001b[39m\u001b[38;5;132;01m%s\u001b[39;00m\u001b[38;5;124m\"\u001b[39m \u001b[38;5;241m%\u001b[39m\n\u001b[1;32m   1273\u001b[0m           \u001b[38;5;28mself\u001b[39m\u001b[38;5;241m.\u001b[39m\u001b[38;5;18m__class__\u001b[39m)\n\u001b[0;32m-> 1274\u001b[0m     \u001b[38;5;28;01mreturn\u001b[39;00m \u001b[38;5;28;43mself\u001b[39;49m\u001b[38;5;241;43m.\u001b[39;49m\u001b[43mread\u001b[49m\u001b[43m(\u001b[49m\u001b[43mnbytes\u001b[49m\u001b[43m,\u001b[49m\u001b[43m \u001b[49m\u001b[43mbuffer\u001b[49m\u001b[43m)\u001b[49m\n\u001b[1;32m   1275\u001b[0m \u001b[38;5;28;01melse\u001b[39;00m:\n\u001b[1;32m   1276\u001b[0m     \u001b[38;5;28;01mreturn\u001b[39;00m \u001b[38;5;28msuper\u001b[39m()\u001b[38;5;241m.\u001b[39mrecv_into(buffer, nbytes, flags)\n",
      "File \u001b[0;32m/opt/homebrew/Caskroom/miniforge/base/envs/geo/lib/python3.10/ssl.py:1130\u001b[0m, in \u001b[0;36mSSLSocket.read\u001b[0;34m(self, len, buffer)\u001b[0m\n\u001b[1;32m   1128\u001b[0m \u001b[38;5;28;01mtry\u001b[39;00m:\n\u001b[1;32m   1129\u001b[0m     \u001b[38;5;28;01mif\u001b[39;00m buffer \u001b[38;5;129;01mis\u001b[39;00m \u001b[38;5;129;01mnot\u001b[39;00m \u001b[38;5;28;01mNone\u001b[39;00m:\n\u001b[0;32m-> 1130\u001b[0m         \u001b[38;5;28;01mreturn\u001b[39;00m \u001b[38;5;28;43mself\u001b[39;49m\u001b[38;5;241;43m.\u001b[39;49m\u001b[43m_sslobj\u001b[49m\u001b[38;5;241;43m.\u001b[39;49m\u001b[43mread\u001b[49m\u001b[43m(\u001b[49m\u001b[38;5;28;43mlen\u001b[39;49m\u001b[43m,\u001b[49m\u001b[43m \u001b[49m\u001b[43mbuffer\u001b[49m\u001b[43m)\u001b[49m\n\u001b[1;32m   1131\u001b[0m     \u001b[38;5;28;01melse\u001b[39;00m:\n\u001b[1;32m   1132\u001b[0m         \u001b[38;5;28;01mreturn\u001b[39;00m \u001b[38;5;28mself\u001b[39m\u001b[38;5;241m.\u001b[39m_sslobj\u001b[38;5;241m.\u001b[39mread(\u001b[38;5;28mlen\u001b[39m)\n",
      "\u001b[0;31mKeyboardInterrupt\u001b[0m: "
     ]
    }
   ],
   "source": [
    "# Print search parameters\n",
    "print(f\"{initial_search_radius = }\")\n",
    "print(f\"{cats = }\")\n",
    "print(f\"{time_between_updates = }\\n\")\n",
    "\n",
    "# initial_search_radius is changed during the code execution. We want to \n",
    "# preserve its initial value and re-use it on successive runs. We create\n",
    "# new variable initial_search_radius_active which will store the varying\n",
    "# initial_search_radius value. \n",
    "initial_search_radius_active = initial_search_radius\n",
    "\n",
    "# Create projected search area from max min lat longitude coords\n",
    "search_area = project_search_area(max_lat, min_lat, \n",
    "                           max_long, min_long, 'ESRI:102013')\n",
    "\n",
    "data = []\n",
    "# Initialise counters, flags and timer\n",
    "time_last_update = time.time()\n",
    "total_calls = 0\n",
    "number_needed_retries = 0\n",
    "locations_searched_in_last_update = 0\n",
    "radius_too_big = False \n",
    "\n",
    "while(len(search_area)>0):\n",
    "    # Replace current cell output with next new output. \n",
    "    # Allows the search area map to keep being updated without \n",
    "    # keeping old maps visible.  \n",
    "    clear_output(wait=True)\n",
    "    # Get next search location and its latitude and longitude\n",
    "    search_location, lat_long = get_search_location(search_area)\n",
    "    \n",
    "    # Set search_radius_not_found flag.  \n",
    "    search_radius_not_found = True\n",
    "    search_radius = initial_search_radius_active\n",
    "    \n",
    "    # Loop until a search radius is found that returns less than 50 results.\n",
    "    while search_radius_not_found:\n",
    "        # Count each time API called\n",
    "        total_calls += 1\n",
    "        # Make API call to search for venues from search location\n",
    "        response = api_call(lat_long, search_radius, cats, key)\n",
    "        # If response status code isnt 200, there was an API error. Print \n",
    "        # the API error, wait 5 seconds and try API call again. Loop until \n",
    "        # status 200 code returned by API. \n",
    "        while response.status_code != 200:\n",
    "            print(f\"API Error code {response.status_code}, sleeping 5 seconds\")\n",
    "            time.sleep(5)\n",
    "            response = api_call(lat_long, search_radius, cats, key)\n",
    "        \n",
    "        results = json.loads(response.text)\n",
    "        # Extract list of dictionaries defining search results\n",
    "        venues_list = results['results']\n",
    "        # If 50 venues found, reduce search radius then start while loop again\n",
    "        if len(venues_list) > 49:\n",
    "            search_radius = int(search_radius / 2)\n",
    "            radius_too_big = True \n",
    "        else: \n",
    "            # End while loop\n",
    "            search_radius_not_found = False\n",
    "    \n",
    "    # iterate number of locations searched\n",
    "    locations_searched_in_last_update += 1\n",
    "    # iterate IF the search radius has been reduced\n",
    "    number_needed_retries += radius_too_big\n",
    "    # reset flag\n",
    "    radius_too_big = False\n",
    "    # Extract venue data from venue_list\n",
    "    data.extend(extract_venues(venues_list))\n",
    "    \n",
    "    # Create area just searched - a circle with radius search_radius - 20. We\n",
    "    # subtracted 20 to account for any innaccuracy in Foursquare distance measures\n",
    "    # and our own i.e. we remove less search area than we actually searched for.  \n",
    "    area_just_searched = gpd.GeoDataFrame(search_location.buffer(search_radius - 20))\n",
    "    # Sets the buffer polygon above explicitely as the geometry\n",
    "    area_just_searched = area_just_searched.set_geometry(0)\n",
    "    # Update search area by removing the area_just_searched from it\n",
    "    search_area = update_search_area(search_area, area_just_searched)\n",
    "\n",
    "    if time.time() - time_last_update > time_between_updates:\n",
    "        ax = search_area.plot(alpha=0.5, color = 'red')\n",
    "        cx.add_basemap(ax, crs=search_area.crs)\n",
    "        plt.show()\n",
    "        print(f\"Number of locations searched in last {time_between_updates} seconds --> {locations_searched_in_last_update}\")\n",
    "        fraction_of_retries = number_needed_retries / locations_searched_in_last_update\n",
    "        if fraction_of_retries > 0.6 and locations_searched_in_last_update > 6:\n",
    "            print(f\"{number_needed_retries} out of {locations_searched_in_last_update} \" \n",
    "                  + f\"searches had too large radius --> {fraction_of_retries:.1%}\")\n",
    "            initial_search_radius_active = int(initial_search_radius_active * 0.8)\n",
    "            print(f\"Reducing Initial Search Radius to {initial_search_radius_active}\")\n",
    "        \n",
    "        time_last_update = time.time()\n",
    "        locations_searched_in_last_update = 0 \n",
    "        number_needed_retries = 0 \n",
    "\n",
    "# Print search parameters\n",
    "print(f\"\\n{initial_search_radius = }\")\n",
    "print(f\"{cats = }\")\n",
    "print(f\"{time_between_updates = }\\n\")        \n",
    "print(f\"\\nTotal Calls -> {total_calls}\")"
   ]
  },
  {
   "cell_type": "code",
   "execution_count": 27,
   "id": "584ba7e6-e612-44fa-afa7-412418714555",
   "metadata": {},
   "outputs": [
    {
     "name": "stdout",
     "output_type": "stream",
     "text": [
      "initial_search_radius = 1000\n"
     ]
    },
    {
     "ename": "NameError",
     "evalue": "name 'min_search_radius' is not defined",
     "output_type": "error",
     "traceback": [
      "\u001b[0;31m---------------------------------------------------------------------------\u001b[0m",
      "\u001b[0;31mNameError\u001b[0m                                 Traceback (most recent call last)",
      "Input \u001b[0;32mIn [27]\u001b[0m, in \u001b[0;36m<cell line: 3>\u001b[0;34m()\u001b[0m\n\u001b[1;32m      1\u001b[0m \u001b[38;5;66;03m# Print search parameters\u001b[39;00m\n\u001b[1;32m      2\u001b[0m \u001b[38;5;28mprint\u001b[39m(\u001b[38;5;124mf\u001b[39m\u001b[38;5;124m\"\u001b[39m\u001b[38;5;132;01m{\u001b[39;00minitial_search_radius \u001b[38;5;132;01m= }\u001b[39;00m\u001b[38;5;124m\"\u001b[39m)\n\u001b[0;32m----> 3\u001b[0m \u001b[38;5;28mprint\u001b[39m(\u001b[38;5;124mf\u001b[39m\u001b[38;5;124m\"\u001b[39m\u001b[38;5;132;01m{\u001b[39;00mmin_search_radius \u001b[38;5;132;01m= }\u001b[39;00m\u001b[38;5;124m\"\u001b[39m)\n\u001b[1;32m      4\u001b[0m \u001b[38;5;28mprint\u001b[39m(\u001b[38;5;124mf\u001b[39m\u001b[38;5;124m\"\u001b[39m\u001b[38;5;132;01m{\u001b[39;00mcats \u001b[38;5;132;01m= }\u001b[39;00m\u001b[38;5;124m\"\u001b[39m)\n\u001b[1;32m      5\u001b[0m \u001b[38;5;28mprint\u001b[39m(\u001b[38;5;124mf\u001b[39m\u001b[38;5;124m\"\u001b[39m\u001b[38;5;132;01m{\u001b[39;00mtime_between_updates \u001b[38;5;132;01m= }\u001b[39;00m\u001b[38;5;130;01m\\n\u001b[39;00m\u001b[38;5;124m\"\u001b[39m)\n",
      "\u001b[0;31mNameError\u001b[0m: name 'min_search_radius' is not defined"
     ]
    }
   ],
   "source": [
    "# Print search parameters\n",
    "print(f\"{initial_search_radius = }\")\n",
    "print(f\"{min_search_radius = }\")\n",
    "print(f\"{cats = }\")\n",
    "print(f\"{time_between_updates = }\\n\")\n",
    "\n",
    "# initial_search_radius and min_search_radius are changed during the code\n",
    "# execution. We want to preserve their initial values and re-use them on \n",
    "# successive runs. We create new variables with _active appended to the \n",
    "# end. These will store the varying min_search_radius and initial_search_radius \n",
    "# values.\n",
    "initial_search_radius_active = initial_search_radius\n",
    "min_search_radius_active = min_search_radius\n",
    "\n",
    "# Calculate grid tick sizes from minimum search radius\n",
    "lat_tick_size, long_tick_size = find_tick_sizes(min_search_radius_active)\n",
    "# Generate grid from tick sizes \n",
    "lat_long_grid = create_lat_long_grid(lat_tick_size, long_tick_size)\n",
    "print(f\"lat_long_grid size = {len(lat_long_grid):,}\")\n",
    "\n",
    "time_last_update = time.time()\n",
    "data = []\n",
    "total_calls = 0\n",
    "number_needed_retries = 0 \n",
    "points_searched_in_last_update = 0\n",
    "radius_too_big = False \n",
    "while len(lat_long_grid) > 0:\n",
    "    #print('restarted')\n",
    "    # maximum index available in lat_long_grid\n",
    "    max_index = len(lat_long_grid) - 1\n",
    "    # Pick random index for lat_long_grid\n",
    "    random_index = random.randint(0, max_index)\n",
    "    # Pick lat and long values from random position in lat_long_grid\n",
    "    lat_long = lat_long_grid[random_index]\n",
    "    \n",
    "    search_radius_not_found = True\n",
    "    search_radius = initial_search_radius_active\n",
    "    \n",
    "    while search_radius_not_found:\n",
    "        #print('calling api')\n",
    "        total_calls += 1\n",
    "        response = api_call(lat_long, search_radius, cats, key)\n",
    "        # If response status code isnt 200, there was an API error. Print \n",
    "        # the API error, wait 5 seconds and try API call again. Loop until \n",
    "        # status 200 code returned by API. \n",
    "        while response.status_code != 200:\n",
    "            print(f\"API Error code {response.status_code}, sleeping 5 seconds\")\n",
    "            time.sleep(5)\n",
    "            response = api_call(lat_long, search_radius, cats, key)\n",
    "        \n",
    "        results = json.loads(response.text)\n",
    "        venues_list = results['results']\n",
    "        \n",
    "        if len(venues_list) > 49:\n",
    "            search_radius = int(search_radius / 2)\n",
    "            radius_too_big = True\n",
    "            #print('radius too large') \n",
    "        else: \n",
    "            search_radius_not_found = False\n",
    "    \n",
    "    if search_radius < min_search_radius_active:        \n",
    "        print(f\"\\nSearch Radius smaller than min_search_radius:\\nlat_long = {lat_long}\\nsearch radius = {search_radius}\")\n",
    "        print(f\"\\nUpdating min_search_radius to {search_radius} and resetting grid...\\n\")\n",
    "        # update radius to max_distance minus 1 (ensures radius will now be smaller than max distance next time)\n",
    "        min_search_radius_active = search_radius\n",
    "        lat_tick_size, long_tick_size = find_tick_sizes(min_search_radius_active)          \n",
    "        lat_long_grid = create_lat_long_grid(lat_tick_size, long_tick_size)\n",
    "        print(f\"lat_long_grid size = {len(lat_long_grid):,}\")\n",
    "        # reset data gathering\n",
    "        data = []\n",
    " \n",
    "        radius_too_big = False\n",
    "        points_searched_in_last_update = 0 \n",
    "        number_needed_retries = 0\n",
    "        time_last_update = time.time()\n",
    "        continue\n",
    "    \n",
    "    points_searched_in_last_update += 1\n",
    "    number_needed_retries += radius_too_big\n",
    "    radius_too_big = False\n",
    "    \n",
    "    #print('data about to be scraped')\n",
    "    data.extend(extract_venues(venues_list))\n",
    "           \n",
    "    lat_long_grid = update_grid(lat_long, search_radius, lat_long_grid)\n",
    "    #print('done one grid mark --> ', len(lat_long_grid))\n",
    "    if time.time() - time_last_update > time_between_updates:\n",
    "        print(f\"\\nlat_long_grid points remaining -> {len(lat_long_grid):,}\")\n",
    "        print(f\"Number of locations searched in last {time_between_updates} seconds --> {points_searched_in_last_update}\")\n",
    "        fraction_of_retries = number_needed_retries / points_searched_in_last_update\n",
    "        if fraction_of_retries > 0.6 and points_searched_in_last_update > 6:\n",
    "            print(f\"{number_needed_retries} out of {points_searched_in_last_update} \" \n",
    "                  + f\"searches had too large radius --> {fraction_of_retries:.1%}\")\n",
    "            initial_search_radius_active = int(initial_search_radius_active * 0.8)\n",
    "            print(f\"Reducing Initial Search Radius to {initial_search_radius_active}\")\n",
    "        \n",
    "        time_last_update = time.time()\n",
    "        points_searched_in_last_update = 0 \n",
    "        number_needed_retries = 0 \n",
    "    \n",
    "print(f\"\\nTotal Calls -> {total_calls}\")"
   ]
  },
  {
   "cell_type": "markdown",
   "id": "c89841c1-2b61-4efd-b35a-64b3c3e281e1",
   "metadata": {},
   "source": [
    "The below calculates the cost for a certain number of Foursquare API calls."
   ]
  },
  {
   "cell_type": "code",
   "execution_count": 17,
   "id": "1f10c5d9-fc3e-494f-a8ac-34d4589aa9a3",
   "metadata": {},
   "outputs": [
    {
     "name": "stdout",
     "output_type": "stream",
     "text": [
      "Total price for 1018 requests is $5.09\n"
     ]
    }
   ],
   "source": [
    "total_requests = 1018\n",
    "cost_per_request = 0.50\n",
    "total_price_in_dollars = total_requests * cost_per_request / 100\n",
    "print(f\"Total price for {total_requests} requests is ${total_price_in_dollars}\")"
   ]
  },
  {
   "cell_type": "markdown",
   "id": "14615dde-4d26-41c6-a54a-573d4e8ed2da",
   "metadata": {},
   "source": [
    "## Alternative - Geopandas! "
   ]
  },
  {
   "cell_type": "code",
   "execution_count": null,
   "id": "74d12df3-40b6-4ee4-b33a-41d7e2b66e70",
   "metadata": {},
   "outputs": [],
   "source": [
    "gfhjd "
   ]
  },
  {
   "cell_type": "code",
   "execution_count": 21,
   "id": "60ff4a23-0587-4e9e-9872-45ea56adde84",
   "metadata": {},
   "outputs": [
    {
     "ename": "NameError",
     "evalue": "name 'long_lat' is not defined",
     "output_type": "error",
     "traceback": [
      "\u001b[0;31m---------------------------------------------------------------------------\u001b[0m",
      "\u001b[0;31mNameError\u001b[0m                                 Traceback (most recent call last)",
      "Input \u001b[0;32mIn [21]\u001b[0m, in \u001b[0;36m<cell line: 1>\u001b[0;34m()\u001b[0m\n\u001b[0;32m----> 1\u001b[0m \u001b[43mlong_lat\u001b[49m\n",
      "\u001b[0;31mNameError\u001b[0m: name 'long_lat' is not defined"
     ]
    }
   ],
   "source": []
  },
  {
   "cell_type": "markdown",
   "id": "cdc430dd-cf6a-43b3-b1b9-0ebb440ce00e",
   "metadata": {
    "tags": []
   },
   "source": [
    "## Notes \n",
    "- Number of calls per 20 second interval increases with time because the grid gets smaller, so faster to iterate over it to update it, more API calls possible\n",
    "- Number of searches that require smaller radius increases with time, since low denisty areas tend to be removed (large numbers of low density points are removed, leaving mainly the high density regions and thus more smaller radius's needed"
   ]
  },
  {
   "cell_type": "markdown",
   "id": "a3a5c4a2-2f63-445b-be3a-05ac72774526",
   "metadata": {},
   "source": [
    "Error - 100 or more venues in search, cannot extract all venues in search area.\n",
    "lat_long = 51.49814499999999,-0.16857000000000005\n",
    "radius = 3271\n",
    "Error - 100 or more venues in search, cannot extract all venues in search area.\n",
    "lat_long = 51.48323349999999,-0.1205420000000001\n",
    "radius = 3271\n",
    "Error - 100 or more venues in search, cannot extract all venues in search area.\n",
    "lat_long = 51.51305649999998,-0.048500000000000154\n",
    "radius = 3271\n",
    "Error - 100 or more venues in search, cannot extract all venues in search area.\n",
    "lat_long = 51.52796799999998,-0.048500000000000154\n",
    "radius = 3271"
   ]
  },
  {
   "cell_type": "code",
   "execution_count": 43,
   "id": "340dc80f-4f48-49cd-880d-9a6aa1c66676",
   "metadata": {},
   "outputs": [
    {
     "data": {
      "text/plain": [
       "178"
      ]
     },
     "execution_count": 43,
     "metadata": {},
     "output_type": "execute_result"
    }
   ],
   "source": [
    "venues = pd.DataFrame(data, columns = ['fsq_id', 'venue_name', 'latitude', 'longitude', \n",
    "                       'address', 'postcode'])\n",
    "#venues.head()\n",
    "venues = venues.drop_duplicates(subset=['fsq_id'])\n",
    "venues.shape[0]"
   ]
  },
  {
   "cell_type": "code",
   "execution_count": 15,
   "id": "94070f2d-6155-49a1-821f-a05f5400d7b9",
   "metadata": {},
   "outputs": [
    {
     "data": {
      "text/plain": [
       "6557"
      ]
     },
     "execution_count": 15,
     "metadata": {},
     "output_type": "execute_result"
    }
   ],
   "source": [
    "venues[(min_lat <= venues.latitude) & (venues.latitude <= max_lat) \n",
    "   & (venues.longitude > min_long) & (venues.longitude < max_long)].shape[0]"
   ]
  },
  {
   "cell_type": "code",
   "execution_count": 16,
   "id": "1991be72-5378-40f3-93b3-710733c7d239",
   "metadata": {},
   "outputs": [],
   "source": [
    "test = venues[(min_lat <= venues.latitude) & (venues.latitude <= max_lat) \n",
    "   & (venues.longitude > min_long) & (venues.longitude < max_long)]\n",
    "\n",
    "test.to_csv('geotest3.csv')"
   ]
  },
  {
   "cell_type": "code",
   "execution_count": null,
   "id": "8b50c2b6-3352-446c-8b6e-77e955f6f3ef",
   "metadata": {},
   "outputs": [],
   "source": [
    "todays_date = datetime.today().strftime('%d-%b-%y')\n",
    "venues.to_csv('foursquare_venues' + todays_date + '.csv', index = False)"
   ]
  },
  {
   "cell_type": "code",
   "execution_count": null,
   "id": "ebdd13c6-d9f8-4a6d-aa46-917e9c38d632",
   "metadata": {},
   "outputs": [],
   "source": [
    "# Optional - Read in saved venue data if required\n",
    "#venues = pd.read_csv('foursquare_bars_02-Mar-22.csv')"
   ]
  },
  {
   "cell_type": "code",
   "execution_count": null,
   "id": "6fdb6f93-197d-4325-920a-67446955e7de",
   "metadata": {},
   "outputs": [],
   "source": [
    "venues2 = pd.read_csv('foursquare_event_spaces.csv')\n",
    "venues2.head()"
   ]
  },
  {
   "cell_type": "code",
   "execution_count": null,
   "id": "9a8918a9-55af-42f5-b51f-fd14861aa88b",
   "metadata": {},
   "outputs": [],
   "source": [
    "venues2[(min_lat <= venues2.latitude) & (venues2.latitude <= max_lat) \n",
    "   & (venues2.longitude > min_long) & (venues2.longitude < max_long)].shape[0]"
   ]
  },
  {
   "cell_type": "code",
   "execution_count": null,
   "id": "89b8a6b0-94f9-4ebc-a6d8-5748fca9e104",
   "metadata": {},
   "outputs": [],
   "source": [
    "def blurgl error please\n",
    " a/0 \n",
    "    \n",
    "    dental mensd"
   ]
  },
  {
   "cell_type": "code",
   "execution_count": null,
   "id": "9c564582-d646-4823-8b6d-e8b7aca1403f",
   "metadata": {},
   "outputs": [],
   "source": [
    "print(f\"Error - 100 or more venues in search, cannot\"\n",
    "                     + f\"blurg\")"
   ]
  },
  {
   "cell_type": "code",
   "execution_count": null,
   "id": "3f7e4948-982e-4e68-afe6-3b5f365b5301",
   "metadata": {},
   "outputs": [],
   "source": []
  },
  {
   "cell_type": "code",
   "execution_count": null,
   "id": "b80daace-e6a2-411a-9e95-24d0714736a1",
   "metadata": {},
   "outputs": [],
   "source": [
    "venues.head()"
   ]
  },
  {
   "cell_type": "markdown",
   "id": "c3dfd79e-24a7-4e9b-b8a7-33744dd5db07",
   "metadata": {},
   "source": [
    "## Get Venue Details\n",
    "We will now use the Foursquare API to pull extended venue data on each venue we found. \n",
    "### Define API Call\n",
    "We are using the [Get Place Details API](https://developer.foursquare.com/reference/place-details) to pull the extended venue data from Foursquare. This API takes the unique Foursquare ID for a venue and a list of data fields you want (e.g. 'price', 'popularity' etc.) and returns this data for the venue specified. See [here](https://developer.foursquare.com/reference/response-fields#core-data-fields) for detailed information on the all data fields that can be requested.\n",
    "\n",
    "Below, we define a function to call the API and return its response. "
   ]
  },
  {
   "cell_type": "code",
   "execution_count": null,
   "id": "506dce04-2695-49db-993a-a8a18575b7a1",
   "metadata": {},
   "outputs": [],
   "source": [
    "# Base url of the Get Place Details API (requires the fsq_id of \n",
    "# the venue after 'places/' \n",
    "venue_details_url = \"https://api.foursquare.com/v3/places/\"\n",
    "\n",
    "# RateLimiter decorator, ensures the api_call function is called less \n",
    "# than 50 times per second, the Foursquare rate limit\n",
    "@RateLimiter(max_calls=49, period=1)\n",
    "def get_venue_details(fsq_id, key):\n",
    "    \"\"\"Get venue details using foursquare Get Place Details API\n",
    "    \n",
    "    Note that the fsq_id is appended to the API url, it is not a \n",
    "    paramater of the html request.  \n",
    "    \n",
    "    Args:\n",
    "        fsq_id (string): Foursquare ID for venue you are requesting details for\n",
    "        key (string): Authorisation key (links request to account paying for request) \n",
    "    \n",
    "    Returns: \n",
    "        Html response from Foursquare that contains extended data on the venue\n",
    "    \"\"\"\n",
    "    # Fields paramater defines what data foursquare will return\n",
    "    fields = ['location', 'categories', 'chains', 'related_places',\n",
    "              'tel', 'fax', 'email', 'website', 'verified', \n",
    "              'hours_popular', 'rating', 'stats', 'popularity', \n",
    "              'price', 'date_closed', 'tastes']\n",
    "    # Convert fields to comma separated list\n",
    "    fields = ','.join(fields)\n",
    "    params = dict(fields = fields)\n",
    "    headers = {\n",
    "        \"Accept\": \"application/json\",\n",
    "        \"Authorization\": key\n",
    "    }\n",
    "    # fsq_id is appended to end of API request url\n",
    "    return requests.request(\"GET\", venue_details_url + fsq_id, \n",
    "                            headers = headers, params = params)"
   ]
  },
  {
   "cell_type": "markdown",
   "id": "0c9a1a92-29aa-4722-b053-6a96cbd7721f",
   "metadata": {},
   "source": [
    "Below we perform a test to check the API request works. It should display a json containing data on the requested venue. "
   ]
  },
  {
   "cell_type": "code",
   "execution_count": null,
   "id": "7db4a5c3-01bf-43d7-a2ff-174baca5b37a",
   "metadata": {},
   "outputs": [],
   "source": [
    "# Perform Get Place Details API call\n",
    "response = get_venue_details(venues.fsq_id[13], key)\n",
    "# extract venue_details from response as json file\n",
    "venue_details = json.loads(response.text)\n",
    "# Visualise venue_details\n",
    "JSON(venue_details)"
   ]
  },
  {
   "cell_type": "markdown",
   "id": "7cb7e962-3caa-499c-97df-bb25814deab4",
   "metadata": {},
   "source": [
    "### Extract Data From API Response\n",
    "Below we define functions to extract the data we want from the API response. Note that a json file is extracted from the raw API response and the below functions extract data from this json. \n",
    "\n",
    "The table below defines the data that is extracted from the json.\n",
    "\n",
    "Data|Description\n",
    ":---:|:---\n",
    "email|contact email address of venue\n",
    "tel|contact telephone number of venue\n",
    "website|website of venue\n",
    "verified|A boolean that indicates whether or not the FSQ Place has been claimed.\n",
    "rating|A numerical rating (from 0.0 to 10.0) of the FSQ Place, based on user votes, likes/dislikes, tips sentiment, and visit data. Not all FSQ Places will have a rating.\n",
    "popularity|Measure of the FSQ Place's popularity, by foot traffic. This score is on a 0 to 1 scale and uses a 6-month span of POI visits for a given geographic area.\n",
    "price|A numerical value (from 1 to 4) that best describes the pricing tier of the FSQ Place, based on known prices for menu items and other offerings. Values include: 1 = Cheap, 2 = Moderate, 3 = Expensive, and 4 = Very Expensive\n",
    "date_closed|The recorded date when the FSQ Place was marked as permanently closed in Foursquare's databases. This does not necessarily indicate the POI was actually closed on this date.\n",
    "categories|An array, possibly empty, of categories that describe the FSQ Place. Stored as a list of strings. \n",
    "total_ratings|Total number of ratings for venue \n",
    "parent|If the venue is owned by a parent venue, the parent venue's name will be listed \n",
    "parent_fsq_id|If the venue is owned by a parent venue, the parent venue's foursquare ID will be listed \n",
    "neighborhood|Description of the neighborhood the venue is located in e.g. 'Clapham'. When initially extracted it is stored as a one item list."
   ]
  },
  {
   "cell_type": "code",
   "execution_count": null,
   "id": "d671aa2b-827f-4bec-95aa-6a3464d289ef",
   "metadata": {},
   "outputs": [],
   "source": [
    "def extract_venue_details(venue_details):\n",
    "    \"\"\"Extract data from venue_details json as a list\n",
    "    \n",
    "    Args:\n",
    "        venue_details (json): The json file containing the venue details data.\n",
    "        \n",
    "    Returns:\n",
    "        list: The data for the venue, e.g. 'email', 'price' etc. in a single \n",
    "            list. All data that couldnt be found is nan.\"\"\"\n",
    "    fields = venue_details.keys() \n",
    "    # Extract simple data from venue_details json\n",
    "    email = extract_simple_data('email', venue_details, fields)\n",
    "    tel = extract_simple_data('tel', venue_details, fields)\n",
    "    website = extract_simple_data('website', venue_details, fields)\n",
    "    verified = extract_simple_data('verified', venue_details, fields)\n",
    "    rating = extract_simple_data('rating', venue_details, fields)\n",
    "    popularity = extract_simple_data('popularity', venue_details, fields)\n",
    "    price = extract_simple_data('price', venue_details, fields)\n",
    "    date_closed = extract_simple_data('date_closed', venue_details, fields)\n",
    "\n",
    "    # total_ratings is stored under 'stats' within the venue_details json. Below \n",
    "    # we extract the 'stats' dict from venue_details json and then extract \n",
    "    # total_ratings from that.  \n",
    "    stats = extract_simple_data('stats', venue_details, fields)\n",
    "    # Check stats wasn't nan\n",
    "    if stats == stats:\n",
    "        total_ratings = stats['total_ratings']\n",
    "    else: \n",
    "        total_ratings = np.nan\n",
    "\n",
    "    # Extract categories as a list of possible categories. If categories not\n",
    "    # in json, return nan. \n",
    "    if 'categories' in fields:\n",
    "        # Categories stored as a list in the venue_details json\n",
    "        categories_list = venue_details['categories']\n",
    "        categories = []\n",
    "        # Loop through categories_list and extract the string name of each\n",
    "        # category in the list. \n",
    "        for category in categories_list:\n",
    "            categories.append(category['name'])        \n",
    "    else:\n",
    "        categories = np.nan\n",
    "\n",
    "    # Extract parent from 'related_places' field. 'related_places' always\n",
    "    # exists but contains an empty dictionary most of the time. We only \n",
    "    # want to extract the parent data if the parent field exists within \n",
    "    # the 'related_places' dictionary. \n",
    "    related_places = venue_details['related_places']\n",
    "    # Check if 'related_places' dic contains something\n",
    "    if len(related_places) > 0:\n",
    "        # Check if 'parent' contained within 'related_places'\n",
    "        if 'parent' in related_places.keys():\n",
    "            parent = related_places['parent']['name']\n",
    "            parent_fsq_id = related_places['parent']['fsq_id']\n",
    "        else: \n",
    "            parent = np.nan\n",
    "            parent_fsq_id = np.nan\n",
    "    else: \n",
    "        parent = np.nan\n",
    "        parent_fsq_id = np.nan\n",
    "\n",
    "    # Extract 'neighborhood' from the 'location' field. 'location' stores \n",
    "    # data as a dict.\n",
    "    location_fields = venue_details['location'].keys()\n",
    "    # Can repurpose the 'extract_simple_data' function to extract\n",
    "    # 'neighborhood' data from the 'location' dictionary. \n",
    "    neighborhood = extract_simple_data('neighborhood', \n",
    "                                       venue_details['location'], \n",
    "                                       location_fields)\n",
    "\n",
    "    return [email, tel, website, verified, rating, popularity, price, \n",
    "           date_closed, categories, total_ratings, parent, \n",
    "           parent_fsq_id, neighborhood]\n",
    "\n",
    "def extract_simple_data(field, venue_details, fields):\n",
    "    \"\"\"Extracts data from venue_details json using the associated field\n",
    "    \n",
    "    Args:\n",
    "        field (str): The field you wish to extract the value of e.g. 'email'.\n",
    "        venue_details (json): The json file containing the data.\n",
    "        fields (list): All fields contained by the json file. \n",
    "\n",
    "    Returns:\n",
    "        bool/str/float/dict/np.nan: Returns the data stored in venue_details json \n",
    "            under the provided field. If the provided field does not exist in \n",
    "            the venue_details json, returns np.nan. \n",
    "    \"\"\"\n",
    "    if field in fields:\n",
    "        return venue_details[field]\n",
    "    else:\n",
    "        return np.nan"
   ]
  },
  {
   "cell_type": "markdown",
   "id": "e444984d-f432-4f9f-8615-bd563271a061",
   "metadata": {},
   "source": [
    "### Get Venue Details\n",
    "Below we request and extract extended data for each venue we found. It takes roughly 35 minutes to run the code and cost ~ $60."
   ]
  },
  {
   "cell_type": "code",
   "execution_count": null,
   "id": "7e252e42-1805-4890-8b80-3ed3889f2e45",
   "metadata": {},
   "outputs": [],
   "source": [
    "venue_details_data = []\n",
    "total_venues = venues.shape[0]\n",
    "# Loop through venue foursquare ids (fsq_id), request venue details from\n",
    "# API and extract required data\n",
    "for index, fsq_id in enumerate(venues.fsq_id):\n",
    "    # Perform Get Place Details API call\n",
    "    response = get_venue_details(fsq_id, key)\n",
    "    # Keep retrying API call every 5 seconds if the API response code\n",
    "    # indicates an error (i.e. not 200) \n",
    "    while response.status_code != 200:\n",
    "            print(f\"API Error code {response.status_code}, sleeping 5 seconds\")\n",
    "            time.sleep(5)\n",
    "            # retry API call\n",
    "            response = get_venue_details(fsq_id, key)\n",
    "    # extract venue_details from response as json file\n",
    "    venue_details = json.loads(response.text)\n",
    "    # Extract data from venue_details json and append to list\n",
    "    extracted_data = extract_venue_details(venue_details)\n",
    "    # Add fsq_id to first entry of extracted_data list\n",
    "    extracted_data = [fsq_id] + extracted_data\n",
    "    venue_details_data.append(extracted_data)\n",
    "    #print(index)\n",
    "    # Provide status update every time 500 venues details have been extracted\n",
    "    if (index + 1) % 500 == 0:\n",
    "        print(f\"{index + 1} venue details extracted out of {total_venues}\")"
   ]
  },
  {
   "cell_type": "markdown",
   "id": "3c800024-c7d5-41cd-a535-2afd6bc6403d",
   "metadata": {},
   "source": [
    "## Clean And Save Data\n",
    "### Clean Venue Details Data\n",
    "We need to clean and restructure parts of the venue details data. Below, we create a dataframe with the venue details data. The 'neighborhood' column consists of single entry lists containing a neighborhood string. We will remove the lists i.e. make it a column of strings."
   ]
  },
  {
   "cell_type": "code",
   "execution_count": null,
   "id": "0492ab20-8eab-42cd-b0e0-06789f928e99",
   "metadata": {},
   "outputs": [],
   "source": [
    "venue_details_df = pd.DataFrame(venue_details_data, \n",
    "                             columns = ['fsq_id', 'email', 'tel', 'website', 'verified', \n",
    "                                        'rating', 'popularity', 'price', \n",
    "                                        'date_closed', 'categories', \n",
    "                                        'total_ratings', 'parent', \n",
    "                                        'parent_fsq_id', 'neighborhood'])\n",
    "\n",
    "# Convert neighborhood column from column of lists with one item e.g. \n",
    "# ['Clapham'] to strings e.g. 'Clapham'\n",
    "venue_details_df.neighborhood = venue_details_df.neighborhood.str[0]"
   ]
  },
  {
   "cell_type": "markdown",
   "id": "4a5e7a5d-4c0b-47d8-bace-9b0b44e79ace",
   "metadata": {},
   "source": [
    "Save data in case of any issues / to avoid having to re-request all the venue details. "
   ]
  },
  {
   "cell_type": "code",
   "execution_count": null,
   "id": "3f64d570-b8d7-4106-b16d-2bf94e529ea9",
   "metadata": {},
   "outputs": [],
   "source": [
    "todays_date = datetime.today().strftime('%d-%b-%y')\n",
    "venue_details_df.to_csv('venue_details_' + todays_date + '.csv',\n",
    "                        index = False)"
   ]
  },
  {
   "cell_type": "markdown",
   "id": "bd31858b-63c0-465a-815c-7022d3e05e75",
   "metadata": {},
   "source": [
    "Optional code - used to load the saved venue details data if you need to. "
   ]
  },
  {
   "cell_type": "code",
   "execution_count": null,
   "id": "d757c443-2fa5-4aa1-a877-a1e932540b7f",
   "metadata": {},
   "outputs": [],
   "source": [
    "# Load in saved raw venue details data if required \n",
    "#from ast import literal_eval\n",
    "#venue_details_df = pd.read_csv('venue_details.csv', converters={\"categories\": literal_eval})"
   ]
  },
  {
   "cell_type": "code",
   "execution_count": null,
   "id": "f1615d29-738e-4311-a2f1-758b638d299d",
   "metadata": {},
   "outputs": [],
   "source": [
    "venue_details_df.head()"
   ]
  },
  {
   "cell_type": "markdown",
   "id": "42c24981-ef83-4135-9389-20e35596a31b",
   "metadata": {},
   "source": [
    "The 'categories' column contains lists of various sizes that contain strings that describe the category of a venue e.g. 'bar', 'restaurant' etc. We don't want.... "
   ]
  },
  {
   "cell_type": "code",
   "execution_count": null,
   "id": "0b138f32-5e2c-4535-b045-22ef09ac54a0",
   "metadata": {},
   "outputs": [],
   "source": [
    "# Dummy variable the lists in the 'categories' column such that a new \n",
    "# column is made for each category named in the lists and it will \n",
    "# have a 0 or a 1 depending on whether that category was included \n",
    "# in the list for that row.   \n",
    "categories_df = venue_details_df['categories'].str.join('|').str.get_dummies()\n",
    "# Expand pandas viewing options so full series can be printed \n",
    "pd.set_option('display.max_rows', 500)\n",
    "pd.set_option('display.max_columns', 500)\n",
    "# Sum up each category and sort descending to see which \n",
    "# categories are most common \n",
    "categories_sum = categories_df.sum().sort_values(ascending = False)\n",
    "categories_sum"
   ]
  },
  {
   "cell_type": "code",
   "execution_count": null,
   "id": "daae842a-5fab-4d32-b49c-ed23727e38e5",
   "metadata": {},
   "outputs": [],
   "source": [
    "# Select the top 10 most common categories\n",
    "top_10_categories = categories_sum.nlargest(10).index.values\n",
    "# Add these categories to the venue_details_df\n",
    "venue_details_df = pd.concat([venue_details_df, \n",
    "                              categories_df[top_10_categories]], \n",
    "                             axis = 1)\n",
    "# Drop 'categories' column\n",
    "venue_details_df.drop(['categories'], inplace = True, axis = 1)"
   ]
  },
  {
   "cell_type": "code",
   "execution_count": null,
   "id": "d35b3a48-d2f3-400f-8dcd-e2de001aa789",
   "metadata": {},
   "outputs": [],
   "source": [
    "venue_details_df.head()"
   ]
  },
  {
   "cell_type": "code",
   "execution_count": null,
   "id": "b6358b4e-17a2-42e3-a420-6c684c423cfe",
   "metadata": {},
   "outputs": [],
   "source": [
    "#total_venues = venues.shape[0]\n",
    "# Percentage of values not missing in each column\n",
    "venue_details_df.notnull().sum() * 100 / total_venues "
   ]
  },
  {
   "cell_type": "code",
   "execution_count": null,
   "id": "6076a5a8-474e-40d3-ae8e-093d2d461920",
   "metadata": {},
   "outputs": [],
   "source": [
    "# Merge venues df with venue_details df\n",
    "full_venue_data = pd.merge(venues, venue_details_df, how=\"left\", on='fsq_id', \n",
    "                           sort=False, copy=True, validate='one_to_one')\n",
    "full_venue_data.head()"
   ]
  },
  {
   "cell_type": "code",
   "execution_count": null,
   "id": "3c6ee25d-766b-4003-9208-bbb1a3f6610e",
   "metadata": {},
   "outputs": [],
   "source": [
    "# Move total_ratings and neighborhood columns\n",
    "full_venue_data.insert(12, 'total_ratings', \n",
    "                       full_venue_data.pop('total_ratings'))\n",
    "full_venue_data.insert(4, 'neighborhood', \n",
    "                       full_venue_data.pop('neighborhood'))\n",
    "full_venue_data.head()"
   ]
  },
  {
   "cell_type": "code",
   "execution_count": null,
   "id": "e21cdd8c-84b5-408a-a89d-b662c9c48004",
   "metadata": {},
   "outputs": [],
   "source": [
    "todays_date = datetime.today().strftime('%d-%b-%y')\n",
    "full_venue_data.to_csv('foursquare_full_venue_data_' + todays_date + '.csv',\n",
    "                       index = False)"
   ]
  },
  {
   "cell_type": "code",
   "execution_count": null,
   "id": "06387055-2a1e-44f7-bc31-fcafbaecbabd",
   "metadata": {},
   "outputs": [],
   "source": [
    "blurgle de blurgle do"
   ]
  },
  {
   "cell_type": "markdown",
   "id": "856ef35c-bdf5-433b-a192-c133654bb187",
   "metadata": {},
   "source": [
    "### Maps"
   ]
  },
  {
   "cell_type": "code",
   "execution_count": null,
   "id": "35c7cefc-5576-4a29-a5b5-cce9ddfff447",
   "metadata": {},
   "outputs": [],
   "source": [
    "# Find lat and long ticksize required for a grid with separation of 3000m\n",
    "lat_tick_size, long_tick_size = find_tick_sizes(30)\n",
    "# Create lat long grid with seperateion 3000m between tick marks that \n",
    "# bounds the square projection of the min_lat, max_lat, min_long, max_long \n",
    "lat_long_grid = create_lat_long_grid(lat_tick_size, long_tick_size)\n",
    "\n",
    "lat_long_grid[0:5]"
   ]
  },
  {
   "cell_type": "code",
   "execution_count": null,
   "id": "4eef8de9-5934-400a-800a-43d96db9a9cc",
   "metadata": {},
   "outputs": [],
   "source": [
    "len(lat_long_grid)"
   ]
  },
  {
   "cell_type": "code",
   "execution_count": null,
   "id": "337a8af8-a72b-40bf-b2b6-047fe347e312",
   "metadata": {},
   "outputs": [],
   "source": [
    "# Convert lat_long_grid list into a list of lists where each list has \n",
    "# format [latitude, longitude, lat_long] e.g. [51.3, 0.01, '51.3,0.01']\n",
    "lat_long_split = [lat_long.split(',') + [lat_long] for lat_long in lat_long_grid] \n",
    "# Convert into a dataframe\n",
    "df_lat_long = pd.DataFrame(lat_long_split, columns = ['latitude', \n",
    "                                                      'longitude', 'lat_long'])\n",
    "# Convert the latitude and longitude columns to float\n",
    "df_lat_long[['latitude', 'longitude']] = (df_lat_long[['latitude', 'longitude']]\n",
    "                                          .applymap(float))\n",
    "# Select a lat_long value from the lat_long grid (use 55 then 30)\n",
    "lat_long_point = df_lat_long.loc[86,'lat_long']\n",
    "# Define radius from this point that we want to identify \n",
    "radius_from_point = 2000\n",
    "\n",
    "lat_searched, long_searched = split_lat_long(lat_long_point)\n",
    "# Extract bounding box dlat and dlong values that define minumum \n",
    "# set of latitude and longitude values that can be within radius\n",
    "dlat, dlong = bounding_box(lat_searched, long_searched, radius_from_point/1000)\n",
    "# Create new column that shows True or False if another point is \n",
    "# within radius_from_point of the lat_long_point.  \n",
    "#df_lat_long['in_radius'] = [check_in_radius(radius_from_point, \n",
    "#                                            lat_long_point, lat_long) \n",
    "#                            for lat_long in df_lat_long.lat_long]\n",
    "df_lat_long['in_radius'] = [check_in_radius(radius_from_point, \n",
    "                                            lat_long_point, lat_long, lat_searched, long_searched, dlat, dlong) \n",
    "                            for lat_long in df_lat_long.lat_long]\n",
    "\n",
    "df_lat_long.head()"
   ]
  },
  {
   "cell_type": "code",
   "execution_count": null,
   "id": "91d797ef-a89b-430f-89eb-595d3c90dd4b",
   "metadata": {},
   "outputs": [],
   "source": [
    "# Plot on map, with red for not unique and blue for unique\n",
    "fig = px.scatter_mapbox(df_lat_long, lat=\"latitude\", lon=\"longitude\", hover_name=\"lat_long\",  \n",
    "                   size_max=15, zoom=8, title='FourSquare API Search Grid', opacity = 1,  \n",
    "                        color_discrete_sequence=['blue'])\n",
    "fig.update_layout(mapbox_style=\"open-street-map\", title_text='FourSquare API Search Grid', title_x=0.5)\n",
    "\n",
    "fig.update_layout(\n",
    "    autosize=False,\n",
    "    width=800,\n",
    "    height=600,)\n",
    "fig.show()"
   ]
  },
  {
   "cell_type": "code",
   "execution_count": null,
   "id": "32ab78d9-c9e6-40b7-b24c-e1dea7d2ebd2",
   "metadata": {
    "tags": []
   },
   "outputs": [],
   "source": [
    "# Plot on map, with red for not unique and blue for unique\n",
    "fig = px.scatter_mapbox(df_lat_long, lat=\"latitude\", lon=\"longitude\", hover_name=\"lat_long\",  \n",
    "                   size_max=15, zoom=8, title='FourSquare API Search Grid', opacity = 1, color = 'in_radius', \n",
    "                        color_discrete_sequence=['blue', 'red'])\n",
    "fig.update_layout(mapbox_style=\"open-street-map\", title_text='FourSquare API Search Grid', title_x=0.5)\n",
    "\n",
    "fig.update_layout(\n",
    "    autosize=False,\n",
    "    width=800,\n",
    "    height=600,)\n",
    "fig.show()"
   ]
  },
  {
   "cell_type": "markdown",
   "id": "c2342279-50ea-46d1-a1da-4d2236f69cc0",
   "metadata": {},
   "source": [
    "131, 131 - 20, 3003.49\n",
    "1, 1 + 20, 3003.49\n",
    "8, 8+20, 2997.29"
   ]
  },
  {
   "cell_type": "code",
   "execution_count": null,
   "id": "16051176-a15d-49b2-ad5c-ba19a1a912d0",
   "metadata": {},
   "outputs": [],
   "source": [
    "search_boundaries = [[max_lat, min_long],[max_lat, max_long], \n",
    "                     [min_lat, max_long], [min_lat,min_long], \n",
    "                     [max_lat, min_long]]\n",
    "df_boundaries = pd.DataFrame(search_boundaries, \n",
    "                             columns = ['latitude', 'longitude'])\n",
    "\n",
    "fig = px.line_mapbox(df_boundaries, lat=\"latitude\", lon=\"longitude\", zoom = 9)\n",
    "\n",
    "fig.update_layout(mapbox_style=\"open-street-map\", mapbox_zoom = 9, \n",
    "                  margin = {\"r\":0,\"t\":0,\"l\":0,\"b\":0})\n",
    "\n",
    "fig.update_layout(\n",
    "    autosize=False,\n",
    "    width=800,\n",
    "    height=300,)\n",
    "\n",
    "fig.show()"
   ]
  },
  {
   "cell_type": "code",
   "execution_count": null,
   "id": "46176ce5-e347-48bd-9a65-d3285ac693bc",
   "metadata": {},
   "outputs": [],
   "source": [
    "distance.distance(lat_long_point,df_lat_long.loc[621 + 52,'lat_long']).m"
   ]
  },
  {
   "cell_type": "code",
   "execution_count": null,
   "id": "648539ac-12a0-4a41-ba44-f1174ed767d7",
   "metadata": {},
   "outputs": [],
   "source": [
    "80 - 19, 80 + 20 "
   ]
  },
  {
   "cell_type": "code",
   "execution_count": null,
   "id": "4728e172-e36f-4689-8045-5437e9244b9b",
   "metadata": {},
   "outputs": [],
   "source": [
    "df_lat_long.loc[621 + 52,'lat_long']"
   ]
  },
  {
   "cell_type": "code",
   "execution_count": null,
   "id": "bfc2eb66-0ed8-4353-9bc5-14760160657f",
   "metadata": {},
   "outputs": [],
   "source": [
    "# Update grid then rerun the above code (not worth coding this permanatly,\n",
    "# mainly for debugging and explaining)\n",
    "\n",
    "lat_long_grid = update_grid(lat_long_point, radius_from_point, lat_long_grid)"
   ]
  },
  {
   "cell_type": "code",
   "execution_count": null,
   "id": "bf9ae369-fc8d-4d33-93fd-024228932cf7",
   "metadata": {},
   "outputs": [],
   "source": [
    "%%time\n",
    "[lat_long for lat_long in lat_long_grid if check_in_radius(radius_from_point, lat_long_point, lat_long)]"
   ]
  },
  {
   "cell_type": "markdown",
   "id": "8b3e524f-886f-4093-9a08-55d76ccf9f26",
   "metadata": {},
   "source": [
    "### To do\n",
    "- update Radius function and add bit to calculate bounding box \n",
    "- Move around the maths functions to where they make sense \n",
    "- test fresh kernal on event spaces 333 \n",
    "- try for real....\n",
    "- tidy up map section / add pics..."
   ]
  },
  {
   "cell_type": "code",
   "execution_count": null,
   "id": "c1d5572d-61dd-4f11-9018-17297643001c",
   "metadata": {},
   "outputs": [],
   "source": [
    "point = lat_long_point.split(',')\n",
    "lat1 = float(point[0])\n",
    "long1 = float(point[1])\n",
    "\n",
    "dlat, dlong = bounding_box(lat, long, radius_from_point/1000)\n",
    "\n",
    "\n",
    "def check_in_radius2(radius, lat_long_searched, lat_long):\n",
    "    point = lat_long.split(',')\n",
    "    lat = float(point[0])\n",
    "    long = float(point[1])\n",
    "\n",
    "    if lat1 - dlat < lat < lat1 + dlat and long1 - dlong < long < long1 + dlong:\n",
    "        return distance.distance(ast.literal_eval(lat_long_searched), ast.literal_eval(lat_long)).m >= radius + 1\n",
    "    return True"
   ]
  },
  {
   "cell_type": "code",
   "execution_count": null,
   "id": "2fe68360-ec14-4c3a-85e3-04bbb2840b8b",
   "metadata": {},
   "outputs": [],
   "source": [
    "%time\n",
    "[lat_long for lat_long in lat_long_grid if check_in_radius2(radius_from_point, lat_long_point, lat_long)]"
   ]
  },
  {
   "cell_type": "code",
   "execution_count": null,
   "id": "baa695f3-2f3f-41ed-bc00-4f07f45cfc53",
   "metadata": {},
   "outputs": [],
   "source": [
    "\n",
    "point = lat_long_point.split(',')\n",
    "lat1 = float(point[0])\n",
    "long1 = float(point[1])"
   ]
  },
  {
   "cell_type": "code",
   "execution_count": null,
   "id": "a60cab7f-ac29-47bc-af93-9252be3f208c",
   "metadata": {},
   "outputs": [],
   "source": []
  },
  {
   "cell_type": "code",
   "execution_count": null,
   "id": "0e47063d-e3d6-477c-bcfb-6ea85b2ff87e",
   "metadata": {},
   "outputs": [],
   "source": []
  },
  {
   "cell_type": "code",
   "execution_count": null,
   "id": "b7205e1b-7c56-4d72-9f0e-52f8ef01c819",
   "metadata": {},
   "outputs": [],
   "source": []
  },
  {
   "cell_type": "markdown",
   "id": "98c6fc38-5b44-487a-9e39-de471cae31f3",
   "metadata": {},
   "source": [
    "### Lat Long filter"
   ]
  },
  {
   "cell_type": "code",
   "execution_count": null,
   "id": "25838427-5e51-46a9-9637-3ccf132412c5",
   "metadata": {},
   "outputs": [],
   "source": []
  },
  {
   "cell_type": "code",
   "execution_count": null,
   "id": "10cdde8e-dfc1-44e4-89e0-f47ba447f13a",
   "metadata": {},
   "outputs": [],
   "source": [
    "point = lat_long_point.split(',')\n",
    "lat1 = float(point[0])\n",
    "long1 = float(point[1])\n",
    "\n",
    "dlat, dlong = bounding_box(lat, long, radius_from_point/1000)"
   ]
  },
  {
   "cell_type": "code",
   "execution_count": null,
   "id": "927fb39a-98e1-465d-aac3-9eb69b4aa4b3",
   "metadata": {},
   "outputs": [],
   "source": []
  },
  {
   "cell_type": "code",
   "execution_count": null,
   "id": "dd7933cd-1823-4d50-bd17-e298f6bfa817",
   "metadata": {},
   "outputs": [],
   "source": [
    "response"
   ]
  },
  {
   "cell_type": "code",
   "execution_count": null,
   "id": "2fcb902f-753c-465c-86ed-cae65b0a70fe",
   "metadata": {},
   "outputs": [],
   "source": [
    "response.headers['Link']"
   ]
  },
  {
   "cell_type": "code",
   "execution_count": null,
   "id": "f9f6f1a4-c6d8-4446-ab13-c45fc74d52ab",
   "metadata": {},
   "outputs": [],
   "source": [
    "lat_long_grid[0:2]"
   ]
  },
  {
   "cell_type": "code",
   "execution_count": null,
   "id": "f84d7e62-e617-476d-954f-fe95c1677869",
   "metadata": {},
   "outputs": [],
   "source": [
    "lat_long = lat_long_grid[1]\n",
    "response = api_call(lat_long, 3271, key)\n"
   ]
  },
  {
   "cell_type": "code",
   "execution_count": null,
   "id": "e1d9d54e-1778-4bf6-a58a-81b1ef040933",
   "metadata": {},
   "outputs": [],
   "source": [
    "results = json.loads(response.text)\n",
    "venues_list = results['results']\n",
    "extract_venues(venues_list)"
   ]
  },
  {
   "cell_type": "code",
   "execution_count": null,
   "id": "1bfcd070-43d6-4c3a-ac81-16f8eb7f0c29",
   "metadata": {},
   "outputs": [],
   "source": [
    "JSON(venues_list)"
   ]
  },
  {
   "cell_type": "code",
   "execution_count": null,
   "id": "68ab819d-2369-42cf-8d3a-9a0ced55f847",
   "metadata": {},
   "outputs": [],
   "source": [
    "JSON(venues_list)"
   ]
  },
  {
   "cell_type": "code",
   "execution_count": null,
   "id": "8c72a96f-3478-42ea-9dd3-08172453a2e6",
   "metadata": {},
   "outputs": [],
   "source": [
    "venues_list[0]['location']['address']"
   ]
  },
  {
   "cell_type": "code",
   "execution_count": null,
   "id": "10d2287f-f62d-4c42-b785-4c607c75199e",
   "metadata": {},
   "outputs": [],
   "source": [
    "data = []\n",
    "while len(lat_long_grid) > 0:\n",
    "    \n",
    "    response = api_call(lat_long, radius, key)\n",
    "    results = json.loads(response.text)\n",
    "    venues_list = results['results']\n",
    "    data.extend(extract_venues(venues_list))\n",
    "    # if 50 results then check second page of results\n",
    "    if len(venues_list) == 50:\n",
    "        try:\n",
    "            pagination = response.headers['Link']\n",
    "            next_results_url = pagination[pagination.find('<') + 1\n",
    "                                          :pagination.find('>')]\n",
    "            response = requests.get(next_results_url, headers = headers)\n",
    "            results = json.loads(response.text)\n",
    "            venues_list = results['results']\n",
    "            data.extend(extract_venues(venues_list))\n",
    "            if len(venues_list) == 50:\n",
    "                max_distance = venues_list[-1]['distance']\n",
    "                print(f\"More than 100 results:/nlat_long = {lat_long}\\nradius = {radius}\\nmax distance = {max_distance}\")\n",
    "                if max_distance < radius:\n",
    "                    \n",
    "                print(f\"Error - 100 or more venues in search, cannot \"\n",
    "                     + f\"extract all venues in search area.\\n\"\n",
    "                     + f\"lat_long = {lat_long}\\nradius = {radius}\")\n",
    "            \n",
    "        # if key error, there is no second page link i.e. exactly 50 results\n",
    "        except KeyError:\n",
    "            pass"
   ]
  },
  {
   "cell_type": "code",
   "execution_count": null,
   "id": "521f2273-5328-467e-bb79-21fdeb2f921f",
   "metadata": {},
   "outputs": [],
   "source": [
    "pagination = response.headers['Link']\n",
    "next_results_url = pagination[pagination.find('<') + 1\n",
    "                                          :pagination.find('>')]\n",
    "response = requests.get(next_results_url, headers = headers)\n",
    "results = json.loads(response.text)\n",
    "JSON(results)"
   ]
  },
  {
   "cell_type": "code",
   "execution_count": null,
   "id": "7f08b48e-e006-476c-a100-033f85235019",
   "metadata": {},
   "outputs": [],
   "source": [
    "radius = 127\n",
    "lat_tick_size, long_tick_size = find_tick_sizes(radius)\n",
    "lat_long_grid = create_lat_long_grid(lat_tick_size, long_tick_size)\n",
    "print(f\"lat_long_grid size = {len(lat_long_grid)}\")\n",
    "\n",
    "time_last_update = time.time()\n",
    "data = []\n",
    "total_calls = 0\n",
    "while len(lat_long_grid) > 0:\n",
    "    #print('restarted')\n",
    "    # maximum index available in lat_long_grid\n",
    "    max_index = len(lat_long_grid) - 1\n",
    "    # Pick random index for lat_long_grid\n",
    "    random_index = random.randint(0, max_index)\n",
    "    # Pick lat and long values from random position in lat_long_grid\n",
    "    lat_long = lat_long_grid[random_index]\n",
    "    total_calls += 1\n",
    "    response = api_call(lat_long, radius, key)\n",
    "    try: \n",
    "        results = json.loads(response.text)\n",
    "    except JSONDecodeError:\n",
    "        time.sleep(1)\n",
    "        response = api_call(lat_long, radius, key)\n",
    "        results = json.loads(response.text)\n",
    "    try: \n",
    "        venues_list = results['results']\n",
    "    except KeyError:\n",
    "        time.sleep(1)\n",
    "        response = api_call(lat_long, radius, key)\n",
    "        results = json.loads(response.text)\n",
    "        try:\n",
    "            venues_list = results['results']\n",
    "        except KeyError:\n",
    "            time.sleep(1)\n",
    "            continue\n",
    "    \n",
    "    data.extend(extract_venues(venues_list))\n",
    "    # if 50 results then check second page of results\n",
    "    if len(venues_list) > 0:\n",
    "        max_distance = venues_list[-1]['distance']\n",
    "    if len(venues_list) == 50 and max_distance <= radius:        \n",
    "        print(f\"50 results and max_distance returned smaller than radius:\\nlat_long = {lat_long}\\nradius = {radius}\\nmax distance = {max_distance}\")\n",
    "        print(f\"\\nUpdating Radius to {max_distance} and resetting grid...\\n\")\n",
    "        # update radius to max_distance minus 1 (ensures radius will now be smaller than max distance next time)\n",
    "        radius = max_distance - 1\n",
    "        lat_tick_size, long_tick_size = find_tick_sizes(radius)          \n",
    "        lat_long_grid = create_lat_long_grid(lat_tick_size, long_tick_size)\n",
    "        print(f\"lat_long_grid size = {len(lat_long_grid)}\")\n",
    "        # reset data gathering\n",
    "        data = []\n",
    "        continue\n",
    "    #print('pre-grid update')        \n",
    "    lat_long_grid = update_grid(lat_long, radius, lat_long_grid)\n",
    "    #print('done one')\n",
    "    if time.time() - time_last_update > 20:\n",
    "        print(f\"lat_long_grid points remaining -> {len(lat_long_grid)}\")\n",
    "        time_last_update = time.time()\n",
    "    \n",
    "print(f\"\\nTotal Calls -> {total_calls}\")"
   ]
  },
  {
   "cell_type": "code",
   "execution_count": null,
   "id": "bb3b5ca1-c5da-44a2-9d51-f352ab7e4bf2",
   "metadata": {},
   "outputs": [],
   "source": [
    "search_radius = 2000\n",
    "min_grid_radius = 127\n",
    "\n",
    "lat_tick_size, long_tick_size = find_tick_sizes(min_grid_radius)\n",
    "lat_long_grid = create_lat_long_grid(lat_tick_size, long_tick_size)\n",
    "print(f\"lat_long_grid size = {len(lat_long_grid)}\")\n",
    "\n",
    "time_last_update = time.time()\n",
    "data = []\n",
    "total_calls = 0\n",
    "while len(lat_long_grid) > 0:\n",
    "    #print('restarted')\n",
    "    # maximum index available in lat_long_grid\n",
    "    max_index = len(lat_long_grid) - 1\n",
    "    # Pick random index for lat_long_grid\n",
    "    random_index = random.randint(0, max_index)\n",
    "    # Pick lat and long values from random position in lat_long_grid\n",
    "    lat_long = lat_long_grid[random_index]\n",
    "    total_calls += 1\n",
    "    response = api_call(lat_long, search_radius, key)\n",
    "    # If response status code isnt 200, there was an API error. Print \n",
    "    # the API error, wait 5 seconds and try API call again. Loop until \n",
    "    # status 200 code returned by API. \n",
    "    while response.status_code != 200:\n",
    "        print(f\"API Error code {response.status_code}, sleeping 5 seconds\")\n",
    "        time.sleep(5)\n",
    "        response = api_call(lat_long, radius, key)\n",
    "    \n",
    "    data.extend(extract_venues(venues_list))\n",
    "    # if 50 results then check second page of results\n",
    "    \n",
    "    if len(venues_list) > 0:\n",
    "        max_distance = venues_list[-1]['distance']\n",
    "    else:\n",
    "        update_radius = search_radius\n",
    "    \n",
    "    if \n",
    "    \n",
    "    if len(venues_list) == 50 and max_distance <= min_grid_radius:        \n",
    "        print(f\"50 results and max_distance returned smaller than min_grid_radius:\\nlat_long = {lat_long}\\nradius = {radius}\\nmax distance = {max_distance}\")\n",
    "        print(f\"\\nUpdating min_grid_radius to {max_distance} and resetting grid...\\n\")\n",
    "        # update radius to max_distance minus 1 (ensures radius will now be smaller than max distance next time)\n",
    "        min_grid_radius = max_distance - 1\n",
    "        lat_tick_size, long_tick_size = find_tick_sizes(min_grid_radius)          \n",
    "        lat_long_grid = create_lat_long_grid(lat_tick_size, long_tick_size)\n",
    "        print(f\"lat_long_grid size = {len(lat_long_grid)}\")\n",
    "        # reset data gathering\n",
    "        data = []\n",
    "        continue\n",
    "    #print('pre-grid update')        \n",
    "    lat_long_grid = update_grid(lat_long, update_radius, lat_long_grid)\n",
    "    #print('done one')\n",
    "    if time.time() - time_last_update > 20:\n",
    "        print(f\"lat_long_grid points remaining -> {len(lat_long_grid)}\")\n",
    "        time_last_update = time.time()\n",
    "    \n",
    "print(f\"\\nTotal Calls -> {total_calls}\")"
   ]
  },
  {
   "cell_type": "code",
   "execution_count": null,
   "id": "bd1d746f-15bc-4695-b8c7-7c399f0dbd07",
   "metadata": {},
   "outputs": [],
   "source": [
    "initial_search_radius = 1000\n",
    "min_grid_radius = 127\n",
    "\n",
    "lat_tick_size, long_tick_size = find_tick_sizes(min_grid_radius)\n",
    "lat_long_grid = create_lat_long_grid(lat_tick_size, long_tick_size)\n",
    "print(f\"lat_long_grid size = {len(lat_long_grid)}\")\n",
    "\n",
    "time_last_update = time.time()\n",
    "data = []\n",
    "calls_in_last_20_seconds = 0 \n",
    "total_calls = 0\n",
    "while len(lat_long_grid) > 0:\n",
    "    #print('restarted')\n",
    "    # maximum index available in lat_long_grid\n",
    "    max_index = len(lat_long_grid) - 1\n",
    "    # Pick random index for lat_long_grid\n",
    "    random_index = random.randint(0, max_index)\n",
    "    # Pick lat and long values from random position in lat_long_grid\n",
    "    lat_long = lat_long_grid[random_index]\n",
    "    \n",
    "    search_radius_not_found = True\n",
    "    search_radius = initial_search_radius\n",
    "    \n",
    "    while search_radius_not_found:\n",
    "        #print('calling api')\n",
    "        total_calls += 1\n",
    "        response = api_call(lat_long, search_radius, key)\n",
    "        # If response status code isnt 200, there was an API error. Print \n",
    "        # the API error, wait 5 seconds and try API call again. Loop until \n",
    "        # status 200 code returned by API. \n",
    "        while response.status_code != 200:\n",
    "            print(f\"API Error code {response.status_code}, sleeping 5 seconds\")\n",
    "            time.sleep(5)\n",
    "            response = api_call(lat_long, search_radius, key)\n",
    "        \n",
    "        results = json.loads(response.text)\n",
    "        venues_list = results['results']\n",
    "        \n",
    "        if len(venues_list) > 49:\n",
    "            search_radius = int(search_radius / 2)\n",
    "            print('radius too large') \n",
    "        else: \n",
    "            search_radius_not_found = False\n",
    "    \n",
    "    if search_radius < min_grid_radius:        \n",
    "        print(f\"Search Radius smaller than min_grid_radius:\\nlat_long = {lat_long}\\nsearch radius = {search_radius}\")\n",
    "        print(f\"\\nUpdating min_grid_radius to {search_radius} and resetting grid...\\n\")\n",
    "        # update radius to max_distance minus 1 (ensures radius will now be smaller than max distance next time)\n",
    "        min_grid_radius = search_radius\n",
    "        lat_tick_size, long_tick_size = find_tick_sizes(min_grid_radius)          \n",
    "        lat_long_grid = create_lat_long_grid(lat_tick_size, long_tick_size)\n",
    "        print(f\"lat_long_grid size = {len(lat_long_grid)}\")\n",
    "        # reset data gathering\n",
    "        data = []\n",
    "        continue\n",
    "    #print('data about to be scraped')\n",
    "    data.extend(extract_venues(venues_list))\n",
    "           \n",
    "    lat_long_grid = update_grid(lat_long, search_radius, lat_long_grid)\n",
    "    #print('done one grid mark --> ', len(lat_long_grid))\n",
    "    if time.time() - time_last_update > 20:\n",
    "        print(f\"lat_long_grid points remaining -> {len(lat_long_grid)}\")\n",
    "        time_last_update = time.time()\n",
    "    \n",
    "print(f\"\\nTotal Calls -> {total_calls}\")"
   ]
  },
  {
   "cell_type": "code",
   "execution_count": null,
   "id": "aa2e4b55-8410-4f9b-88a1-614647e61b80",
   "metadata": {},
   "outputs": [],
   "source": [
    "url = 'https://api.foursquare.com/v2/venues/search'\n",
    "\n",
    "params = dict(\n",
    "client_id = 'AAXRKU2CAOL43SHYGZJGEHKOSW0ACUNX2PD3JLB22U0WFFNA',\n",
    "client_secret = 'FHVL3UYDBWRNVHVQ11FOR0Z4LFWSDIRL1HW3OCZNERUEAG1F',\n",
    "v = '20180323',\n",
    "near = 'London, UK',\n",
    "category = '4bf58dd8d48988d171941735',\n",
    "#ll = '40.7243,-74.0018',\n",
    "#query = 'coffee',\n",
    "limit = 50\n",
    ")\n",
    "resp = requests.get(url=url, params=params)\n",
    "data = json.loads(resp.text)"
   ]
  },
  {
   "cell_type": "code",
   "execution_count": null,
   "id": "733153de-e61e-43a0-9880-fb35e06bdcb6",
   "metadata": {},
   "outputs": [],
   "source": [
    "JSON(data)"
   ]
  },
  {
   "cell_type": "code",
   "execution_count": null,
   "id": "f5d28f34-f9fc-4397-ad7c-5424799969b1",
   "metadata": {},
   "outputs": [],
   "source": [
    "url = 'https://api.foursquare.com/v2/venues/explore'\n",
    "\n",
    "params = dict(\n",
    "client_id = 'AAXRKU2CAOL43SHYGZJGEHKOSW0ACUNX2PD3JLB22U0WFFNA',\n",
    "client_secret = 'FHVL3UYDBWRNVHVQ11FOR0Z4LFWSDIRL1HW3OCZNERUEAG1F',\n",
    "v = '20180323',\n",
    "#near = 'London, UK',\n",
    "category = '4bf58dd8d48988d171941735',\n",
    "ll = '51.502380,-0.071414',\n",
    "offset = 1,\n",
    "sortByDistance = 1,\n",
    "radius = 8000,\n",
    "#query = 'coffee',\n",
    "limit = 50\n",
    ")\n",
    "resp = requests.get(url=url, params=params)\n",
    "data_explore = json.loads(resp.text)\n",
    "JSON(data_explore)"
   ]
  },
  {
   "cell_type": "code",
   "execution_count": null,
   "id": "82ad9238-ea93-4b72-8230-a8667025caad",
   "metadata": {},
   "outputs": [],
   "source": [
    "pagination = response.headers['Link']\n",
    "next_results_url = pagination[pagination.find('<') + 1\n",
    "                                          :pagination.find('>')]\n",
    "response = requests.get(next_results_url, headers = headers)\n",
    "results = json.loads(response.text)\n",
    "JSON(results)"
   ]
  }
 ],
 "metadata": {
  "kernelspec": {
   "display_name": "geo",
   "language": "python",
   "name": "geo"
  },
  "language_info": {
   "codemirror_mode": {
    "name": "ipython",
    "version": 3
   },
   "file_extension": ".py",
   "mimetype": "text/x-python",
   "name": "python",
   "nbconvert_exporter": "python",
   "pygments_lexer": "ipython3",
   "version": "3.10.6"
  },
  "toc-autonumbering": false,
  "widgets": {
   "application/vnd.jupyter.widget-state+json": {
    "state": {},
    "version_major": 2,
    "version_minor": 0
   }
  }
 },
 "nbformat": 4,
 "nbformat_minor": 5
}
