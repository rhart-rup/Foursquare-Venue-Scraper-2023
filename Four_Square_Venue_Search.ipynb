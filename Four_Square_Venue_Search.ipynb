{
 "cells": [
  {
   "cell_type": "markdown",
   "id": "1270d8a0-d499-4454-b1a0-8fdf6d4f798c",
   "metadata": {},
   "source": [
    "Following useful websites:\n",
    "\n",
    "[Latitude&LongitudeFinder](https://www.latlong.net/)\n",
    "\n",
    "[Foursquare Explore API](https://developer.foursquare.com/docs/api-reference/venues/explore/)\n",
    "\n",
    "[Foursquare Search Venue API](https://developer.foursquare.com/docs/api-reference/venues/search/)\n",
    "\n",
    "Basic Thinking: \n",
    "\n",
    "Use Explore API to search a grid of London Lat and Longitudes, using the initially returned data on number of results in area to then use the offset attribute of the API to try and scrape all venues at that lat and longitude. \n",
    "\n",
    "Note need to set limit to 50 to get max returned venues and note can't get more than 50 but offset attribute shifts through results to get the 50 next results i.e. you set offset from 0 to 50 and you'll have gotten 100 total results from 2 calls. By tweaking radius and lat / longitude granularity and looking at the 'total results returned' data from the json returned, we should hopefully be able to get all the venues.   \n",
    "\n",
    "Also need to check the resulting venues actually are an event space e.g. spot check results are useful. \n",
    "\n",
    "Afterwards for Public space - may be useful to cross check the venues found with rich data from other API calls e.g. Venue Details API, and finding venues with little data i.e. new venues would be the prioritised candidates.  \n",
    "\n",
    "Step 1 - Make script to pull out results from return into a nice table, and note the useful info for prioritisation i.e. 'verified' as well as customers there and stuff. \n",
    "\n",
    "Step 2 - create plan for grid search of london and 2 calls (offset = 0 and offset = 50) and varying radius and granularity based on number of results returned. Be careful to estimate total calls because limited to 950 a day (half that if you do 2 calls due to offset) unless you verify in which case we can make many more calls. "
   ]
  },
  {
   "cell_type": "code",
   "execution_count": null,
   "id": "2e8691c2-9263-42d1-a9e8-1270114fc55c",
   "metadata": {},
   "outputs": [],
   "source": [
    "import json\n",
    "import requests\n",
    "from IPython.display import JSON"
   ]
  },
  {
   "cell_type": "code",
   "execution_count": null,
   "id": "aa2e4b55-8410-4f9b-88a1-614647e61b80",
   "metadata": {},
   "outputs": [],
   "source": [
    "url = 'https://api.foursquare.com/v2/venues/search'\n",
    "\n",
    "params = dict(\n",
    "client_id = 'AAXRKU2CAOL43SHYGZJGEHKOSW0ACUNX2PD3JLB22U0WFFNA',\n",
    "client_secret = 'FHVL3UYDBWRNVHVQ11FOR0Z4LFWSDIRL1HW3OCZNERUEAG1F',\n",
    "v = '20180323',\n",
    "near = 'London, UK',\n",
    "category = '4bf58dd8d48988d171941735',\n",
    "#ll = '40.7243,-74.0018',\n",
    "#query = 'coffee',\n",
    "limit = 50\n",
    ")\n",
    "resp = requests.get(url=url, params=params)\n",
    "data = json.loads(resp.text)"
   ]
  },
  {
   "cell_type": "code",
   "execution_count": null,
   "id": "733153de-e61e-43a0-9880-fb35e06bdcb6",
   "metadata": {},
   "outputs": [],
   "source": [
    "JSON(data)"
   ]
  },
  {
   "cell_type": "code",
   "execution_count": null,
   "id": "f5d28f34-f9fc-4397-ad7c-5424799969b1",
   "metadata": {},
   "outputs": [],
   "source": [
    "url = 'https://api.foursquare.com/v2/venues/explore'\n",
    "\n",
    "params = dict(\n",
    "client_id = 'AAXRKU2CAOL43SHYGZJGEHKOSW0ACUNX2PD3JLB22U0WFFNA',\n",
    "client_secret = 'FHVL3UYDBWRNVHVQ11FOR0Z4LFWSDIRL1HW3OCZNERUEAG1F',\n",
    "v = '20180323',\n",
    "#near = 'London, UK',\n",
    "category = '4bf58dd8d48988d171941735',\n",
    "ll = '51.502380,-0.071414',\n",
    "offset = 1,\n",
    "sortByDistance = 1,\n",
    "radius = 8000,\n",
    "#query = 'coffee',\n",
    "limit = 50\n",
    ")\n",
    "resp = requests.get(url=url, params=params)\n",
    "data_explore = json.loads(resp.text)\n",
    "JSON(data_explore)"
   ]
  },
  {
   "cell_type": "code",
   "execution_count": null,
   "id": "3bc8430f-7c32-44c6-8596-2ed7c138d97f",
   "metadata": {},
   "outputs": [],
   "source": [
    "200 * 2 *100"
   ]
  },
  {
   "cell_type": "code",
   "execution_count": null,
   "id": "773c6280-6c5f-4a6a-b17a-22decabcf087",
   "metadata": {},
   "outputs": [],
   "source": []
  },
  {
   "cell_type": "code",
   "execution_count": 1,
   "id": "80123929-0108-42b9-ada0-1dc75641a21d",
   "metadata": {},
   "outputs": [],
   "source": [
    "import json\n",
    "import ast\n",
    "import random\n",
    "import requests\n",
    "from IPython.display import JSON\n",
    "from ratelimiter import RateLimiter\n",
    "from statistics import median, mean\n",
    "import plotly.express as px\n",
    "from geopy import distance\n",
    "from scipy.optimize import newton\n",
    "import numpy as np\n",
    "import pandas as pd\n",
    "import time\n",
    "from joblib import Parallel, delayed\n",
    "from json.decoder import JSONDecodeError"
   ]
  },
  {
   "cell_type": "markdown",
   "id": "17007012-ff26-428a-8ef7-5eb8f498508c",
   "metadata": {},
   "source": [
    "### Key Variables\n",
    "\n",
    "- **key** is the foursquare api key credential\n",
    "- **url** is main foursquare 'places' api url to perform a venue search. \n",
    "- **minimum and maximum latitude and longitudes** define a square projection on the earth's surface that defines the search area. "
   ]
  },
  {
   "cell_type": "code",
   "execution_count": 2,
   "id": "5f6f9a1e-57b4-4f62-a330-5c99ebccc9e5",
   "metadata": {},
   "outputs": [],
   "source": [
    "key = 'fsq3MYXlFApTX2z3Q5dOBckbXHSnG9a7pbwgZkIP8vz4YNw='\n",
    "url = \"https://api.foursquare.com/v3/places/search\"\n",
    "headers = {\n",
    "        \"Accept\": \"application/json\",\n",
    "        \"Authorization\": key\n",
    "    }\n",
    "\n",
    "min_lat = 51.438499 \n",
    "max_lat = 51.546890\n",
    "min_long = -0.240612\n",
    "max_long = 0.026043"
   ]
  },
  {
   "cell_type": "code",
   "execution_count": 3,
   "id": "08f065c7-cd29-4f62-add6-03a7583a8774",
   "metadata": {},
   "outputs": [],
   "source": [
    "@RateLimiter(max_calls=49, period=1)\n",
    "def api_call(long_lat, radius, key):\n",
    "    \"\"\"Perform a foursquare places api search and return results.  \n",
    "    \n",
    "    The places api search requires a location (latitude and longitude) \n",
    "    and radius to determine the search area. We also use  2 category \n",
    "    codes for indoor and outdoor event spaces, resticting our \n",
    "    results to showing only venues with event spaces. \n",
    "    \n",
    "    Note that the function use the @Ratelimiter decorator to restrict the \n",
    "    calling of this function to 49 calls per second to comply with the \n",
    "    foursquare api rate limits.  \n",
    "    \n",
    "    Returns - response from foursquare api (top 50 event spaces closest \n",
    "    to the latitude / longitude values provided that offer an event space)\"\"\"\n",
    "    \n",
    "    # Defines paramaters to add to the main 'places' api url\n",
    "    params = dict(ll = long_lat,\n",
    "                  radius = radius, \n",
    "                  #categories='11131,11039',\n",
    "                  categories='10039,10040,10041,10045,10049,11039,13003',\n",
    "                  sort='DISTANCE',\n",
    "                  limit='50'\n",
    "                 )\n",
    "    # defines headers to include in the 'places' api search\n",
    "    headers = {\n",
    "        \"Accept\": \"application/json\",\n",
    "        \"Authorization\": key\n",
    "    }\n",
    "\n",
    "    return requests.request(\"GET\", url, headers=headers, params=params)"
   ]
  },
  {
   "cell_type": "code",
   "execution_count": 4,
   "id": "02aab9bf-d0af-4d69-a68b-6994b5c285fa",
   "metadata": {},
   "outputs": [
    {
     "data": {
      "application/json": {
       "context": {
        "geo_bounds": {
         "circle": {
          "center": {
           "latitude": 51.513882,
           "longitude": -0.119478
          },
          "radius": 1000
         }
        }
       },
       "results": [
        {
         "categories": [
          {
           "icon": {
            "prefix": "https://ss3.4sqi.net/img/categories_v2/arts_entertainment/musicvenue_",
            "suffix": ".png"
           },
           "id": 10039,
           "name": "Music Venue"
          },
          {
           "icon": {
            "prefix": "https://ss3.4sqi.net/img/categories_v2/food/asian_",
            "suffix": ".png"
           },
           "id": 13099,
           "name": "Chinese Restaurant"
          }
         ],
         "chains": [],
         "distance": 82,
         "fsq_id": "4cde949878ddf04da95b9b98",
         "geocodes": {
          "main": {
           "latitude": 51.513658,
           "longitude": -0.120616
          }
         },
         "location": {
          "address": "Drury Lane",
          "admin_region": "England",
          "country": "GB",
          "locality": "London",
          "post_town": "London",
          "postcode": "WC2N 4JS",
          "region": "Greater London"
         },
         "name": "Drury Lane Gardens",
         "related_places": {},
         "timezone": "Europe/London"
        },
        {
         "categories": [
          {
           "icon": {
            "prefix": "https://ss3.4sqi.net/img/categories_v2/arts_entertainment/musicvenue_",
            "suffix": ".png"
           },
           "id": 10037,
           "name": "Concert Hall"
          },
          {
           "icon": {
            "prefix": "https://ss3.4sqi.net/img/categories_v2/arts_entertainment/musicvenue_",
            "suffix": ".png"
           },
           "id": 10039,
           "name": "Music Venue"
          },
          {
           "icon": {
            "prefix": "https://ss3.4sqi.net/img/categories_v2/arts_entertainment/performingarts_theater_",
            "suffix": ".png"
           },
           "id": 10043,
           "name": "Theater"
          }
         ],
         "chains": [],
         "distance": 98,
         "fsq_id": "4ac518e7f964a5203dab20e3",
         "geocodes": {
          "main": {
           "latitude": 51.51305313198294,
           "longitude": -0.1189932876739212
          }
         },
         "location": {
          "address": "49 Aldwych",
          "admin_region": "England",
          "country": "GB",
          "locality": "London",
          "neighborhood": [
           "Covent Garden"
          ],
          "post_town": "London",
          "postcode": "WC2B 4DF",
          "region": "Greater London"
         },
         "name": "Aldwych Theatre",
         "related_places": {
          "children": [
           {
            "fsq_id": "4f3fd0b9e4b059e3cc47f401",
            "name": "Crazy For You"
           }
          ]
         },
         "timezone": "Europe/London"
        },
        {
         "categories": [
          {
           "icon": {
            "prefix": "https://ss3.4sqi.net/img/categories_v2/arts_entertainment/musicvenue_",
            "suffix": ".png"
           },
           "id": 10037,
           "name": "Concert Hall"
          },
          {
           "icon": {
            "prefix": "https://ss3.4sqi.net/img/categories_v2/arts_entertainment/musicvenue_",
            "suffix": ".png"
           },
           "id": 10039,
           "name": "Music Venue"
          },
          {
           "icon": {
            "prefix": "https://ss3.4sqi.net/img/categories_v2/arts_entertainment/performingarts_theater_",
            "suffix": ".png"
           },
           "id": 10043,
           "name": "Theater"
          }
         ],
         "chains": [],
         "distance": 116,
         "fsq_id": "4ac518e7f964a52054ab20e3",
         "geocodes": {
          "main": {
           "latitude": 51.51439402156201,
           "longitude": -0.11801369924641344
          }
         },
         "location": {
          "address": "Portugal St",
          "admin_region": "England",
          "country": "GB",
          "cross_street": "Kingsway",
          "locality": "London",
          "neighborhood": [
           "Holborn"
          ],
          "post_town": "London",
          "postcode": "WC2A 2HT",
          "region": "Greater London"
         },
         "name": "Peacock Theatre",
         "related_places": {
          "parent": {
           "fsq_id": "4af1a842f964a520e5e121e3",
           "name": "London School of Economics and Political Science"
          }
         },
         "timezone": "Europe/London"
        },
        {
         "categories": [
          {
           "icon": {
            "prefix": "https://ss3.4sqi.net/img/categories_v2/travel/hotel_bar_",
            "suffix": ".png"
           },
           "id": 13013,
           "name": "Hotel Bar"
          }
         ],
         "chains": [],
         "distance": 137,
         "fsq_id": "504de89ee4b0985ffeb7d44a",
         "geocodes": {
          "main": {
           "latitude": 51.512655582961656,
           "longitude": -0.11920096844738796
          }
         },
         "location": {
          "address": "The Waldorf Hilton Hotel",
          "admin_region": "England",
          "country": "GB",
          "cross_street": "",
          "locality": "London",
          "post_town": "London",
          "postcode": "WC2B 4DD",
          "region": "Greater London"
         },
         "name": "Executive Lounge Hilton",
         "related_places": {
          "parent": {
           "fsq_id": "4ac518b9f964a52096a120e3",
           "name": "The Waldorf Hilton"
          }
         },
         "timezone": "Europe/London"
        },
        {
         "categories": [
          {
           "icon": {
            "prefix": "https://ss3.4sqi.net/img/categories_v2/arts_entertainment/musicvenue_",
            "suffix": ".png"
           },
           "id": 10037,
           "name": "Concert Hall"
          },
          {
           "icon": {
            "prefix": "https://ss3.4sqi.net/img/categories_v2/arts_entertainment/musicvenue_",
            "suffix": ".png"
           },
           "id": 10039,
           "name": "Music Venue"
          },
          {
           "icon": {
            "prefix": "https://ss3.4sqi.net/img/categories_v2/arts_entertainment/performingarts_theater_",
            "suffix": ".png"
           },
           "id": 10043,
           "name": "Theater"
          }
         ],
         "chains": [],
         "distance": 178,
         "fsq_id": "4ac518e9f964a520d0ab20e3",
         "geocodes": {
          "main": {
           "latitude": 51.512279575946984,
           "longitude": -0.1193221327698747
          }
         },
         "location": {
          "address": "5 Aldwych",
          "admin_region": "England",
          "country": "GB",
          "locality": "London",
          "neighborhood": [
           "Covent Garden"
          ],
          "post_town": "London",
          "postcode": "WC2B 4LD",
          "region": "Greater London"
         },
         "name": "Novello Theatre",
         "related_places": {
          "children": [
           {
            "fsq_id": "597f4f9f8fb09e05edb3fc8b",
            "name": "Fabi"
           },
           {
            "fsq_id": "4defd55ae4cdcd6c3f33d114",
            "name": "Delfont Mackintosh Theatres"
           }
          ]
         },
         "timezone": "Europe/London"
        },
        {
         "categories": [
          {
           "icon": {
            "prefix": "https://ss3.4sqi.net/img/categories_v2/nightlife/cocktails_",
            "suffix": ".png"
           },
           "id": 13009,
           "name": "Cocktail Bar"
          },
          {
           "icon": {
            "prefix": "https://ss3.4sqi.net/img/categories_v2/food/default_",
            "suffix": ".png"
           },
           "id": 13065,
           "name": "Restaurant"
          }
         ],
         "chains": [],
         "distance": 182,
         "fsq_id": "60b23f509df58f53f524e41b",
         "geocodes": {
          "main": {
           "latitude": 51.51323,
           "longitude": -0.121895
          }
         },
         "location": {
          "address": "28 Bow St",
          "admin_region": "England",
          "country": "GB",
          "cross_street": "",
          "locality": "London",
          "post_town": "London",
          "postcode": "W C2B",
          "region": "Greater London"
         },
         "name": "Side Hustle at the NoMad",
         "related_places": {
          "parent": {
           "fsq_id": "60b134384f1ed20c0d22a0ca",
           "name": "NoMad London"
          }
         },
         "timezone": "Europe/London"
        },
        {
         "categories": [
          {
           "icon": {
            "prefix": "https://ss3.4sqi.net/img/categories_v2/nightlife/pub_",
            "suffix": ".png"
           },
           "id": 13018,
           "name": "Pub"
          },
          {
           "icon": {
            "prefix": "https://ss3.4sqi.net/img/categories_v2/food/australian_",
            "suffix": ".png"
           },
           "id": 13073,
           "name": "Australian Restaurant"
          }
         ],
         "chains": [],
         "distance": 199,
         "fsq_id": "4b2e9f75f964a520c7e324e3",
         "geocodes": {
          "main": {
           "latitude": 51.51470059791861,
           "longitude": -0.12205026356883274
          }
         },
         "location": {
          "address": "150 Drury Lane",
          "admin_region": "England",
          "country": "GB",
          "cross_street": "Long Acre",
          "locality": "London",
          "neighborhood": [
           "Covent Garden"
          ],
          "post_town": "London",
          "postcode": "WC2B 5TD",
          "region": "Greater London"
         },
         "name": "Prince of Wales",
         "related_places": {},
         "timezone": "Europe/London"
        },
        {
         "categories": [
          {
           "icon": {
            "prefix": "https://ss3.4sqi.net/img/categories_v2/nightlife/cocktails_",
            "suffix": ".png"
           },
           "id": 13009,
           "name": "Cocktail Bar"
          }
         ],
         "chains": [],
         "distance": 232,
         "fsq_id": "5127fae2e4b0d9d0f75da670",
         "geocodes": {
          "main": {
           "latitude": 51.51187028817853,
           "longitude": -0.11856904895827867
          }
         },
         "location": {
          "address": "ME London",
          "admin_region": "England",
          "country": "GB",
          "cross_street": "335-336 The Strand",
          "locality": "London",
          "post_town": "London",
          "postcode": "WC2R 1HA",
          "region": "Greater London"
         },
         "name": "Radio",
         "related_places": {
          "parent": {
           "fsq_id": "50479f2fe4b04515207037d9",
           "name": "ME London Radio Bar"
          }
         },
         "timezone": "Europe/London"
        },
        {
         "categories": [
          {
           "icon": {
            "prefix": "https://ss3.4sqi.net/img/categories_v2/nightlife/pub_",
            "suffix": ".png"
           },
           "id": 13018,
           "name": "Pub"
          },
          {
           "icon": {
            "prefix": "https://ss3.4sqi.net/img/categories_v2/food/default_",
            "suffix": ".png"
           },
           "id": 13065,
           "name": "Restaurant"
          }
         ],
         "chains": [],
         "distance": 266,
         "fsq_id": "4ad4dc51f964a5204bfc20e3",
         "geocodes": {
          "main": {
           "latitude": 51.51148952548414,
           "longitude": -0.11926896678091731
          }
         },
         "location": {
          "address": "351 Strand",
          "admin_region": "England",
          "country": "GB",
          "cross_street": "at Aldwych",
          "locality": "London",
          "neighborhood": [
           "Strand"
          ],
          "post_town": "London",
          "postcode": "WC2R 0HS",
          "region": "Greater London"
         },
         "name": "The Wellington",
         "related_places": {},
         "timezone": "Europe/London"
        },
        {
         "categories": [
          {
           "icon": {
            "prefix": "https://ss3.4sqi.net/img/categories_v2/food/winery_",
            "suffix": ".png"
           },
           "id": 13025,
           "name": "Wine Bar"
          },
          {
           "icon": {
            "prefix": "https://ss3.4sqi.net/img/categories_v2/food/tapas_",
            "suffix": ".png"
           },
           "id": 13347,
           "name": "Tapas Restaurant"
          }
         ],
         "chains": [],
         "distance": 280,
         "fsq_id": "4ae237a6f964a520f08b21e3",
         "geocodes": {
          "main": {
           "latitude": 51.51640968557495,
           "longitude": -0.119544742601346
          }
         },
         "location": {
          "address": "58 Kingsway",
          "admin_region": "England",
          "country": "GB",
          "cross_street": "",
          "locality": "London",
          "neighborhood": [
           "Holborn"
          ],
          "post_town": "London",
          "postcode": "WC2B 6DX",
          "region": "Greater London"
         },
         "name": "All Bar One",
         "related_places": {},
         "timezone": "Europe/London"
        },
        {
         "categories": [
          {
           "icon": {
            "prefix": "https://ss3.4sqi.net/img/categories_v2/nightlife/pub_",
            "suffix": ".png"
           },
           "id": 13018,
           "name": "Pub"
          },
          {
           "icon": {
            "prefix": "https://ss3.4sqi.net/img/categories_v2/food/default_",
            "suffix": ".png"
           },
           "id": 13065,
           "name": "Restaurant"
          }
         ],
         "chains": [],
         "distance": 297,
         "fsq_id": "4aeb7215f964a52025c221e3",
         "geocodes": {
          "main": {
           "latitude": 51.511208728911214,
           "longitude": -0.11950428565296649
          }
         },
         "location": {
          "address": "354 Strand",
          "admin_region": "England",
          "country": "GB",
          "locality": "London",
          "neighborhood": [
           "Charing Cross"
          ],
          "post_town": "London",
          "postcode": "WC2R 0HS",
          "region": "Greater London"
         },
         "name": "Lyceum Tavern",
         "related_places": {},
         "timezone": "Europe/London"
        },
        {
         "categories": [
          {
           "icon": {
            "prefix": "https://ss3.4sqi.net/img/categories_v2/arts_entertainment/default_",
            "suffix": ".png"
           },
           "id": 10000,
           "name": "Arts and Entertainment"
          },
          {
           "icon": {
            "prefix": "https://ss3.4sqi.net/img/categories_v2/nightlife/pub_",
            "suffix": ".png"
           },
           "id": 13003,
           "name": "Bar"
          },
          {
           "icon": {
            "prefix": "https://ss3.4sqi.net/img/categories_v2/food/default_",
            "suffix": ".png"
           },
           "id": 13065,
           "name": "Restaurant"
          }
         ],
         "chains": [],
         "distance": 308,
         "fsq_id": "5d7eff5dcfb4f80008d87146",
         "geocodes": {
          "main": {
           "latitude": 51.5120196,
           "longitude": -0.1227825
          }
         },
         "location": {
          "address": "5 Covent Garden Piazza",
          "admin_region": "England",
          "country": "GB",
          "cross_street": "",
          "locality": "London",
          "post_town": "London",
          "postcode": "WC2E 8RA",
          "region": "Greater London"
         },
         "name": "Buns and Buns",
         "related_places": {},
         "timezone": "Europe/London"
        },
        {
         "categories": [
          {
           "icon": {
            "prefix": "https://ss3.4sqi.net/img/categories_v2/nightlife/pub_",
            "suffix": ".png"
           },
           "id": 13018,
           "name": "Pub"
          },
          {
           "icon": {
            "prefix": "https://ss3.4sqi.net/img/categories_v2/food/default_",
            "suffix": ".png"
           },
           "id": 13065,
           "name": "Restaurant"
          }
         ],
         "chains": [],
         "distance": 312,
         "fsq_id": "4afb51dff964a520e41c22e3",
         "geocodes": {
          "main": {
           "latitude": 51.512876735990936,
           "longitude": -0.12369334949431338
          }
         },
         "location": {
          "address": "10 James St",
          "admin_region": "England",
          "country": "GB",
          "locality": "London",
          "neighborhood": [
           "Covent Garden"
          ],
          "post_town": "London",
          "postcode": "WC2E 8BT",
          "region": "Greater London"
         },
         "name": "The Nags Head",
         "related_places": {},
         "timezone": "Europe/London"
        },
        {
         "categories": [
          {
           "icon": {
            "prefix": "https://ss3.4sqi.net/img/categories_v2/nightlife/pub_",
            "suffix": ".png"
           },
           "id": 13018,
           "name": "Pub"
          },
          {
           "icon": {
            "prefix": "https://ss3.4sqi.net/img/categories_v2/food/default_",
            "suffix": ".png"
           },
           "id": 13142,
           "name": "English Restaurant"
          }
         ],
         "chains": [],
         "distance": 319,
         "fsq_id": "4afd6abff964a520b62722e3",
         "geocodes": {
          "main": {
           "latitude": 51.51675611115309,
           "longitude": -0.11968916165935206
          }
         },
         "location": {
          "address": "64-68 Kingsway",
          "admin_region": "England",
          "country": "GB",
          "locality": "Holborn",
          "neighborhood": [
           "Holborn"
          ],
          "post_town": "London",
          "postcode": "WC2B 6BG",
          "region": "Greater London"
         },
         "name": "Shakespeare's Head",
         "related_places": {},
         "timezone": "Europe/London"
        },
        {
         "categories": [
          {
           "icon": {
            "prefix": "https://ss3.4sqi.net/img/categories_v2/food/winery_",
            "suffix": ".png"
           },
           "id": 13025,
           "name": "Wine Bar"
          },
          {
           "icon": {
            "prefix": "https://ss3.4sqi.net/img/categories_v2/food/italian_",
            "suffix": ".png"
           },
           "id": 13236,
           "name": "Italian Restaurant"
          }
         ],
         "chains": [],
         "distance": 358,
         "fsq_id": "5d20e659442332002f0645bd",
         "geocodes": {
          "main": {
           "latitude": 51.511574,
           "longitude": -0.123101
          }
         },
         "location": {
          "address": "21 The Market",
          "admin_region": "England",
          "country": "GB",
          "cross_street": "",
          "locality": "London",
          "post_town": "London",
          "postcode": "WC2E 8RD",
          "region": "Greater London"
         },
         "name": "Vyta",
         "related_places": {
          "parent": {
           "fsq_id": "4ba6419bf964a520b23f39e3",
           "name": "Covent Garden Market"
          }
         },
         "timezone": "Europe/London"
        },
        {
         "categories": [
          {
           "icon": {
            "prefix": "https://ss3.4sqi.net/img/categories_v2/nightlife/pub_",
            "suffix": ".png"
           },
           "id": 13018,
           "name": "Pub"
          },
          {
           "icon": {
            "prefix": "https://ss3.4sqi.net/img/categories_v2/food/default_",
            "suffix": ".png"
           },
           "id": 13065,
           "name": "Restaurant"
          }
         ],
         "chains": [],
         "distance": 369,
         "fsq_id": "4ad20d0cf964a52010df20e3",
         "geocodes": {
          "main": {
           "latitude": 51.51720427096293,
           "longitude": -0.11917845474716426
          }
         },
         "location": {
          "address": "12 Gate St",
          "admin_region": "England",
          "country": "GB",
          "locality": "London",
          "neighborhood": [
           "Holborn"
          ],
          "post_town": "London",
          "postcode": "WC2A 3HP",
          "region": "Greater London"
         },
         "name": "The Ship Tavern",
         "related_places": {},
         "timezone": "Europe/London"
        },
        {
         "categories": [
          {
           "icon": {
            "prefix": "https://ss3.4sqi.net/img/categories_v2/nightlife/pub_",
            "suffix": ".png"
           },
           "id": 13006,
           "name": "Beer Bar"
          },
          {
           "icon": {
            "prefix": "https://ss3.4sqi.net/img/categories_v2/nightlife/pub_",
            "suffix": ".png"
           },
           "id": 13018,
           "name": "Pub"
          },
          {
           "icon": {
            "prefix": "https://ss3.4sqi.net/img/categories_v2/food/default_",
            "suffix": ".png"
           },
           "id": 13065,
           "name": "Restaurant"
          }
         ],
         "chains": [],
         "distance": 385,
         "fsq_id": "4ad8c1c7f964a520651421e3",
         "geocodes": {
          "main": {
           "latitude": 51.513923141432,
           "longitude": -0.12505206872654423
          }
         },
         "location": {
          "address": "22 Neal St",
          "admin_region": "England",
          "country": "GB",
          "locality": "London",
          "neighborhood": [
           "Covent Garden"
          ],
          "post_town": "London",
          "postcode": "WC2H 9PS",
          "region": "Greater London"
         },
         "name": "Crown & Anchor",
         "related_places": {},
         "timezone": "Europe/London"
        },
        {
         "categories": [
          {
           "icon": {
            "prefix": "https://ss3.4sqi.net/img/categories_v2/nightlife/pub_",
            "suffix": ".png"
           },
           "id": 13018,
           "name": "Pub"
          },
          {
           "icon": {
            "prefix": "https://ss3.4sqi.net/img/categories_v2/nightlife/sportsbar_",
            "suffix": ".png"
           },
           "id": 13022,
           "name": "Sports Bar"
          },
          {
           "icon": {
            "prefix": "https://ss3.4sqi.net/img/categories_v2/food/default_",
            "suffix": ".png"
           },
           "id": 13065,
           "name": "Restaurant"
          }
         ],
         "chains": [],
         "distance": 392,
         "fsq_id": "4ad0fbbdf964a520b5db20e3",
         "geocodes": {
          "main": {
           "latitude": 51.51098214133068,
           "longitude": -0.12270868864473566
          }
         },
         "location": {
          "address": "41 Maiden Lane",
          "admin_region": "England",
          "country": "GB",
          "locality": "London",
          "neighborhood": [
           "Covent Garden"
          ],
          "post_town": "London",
          "postcode": "WC2E 7LJ",
          "region": "Greater London"
         },
         "name": "Maple Leaf",
         "related_places": {},
         "timezone": "Europe/London"
        },
        {
         "categories": [
          {
           "icon": {
            "prefix": "https://ss3.4sqi.net/img/categories_v2/nightlife/pub_",
            "suffix": ".png"
           },
           "id": 13018,
           "name": "Pub"
          },
          {
           "icon": {
            "prefix": "https://ss3.4sqi.net/img/categories_v2/food/default_",
            "suffix": ".png"
           },
           "id": 13065,
           "name": "Restaurant"
          }
         ],
         "chains": [],
         "distance": 410,
         "fsq_id": "4ac518bcf964a52069a220e3",
         "geocodes": {
          "main": {
           "latitude": 51.51038179627813,
           "longitude": -0.12136076585113613
          }
         },
         "location": {
          "address": "91-92 Strand",
          "admin_region": "England",
          "country": "GB",
          "locality": "London",
          "neighborhood": [
           "Strand"
          ],
          "post_town": "London",
          "postcode": "WC2R 0DW",
          "region": "Greater London"
         },
         "name": "The Coal Hole",
         "related_places": {},
         "timezone": "Europe/London"
        },
        {
         "categories": [
          {
           "icon": {
            "prefix": "https://ss3.4sqi.net/img/categories_v2/nightlife/nightclub_",
            "suffix": ".png"
           },
           "id": 10032,
           "name": "Night Club"
          },
          {
           "icon": {
            "prefix": "https://ss3.4sqi.net/img/categories_v2/nightlife/pub_",
            "suffix": ".png"
           },
           "id": 13003,
           "name": "Bar"
          },
          {
           "icon": {
            "prefix": "https://ss3.4sqi.net/img/categories_v2/food/default_",
            "suffix": ".png"
           },
           "id": 13065,
           "name": "Restaurant"
          }
         ],
         "chains": [],
         "distance": 444,
         "fsq_id": "5acb4fe9851de554affcffb5",
         "geocodes": {
          "main": {
           "latitude": 51.50997074891439,
           "longitude": -0.11813262023081302
          }
         },
         "location": {
          "address": "8 Victoria Embankment",
          "admin_region": "England",
          "country": "GB",
          "cross_street": "",
          "locality": "London",
          "neighborhood": [
           "Strand & Embankment"
          ],
          "post_town": "London",
          "postcode": "WC2R 2AB",
          "region": "Greater London"
         },
         "name": "Proud Embankment",
         "related_places": {},
         "timezone": "Europe/London"
        },
        {
         "categories": [
          {
           "icon": {
            "prefix": "https://ss3.4sqi.net/img/categories_v2/arts_entertainment/musicvenue_",
            "suffix": ".png"
           },
           "id": 10037,
           "name": "Concert Hall"
          },
          {
           "icon": {
            "prefix": "https://ss3.4sqi.net/img/categories_v2/arts_entertainment/musicvenue_",
            "suffix": ".png"
           },
           "id": 10039,
           "name": "Music Venue"
          },
          {
           "icon": {
            "prefix": "https://ss3.4sqi.net/img/categories_v2/arts_entertainment/performingarts_theater_",
            "suffix": ".png"
           },
           "id": 10043,
           "name": "Theater"
          }
         ],
         "chains": [],
         "distance": 459,
         "fsq_id": "4ac518e7f964a5205fab20e3",
         "geocodes": {
          "main": {
           "latitude": 51.51012943314585,
           "longitude": -0.12226861116006404
          }
         },
         "location": {
          "address": "404 Strand",
          "admin_region": "England",
          "country": "GB",
          "locality": "London",
          "neighborhood": [
           "Strand"
          ],
          "post_town": "London",
          "postcode": "WC2R 0NH",
          "region": "Greater London"
         },
         "name": "Vaudeville Theatre",
         "related_places": {
          "children": [
           {
            "fsq_id": "5c1e4af7e679bc002b2a1593",
            "name": "American Airlines Flagship Bar"
           }
          ]
         },
         "timezone": "Europe/London"
        },
        {
         "categories": [
          {
           "icon": {
            "prefix": "https://ss3.4sqi.net/img/categories_v2/arts_entertainment/musicvenue_",
            "suffix": ".png"
           },
           "id": 10037,
           "name": "Concert Hall"
          },
          {
           "icon": {
            "prefix": "https://ss3.4sqi.net/img/categories_v2/arts_entertainment/musicvenue_",
            "suffix": ".png"
           },
           "id": 10039,
           "name": "Music Venue"
          },
          {
           "icon": {
            "prefix": "https://ss3.4sqi.net/img/categories_v2/arts_entertainment/performingarts_theater_",
            "suffix": ".png"
           },
           "id": 10043,
           "name": "Theater"
          }
         ],
         "chains": [],
         "distance": 461,
         "fsq_id": "4b4635a1f964a5201c1a26e3",
         "geocodes": {
          "main": {
           "latitude": 51.510383315931705,
           "longitude": -0.12306828257522057
          }
         },
         "location": {
          "address": "410 Strand",
          "admin_region": "England",
          "country": "GB",
          "locality": "London",
          "neighborhood": [
           "Strand"
          ],
          "post_town": "London",
          "postcode": "WC2R 0NS",
          "region": "Greater London"
         },
         "name": "Adelphi Theatre",
         "related_places": {
          "children": [
           {
            "fsq_id": "5b409c83c666660039fd6317",
            "name": "Café Adelphi"
           }
          ]
         },
         "timezone": "Europe/London"
        },
        {
         "categories": [
          {
           "icon": {
            "prefix": "https://ss3.4sqi.net/img/categories_v2/arts_entertainment/default_",
            "suffix": ".png"
           },
           "id": 10000,
           "name": "Arts and Entertainment"
          },
          {
           "icon": {
            "prefix": "https://ss3.4sqi.net/img/categories_v2/nightlife/pub_",
            "suffix": ".png"
           },
           "id": 13018,
           "name": "Pub"
          },
          {
           "icon": {
            "prefix": "https://ss3.4sqi.net/img/categories_v2/food/french_",
            "suffix": ".png"
           },
           "id": 13152,
           "name": "Brasserie"
          }
         ],
         "chains": [],
         "distance": 481,
         "fsq_id": "4ac518c3f964a5203ca420e3",
         "geocodes": {
          "main": {
           "latitude": 51.510410348147786,
           "longitude": -0.12365279822477318
          }
         },
         "location": {
          "address": "21-22 Maiden Lane",
          "admin_region": "England",
          "country": "GB",
          "locality": "London",
          "neighborhood": [
           "Covent Garden"
          ],
          "post_town": "London",
          "postcode": "WC2E 7NA",
          "region": "Greater London"
         },
         "name": "The Porterhouse",
         "related_places": {},
         "timezone": "Europe/London"
        },
        {
         "categories": [
          {
           "icon": {
            "prefix": "https://ss3.4sqi.net/img/categories_v2/nightlife/pub_",
            "suffix": ".png"
           },
           "id": 13018,
           "name": "Pub"
          },
          {
           "icon": {
            "prefix": "https://ss3.4sqi.net/img/categories_v2/food/default_",
            "suffix": ".png"
           },
           "id": 13065,
           "name": "Restaurant"
          }
         ],
         "chains": [],
         "distance": 482,
         "fsq_id": "4b634d25f964a520b0702ae3",
         "geocodes": {
          "main": {
           "latitude": 51.51258527863651,
           "longitude": -0.11281911311490778
          }
         },
         "location": {
          "address": "40 Essex St",
          "admin_region": "England",
          "country": "GB",
          "locality": "London",
          "neighborhood": [
           "Strand"
          ],
          "post_town": "London",
          "postcode": "WC2R 3JE",
          "region": "Greater London"
         },
         "name": "Edgar Wallace",
         "related_places": {},
         "timezone": "Europe/London"
        },
        {
         "categories": [
          {
           "icon": {
            "prefix": "https://ss3.4sqi.net/img/categories_v2/nightlife/cocktails_",
            "suffix": ".png"
           },
           "id": 13009,
           "name": "Cocktail Bar"
          },
          {
           "icon": {
            "prefix": "https://ss3.4sqi.net/img/categories_v2/food/winery_",
            "suffix": ".png"
           },
           "id": 13025,
           "name": "Wine Bar"
          },
          {
           "icon": {
            "prefix": "https://ss3.4sqi.net/img/categories_v2/food/default_",
            "suffix": ".png"
           },
           "id": 13065,
           "name": "Restaurant"
          }
         ],
         "chains": [],
         "distance": 490,
         "fsq_id": "4b085d8cf964a520260a23e3",
         "geocodes": {
          "main": {
           "latitude": 51.51066305122562,
           "longitude": -0.12433393287740101
          }
         },
         "location": {
          "address": "19 Henrietta St",
          "admin_region": "England",
          "country": "GB",
          "cross_street": "Bedford St",
          "locality": "London",
          "neighborhood": [
           "Covent Garden"
          ],
          "post_town": "London",
          "postcode": "WC2E 8QH",
          "region": "Greater London"
         },
         "name": "All Bar One",
         "related_places": {},
         "timezone": "Europe/London"
        },
        {
         "categories": [
          {
           "icon": {
            "prefix": "https://ss3.4sqi.net/img/categories_v2/arts_entertainment/musicvenue_",
            "suffix": ".png"
           },
           "id": 10037,
           "name": "Concert Hall"
          },
          {
           "icon": {
            "prefix": "https://ss3.4sqi.net/img/categories_v2/arts_entertainment/musicvenue_",
            "suffix": ".png"
           },
           "id": 10039,
           "name": "Music Venue"
          },
          {
           "icon": {
            "prefix": "https://ss3.4sqi.net/img/categories_v2/arts_entertainment/performingarts_theater_",
            "suffix": ".png"
           },
           "id": 10043,
           "name": "Theater"
          }
         ],
         "chains": [],
         "distance": 505,
         "fsq_id": "4ac518e7f964a5205cab20e3",
         "geocodes": {
          "main": {
           "latitude": 51.516064752071685,
           "longitude": -0.12588550542186025
          }
         },
         "location": {
          "address": "210 Shaftesbury Ave",
          "admin_region": "England",
          "country": "GB",
          "cross_street": "at High Holborn",
          "locality": "London",
          "neighborhood": [
           "Covent Garden"
          ],
          "post_town": "London",
          "postcode": "WC2H 8DP",
          "region": "Greater London"
         },
         "name": "Shaftesbury Theatre",
         "related_places": {},
         "timezone": "Europe/London"
        },
        {
         "categories": [
          {
           "icon": {
            "prefix": "https://ss3.4sqi.net/img/categories_v2/food/winery_",
            "suffix": ".png"
           },
           "id": 13025,
           "name": "Wine Bar"
          },
          {
           "icon": {
            "prefix": "https://ss3.4sqi.net/img/categories_v2/food/italian_",
            "suffix": ".png"
           },
           "id": 13236,
           "name": "Italian Restaurant"
          }
         ],
         "chains": [],
         "distance": 506,
         "fsq_id": "4f4c4dfdbe77653fc3a6d645",
         "geocodes": {
          "main": {
           "latitude": 51.51252,
           "longitude": -0.126469
          }
         },
         "location": {
          "address": "Saint Martins Courtyard",
          "admin_region": "England",
          "country": "GB",
          "cross_street": "25 Slingsby Place",
          "locality": "City of Westminster",
          "neighborhood": [
           "Covent Garden"
          ],
          "post_town": "London",
          "postcode": "WC2E 9AB",
          "region": "Greater London"
         },
         "name": "Dalla Terra",
         "related_places": {
          "parent": {
           "fsq_id": "4cd97a11145fa1cdf8c50bbd",
           "name": "St Martin's Courtyard"
          }
         },
         "timezone": "Europe/London"
        },
        {
         "categories": [
          {
           "icon": {
            "prefix": "https://ss3.4sqi.net/img/categories_v2/nightlife/pub_",
            "suffix": ".png"
           },
           "id": 13006,
           "name": "Beer Bar"
          },
          {
           "icon": {
            "prefix": "https://ss3.4sqi.net/img/categories_v2/food/default_",
            "suffix": ".png"
           },
           "id": 13065,
           "name": "Restaurant"
          }
         ],
         "chains": [],
         "distance": 509,
         "fsq_id": "536cd46e11d29fe6210957cf",
         "geocodes": {
          "main": {
           "latitude": 51.51575827252237,
           "longitude": -0.12619345122012288
          }
         },
         "location": {
          "address": "168 High Holborn",
          "admin_region": "England",
          "country": "GB",
          "cross_street": "",
          "locality": "London",
          "neighborhood": [
           "Covent Garden"
          ],
          "post_town": "London",
          "postcode": "WC1V 7AA",
          "region": "Greater London"
         },
         "name": "Craft Beer Co",
         "related_places": {},
         "timezone": "Europe/London"
        },
        {
         "categories": [
          {
           "icon": {
            "prefix": "https://ss3.4sqi.net/img/categories_v2/nightlife/pub_",
            "suffix": ".png"
           },
           "id": 13003,
           "name": "Bar"
          }
         ],
         "chains": [],
         "distance": 509,
         "fsq_id": "4bf1c0a43506ef3bfc6cbd22",
         "geocodes": {
          "main": {
           "latitude": 51.5112654,
           "longitude": -0.1255347
          }
         },
         "location": {
          "address": "1 Garrick St",
          "admin_region": "England",
          "country": "GB",
          "locality": "London",
          "neighborhood": [
           "Covent Garden"
          ],
          "post_town": "London",
          "postcode": "WC2E 9BF",
          "region": "Greater London"
         },
         "name": "The Round House, Covent Garden",
         "related_places": {},
         "timezone": "Europe/London"
        },
        {
         "categories": [
          {
           "icon": {
            "prefix": "https://ss3.4sqi.net/img/categories_v2/nightlife/pub_",
            "suffix": ".png"
           },
           "id": 13018,
           "name": "Pub"
          },
          {
           "icon": {
            "prefix": "https://ss3.4sqi.net/img/categories_v2/food/default_",
            "suffix": ".png"
           },
           "id": 13065,
           "name": "Restaurant"
          }
         ],
         "chains": [],
         "distance": 518,
         "fsq_id": "4ac518bef964a5201fa320e3",
         "geocodes": {
          "main": {
           "latitude": 51.51390656242201,
           "longitude": -0.1269785676286068
          }
         },
         "location": {
          "address": "43 Monmouth St",
          "admin_region": "England",
          "country": "GB",
          "locality": "London",
          "neighborhood": [
           "Covent Garden"
          ],
          "post_town": "London",
          "postcode": "WC2H 9EW",
          "region": "Greater London"
         },
         "name": "Crown",
         "related_places": {},
         "timezone": "Europe/London"
        },
        {
         "categories": [
          {
           "icon": {
            "prefix": "https://ss3.4sqi.net/img/categories_v2/nightlife/cocktails_",
            "suffix": ".png"
           },
           "id": 13009,
           "name": "Cocktail Bar"
          },
          {
           "icon": {
            "prefix": "https://ss3.4sqi.net/img/categories_v2/food/default_",
            "suffix": ".png"
           },
           "id": 13065,
           "name": "Restaurant"
          }
         ],
         "chains": [],
         "distance": 536,
         "fsq_id": "5b93f406805e3f002ca1e257",
         "geocodes": {
          "main": {
           "latitude": 51.50976945656456,
           "longitude": -0.12353152739495614
          }
         },
         "location": {
          "address": "1a Bedford St",
          "admin_region": "England",
          "country": "GB",
          "cross_street": "",
          "locality": "London",
          "neighborhood": [
           "Charing Cross"
          ],
          "post_town": "London",
          "postcode": "WC2E 9HH",
          "region": "Greater London"
         },
         "name": "Mr Fogg's Society of Exploration",
         "related_places": {},
         "timezone": "Europe/London"
        },
        {
         "categories": [
          {
           "icon": {
            "prefix": "https://ss3.4sqi.net/img/categories_v2/nightlife/pub_",
            "suffix": ".png"
           },
           "id": 13018,
           "name": "Pub"
          }
         ],
         "chains": [],
         "distance": 541,
         "fsq_id": "4bbe1f3cb42aef3b02724bc3",
         "geocodes": {
          "main": {
           "latitude": 51.518130185409674,
           "longitude": -0.11564409499846852
          }
         },
         "location": {
          "address": "283-288 High Holborn",
          "admin_region": "England",
          "country": "GB",
          "locality": "Holborn and Covent Garden",
          "neighborhood": [
           "Holborn"
          ],
          "post_town": "London",
          "postcode": "WC1V 7HP",
          "region": "Greater London"
         },
         "name": "Penderel's Oak",
         "related_places": {},
         "timezone": "Europe/London"
        },
        {
         "categories": [
          {
           "icon": {
            "prefix": "https://ss3.4sqi.net/img/categories_v2/nightlife/pub_",
            "suffix": ".png"
           },
           "id": 13018,
           "name": "Pub"
          },
          {
           "icon": {
            "prefix": "https://ss3.4sqi.net/img/categories_v2/food/default_",
            "suffix": ".png"
           },
           "id": 13065,
           "name": "Restaurant"
          }
         ],
         "chains": [],
         "distance": 549,
         "fsq_id": "4ac518c3f964a52035a420e3",
         "geocodes": {
          "main": {
           "latitude": 51.515274441071824,
           "longitude": -0.11185003942275863
          }
         },
         "location": {
          "address": "95 Chancery Lane",
          "admin_region": "England",
          "country": "GB",
          "locality": "London",
          "neighborhood": [
           "Holborn"
          ],
          "post_town": "London",
          "postcode": "WC2A 1DT",
          "region": "Greater London"
         },
         "name": "The Knights Templar",
         "related_places": {},
         "timezone": "Europe/London"
        },
        {
         "categories": [
          {
           "icon": {
            "prefix": "https://ss3.4sqi.net/img/categories_v2/nightlife/pub_",
            "suffix": ".png"
           },
           "id": 13018,
           "name": "Pub"
          },
          {
           "icon": {
            "prefix": "https://ss3.4sqi.net/img/categories_v2/food/default_",
            "suffix": ".png"
           },
           "id": 13065,
           "name": "Restaurant"
          }
         ],
         "chains": [],
         "distance": 552,
         "fsq_id": "4af49c85f964a52052f421e3",
         "geocodes": {
          "main": {
           "latitude": 51.513869805217325,
           "longitude": -0.11149069646720425
          }
         },
         "location": {
          "address": "194 Fleet St",
          "admin_region": "England",
          "country": "GB",
          "cross_street": "",
          "locality": "London",
          "neighborhood": [
           "Fleet Street"
          ],
          "post_town": "London",
          "postcode": "EC4A 2LT",
          "region": "Greater London"
         },
         "name": "The Old Bank of England",
         "related_places": {},
         "timezone": "Europe/London"
        },
        {
         "categories": [
          {
           "icon": {
            "prefix": "https://ss3.4sqi.net/img/categories_v2/nightlife/pub_",
            "suffix": ".png"
           },
           "id": 13003,
           "name": "Bar"
          },
          {
           "icon": {
            "prefix": "https://ss3.4sqi.net/img/categories_v2/food/default_",
            "suffix": ".png"
           },
           "id": 13065,
           "name": "Restaurant"
          }
         ],
         "chains": [],
         "distance": 569,
         "fsq_id": "4bb8c7f1b35776b09836c901",
         "geocodes": {
          "main": {
           "latitude": 51.51189269704784,
           "longitude": -0.1270703006573109
          }
         },
         "location": {
          "address": "1-3 Long Acre",
          "admin_region": "England",
          "country": "GB",
          "cross_street": "1 Upper St Martin's Ln",
          "locality": "London",
          "neighborhood": [
           "Covent Garden"
          ],
          "post_town": "London",
          "postcode": "WC2E 9LH",
          "region": "Greater London"
         },
         "name": "The Long Acre",
         "related_places": {},
         "timezone": "Europe/London"
        },
        {
         "categories": [
          {
           "icon": {
            "prefix": "https://ss3.4sqi.net/img/categories_v2/nightlife/pub_",
            "suffix": ".png"
           },
           "id": 13018,
           "name": "Pub"
          },
          {
           "icon": {
            "prefix": "https://ss3.4sqi.net/img/categories_v2/nightlife/sportsbar_",
            "suffix": ".png"
           },
           "id": 13022,
           "name": "Sports Bar"
          },
          {
           "icon": {
            "prefix": "https://ss3.4sqi.net/img/categories_v2/food/gastropub_",
            "suffix": ".png"
           },
           "id": 13057,
           "name": "Gastropub"
          }
         ],
         "chains": [],
         "distance": 617,
         "fsq_id": "4ac518baf964a520d4a120e3",
         "geocodes": {
          "main": {
           "latitude": 51.51094053172207,
           "longitude": -0.12705202859480202
          }
         },
         "location": {
          "address": "90 Saint Martin's Lane",
          "admin_region": "England",
          "country": "GB",
          "cross_street": "at St Martin's Ct",
          "locality": "London",
          "neighborhood": [
           "Covent Garden"
          ],
          "post_town": "London",
          "postcode": "WC2N 4AP",
          "region": "Greater London"
         },
         "name": "The Salisbury Pub",
         "related_places": {},
         "timezone": "Europe/London"
        },
        {
         "categories": [
          {
           "icon": {
            "prefix": "https://ss3.4sqi.net/img/categories_v2/nightlife/pub_",
            "suffix": ".png"
           },
           "id": 13003,
           "name": "Bar"
          }
         ],
         "chains": [],
         "distance": 643,
         "fsq_id": "4acf3b84f964a520d0d220e3",
         "geocodes": {
          "main": {
           "latitude": 51.50971937506041,
           "longitude": -0.12594291840264304
          }
         },
         "location": {
          "address": "47 Chandos Pl",
          "admin_region": "England",
          "country": "GB",
          "locality": "London",
          "neighborhood": [
           "Covent Garden"
          ],
          "post_town": "London",
          "postcode": "WC2N 4HS",
          "region": "Greater London"
         },
         "name": "The Harp, Covent Garden",
         "related_places": {},
         "timezone": "Europe/London"
        },
        {
         "categories": [
          {
           "icon": {
            "prefix": "https://ss3.4sqi.net/img/categories_v2/nightlife/pub_",
            "suffix": ".png"
           },
           "id": 13006,
           "name": "Beer Bar"
          },
          {
           "icon": {
            "prefix": "https://ss3.4sqi.net/img/categories_v2/food/default_",
            "suffix": ".png"
           },
           "id": 13065,
           "name": "Restaurant"
          }
         ],
         "chains": [],
         "distance": 644,
         "fsq_id": "5a848e0b89b06a31d34751d2",
         "geocodes": {
          "main": {
           "latitude": 51.513380234027885,
           "longitude": -0.1287665738464975
          }
         },
         "location": {
          "address": "142 Shaftesbury Ave",
          "admin_region": "England",
          "country": "GB",
          "cross_street": "",
          "locality": "London",
          "post_town": "London",
          "postcode": "WC2H 8HJ",
          "region": "Greater London"
         },
         "name": "BrewDog Seven Dials",
         "related_places": {},
         "timezone": "Europe/London"
        },
        {
         "categories": [
          {
           "icon": {
            "prefix": "https://ss3.4sqi.net/img/categories_v2/arts_entertainment/musicvenue_",
            "suffix": ".png"
           },
           "id": 10037,
           "name": "Concert Hall"
          },
          {
           "icon": {
            "prefix": "https://ss3.4sqi.net/img/categories_v2/arts_entertainment/musicvenue_",
            "suffix": ".png"
           },
           "id": 10039,
           "name": "Music Venue"
          },
          {
           "icon": {
            "prefix": "https://ss3.4sqi.net/img/categories_v2/arts_entertainment/performingarts_theater_",
            "suffix": ".png"
           },
           "id": 10043,
           "name": "Theater"
          }
         ],
         "chains": [],
         "distance": 645,
         "fsq_id": "4b706629f964a520f8172de3",
         "geocodes": {
          "main": {
           "latitude": 51.51104187969764,
           "longitude": -0.1276194554100232
          }
         },
         "location": {
          "address": "85-87 St. Martin's Lane",
          "admin_region": "England",
          "country": "GB",
          "cross_street": "St Martin’s Lane",
          "locality": "London",
          "neighborhood": [
           "Covent Garden"
          ],
          "post_town": "London",
          "postcode": "WC2N 4AU",
          "region": "Greater London"
         },
         "name": "Noel Coward Theatre",
         "related_places": {},
         "timezone": "Europe/London"
        },
        {
         "categories": [
          {
           "icon": {
            "prefix": "https://ss3.4sqi.net/img/categories_v2/nightlife/pub_",
            "suffix": ".png"
           },
           "id": 13018,
           "name": "Pub"
          },
          {
           "icon": {
            "prefix": "https://ss3.4sqi.net/img/categories_v2/food/default_",
            "suffix": ".png"
           },
           "id": 13065,
           "name": "Restaurant"
          }
         ],
         "chains": [],
         "distance": 666,
         "fsq_id": "4b3ba489f964a520cf7725e3",
         "geocodes": {
          "main": {
           "latitude": 51.51141895986224,
           "longitude": -0.12826266577370277
          }
         },
         "location": {
          "address": "37 Cranbourn St",
          "admin_region": "England",
          "country": "GB",
          "cross_street": "",
          "locality": "London",
          "neighborhood": [
           "Covent Garden"
          ],
          "post_town": "London",
          "postcode": "WC2H 7AD",
          "region": "Greater London"
         },
         "name": "Brewmaster",
         "related_places": {},
         "timezone": "Europe/London"
        },
        {
         "categories": [
          {
           "icon": {
            "prefix": "https://ss3.4sqi.net/img/categories_v2/nightlife/cocktails_",
            "suffix": ".png"
           },
           "id": 13009,
           "name": "Cocktail Bar"
          },
          {
           "icon": {
            "prefix": "https://ss3.4sqi.net/img/categories_v2/food/default_",
            "suffix": ".png"
           },
           "id": 13068,
           "name": "American Restaurant"
          },
          {
           "icon": {
            "prefix": "https://ss3.4sqi.net/img/categories_v2/food/steakhouse_",
            "suffix": ".png"
           },
           "id": 13383,
           "name": "Steakhouse"
          }
         ],
         "chains": [],
         "distance": 703,
         "fsq_id": "4ff73bb4e4b01992aaa169f1",
         "geocodes": {
          "main": {
           "latitude": 51.51160103742248,
           "longitude": -0.12895968600621588
          }
         },
         "location": {
          "address": "The Hippodrome Casino, Cranbourn St",
          "admin_region": "England",
          "country": "GB",
          "cross_street": "",
          "locality": "London",
          "neighborhood": [
           "Soho"
          ],
          "post_town": "London",
          "postcode": "WC2H 7JH",
          "region": "Greater London"
         },
         "name": "Heliot Steak House",
         "related_places": {
          "parent": {
           "fsq_id": "4fe85037e4b0af2e68221581",
           "name": "The Hippodrome Casino"
          }
         },
         "timezone": "Europe/London"
        },
        {
         "categories": [
          {
           "icon": {
            "prefix": "https://ss3.4sqi.net/img/categories_v2/nightlife/pub_",
            "suffix": ".png"
           },
           "id": 13018,
           "name": "Pub"
          },
          {
           "icon": {
            "prefix": "https://ss3.4sqi.net/img/categories_v2/food/default_",
            "suffix": ".png"
           },
           "id": 13065,
           "name": "Restaurant"
          }
         ],
         "chains": [],
         "distance": 703,
         "fsq_id": "4ac518bcf964a5208fa220e3",
         "geocodes": {
          "main": {
           "latitude": 51.50945424181542,
           "longitude": -0.1267533864065878
          }
         },
         "location": {
          "address": "29 St. Martin's Lane",
          "admin_region": "England",
          "country": "GB",
          "locality": "Charing Cross",
          "neighborhood": [
           "Covent Garden"
          ],
          "post_town": "London",
          "postcode": "WC2N 4ER",
          "region": "Greater London"
         },
         "name": "The Chandos",
         "related_places": {},
         "timezone": "Europe/London"
        },
        {
         "categories": [
          {
           "icon": {
            "prefix": "https://ss3.4sqi.net/img/categories_v2/nightlife/default_",
            "suffix": ".png"
           },
           "id": 13019,
           "name": "Rooftop Bar"
          }
         ],
         "chains": [],
         "distance": 704,
         "fsq_id": "5e488eb03a33460008e71a17",
         "geocodes": {
          "main": {
           "latitude": 51.511425,
           "longitude": -0.128865
          }
         },
         "location": {
          "address": "The Hippodrome Casino",
          "admin_region": "England",
          "country": "GB",
          "cross_street": "Cranbourn St",
          "locality": "London",
          "post_town": "London",
          "postcode": "WC2H 7DW",
          "region": "Greater London"
         },
         "name": "The Rooftop",
         "related_places": {
          "parent": {
           "fsq_id": "4fe85037e4b0af2e68221581",
           "name": "The Hippodrome Casino"
          }
         },
         "timezone": "Europe/London"
        },
        {
         "categories": [
          {
           "icon": {
            "prefix": "https://ss3.4sqi.net/img/categories_v2/food/winery_",
            "suffix": ".png"
           },
           "id": 13025,
           "name": "Wine Bar"
          },
          {
           "icon": {
            "prefix": "https://ss3.4sqi.net/img/categories_v2/food/default_",
            "suffix": ".png"
           },
           "id": 13142,
           "name": "English Restaurant"
          }
         ],
         "chains": [],
         "distance": 707,
         "fsq_id": "4df4d4101fc7b84e0ea80837",
         "geocodes": {
          "main": {
           "latitude": 51.50825991609242,
           "longitude": -0.1242760821172792
          }
         },
         "location": {
          "address": "6 Villiers St",
          "admin_region": "England",
          "country": "GB",
          "locality": "London",
          "neighborhood": [
           "Charing Cross"
          ],
          "post_town": "London",
          "postcode": "WC2N 6NQ",
          "region": "Greater London"
         },
         "name": "All Bar One",
         "related_places": {},
         "timezone": "Europe/London"
        },
        {
         "categories": [
          {
           "icon": {
            "prefix": "https://ss3.4sqi.net/img/categories_v2/nightlife/pub_",
            "suffix": ".png"
           },
           "id": 13018,
           "name": "Pub"
          },
          {
           "icon": {
            "prefix": "https://ss3.4sqi.net/img/categories_v2/food/default_",
            "suffix": ".png"
           },
           "id": 13065,
           "name": "Restaurant"
          }
         ],
         "chains": [],
         "distance": 709,
         "fsq_id": "4ac518c3f964a52043a420e3",
         "geocodes": {
          "main": {
           "latitude": 51.51862020527331,
           "longitude": -0.11259924995358635
          }
         },
         "location": {
          "address": "22 High Holborn",
          "admin_region": "England",
          "country": "GB",
          "locality": "Holborn",
          "neighborhood": [
           "Holborn"
          ],
          "post_town": "London",
          "postcode": "WC1V 6BN",
          "region": "Greater London"
         },
         "name": "Cittie of Yorke",
         "related_places": {},
         "timezone": "Europe/London"
        },
        {
         "categories": [
          {
           "icon": {
            "prefix": "https://ss3.4sqi.net/img/categories_v2/food/winery_",
            "suffix": ".png"
           },
           "id": 13025,
           "name": "Wine Bar"
          },
          {
           "icon": {
            "prefix": "https://ss3.4sqi.net/img/categories_v2/food/default_",
            "suffix": ".png"
           },
           "id": 13065,
           "name": "Restaurant"
          }
         ],
         "chains": [],
         "distance": 714,
         "fsq_id": "4acdb591f964a520c7cc20e3",
         "geocodes": {
          "main": {
           "latitude": 51.5079110929777,
           "longitude": -0.12329310178756714
          }
         },
         "location": {
          "address": "47 Villiers St",
          "admin_region": "England",
          "country": "GB",
          "cross_street": "Watergate Walk",
          "locality": "London",
          "neighborhood": [
           "Charing Cross"
          ],
          "post_town": "London",
          "postcode": "WC2N 6NE",
          "region": "Greater London"
         },
         "name": "Gordon's Wine Bar",
         "related_places": {},
         "timezone": "Europe/London"
        },
        {
         "categories": [
          {
           "icon": {
            "prefix": "https://ss3.4sqi.net/img/categories_v2/arts_entertainment/musicvenue_",
            "suffix": ".png"
           },
           "id": 10037,
           "name": "Concert Hall"
          },
          {
           "icon": {
            "prefix": "https://ss3.4sqi.net/img/categories_v2/arts_entertainment/musicvenue_",
            "suffix": ".png"
           },
           "id": 10039,
           "name": "Music Venue"
          },
          {
           "icon": {
            "prefix": "https://ss3.4sqi.net/img/categories_v2/arts_entertainment/performingarts_theater_",
            "suffix": ".png"
           },
           "id": 10043,
           "name": "Theater"
          }
         ],
         "chains": [],
         "distance": 714,
         "fsq_id": "4ac518e7f964a52053ab20e3",
         "geocodes": {
          "main": {
           "latitude": 51.513172815208655,
           "longitude": -0.12974917888641357
          }
         },
         "location": {
          "address": "109-113 Shaftesbury Ave",
          "admin_region": "England",
          "country": "GB",
          "locality": "London",
          "neighborhood": [
           "West Central"
          ],
          "post_town": "London",
          "postcode": "W1D 5AY",
          "region": "Greater London"
         },
         "name": "Palace Theatre",
         "related_places": {
          "children": [
           {
            "fsq_id": "5bcafb188fb09e002c501ef0",
            "name": "Office Box Limited"
           },
           {
            "fsq_id": "57755494498e03e651737bf0",
            "name": "Harry Potter and the Cursed Child - Parts One and Two"
           }
          ]
         },
         "timezone": "Europe/London"
        },
        {
         "categories": [
          {
           "icon": {
            "prefix": "https://ss3.4sqi.net/img/categories_v2/nightlife/pub_",
            "suffix": ".png"
           },
           "id": 13018,
           "name": "Pub"
          },
          {
           "icon": {
            "prefix": "https://ss3.4sqi.net/img/categories_v2/food/default_",
            "suffix": ".png"
           },
           "id": 13065,
           "name": "Restaurant"
          }
         ],
         "chains": [],
         "distance": 714,
         "fsq_id": "4ac518c6f964a52035a520e3",
         "geocodes": {
          "main": {
           "latitude": 51.51343733899302,
           "longitude": -0.1297820579605503
          }
         },
         "location": {
          "address": "6 Moor St",
          "admin_region": "England",
          "country": "GB",
          "locality": "London",
          "neighborhood": [
           "Soho"
          ],
          "post_town": "London",
          "postcode": "W1D 5NA",
          "region": "Greater London"
         },
         "name": "The Spice of Life",
         "related_places": {},
         "timezone": "Europe/London"
        },
        {
         "categories": [
          {
           "icon": {
            "prefix": "https://ss3.4sqi.net/img/categories_v2/nightlife/pub_",
            "suffix": ".png"
           },
           "id": 13003,
           "name": "Bar"
          },
          {
           "icon": {
            "prefix": "https://ss3.4sqi.net/img/categories_v2/food/gastropub_",
            "suffix": ".png"
           },
           "id": 13057,
           "name": "Gastropub"
          },
          {
           "icon": {
            "prefix": "https://ss3.4sqi.net/img/categories_v2/food/default_",
            "suffix": ".png"
           },
           "id": 13142,
           "name": "English Restaurant"
          }
         ],
         "chains": [],
         "distance": 714,
         "fsq_id": "4aeca283f964a520b4c921e3",
         "geocodes": {
          "main": {
           "latitude": 51.51084584676071,
           "longitude": -0.12859046459197998
          }
         },
         "location": {
          "address": "10-12 Bear St",
          "admin_region": "England",
          "country": "GB",
          "locality": "London",
          "neighborhood": [
           "Strand"
          ],
          "post_town": "London",
          "postcode": "WC2H 7AX",
          "region": "Greater London"
         },
         "name": "The Bear & Staff",
         "related_places": {},
         "timezone": "Europe/London"
        },
        {
         "categories": [
          {
           "icon": {
            "prefix": "https://ss3.4sqi.net/img/categories_v2/food/winery_",
            "suffix": ".png"
           },
           "id": 13025,
           "name": "Wine Bar"
          },
          {
           "icon": {
            "prefix": "https://ss3.4sqi.net/img/categories_v2/food/default_",
            "suffix": ".png"
           },
           "id": 13065,
           "name": "Restaurant"
          }
         ],
         "chains": [],
         "distance": 725,
         "fsq_id": "4b1eaf9cf964a520cc1d24e3",
         "geocodes": {
          "main": {
           "latitude": 51.5166443079473,
           "longitude": -0.1289875132729996
          }
         },
         "location": {
          "address": "108 New Oxford St",
          "admin_region": "England",
          "country": "GB",
          "locality": "London",
          "neighborhood": [
           "Holborn"
          ],
          "post_town": "London",
          "postcode": "WC1A 1HD",
          "region": "Greater London"
         },
         "name": "All Bar One",
         "related_places": {},
         "timezone": "Europe/London"
        }
       ]
      },
      "text/plain": [
       "<IPython.core.display.JSON object>"
      ]
     },
     "execution_count": 4,
     "metadata": {
      "application/json": {
       "expanded": false,
       "root": "root"
      }
     },
     "output_type": "execute_result"
    }
   ],
   "source": [
    "response = api_call('51.513882,-0.119478', '1000', key)\n",
    "results = json.loads(response.text)\n",
    "JSON(results)"
   ]
  },
  {
   "cell_type": "code",
   "execution_count": null,
   "id": "a2d1ddd0-a5f0-4c0d-82c8-b8b24012d02f",
   "metadata": {},
   "outputs": [],
   "source": [
    "response = api_call('51.51199919197119,-0.05217038902188603', '3000', key)\n",
    "results = json.loads(response.text)\n",
    "JSON(results)"
   ]
  },
  {
   "cell_type": "code",
   "execution_count": null,
   "id": "82ad9238-ea93-4b72-8230-a8667025caad",
   "metadata": {},
   "outputs": [],
   "source": [
    "pagination = response.headers['Link']\n",
    "next_results_url = pagination[pagination.find('<') + 1\n",
    "                                          :pagination.find('>')]\n",
    "response = requests.get(next_results_url, headers = headers)\n",
    "results = json.loads(response.text)\n",
    "JSON(results)"
   ]
  },
  {
   "cell_type": "code",
   "execution_count": null,
   "id": "8607b2d1-ef5c-4274-bbc0-2cf5b4676139",
   "metadata": {},
   "outputs": [],
   "source": [
    "distance.distance((51.40003900142309, -0.07528424263000488),(51.51199919197119,-0.05217038902188603)).m"
   ]
  },
  {
   "cell_type": "code",
   "execution_count": null,
   "id": "91ff6d2a-6c21-4cb2-b2a6-96c85788052f",
   "metadata": {},
   "outputs": [],
   "source": [
    "#num_results = len(results['results'])"
   ]
  },
  {
   "cell_type": "markdown",
   "id": "cdde7e5a-4350-4526-afcc-1cec6395bd87",
   "metadata": {},
   "source": [
    "options for radius calculation: use last radius, use moving average radius, "
   ]
  },
  {
   "cell_type": "code",
   "execution_count": null,
   "id": "7ed0ec2d-6521-4de6-99d6-74a630baf1c3",
   "metadata": {},
   "outputs": [],
   "source": [
    "def find_radius(long_lat, search_radius, key):\n",
    "    num_api_calls = 0\n",
    "    radius_found = True\n",
    "    while(radius_found):\n",
    "        response = api_call(long_lat, search_radius, key)\n",
    "        num_api_calls += 1\n",
    "        results = json.loads(response.text)\n",
    "        num_results = len(results['results'])\n",
    "        \n",
    "        if num_results == 50:\n",
    "            radius = results['results'][-1]['distance']\n",
    "            radius_found = False\n",
    "        else:\n",
    "            search_radius = search_radius * 2\n",
    "        \n",
    "    return int(radius), num_api_calls"
   ]
  },
  {
   "cell_type": "code",
   "execution_count": null,
   "id": "1f10c5d9-fc3e-494f-a8ac-34d4589aa9a3",
   "metadata": {},
   "outputs": [],
   "source": [
    "total_requests = 127\n",
    "cost_per_request = 0.5\n",
    "total_price_in_dollars = total_requests * cost_per_request / 100\n",
    "print(f\"Total price for {total_requests} requests is ${total_price_in_dollars}\")"
   ]
  },
  {
   "cell_type": "code",
   "execution_count": null,
   "id": "02f92f28-03e7-4f41-b468-935b80e80ec2",
   "metadata": {},
   "outputs": [],
   "source": [
    "trials = 1000\n",
    "radii = []\n",
    "total_api_calls = 0\n",
    "\n",
    "for trial in range(trials):\n",
    "    search_radius = 10000\n",
    "    latitude = random.uniform(min_lat, max_lat)\n",
    "    longitude = random.uniform(min_long, max_long)\n",
    "    \n",
    "    lat_long = str(latitude) + ',' + str(longitude)\n",
    "    radius, num_api_calls = find_radius(lat_long, search_radius, key)\n",
    "    radii.append(radius)\n",
    "    total_api_calls += num_api_calls\n",
    "\n",
    "max_radius = max(radii)\n",
    "min_radius = min(radii)\n",
    "\n",
    "print(f\"Max radius = {max_radius}\")\n",
    "print(f\"Min radius = {min_radius}\")\n",
    "print(f\"Total API calls = {total_api_calls}\")"
   ]
  },
  {
   "cell_type": "code",
   "execution_count": null,
   "id": "a2ba55cd-fc4d-489c-a254-efd17c6defa9",
   "metadata": {},
   "outputs": [],
   "source": [
    "total_api_calls"
   ]
  },
  {
   "cell_type": "code",
   "execution_count": null,
   "id": "d31eb770-f5a0-4b90-9521-5e65b7a875c8",
   "metadata": {},
   "outputs": [],
   "source": [
    "min(radii)"
   ]
  },
  {
   "cell_type": "code",
   "execution_count": null,
   "id": "5c1dac44-e063-47d2-be53-440dcab95118",
   "metadata": {},
   "outputs": [],
   "source": [
    "fig = px.histogram(radii)\n",
    "fig.show()"
   ]
  },
  {
   "cell_type": "code",
   "execution_count": null,
   "id": "954c046d-a872-4d05-bff6-72e6f37872e1",
   "metadata": {},
   "outputs": [],
   "source": [
    "\n",
    "long_lat1 = (max_lat, min_long)\n",
    "long_lat2 = (max_lat, max_long)\n",
    "distance1 = distance.distance(long_lat1, long_lat2).km * 1000"
   ]
  },
  {
   "cell_type": "code",
   "execution_count": null,
   "id": "e3b49eeb-36d4-4f12-995e-7a1a5ef8075e",
   "metadata": {},
   "outputs": [],
   "source": [
    "long_lat1 = (min_lat, min_long)\n",
    "long_lat2 = (max_lat, min_long)\n",
    "distance2 = distance.distance(long_lat1, long_lat2).km * 1000"
   ]
  },
  {
   "cell_type": "code",
   "execution_count": null,
   "id": "47df115d-f459-4e8a-b0df-b75954a94a09",
   "metadata": {},
   "outputs": [],
   "source": [
    "distance2"
   ]
  },
  {
   "cell_type": "code",
   "execution_count": null,
   "id": "9e7cfc0d-5b06-4869-9fac-4cc8cf628760",
   "metadata": {},
   "outputs": [],
   "source": [
    "total_area = distance1 * distance2"
   ]
  },
  {
   "cell_type": "code",
   "execution_count": null,
   "id": "9768715e-5160-453a-b6d1-1b150407edd6",
   "metadata": {},
   "outputs": [],
   "source": [
    "search_area = 3.14 * 3271 * 3271"
   ]
  },
  {
   "cell_type": "code",
   "execution_count": null,
   "id": "86b24f54-8b8b-4ad2-8a12-f421614b3f14",
   "metadata": {},
   "outputs": [],
   "source": [
    "approx_searches = total_area / search_area"
   ]
  },
  {
   "cell_type": "code",
   "execution_count": null,
   "id": "91c2a9f2-4813-4326-b309-320620990e42",
   "metadata": {},
   "outputs": [],
   "source": [
    "print(f\"total area = {total_area}\")\n",
    "print(f\"search area = {search_area}\")\n",
    "print(f\"searches_required = {approx_searches}\")"
   ]
  },
  {
   "cell_type": "code",
   "execution_count": null,
   "id": "ee558491-5624-4872-9d6d-3f637515a78d",
   "metadata": {},
   "outputs": [],
   "source": []
  },
  {
   "cell_type": "code",
   "execution_count": null,
   "id": "1dee0edf-b0e6-4364-9396-f7ea6e03b0b9",
   "metadata": {},
   "outputs": [],
   "source": [
    "51.505177-51.535"
   ]
  },
  {
   "cell_type": "code",
   "execution_count": null,
   "id": "30cb6252-557c-4773-a1e5-458a48c6413a",
   "metadata": {},
   "outputs": [],
   "source": [
    "distance.distance((51.505177,-0.092172), (51.505177,-0.1402)).m"
   ]
  },
  {
   "cell_type": "code",
   "execution_count": null,
   "id": "dbac56a7-8a56-4d34-933a-b34571df8513",
   "metadata": {},
   "outputs": [],
   "source": [
    "-0.092172--0.1402"
   ]
  },
  {
   "cell_type": "code",
   "execution_count": null,
   "id": "31e548dd-bd14-4701-8b7a-e3adfab071ee",
   "metadata": {},
   "outputs": [],
   "source": [
    "pagination = response.headers['Link']"
   ]
  },
  {
   "cell_type": "code",
   "execution_count": null,
   "id": "e4c48b9a-061e-4940-886c-f60cb2b58c32",
   "metadata": {},
   "outputs": [],
   "source": [
    "next_results_url = pagination[pagination.find('<') + 1:pagination.find('>')]"
   ]
  },
  {
   "cell_type": "code",
   "execution_count": null,
   "id": "6d2c93c2-2a54-41b5-b69e-a925aa1c100f",
   "metadata": {},
   "outputs": [],
   "source": [
    "response2 = requests.get(next_results_url, headers = headers)"
   ]
  },
  {
   "cell_type": "code",
   "execution_count": null,
   "id": "76191ea2-ff14-48c6-b72b-6a482471681d",
   "metadata": {},
   "outputs": [],
   "source": [
    "response2.headers"
   ]
  },
  {
   "cell_type": "code",
   "execution_count": null,
   "id": "9ab2e672-152b-4e8c-b778-40188a60968d",
   "metadata": {},
   "outputs": [],
   "source": [
    "data_explore2 = json.loads(response2.text)\n",
    "JSON(data_explore2)"
   ]
  },
  {
   "cell_type": "code",
   "execution_count": null,
   "id": "4ae03edd-25a0-4bcb-9041-b72a030630ce",
   "metadata": {},
   "outputs": [],
   "source": [
    "def xsq(x):\n",
    "    return x - 2"
   ]
  },
  {
   "cell_type": "code",
   "execution_count": null,
   "id": "f51b236e-b01f-4883-9e79-06c65dda33d1",
   "metadata": {},
   "outputs": [],
   "source": [
    "def objective_function(x):\n",
    "    return 3 * x ** 4 - 2 * x + 1"
   ]
  },
  {
   "cell_type": "code",
   "execution_count": null,
   "id": "d094ca17-3554-4966-94a2-81fd2c95d821",
   "metadata": {},
   "outputs": [],
   "source": [
    "\n",
    "\n"
   ]
  },
  {
   "cell_type": "code",
   "execution_count": null,
   "id": "9ee149f4-d411-433c-9169-7d2287195658",
   "metadata": {},
   "outputs": [],
   "source": []
  },
  {
   "cell_type": "markdown",
   "id": "79978808-709e-4963-8496-25d182ed9ee3",
   "metadata": {},
   "source": [
    "### Calculate Latitude Longitude Grid Tick Sizes"
   ]
  },
  {
   "cell_type": "code",
   "execution_count": 5,
   "id": "73e989a8-0a49-47ce-851c-de278a9bb5e7",
   "metadata": {},
   "outputs": [],
   "source": [
    "def lat_min_tick_size(lat_increment, radius):\n",
    "    return distance.distance((test_lat, test_long), (lat_increment, test_long)).m - radius\n",
    "\n",
    "def long_min_tick_size(long_increment, radius):\n",
    "    return distance.distance((test_lat, test_long), (test_lat, long_increment)).m - radius\n",
    "\n",
    "test_lat = 51.505177\n",
    "test_long = -0.092172\n",
    "\n",
    "def find_tick_sizes(radius):\n",
    "    \n",
    "\n",
    "    lat_increment = newton(lat_min_tick_size, test_lat, args = (radius,))\n",
    "    long_increment = newton(long_min_tick_size, test_long, args = (radius,))\n",
    "    \n",
    "    # divide by 3 to get smaller resolution, least likely to miss venues \n",
    "    lat_tick_size = abs(test_lat - lat_increment) / 2\n",
    "    long_tick_size = abs(test_long - long_increment) / 2\n",
    "\n",
    "    return lat_tick_size, long_tick_size"
   ]
  },
  {
   "cell_type": "markdown",
   "id": "cd48ae57-f37d-431f-906e-b8d3792c2f33",
   "metadata": {},
   "source": [
    "### Create Latitude Longitude Grid\n",
    "\n",
    "Probably need to formalise the tick size thing based on the typical radius search area...if I change categories for example.."
   ]
  },
  {
   "cell_type": "code",
   "execution_count": 6,
   "id": "970b8684-f928-4d25-a5dd-b8f4dfa261fd",
   "metadata": {},
   "outputs": [],
   "source": [
    "def create_lat_long_grid(lat_tick_size, long_tick_size):\n",
    "\n",
    "    lat_ticks = (max_lat - min_lat) / lat_tick_size\n",
    "    long_ticks = (max_long - min_long) / long_tick_size\n",
    "    \n",
    "    lat_range = np.arange(min_lat, max_lat + lat_tick_size, lat_tick_size)\n",
    "    long_range = np.arange(min_long, max_long + long_tick_size, long_tick_size)\n",
    "    return [str(lat) + ',' + str(long) for long in long_range for lat in lat_range]"
   ]
  },
  {
   "cell_type": "markdown",
   "id": "0867ad51-2e0d-40a6-b366-e6669995455e",
   "metadata": {},
   "source": [
    "### Venue Search"
   ]
  },
  {
   "cell_type": "code",
   "execution_count": 7,
   "id": "16205d00-c87e-4f04-ad27-2e4c58294169",
   "metadata": {},
   "outputs": [],
   "source": [
    "def extract_venues(venue_list):\n",
    "    venues = []\n",
    "    for venue in venues_list:\n",
    "        fsq_id = venue['fsq_id']\n",
    "        latitude = venue['geocodes']['main']['latitude']\n",
    "        longitude = venue['geocodes']['main']['longitude']\n",
    "        venue_name = venue['name']\n",
    "        try: \n",
    "            venue_address = venue['location']['address']\n",
    "        except KeyError:\n",
    "            venue_address = ''\n",
    "        try:\n",
    "            venue_postcode = venue['location']['postcode']\n",
    "        except KeyError:\n",
    "            venue_postcode = ''\n",
    "            \n",
    "        venues.append([fsq_id, venue_name, latitude, longitude, \n",
    "                       venue_address, venue_postcode])\n",
    "    return venues"
   ]
  },
  {
   "cell_type": "code",
   "execution_count": null,
   "id": "c22ce3b0-6207-49e5-bab1-b67359064fc5",
   "metadata": {},
   "outputs": [],
   "source": [
    "#\n",
    "#data = Parallel(n_jobs=-1, verbose = 0)(delayed(my_function)(x, y) for x, y in zip(list_x, list_y))\n"
   ]
  },
  {
   "cell_type": "code",
   "execution_count": 9,
   "id": "59095d85-288b-4c04-b4a2-c8411414e1b3",
   "metadata": {},
   "outputs": [],
   "source": [
    "#radius = 400\n",
    "#lat_tick_size, long_tick_size = find_tick_sizes(radius)\n",
    "#lat_long_grid = create_lat_long_grid(lat_tick_size, long_tick_size)\n",
    "#print(f\"lat_long_grid size = {len(lat_long_grid)}\")"
   ]
  },
  {
   "cell_type": "code",
   "execution_count": 11,
   "id": "fa8679e4-5bfa-47b6-9d70-8bd3d29dfc19",
   "metadata": {},
   "outputs": [],
   "source": [
    "#lat_long_searched = '51.505177,-0.092172'#"
   ]
  },
  {
   "cell_type": "code",
   "execution_count": 15,
   "id": "0771c838-ac78-4e60-984b-9a400f757e8d",
   "metadata": {},
   "outputs": [
    {
     "data": {
      "text/plain": [
       "12880"
      ]
     },
     "execution_count": 15,
     "metadata": {},
     "output_type": "execute_result"
    }
   ],
   "source": [
    "#len(lat_long_grid)"
   ]
  },
  {
   "cell_type": "code",
   "execution_count": 25,
   "id": "a98c84c5-6d55-4cee-b0ec-5668c5aa2394",
   "metadata": {},
   "outputs": [
    {
     "name": "stdout",
     "output_type": "stream",
     "text": [
      "361 ms ± 3.8 ms per loop (mean ± std. dev. of 7 runs, 1 loop each)\n"
     ]
    }
   ],
   "source": [
    "#%%timeit\n",
    "#bools = Parallel(n_jobs=-1, verbose = 0)(delayed(check_in_radius)(radius, lat_long_searched, lat_long) for lat_long in lat_long_grid)\n",
    "#[lat_long for lat_long, T_F in zip(lat_long_grid, bools) if T_F]"
   ]
  },
  {
   "cell_type": "code",
   "execution_count": null,
   "id": "2c14e5ec-f624-4652-ab1a-d3d44e570bdd",
   "metadata": {},
   "outputs": [],
   "source": [
    "#%%timeit\n",
    "#[lat_long for lat_long in lat_long_grid if check_in_radius(radius, lat_long_searched, lat_long)]"
   ]
  },
  {
   "cell_type": "code",
   "execution_count": 8,
   "id": "a40bd353-906b-4834-8287-3cba4b4ae28b",
   "metadata": {},
   "outputs": [],
   "source": [
    "def update_grid(lat_long_searched, radius, lat_long_grid):\n",
    "    # Using multi-processing to speed up the removal of lat_long points\n",
    "    #from grid, is equivalent of following list comprehension: \n",
    "    # [lat_long for lat_long in lat_long_grid \n",
    "    # if check_in_radius(radius, lat_long_searched, lat_long)]\n",
    "    # Below we get a boolean list of True / False if lat_long is within search radius \n",
    "    bools = Parallel(n_jobs=-1, verbose = 0)(delayed(check_in_radius)(radius, lat_long_searched, lat_long) for lat_long in lat_long_grid)\n",
    "    # Filter out the lat_longs which were within the radius i.e. value = False in bools\n",
    "    return [lat_long for lat_long, T_F in zip(lat_long_grid, bools) if T_F]\n",
    "\n",
    "def check_in_radius(radius, lat_long_searched, lat_long):\n",
    "    return distance.distance(ast.literal_eval(lat_long_searched), ast.literal_eval(lat_long)).m >= radius "
   ]
  },
  {
   "cell_type": "code",
   "execution_count": null,
   "id": "9e635949-1702-41ae-ba40-4fb26888746b",
   "metadata": {},
   "outputs": [],
   "source": []
  },
  {
   "cell_type": "code",
   "execution_count": null,
   "id": "a5a28f17-ead1-46cc-8927-18b25265e5ed",
   "metadata": {},
   "outputs": [],
   "source": [
    "#len(lat_long_grid)\n",
    "#new_grid = update_grid(lat_long_grid[50], radius, lat_long_grid)"
   ]
  },
  {
   "cell_type": "code",
   "execution_count": null,
   "id": "a1341fba-a28f-412e-945f-98967191c0da",
   "metadata": {},
   "outputs": [],
   "source": [
    "#distance.distance(lat_long_grid[5], (51.51199919197119,-0.21705679862773575)).m"
   ]
  },
  {
   "cell_type": "markdown",
   "id": "a4dd87a2-fd15-4f3f-aff9-e5a8cca98849",
   "metadata": {},
   "source": [
    "### To Do\n",
    "\n",
    "- Can only trust search result up to Total venues > 49 and max distance more than search radius\n",
    "- problem is the dodgy search! \n",
    "- look into related places info! might be useful to discern unique venues! "
   ]
  },
  {
   "cell_type": "code",
   "execution_count": 17,
   "id": "584ba7e6-e612-44fa-afa7-412418714555",
   "metadata": {},
   "outputs": [
    {
     "name": "stdout",
     "output_type": "stream",
     "text": [
      "lat_long_grid size = 55963\n",
      "radius too large\n",
      "radius too large\n",
      "radius too large\n",
      "radius too large\n",
      "radius too large\n",
      "radius too large\n",
      "radius too large\n",
      "radius too large\n",
      "radius too large\n",
      "radius too large\n",
      "radius too large\n",
      "lat_long_grid points remaining -> 54054\n",
      "7 out of 9 searches had too large radius --> 77.8%\n",
      "Reducing Initial Search Radius to 800\n",
      "radius too large\n",
      "radius too large\n",
      "radius too large\n",
      "radius too large\n",
      "radius too large\n",
      "radius too large\n",
      "radius too large\n",
      "radius too large\n",
      "lat_long_grid points remaining -> 51406\n",
      "7 out of 11 searches had too large radius --> 63.6%\n",
      "Reducing Initial Search Radius to 640\n",
      "radius too large\n",
      "radius too large\n",
      "radius too large\n",
      "radius too large\n",
      "radius too large\n",
      "radius too large\n",
      "radius too large\n",
      "lat_long_grid points remaining -> 49521\n",
      "radius too large\n",
      "radius too large\n",
      "radius too large\n",
      "radius too large\n",
      "radius too large\n",
      "lat_long_grid points remaining -> 46780\n",
      "radius too large\n",
      "radius too large\n",
      "radius too large\n",
      "radius too large\n",
      "radius too large\n",
      "radius too large\n",
      "radius too large\n",
      "lat_long_grid points remaining -> 44824\n",
      "radius too large\n",
      "radius too large\n",
      "radius too large\n",
      "radius too large\n",
      "radius too large\n",
      "radius too large\n",
      "radius too large\n",
      "lat_long_grid points remaining -> 42478\n",
      "radius too large\n",
      "radius too large\n",
      "radius too large\n",
      "radius too large\n",
      "radius too large\n",
      "radius too large\n",
      "radius too large\n",
      "radius too large\n",
      "lat_long_grid points remaining -> 40702\n",
      "radius too large\n",
      "radius too large\n",
      "radius too large\n",
      "radius too large\n",
      "radius too large\n",
      "radius too large\n",
      "lat_long_grid points remaining -> 38484\n",
      "radius too large\n",
      "radius too large\n",
      "radius too large\n",
      "radius too large\n",
      "lat_long_grid points remaining -> 35577\n",
      "radius too large\n",
      "radius too large\n",
      "radius too large\n",
      "radius too large\n",
      "radius too large\n",
      "radius too large\n",
      "radius too large\n",
      "radius too large\n",
      "radius too large\n",
      "lat_long_grid points remaining -> 33729\n",
      "radius too large\n",
      "radius too large\n",
      "radius too large\n",
      "radius too large\n",
      "radius too large\n",
      "radius too large\n",
      "radius too large\n",
      "radius too large\n",
      "radius too large\n",
      "lat_long_grid points remaining -> 31587\n",
      "radius too large\n",
      "radius too large\n",
      "radius too large\n",
      "radius too large\n",
      "radius too large\n",
      "radius too large\n",
      "radius too large\n",
      "radius too large\n",
      "radius too large\n",
      "radius too large\n",
      "lat_long_grid points remaining -> 29626\n",
      "radius too large\n",
      "radius too large\n",
      "radius too large\n",
      "radius too large\n",
      "radius too large\n",
      "radius too large\n",
      "radius too large\n",
      "radius too large\n",
      "radius too large\n",
      "radius too large\n",
      "radius too large\n",
      "Search Radius smaller than min_grid_radius:\n",
      "lat_long = 51.516691169858014,-0.14275457843698194\n",
      "search radius = 80\n",
      "\n",
      "Updating min_grid_radius to 80 and resetting grid...\n",
      "\n",
      "lat_long_grid size = 140592\n"
     ]
    },
    {
     "ename": "KeyboardInterrupt",
     "evalue": "",
     "output_type": "error",
     "traceback": [
      "\u001b[0;31m---------------------------------------------------------------------------\u001b[0m",
      "\u001b[0;31mKeyboardInterrupt\u001b[0m                         Traceback (most recent call last)",
      "\u001b[0;32m/var/folders/54/vflgkhrd7l9d53hm444nhsp40000gn/T/ipykernel_35138/915005756.py\u001b[0m in \u001b[0;36m<module>\u001b[0;34m\u001b[0m\n\u001b[1;32m     71\u001b[0m     \u001b[0mdata\u001b[0m\u001b[0;34m.\u001b[0m\u001b[0mextend\u001b[0m\u001b[0;34m(\u001b[0m\u001b[0mextract_venues\u001b[0m\u001b[0;34m(\u001b[0m\u001b[0mvenues_list\u001b[0m\u001b[0;34m)\u001b[0m\u001b[0;34m)\u001b[0m\u001b[0;34m\u001b[0m\u001b[0;34m\u001b[0m\u001b[0m\n\u001b[1;32m     72\u001b[0m \u001b[0;34m\u001b[0m\u001b[0m\n\u001b[0;32m---> 73\u001b[0;31m     \u001b[0mlat_long_grid\u001b[0m \u001b[0;34m=\u001b[0m \u001b[0mupdate_grid\u001b[0m\u001b[0;34m(\u001b[0m\u001b[0mlat_long\u001b[0m\u001b[0;34m,\u001b[0m \u001b[0msearch_radius\u001b[0m\u001b[0;34m,\u001b[0m \u001b[0mlat_long_grid\u001b[0m\u001b[0;34m)\u001b[0m\u001b[0;34m\u001b[0m\u001b[0;34m\u001b[0m\u001b[0m\n\u001b[0m\u001b[1;32m     74\u001b[0m     \u001b[0;31m#print('done one grid mark --> ', len(lat_long_grid))\u001b[0m\u001b[0;34m\u001b[0m\u001b[0;34m\u001b[0m\u001b[0m\n\u001b[1;32m     75\u001b[0m     \u001b[0;32mif\u001b[0m \u001b[0mtime\u001b[0m\u001b[0;34m.\u001b[0m\u001b[0mtime\u001b[0m\u001b[0;34m(\u001b[0m\u001b[0;34m)\u001b[0m \u001b[0;34m-\u001b[0m \u001b[0mtime_last_update\u001b[0m \u001b[0;34m>\u001b[0m \u001b[0;36m20\u001b[0m\u001b[0;34m:\u001b[0m\u001b[0;34m\u001b[0m\u001b[0;34m\u001b[0m\u001b[0m\n",
      "\u001b[0;32m/var/folders/54/vflgkhrd7l9d53hm444nhsp40000gn/T/ipykernel_35138/1099736999.py\u001b[0m in \u001b[0;36mupdate_grid\u001b[0;34m(lat_long_searched, radius, lat_long_grid)\u001b[0m\n\u001b[1;32m      5\u001b[0m     \u001b[0;31m# if check_in_radius(radius, lat_long_searched, lat_long)]\u001b[0m\u001b[0;34m\u001b[0m\u001b[0;34m\u001b[0m\u001b[0m\n\u001b[1;32m      6\u001b[0m     \u001b[0;31m# Below we get a boolean list of True / False if lat_long is within search radius\u001b[0m\u001b[0;34m\u001b[0m\u001b[0;34m\u001b[0m\u001b[0m\n\u001b[0;32m----> 7\u001b[0;31m     \u001b[0mbools\u001b[0m \u001b[0;34m=\u001b[0m \u001b[0mParallel\u001b[0m\u001b[0;34m(\u001b[0m\u001b[0mn_jobs\u001b[0m\u001b[0;34m=\u001b[0m\u001b[0;34m-\u001b[0m\u001b[0;36m1\u001b[0m\u001b[0;34m,\u001b[0m \u001b[0mverbose\u001b[0m \u001b[0;34m=\u001b[0m \u001b[0;36m0\u001b[0m\u001b[0;34m)\u001b[0m\u001b[0;34m(\u001b[0m\u001b[0mdelayed\u001b[0m\u001b[0;34m(\u001b[0m\u001b[0mcheck_in_radius\u001b[0m\u001b[0;34m)\u001b[0m\u001b[0;34m(\u001b[0m\u001b[0mradius\u001b[0m\u001b[0;34m,\u001b[0m \u001b[0mlat_long_searched\u001b[0m\u001b[0;34m,\u001b[0m \u001b[0mlat_long\u001b[0m\u001b[0;34m)\u001b[0m \u001b[0;32mfor\u001b[0m \u001b[0mlat_long\u001b[0m \u001b[0;32min\u001b[0m \u001b[0mlat_long_grid\u001b[0m\u001b[0;34m)\u001b[0m\u001b[0;34m\u001b[0m\u001b[0;34m\u001b[0m\u001b[0m\n\u001b[0m\u001b[1;32m      8\u001b[0m     \u001b[0;31m# Filter out the lat_longs which were within the radius i.e. value = False in bools\u001b[0m\u001b[0;34m\u001b[0m\u001b[0;34m\u001b[0m\u001b[0m\n\u001b[1;32m      9\u001b[0m     \u001b[0;32mreturn\u001b[0m \u001b[0;34m[\u001b[0m\u001b[0mlat_long\u001b[0m \u001b[0;32mfor\u001b[0m \u001b[0mlat_long\u001b[0m\u001b[0;34m,\u001b[0m \u001b[0mT_F\u001b[0m \u001b[0;32min\u001b[0m \u001b[0mzip\u001b[0m\u001b[0;34m(\u001b[0m\u001b[0mlat_long_grid\u001b[0m\u001b[0;34m,\u001b[0m \u001b[0mbools\u001b[0m\u001b[0;34m)\u001b[0m \u001b[0;32mif\u001b[0m \u001b[0mT_F\u001b[0m\u001b[0;34m]\u001b[0m\u001b[0;34m\u001b[0m\u001b[0;34m\u001b[0m\u001b[0m\n",
      "\u001b[0;32m/opt/homebrew/Caskroom/miniforge/base/envs/venue-scrape/lib/python3.9/site-packages/joblib/parallel.py\u001b[0m in \u001b[0;36m__call__\u001b[0;34m(self, iterable)\u001b[0m\n\u001b[1;32m   1054\u001b[0m \u001b[0;34m\u001b[0m\u001b[0m\n\u001b[1;32m   1055\u001b[0m             \u001b[0;32mwith\u001b[0m \u001b[0mself\u001b[0m\u001b[0;34m.\u001b[0m\u001b[0m_backend\u001b[0m\u001b[0;34m.\u001b[0m\u001b[0mretrieval_context\u001b[0m\u001b[0;34m(\u001b[0m\u001b[0;34m)\u001b[0m\u001b[0;34m:\u001b[0m\u001b[0;34m\u001b[0m\u001b[0;34m\u001b[0m\u001b[0m\n\u001b[0;32m-> 1056\u001b[0;31m                 \u001b[0mself\u001b[0m\u001b[0;34m.\u001b[0m\u001b[0mretrieve\u001b[0m\u001b[0;34m(\u001b[0m\u001b[0;34m)\u001b[0m\u001b[0;34m\u001b[0m\u001b[0;34m\u001b[0m\u001b[0m\n\u001b[0m\u001b[1;32m   1057\u001b[0m             \u001b[0;31m# Make sure that we get a last message telling us we are done\u001b[0m\u001b[0;34m\u001b[0m\u001b[0;34m\u001b[0m\u001b[0m\n\u001b[1;32m   1058\u001b[0m             \u001b[0melapsed_time\u001b[0m \u001b[0;34m=\u001b[0m \u001b[0mtime\u001b[0m\u001b[0;34m.\u001b[0m\u001b[0mtime\u001b[0m\u001b[0;34m(\u001b[0m\u001b[0;34m)\u001b[0m \u001b[0;34m-\u001b[0m \u001b[0mself\u001b[0m\u001b[0;34m.\u001b[0m\u001b[0m_start_time\u001b[0m\u001b[0;34m\u001b[0m\u001b[0;34m\u001b[0m\u001b[0m\n",
      "\u001b[0;32m/opt/homebrew/Caskroom/miniforge/base/envs/venue-scrape/lib/python3.9/site-packages/joblib/parallel.py\u001b[0m in \u001b[0;36mretrieve\u001b[0;34m(self)\u001b[0m\n\u001b[1;32m    933\u001b[0m             \u001b[0;32mtry\u001b[0m\u001b[0;34m:\u001b[0m\u001b[0;34m\u001b[0m\u001b[0;34m\u001b[0m\u001b[0m\n\u001b[1;32m    934\u001b[0m                 \u001b[0;32mif\u001b[0m \u001b[0mgetattr\u001b[0m\u001b[0;34m(\u001b[0m\u001b[0mself\u001b[0m\u001b[0;34m.\u001b[0m\u001b[0m_backend\u001b[0m\u001b[0;34m,\u001b[0m \u001b[0;34m'supports_timeout'\u001b[0m\u001b[0;34m,\u001b[0m \u001b[0;32mFalse\u001b[0m\u001b[0;34m)\u001b[0m\u001b[0;34m:\u001b[0m\u001b[0;34m\u001b[0m\u001b[0;34m\u001b[0m\u001b[0m\n\u001b[0;32m--> 935\u001b[0;31m                     \u001b[0mself\u001b[0m\u001b[0;34m.\u001b[0m\u001b[0m_output\u001b[0m\u001b[0;34m.\u001b[0m\u001b[0mextend\u001b[0m\u001b[0;34m(\u001b[0m\u001b[0mjob\u001b[0m\u001b[0;34m.\u001b[0m\u001b[0mget\u001b[0m\u001b[0;34m(\u001b[0m\u001b[0mtimeout\u001b[0m\u001b[0;34m=\u001b[0m\u001b[0mself\u001b[0m\u001b[0;34m.\u001b[0m\u001b[0mtimeout\u001b[0m\u001b[0;34m)\u001b[0m\u001b[0;34m)\u001b[0m\u001b[0;34m\u001b[0m\u001b[0;34m\u001b[0m\u001b[0m\n\u001b[0m\u001b[1;32m    936\u001b[0m                 \u001b[0;32melse\u001b[0m\u001b[0;34m:\u001b[0m\u001b[0;34m\u001b[0m\u001b[0;34m\u001b[0m\u001b[0m\n\u001b[1;32m    937\u001b[0m                     \u001b[0mself\u001b[0m\u001b[0;34m.\u001b[0m\u001b[0m_output\u001b[0m\u001b[0;34m.\u001b[0m\u001b[0mextend\u001b[0m\u001b[0;34m(\u001b[0m\u001b[0mjob\u001b[0m\u001b[0;34m.\u001b[0m\u001b[0mget\u001b[0m\u001b[0;34m(\u001b[0m\u001b[0;34m)\u001b[0m\u001b[0;34m)\u001b[0m\u001b[0;34m\u001b[0m\u001b[0;34m\u001b[0m\u001b[0m\n",
      "\u001b[0;32m/opt/homebrew/Caskroom/miniforge/base/envs/venue-scrape/lib/python3.9/site-packages/joblib/_parallel_backends.py\u001b[0m in \u001b[0;36mwrap_future_result\u001b[0;34m(future, timeout)\u001b[0m\n\u001b[1;32m    540\u001b[0m         AsyncResults.get from multiprocessing.\"\"\"\n\u001b[1;32m    541\u001b[0m         \u001b[0;32mtry\u001b[0m\u001b[0;34m:\u001b[0m\u001b[0;34m\u001b[0m\u001b[0;34m\u001b[0m\u001b[0m\n\u001b[0;32m--> 542\u001b[0;31m             \u001b[0;32mreturn\u001b[0m \u001b[0mfuture\u001b[0m\u001b[0;34m.\u001b[0m\u001b[0mresult\u001b[0m\u001b[0;34m(\u001b[0m\u001b[0mtimeout\u001b[0m\u001b[0;34m=\u001b[0m\u001b[0mtimeout\u001b[0m\u001b[0;34m)\u001b[0m\u001b[0;34m\u001b[0m\u001b[0;34m\u001b[0m\u001b[0m\n\u001b[0m\u001b[1;32m    543\u001b[0m         \u001b[0;32mexcept\u001b[0m \u001b[0mCfTimeoutError\u001b[0m \u001b[0;32mas\u001b[0m \u001b[0me\u001b[0m\u001b[0;34m:\u001b[0m\u001b[0;34m\u001b[0m\u001b[0;34m\u001b[0m\u001b[0m\n\u001b[1;32m    544\u001b[0m             \u001b[0;32mraise\u001b[0m \u001b[0mTimeoutError\u001b[0m \u001b[0;32mfrom\u001b[0m \u001b[0me\u001b[0m\u001b[0;34m\u001b[0m\u001b[0;34m\u001b[0m\u001b[0m\n",
      "\u001b[0;32m/opt/homebrew/Caskroom/miniforge/base/envs/venue-scrape/lib/python3.9/concurrent/futures/_base.py\u001b[0m in \u001b[0;36mresult\u001b[0;34m(self, timeout)\u001b[0m\n\u001b[1;32m    438\u001b[0m                     \u001b[0;32mreturn\u001b[0m \u001b[0mself\u001b[0m\u001b[0;34m.\u001b[0m\u001b[0m__get_result\u001b[0m\u001b[0;34m(\u001b[0m\u001b[0;34m)\u001b[0m\u001b[0;34m\u001b[0m\u001b[0;34m\u001b[0m\u001b[0m\n\u001b[1;32m    439\u001b[0m \u001b[0;34m\u001b[0m\u001b[0m\n\u001b[0;32m--> 440\u001b[0;31m                 \u001b[0mself\u001b[0m\u001b[0;34m.\u001b[0m\u001b[0m_condition\u001b[0m\u001b[0;34m.\u001b[0m\u001b[0mwait\u001b[0m\u001b[0;34m(\u001b[0m\u001b[0mtimeout\u001b[0m\u001b[0;34m)\u001b[0m\u001b[0;34m\u001b[0m\u001b[0;34m\u001b[0m\u001b[0m\n\u001b[0m\u001b[1;32m    441\u001b[0m \u001b[0;34m\u001b[0m\u001b[0m\n\u001b[1;32m    442\u001b[0m                 \u001b[0;32mif\u001b[0m \u001b[0mself\u001b[0m\u001b[0;34m.\u001b[0m\u001b[0m_state\u001b[0m \u001b[0;32min\u001b[0m \u001b[0;34m[\u001b[0m\u001b[0mCANCELLED\u001b[0m\u001b[0;34m,\u001b[0m \u001b[0mCANCELLED_AND_NOTIFIED\u001b[0m\u001b[0;34m]\u001b[0m\u001b[0;34m:\u001b[0m\u001b[0;34m\u001b[0m\u001b[0;34m\u001b[0m\u001b[0m\n",
      "\u001b[0;32m/opt/homebrew/Caskroom/miniforge/base/envs/venue-scrape/lib/python3.9/threading.py\u001b[0m in \u001b[0;36mwait\u001b[0;34m(self, timeout)\u001b[0m\n\u001b[1;32m    310\u001b[0m         \u001b[0;32mtry\u001b[0m\u001b[0;34m:\u001b[0m    \u001b[0;31m# restore state no matter what (e.g., KeyboardInterrupt)\u001b[0m\u001b[0;34m\u001b[0m\u001b[0;34m\u001b[0m\u001b[0m\n\u001b[1;32m    311\u001b[0m             \u001b[0;32mif\u001b[0m \u001b[0mtimeout\u001b[0m \u001b[0;32mis\u001b[0m \u001b[0;32mNone\u001b[0m\u001b[0;34m:\u001b[0m\u001b[0;34m\u001b[0m\u001b[0;34m\u001b[0m\u001b[0m\n\u001b[0;32m--> 312\u001b[0;31m                 \u001b[0mwaiter\u001b[0m\u001b[0;34m.\u001b[0m\u001b[0macquire\u001b[0m\u001b[0;34m(\u001b[0m\u001b[0;34m)\u001b[0m\u001b[0;34m\u001b[0m\u001b[0;34m\u001b[0m\u001b[0m\n\u001b[0m\u001b[1;32m    313\u001b[0m                 \u001b[0mgotit\u001b[0m \u001b[0;34m=\u001b[0m \u001b[0;32mTrue\u001b[0m\u001b[0;34m\u001b[0m\u001b[0;34m\u001b[0m\u001b[0m\n\u001b[1;32m    314\u001b[0m             \u001b[0;32melse\u001b[0m\u001b[0;34m:\u001b[0m\u001b[0;34m\u001b[0m\u001b[0;34m\u001b[0m\u001b[0m\n",
      "\u001b[0;31mKeyboardInterrupt\u001b[0m: "
     ]
    }
   ],
   "source": [
    "initial_search_radius = 1000\n",
    "min_grid_radius = 127\n",
    "\n",
    "lat_tick_size, long_tick_size = find_tick_sizes(min_grid_radius)\n",
    "lat_long_grid = create_lat_long_grid(lat_tick_size, long_tick_size)\n",
    "print(f\"lat_long_grid size = {len(lat_long_grid)}\")\n",
    "\n",
    "time_last_update = time.time()\n",
    "data = []\n",
    "\n",
    "total_calls = 0\n",
    "number_needed_retries = 0 \n",
    "number_lat_long_in_last_20 = 0\n",
    "radius_too_big = False \n",
    "while len(lat_long_grid) > 0:\n",
    "    #print('restarted')\n",
    "    # maximum index available in lat_long_grid\n",
    "    max_index = len(lat_long_grid) - 1\n",
    "    # Pick random index for lat_long_grid\n",
    "    random_index = random.randint(0, max_index)\n",
    "    # Pick lat and long values from random position in lat_long_grid\n",
    "    lat_long = lat_long_grid[random_index]\n",
    "    \n",
    "    search_radius_not_found = True\n",
    "    search_radius = initial_search_radius\n",
    "    \n",
    "    while search_radius_not_found:\n",
    "        #print('calling api')\n",
    "        total_calls += 1\n",
    "        response = api_call(lat_long, search_radius, key)\n",
    "        # If response status code isnt 200, there was an API error. Print \n",
    "        # the API error, wait 5 seconds and try API call again. Loop until \n",
    "        # status 200 code returned by API. \n",
    "        while response.status_code != 200:\n",
    "            print(f\"API Error code {response.status_code}, sleeping 5 seconds\")\n",
    "            time.sleep(5)\n",
    "            response = api_call(lat_long, search_radius, key)\n",
    "        \n",
    "        results = json.loads(response.text)\n",
    "        venues_list = results['results']\n",
    "        \n",
    "        if len(venues_list) > 49:\n",
    "            search_radius = int(search_radius / 2)\n",
    "            radius_too_big = True\n",
    "            print('radius too large') \n",
    "        else: \n",
    "            search_radius_not_found = False\n",
    "    \n",
    "    if search_radius < min_grid_radius:        \n",
    "        print(f\"Search Radius smaller than min_grid_radius:\\nlat_long = {lat_long}\\nsearch radius = {search_radius}\")\n",
    "        print(f\"\\nUpdating min_grid_radius to {search_radius} and resetting grid...\\n\")\n",
    "        # update radius to max_distance minus 1 (ensures radius will now be smaller than max distance next time)\n",
    "        min_grid_radius = search_radius\n",
    "        lat_tick_size, long_tick_size = find_tick_sizes(min_grid_radius)          \n",
    "        lat_long_grid = create_lat_long_grid(lat_tick_size, long_tick_size)\n",
    "        print(f\"lat_long_grid size = {len(lat_long_grid)}\")\n",
    "        # reset data gathering\n",
    "        data = []\n",
    " \n",
    "        radius_too_big = False\n",
    "        number_lat_long_in_last_20 = 0 \n",
    "        number_needed_retries = 0\n",
    "        time_last_update = time.time()\n",
    "        continue\n",
    "    \n",
    "    number_lat_long_in_last_20 += 1\n",
    "    number_needed_retries += radius_too_big\n",
    "    radius_too_big = False\n",
    "    \n",
    "    #print('data about to be scraped')\n",
    "    data.extend(extract_venues(venues_list))\n",
    "           \n",
    "    lat_long_grid = update_grid(lat_long, search_radius, lat_long_grid)\n",
    "    #print('done one grid mark --> ', len(lat_long_grid))\n",
    "    if time.time() - time_last_update > 20:\n",
    "        print(f\"lat_long_grid points remaining -> {len(lat_long_grid)}\")\n",
    "        \n",
    "        fraction_of_retries = number_needed_retries / number_lat_long_in_last_20\n",
    "        if fraction_of_retries > 0.6 and number_lat_long_in_last_20 > 6:\n",
    "            print(f\"{number_needed_retries} out of {number_lat_long_in_last_20} \" \n",
    "                  + f\"searches had too large radius --> {fraction_of_retries:.1%}\")\n",
    "            initial_search_radius = int(initial_search_radius * 0.8)\n",
    "            print(f\"Reducing Initial Search Radius to {initial_search_radius}\")\n",
    "        \n",
    "        time_last_update = time.time()\n",
    "        number_lat_long_in_last_20 = 0 \n",
    "        number_needed_retries = 0 \n",
    "    \n",
    "print(f\"\\nTotal Calls -> {total_calls}\")"
   ]
  },
  {
   "cell_type": "code",
   "execution_count": 51,
   "id": "1f547c31-0f8d-4f8f-91f8-582cf2498124",
   "metadata": {},
   "outputs": [
    {
     "data": {
      "text/plain": [
       "{'message': \"radius: '1000.0' is not a valid Integer\"}"
      ]
     },
     "execution_count": 51,
     "metadata": {},
     "output_type": "execute_result"
    }
   ],
   "source": [
    "results = json.loads(response.text)\n",
    "results"
   ]
  },
  {
   "cell_type": "markdown",
   "id": "cdc430dd-cf6a-43b3-b1b9-0ebb440ce00e",
   "metadata": {},
   "source": [
    "### To Do latest: \n",
    "\n",
    "- api error handling fixes - use response.status_code and maybe some of those things on that website, add to cheatsheet anyway \n",
    "- Add new variable radius model - min radius for gridsize and separate general radius and specific radius per search! - check if probelms with data using large surface area i.e. nonsense results shown? "
   ]
  },
  {
   "cell_type": "code",
   "execution_count": 30,
   "id": "136167e5-3890-4be0-ae61-35ce88fe0774",
   "metadata": {},
   "outputs": [
    {
     "data": {
      "text/plain": [
       "500"
      ]
     },
     "execution_count": 30,
     "metadata": {},
     "output_type": "execute_result"
    }
   ],
   "source": [
    "min size = 127"
   ]
  },
  {
   "cell_type": "markdown",
   "id": "a3a5c4a2-2f63-445b-be3a-05ac72774526",
   "metadata": {},
   "source": [
    "Error - 100 or more venues in search, cannot extract all venues in search area.\n",
    "lat_long = 51.49814499999999,-0.16857000000000005\n",
    "radius = 3271\n",
    "Error - 100 or more venues in search, cannot extract all venues in search area.\n",
    "lat_long = 51.48323349999999,-0.1205420000000001\n",
    "radius = 3271\n",
    "Error - 100 or more venues in search, cannot extract all venues in search area.\n",
    "lat_long = 51.51305649999998,-0.048500000000000154\n",
    "radius = 3271\n",
    "Error - 100 or more venues in search, cannot extract all venues in search area.\n",
    "lat_long = 51.52796799999998,-0.048500000000000154\n",
    "radius = 3271"
   ]
  },
  {
   "cell_type": "code",
   "execution_count": 61,
   "id": "340dc80f-4f48-49cd-880d-9a6aa1c66676",
   "metadata": {},
   "outputs": [
    {
     "data": {
      "text/plain": [
       "373"
      ]
     },
     "execution_count": 61,
     "metadata": {},
     "output_type": "execute_result"
    }
   ],
   "source": [
    "df = pd.DataFrame(data, columns = ['fsq_id', 'venue_name', 'latitude', 'longitude', \n",
    "                       'address', 'postcode'])\n",
    "#df.head()\n",
    "df = df.drop_duplicates(subset=['fsq_id'])\n",
    "df.shape[0]"
   ]
  },
  {
   "cell_type": "code",
   "execution_count": 62,
   "id": "94070f2d-6155-49a1-821f-a05f5400d7b9",
   "metadata": {},
   "outputs": [
    {
     "data": {
      "text/plain": [
       "333"
      ]
     },
     "execution_count": 62,
     "metadata": {},
     "output_type": "execute_result"
    }
   ],
   "source": [
    "df[(min_lat <= df.latitude) & (df.latitude <= max_lat) \n",
    "   & (df.longitude > min_long) & (df.longitude < max_long)].shape[0]"
   ]
  },
  {
   "cell_type": "code",
   "execution_count": null,
   "id": "6fdb6f93-197d-4325-920a-67446955e7de",
   "metadata": {},
   "outputs": [],
   "source": [
    "df2 = pd.read_csv('foursquare_event_spaces.csv')\n",
    "df2.head()"
   ]
  },
  {
   "cell_type": "code",
   "execution_count": null,
   "id": "9a8918a9-55af-42f5-b51f-fd14861aa88b",
   "metadata": {},
   "outputs": [],
   "source": [
    "df2[(min_lat <= df2.latitude) & (df2.latitude <= max_lat) \n",
    "   & (df2.longitude > min_long) & (df2.longitude < max_long)].shape[0]"
   ]
  },
  {
   "cell_type": "code",
   "execution_count": null,
   "id": "8b50c2b6-3352-446c-8b6e-77e955f6f3ef",
   "metadata": {},
   "outputs": [],
   "source": [
    "df.to_csv('foursquare_bars.csv', index = False)"
   ]
  },
  {
   "cell_type": "code",
   "execution_count": null,
   "id": "9c564582-d646-4823-8b6d-e8b7aca1403f",
   "metadata": {},
   "outputs": [],
   "source": [
    "print(f\"Error - 100 or more venues in search, cannot\"\n",
    "                     + f\"blurg\")"
   ]
  },
  {
   "cell_type": "code",
   "execution_count": null,
   "id": "dd7933cd-1823-4d50-bd17-e298f6bfa817",
   "metadata": {},
   "outputs": [],
   "source": [
    "response"
   ]
  },
  {
   "cell_type": "code",
   "execution_count": null,
   "id": "2fcb902f-753c-465c-86ed-cae65b0a70fe",
   "metadata": {},
   "outputs": [],
   "source": [
    "response.headers['Link']"
   ]
  },
  {
   "cell_type": "code",
   "execution_count": null,
   "id": "f9f6f1a4-c6d8-4446-ab13-c45fc74d52ab",
   "metadata": {},
   "outputs": [],
   "source": [
    "lat_long_grid[0:2]"
   ]
  },
  {
   "cell_type": "code",
   "execution_count": null,
   "id": "f84d7e62-e617-476d-954f-fe95c1677869",
   "metadata": {},
   "outputs": [],
   "source": [
    "lat_long = lat_long_grid[1]\n",
    "response = api_call(lat_long, 3271, key)\n"
   ]
  },
  {
   "cell_type": "code",
   "execution_count": null,
   "id": "e1d9d54e-1778-4bf6-a58a-81b1ef040933",
   "metadata": {},
   "outputs": [],
   "source": [
    "results = json.loads(response.text)\n",
    "venues_list = results['results']\n",
    "extract_venues(venues_list)"
   ]
  },
  {
   "cell_type": "code",
   "execution_count": null,
   "id": "1bfcd070-43d6-4c3a-ac81-16f8eb7f0c29",
   "metadata": {},
   "outputs": [],
   "source": [
    "JSON(venues_list)"
   ]
  },
  {
   "cell_type": "code",
   "execution_count": null,
   "id": "68ab819d-2369-42cf-8d3a-9a0ced55f847",
   "metadata": {},
   "outputs": [],
   "source": [
    "JSON(venues_list)"
   ]
  },
  {
   "cell_type": "code",
   "execution_count": null,
   "id": "8c72a96f-3478-42ea-9dd3-08172453a2e6",
   "metadata": {},
   "outputs": [],
   "source": [
    "venues_list[0]['location']['address']"
   ]
  },
  {
   "cell_type": "code",
   "execution_count": null,
   "id": "10d2287f-f62d-4c42-b785-4c607c75199e",
   "metadata": {},
   "outputs": [],
   "source": [
    "data = []\n",
    "while len(lat_long_grid) > 0:\n",
    "    \n",
    "    response = api_call(lat_long, radius, key)\n",
    "    results = json.loads(response.text)\n",
    "    venues_list = results['results']\n",
    "    data.extend(extract_venues(venues_list))\n",
    "    # if 50 results then check second page of results\n",
    "    if len(venues_list) == 50:\n",
    "        try:\n",
    "            pagination = response.headers['Link']\n",
    "            next_results_url = pagination[pagination.find('<') + 1\n",
    "                                          :pagination.find('>')]\n",
    "            response = requests.get(next_results_url, headers = headers)\n",
    "            results = json.loads(response.text)\n",
    "            venues_list = results['results']\n",
    "            data.extend(extract_venues(venues_list))\n",
    "            if len(venues_list) == 50:\n",
    "                max_distance = venues_list[-1]['distance']\n",
    "                print(f\"More than 100 results:/nlat_long = {lat_long}\\nradius = {radius}\\nmax distance = {max_distance}\")\n",
    "                if max_distance < radius:\n",
    "                    \n",
    "                print(f\"Error - 100 or more venues in search, cannot \"\n",
    "                     + f\"extract all venues in search area.\\n\"\n",
    "                     + f\"lat_long = {lat_long}\\nradius = {radius}\")\n",
    "            \n",
    "        # if key error, there is no second page link i.e. exactly 50 results\n",
    "        except KeyError:\n",
    "            pass"
   ]
  },
  {
   "cell_type": "code",
   "execution_count": null,
   "id": "521f2273-5328-467e-bb79-21fdeb2f921f",
   "metadata": {},
   "outputs": [],
   "source": [
    "pagination = response.headers['Link']\n",
    "next_results_url = pagination[pagination.find('<') + 1\n",
    "                                          :pagination.find('>')]\n",
    "response = requests.get(next_results_url, headers = headers)\n",
    "results = json.loads(response.text)\n",
    "JSON(results)"
   ]
  },
  {
   "cell_type": "code",
   "execution_count": null,
   "id": "7f08b48e-e006-476c-a100-033f85235019",
   "metadata": {},
   "outputs": [],
   "source": [
    "radius = 127\n",
    "lat_tick_size, long_tick_size = find_tick_sizes(radius)\n",
    "lat_long_grid = create_lat_long_grid(lat_tick_size, long_tick_size)\n",
    "print(f\"lat_long_grid size = {len(lat_long_grid)}\")\n",
    "\n",
    "time_last_update = time.time()\n",
    "data = []\n",
    "total_calls = 0\n",
    "while len(lat_long_grid) > 0:\n",
    "    #print('restarted')\n",
    "    # maximum index available in lat_long_grid\n",
    "    max_index = len(lat_long_grid) - 1\n",
    "    # Pick random index for lat_long_grid\n",
    "    random_index = random.randint(0, max_index)\n",
    "    # Pick lat and long values from random position in lat_long_grid\n",
    "    lat_long = lat_long_grid[random_index]\n",
    "    total_calls += 1\n",
    "    response = api_call(lat_long, radius, key)\n",
    "    try: \n",
    "        results = json.loads(response.text)\n",
    "    except JSONDecodeError:\n",
    "        time.sleep(1)\n",
    "        response = api_call(lat_long, radius, key)\n",
    "        results = json.loads(response.text)\n",
    "    try: \n",
    "        venues_list = results['results']\n",
    "    except KeyError:\n",
    "        time.sleep(1)\n",
    "        response = api_call(lat_long, radius, key)\n",
    "        results = json.loads(response.text)\n",
    "        try:\n",
    "            venues_list = results['results']\n",
    "        except KeyError:\n",
    "            time.sleep(1)\n",
    "            continue\n",
    "    \n",
    "    data.extend(extract_venues(venues_list))\n",
    "    # if 50 results then check second page of results\n",
    "    if len(venues_list) > 0:\n",
    "        max_distance = venues_list[-1]['distance']\n",
    "    if len(venues_list) == 50 and max_distance <= radius:        \n",
    "        print(f\"50 results and max_distance returned smaller than radius:\\nlat_long = {lat_long}\\nradius = {radius}\\nmax distance = {max_distance}\")\n",
    "        print(f\"\\nUpdating Radius to {max_distance} and resetting grid...\\n\")\n",
    "        # update radius to max_distance minus 1 (ensures radius will now be smaller than max distance next time)\n",
    "        radius = max_distance - 1\n",
    "        lat_tick_size, long_tick_size = find_tick_sizes(radius)          \n",
    "        lat_long_grid = create_lat_long_grid(lat_tick_size, long_tick_size)\n",
    "        print(f\"lat_long_grid size = {len(lat_long_grid)}\")\n",
    "        # reset data gathering\n",
    "        data = []\n",
    "        continue\n",
    "    #print('pre-grid update')        \n",
    "    lat_long_grid = update_grid(lat_long, radius, lat_long_grid)\n",
    "    #print('done one')\n",
    "    if time.time() - time_last_update > 20:\n",
    "        print(f\"lat_long_grid points remaining -> {len(lat_long_grid)}\")\n",
    "        time_last_update = time.time()\n",
    "    \n",
    "print(f\"\\nTotal Calls -> {total_calls}\")"
   ]
  },
  {
   "cell_type": "code",
   "execution_count": null,
   "id": "bb3b5ca1-c5da-44a2-9d51-f352ab7e4bf2",
   "metadata": {},
   "outputs": [],
   "source": [
    "search_radius = 2000\n",
    "min_grid_radius = 127\n",
    "\n",
    "lat_tick_size, long_tick_size = find_tick_sizes(min_grid_radius)\n",
    "lat_long_grid = create_lat_long_grid(lat_tick_size, long_tick_size)\n",
    "print(f\"lat_long_grid size = {len(lat_long_grid)}\")\n",
    "\n",
    "time_last_update = time.time()\n",
    "data = []\n",
    "total_calls = 0\n",
    "while len(lat_long_grid) > 0:\n",
    "    #print('restarted')\n",
    "    # maximum index available in lat_long_grid\n",
    "    max_index = len(lat_long_grid) - 1\n",
    "    # Pick random index for lat_long_grid\n",
    "    random_index = random.randint(0, max_index)\n",
    "    # Pick lat and long values from random position in lat_long_grid\n",
    "    lat_long = lat_long_grid[random_index]\n",
    "    total_calls += 1\n",
    "    response = api_call(lat_long, search_radius, key)\n",
    "    # If response status code isnt 200, there was an API error. Print \n",
    "    # the API error, wait 5 seconds and try API call again. Loop until \n",
    "    # status 200 code returned by API. \n",
    "    while response.status_code != 200:\n",
    "        print(f\"API Error code {response.status_code}, sleeping 5 seconds\")\n",
    "        time.sleep(5)\n",
    "        response = api_call(lat_long, radius, key)\n",
    "    \n",
    "    data.extend(extract_venues(venues_list))\n",
    "    # if 50 results then check second page of results\n",
    "    \n",
    "    if len(venues_list) > 0:\n",
    "        max_distance = venues_list[-1]['distance']\n",
    "    else:\n",
    "        update_radius = search_radius\n",
    "    \n",
    "    if \n",
    "    \n",
    "    if len(venues_list) == 50 and max_distance <= min_grid_radius:        \n",
    "        print(f\"50 results and max_distance returned smaller than min_grid_radius:\\nlat_long = {lat_long}\\nradius = {radius}\\nmax distance = {max_distance}\")\n",
    "        print(f\"\\nUpdating min_grid_radius to {max_distance} and resetting grid...\\n\")\n",
    "        # update radius to max_distance minus 1 (ensures radius will now be smaller than max distance next time)\n",
    "        min_grid_radius = max_distance - 1\n",
    "        lat_tick_size, long_tick_size = find_tick_sizes(min_grid_radius)          \n",
    "        lat_long_grid = create_lat_long_grid(lat_tick_size, long_tick_size)\n",
    "        print(f\"lat_long_grid size = {len(lat_long_grid)}\")\n",
    "        # reset data gathering\n",
    "        data = []\n",
    "        continue\n",
    "    #print('pre-grid update')        \n",
    "    lat_long_grid = update_grid(lat_long, update_radius, lat_long_grid)\n",
    "    #print('done one')\n",
    "    if time.time() - time_last_update > 20:\n",
    "        print(f\"lat_long_grid points remaining -> {len(lat_long_grid)}\")\n",
    "        time_last_update = time.time()\n",
    "    \n",
    "print(f\"\\nTotal Calls -> {total_calls}\")"
   ]
  },
  {
   "cell_type": "code",
   "execution_count": null,
   "id": "bd1d746f-15bc-4695-b8c7-7c399f0dbd07",
   "metadata": {},
   "outputs": [],
   "source": [
    "initial_search_radius = 1000\n",
    "min_grid_radius = 127\n",
    "\n",
    "lat_tick_size, long_tick_size = find_tick_sizes(min_grid_radius)\n",
    "lat_long_grid = create_lat_long_grid(lat_tick_size, long_tick_size)\n",
    "print(f\"lat_long_grid size = {len(lat_long_grid)}\")\n",
    "\n",
    "time_last_update = time.time()\n",
    "data = []\n",
    "calls_in_last_20_seconds = 0 \n",
    "total_calls = 0\n",
    "while len(lat_long_grid) > 0:\n",
    "    #print('restarted')\n",
    "    # maximum index available in lat_long_grid\n",
    "    max_index = len(lat_long_grid) - 1\n",
    "    # Pick random index for lat_long_grid\n",
    "    random_index = random.randint(0, max_index)\n",
    "    # Pick lat and long values from random position in lat_long_grid\n",
    "    lat_long = lat_long_grid[random_index]\n",
    "    \n",
    "    search_radius_not_found = True\n",
    "    search_radius = initial_search_radius\n",
    "    \n",
    "    while search_radius_not_found:\n",
    "        #print('calling api')\n",
    "        total_calls += 1\n",
    "        response = api_call(lat_long, search_radius, key)\n",
    "        # If response status code isnt 200, there was an API error. Print \n",
    "        # the API error, wait 5 seconds and try API call again. Loop until \n",
    "        # status 200 code returned by API. \n",
    "        while response.status_code != 200:\n",
    "            print(f\"API Error code {response.status_code}, sleeping 5 seconds\")\n",
    "            time.sleep(5)\n",
    "            response = api_call(lat_long, search_radius, key)\n",
    "        \n",
    "        results = json.loads(response.text)\n",
    "        venues_list = results['results']\n",
    "        \n",
    "        if len(venues_list) > 49:\n",
    "            search_radius = int(search_radius / 2)\n",
    "            print('radius too large') \n",
    "        else: \n",
    "            search_radius_not_found = False\n",
    "    \n",
    "    if search_radius < min_grid_radius:        \n",
    "        print(f\"Search Radius smaller than min_grid_radius:\\nlat_long = {lat_long}\\nsearch radius = {search_radius}\")\n",
    "        print(f\"\\nUpdating min_grid_radius to {search_radius} and resetting grid...\\n\")\n",
    "        # update radius to max_distance minus 1 (ensures radius will now be smaller than max distance next time)\n",
    "        min_grid_radius = search_radius\n",
    "        lat_tick_size, long_tick_size = find_tick_sizes(min_grid_radius)          \n",
    "        lat_long_grid = create_lat_long_grid(lat_tick_size, long_tick_size)\n",
    "        print(f\"lat_long_grid size = {len(lat_long_grid)}\")\n",
    "        # reset data gathering\n",
    "        data = []\n",
    "        continue\n",
    "    #print('data about to be scraped')\n",
    "    data.extend(extract_venues(venues_list))\n",
    "           \n",
    "    lat_long_grid = update_grid(lat_long, search_radius, lat_long_grid)\n",
    "    #print('done one grid mark --> ', len(lat_long_grid))\n",
    "    if time.time() - time_last_update > 20:\n",
    "        print(f\"lat_long_grid points remaining -> {len(lat_long_grid)}\")\n",
    "        time_last_update = time.time()\n",
    "    \n",
    "print(f\"\\nTotal Calls -> {total_calls}\")"
   ]
  }
 ],
 "metadata": {
  "kernelspec": {
   "display_name": "venue-scrape",
   "language": "python",
   "name": "venue-scrape"
  },
  "language_info": {
   "codemirror_mode": {
    "name": "ipython",
    "version": 3
   },
   "file_extension": ".py",
   "mimetype": "text/x-python",
   "name": "python",
   "nbconvert_exporter": "python",
   "pygments_lexer": "ipython3",
   "version": "3.9.7"
  }
 },
 "nbformat": 4,
 "nbformat_minor": 5
}
